{
 "cells": [
  {
   "cell_type": "markdown",
   "metadata": {},
   "source": [
    "# Introduction to Overfitting\n",
    "\n",
    "\n",
    "One of the key challenges with feature engineering is that you can \"over engineer\" your features and produce a model that fits the data but performs poorly when making predictions on new data.  This is typically referred to as **overfitting** to your data and is the focus on the next set of lectures.  \n",
    "\n",
    "In this notebook, we will provide a very simple illustration of overfitting, but as you will see and soon experience, it is very easy to overfit to your data and this will become the key challenge in the design of good models.\n"
   ]
  },
  {
   "cell_type": "code",
   "execution_count": 7,
   "metadata": {},
   "outputs": [],
   "source": [
    "import pandas as pd\n",
    "import numpy as np\n",
    "import plotly.express as px\n",
    "import plotly.graph_objects as go\n",
    "from plotly.subplots import make_subplots\n",
    "from sklearn.linear_model import LinearRegression\n",
    "from sklearn.metrics import mean_squared_error"
   ]
  },
  {
   "cell_type": "markdown",
   "metadata": {},
   "source": [
    "<br/><br/><br/>\n",
    "\n",
    "---\n",
    "\n",
    "\n",
    "## Toy Data and Model Setup\n",
    "\n",
    "For this problem we will use a very simple toy dataset to help illustrate where things will fail.  \n",
    "\n",
    "**Notice** that there are only 8 datapoints in this dataset.  Small data is especially prone to the challenges of overfitting."
   ]
  },
  {
   "cell_type": "code",
   "execution_count": 8,
   "metadata": {},
   "outputs": [
    {
     "data": {
      "text/html": [
       "<div>\n",
       "<style scoped>\n",
       "    .dataframe tbody tr th:only-of-type {\n",
       "        vertical-align: middle;\n",
       "    }\n",
       "\n",
       "    .dataframe tbody tr th {\n",
       "        vertical-align: top;\n",
       "    }\n",
       "\n",
       "    .dataframe thead th {\n",
       "        text-align: right;\n",
       "    }\n",
       "</style>\n",
       "<table border=\"1\" class=\"dataframe\">\n",
       "  <thead>\n",
       "    <tr style=\"text-align: right;\">\n",
       "      <th></th>\n",
       "      <th>X</th>\n",
       "      <th>Y</th>\n",
       "    </tr>\n",
       "  </thead>\n",
       "  <tbody>\n",
       "    <tr>\n",
       "      <th>0</th>\n",
       "      <td>-2.647582</td>\n",
       "      <td>9.140452</td>\n",
       "    </tr>\n",
       "    <tr>\n",
       "      <th>1</th>\n",
       "      <td>-2.051547</td>\n",
       "      <td>5.336237</td>\n",
       "    </tr>\n",
       "    <tr>\n",
       "      <th>2</th>\n",
       "      <td>-1.810665</td>\n",
       "      <td>7.195181</td>\n",
       "    </tr>\n",
       "    <tr>\n",
       "      <th>3</th>\n",
       "      <td>-1.312076</td>\n",
       "      <td>6.095358</td>\n",
       "    </tr>\n",
       "    <tr>\n",
       "      <th>4</th>\n",
       "      <td>-0.789591</td>\n",
       "      <td>0.721947</td>\n",
       "    </tr>\n",
       "    <tr>\n",
       "      <th>5</th>\n",
       "      <td>-0.660964</td>\n",
       "      <td>2.177008</td>\n",
       "    </tr>\n",
       "    <tr>\n",
       "      <th>6</th>\n",
       "      <td>0.806148</td>\n",
       "      <td>4.367994</td>\n",
       "    </tr>\n",
       "    <tr>\n",
       "      <th>7</th>\n",
       "      <td>1.054880</td>\n",
       "      <td>5.852682</td>\n",
       "    </tr>\n",
       "  </tbody>\n",
       "</table>\n",
       "</div>"
      ],
      "text/plain": [
       "          X         Y\n",
       "0 -2.647582  9.140452\n",
       "1 -2.051547  5.336237\n",
       "2 -1.810665  7.195181\n",
       "3 -1.312076  6.095358\n",
       "4 -0.789591  0.721947\n",
       "5 -0.660964  2.177008\n",
       "6  0.806148  4.367994\n",
       "7  1.054880  5.852682"
      ]
     },
     "execution_count": 8,
     "metadata": {},
     "output_type": "execute_result"
    }
   ],
   "source": [
    "data = pd.read_csv(\"data/train.csv\")\n",
    "data"
   ]
  },
  {
   "cell_type": "code",
   "execution_count": 23,
   "metadata": {},
   "outputs": [
    {
     "data": {
      "application/vnd.plotly.v1+json": {
       "config": {
        "plotlyServerURL": "https://plot.ly"
       },
       "data": [
        {
         "marker": {
          "color": "#636EFA"
         },
         "mode": "markers",
         "name": "data",
         "type": "scatter",
         "x": [
          -2.6475819924330954,
          -2.0515469334036016,
          -1.8106646981606496,
          -1.312076282905776,
          -0.7895905078629929,
          -0.6609638446178359,
          0.8061481540360957,
          1.054879683024077
         ],
         "y": [
          9.14045169318176,
          5.336237325257329,
          7.195181491514598,
          6.095357781703495,
          0.7219468779966638,
          2.177008172349038,
          4.367994079777328,
          5.852681713200849
         ]
        }
       ],
       "layout": {
        "template": {
         "data": {
          "bar": [
           {
            "error_x": {
             "color": "#2a3f5f"
            },
            "error_y": {
             "color": "#2a3f5f"
            },
            "marker": {
             "line": {
              "color": "#E5ECF6",
              "width": 0.5
             },
             "pattern": {
              "fillmode": "overlay",
              "size": 10,
              "solidity": 0.2
             }
            },
            "type": "bar"
           }
          ],
          "barpolar": [
           {
            "marker": {
             "line": {
              "color": "#E5ECF6",
              "width": 0.5
             },
             "pattern": {
              "fillmode": "overlay",
              "size": 10,
              "solidity": 0.2
             }
            },
            "type": "barpolar"
           }
          ],
          "carpet": [
           {
            "aaxis": {
             "endlinecolor": "#2a3f5f",
             "gridcolor": "white",
             "linecolor": "white",
             "minorgridcolor": "white",
             "startlinecolor": "#2a3f5f"
            },
            "baxis": {
             "endlinecolor": "#2a3f5f",
             "gridcolor": "white",
             "linecolor": "white",
             "minorgridcolor": "white",
             "startlinecolor": "#2a3f5f"
            },
            "type": "carpet"
           }
          ],
          "choropleth": [
           {
            "colorbar": {
             "outlinewidth": 0,
             "ticks": ""
            },
            "type": "choropleth"
           }
          ],
          "contour": [
           {
            "colorbar": {
             "outlinewidth": 0,
             "ticks": ""
            },
            "colorscale": [
             [
              0,
              "#0d0887"
             ],
             [
              0.1111111111111111,
              "#46039f"
             ],
             [
              0.2222222222222222,
              "#7201a8"
             ],
             [
              0.3333333333333333,
              "#9c179e"
             ],
             [
              0.4444444444444444,
              "#bd3786"
             ],
             [
              0.5555555555555556,
              "#d8576b"
             ],
             [
              0.6666666666666666,
              "#ed7953"
             ],
             [
              0.7777777777777778,
              "#fb9f3a"
             ],
             [
              0.8888888888888888,
              "#fdca26"
             ],
             [
              1,
              "#f0f921"
             ]
            ],
            "type": "contour"
           }
          ],
          "contourcarpet": [
           {
            "colorbar": {
             "outlinewidth": 0,
             "ticks": ""
            },
            "type": "contourcarpet"
           }
          ],
          "heatmap": [
           {
            "colorbar": {
             "outlinewidth": 0,
             "ticks": ""
            },
            "colorscale": [
             [
              0,
              "#0d0887"
             ],
             [
              0.1111111111111111,
              "#46039f"
             ],
             [
              0.2222222222222222,
              "#7201a8"
             ],
             [
              0.3333333333333333,
              "#9c179e"
             ],
             [
              0.4444444444444444,
              "#bd3786"
             ],
             [
              0.5555555555555556,
              "#d8576b"
             ],
             [
              0.6666666666666666,
              "#ed7953"
             ],
             [
              0.7777777777777778,
              "#fb9f3a"
             ],
             [
              0.8888888888888888,
              "#fdca26"
             ],
             [
              1,
              "#f0f921"
             ]
            ],
            "type": "heatmap"
           }
          ],
          "heatmapgl": [
           {
            "colorbar": {
             "outlinewidth": 0,
             "ticks": ""
            },
            "colorscale": [
             [
              0,
              "#0d0887"
             ],
             [
              0.1111111111111111,
              "#46039f"
             ],
             [
              0.2222222222222222,
              "#7201a8"
             ],
             [
              0.3333333333333333,
              "#9c179e"
             ],
             [
              0.4444444444444444,
              "#bd3786"
             ],
             [
              0.5555555555555556,
              "#d8576b"
             ],
             [
              0.6666666666666666,
              "#ed7953"
             ],
             [
              0.7777777777777778,
              "#fb9f3a"
             ],
             [
              0.8888888888888888,
              "#fdca26"
             ],
             [
              1,
              "#f0f921"
             ]
            ],
            "type": "heatmapgl"
           }
          ],
          "histogram": [
           {
            "marker": {
             "pattern": {
              "fillmode": "overlay",
              "size": 10,
              "solidity": 0.2
             }
            },
            "type": "histogram"
           }
          ],
          "histogram2d": [
           {
            "colorbar": {
             "outlinewidth": 0,
             "ticks": ""
            },
            "colorscale": [
             [
              0,
              "#0d0887"
             ],
             [
              0.1111111111111111,
              "#46039f"
             ],
             [
              0.2222222222222222,
              "#7201a8"
             ],
             [
              0.3333333333333333,
              "#9c179e"
             ],
             [
              0.4444444444444444,
              "#bd3786"
             ],
             [
              0.5555555555555556,
              "#d8576b"
             ],
             [
              0.6666666666666666,
              "#ed7953"
             ],
             [
              0.7777777777777778,
              "#fb9f3a"
             ],
             [
              0.8888888888888888,
              "#fdca26"
             ],
             [
              1,
              "#f0f921"
             ]
            ],
            "type": "histogram2d"
           }
          ],
          "histogram2dcontour": [
           {
            "colorbar": {
             "outlinewidth": 0,
             "ticks": ""
            },
            "colorscale": [
             [
              0,
              "#0d0887"
             ],
             [
              0.1111111111111111,
              "#46039f"
             ],
             [
              0.2222222222222222,
              "#7201a8"
             ],
             [
              0.3333333333333333,
              "#9c179e"
             ],
             [
              0.4444444444444444,
              "#bd3786"
             ],
             [
              0.5555555555555556,
              "#d8576b"
             ],
             [
              0.6666666666666666,
              "#ed7953"
             ],
             [
              0.7777777777777778,
              "#fb9f3a"
             ],
             [
              0.8888888888888888,
              "#fdca26"
             ],
             [
              1,
              "#f0f921"
             ]
            ],
            "type": "histogram2dcontour"
           }
          ],
          "mesh3d": [
           {
            "colorbar": {
             "outlinewidth": 0,
             "ticks": ""
            },
            "type": "mesh3d"
           }
          ],
          "parcoords": [
           {
            "line": {
             "colorbar": {
              "outlinewidth": 0,
              "ticks": ""
             }
            },
            "type": "parcoords"
           }
          ],
          "pie": [
           {
            "automargin": true,
            "type": "pie"
           }
          ],
          "scatter": [
           {
            "marker": {
             "colorbar": {
              "outlinewidth": 0,
              "ticks": ""
             }
            },
            "type": "scatter"
           }
          ],
          "scatter3d": [
           {
            "line": {
             "colorbar": {
              "outlinewidth": 0,
              "ticks": ""
             }
            },
            "marker": {
             "colorbar": {
              "outlinewidth": 0,
              "ticks": ""
             }
            },
            "type": "scatter3d"
           }
          ],
          "scattercarpet": [
           {
            "marker": {
             "colorbar": {
              "outlinewidth": 0,
              "ticks": ""
             }
            },
            "type": "scattercarpet"
           }
          ],
          "scattergeo": [
           {
            "marker": {
             "colorbar": {
              "outlinewidth": 0,
              "ticks": ""
             }
            },
            "type": "scattergeo"
           }
          ],
          "scattergl": [
           {
            "marker": {
             "colorbar": {
              "outlinewidth": 0,
              "ticks": ""
             }
            },
            "type": "scattergl"
           }
          ],
          "scattermapbox": [
           {
            "marker": {
             "colorbar": {
              "outlinewidth": 0,
              "ticks": ""
             }
            },
            "type": "scattermapbox"
           }
          ],
          "scatterpolar": [
           {
            "marker": {
             "colorbar": {
              "outlinewidth": 0,
              "ticks": ""
             }
            },
            "type": "scatterpolar"
           }
          ],
          "scatterpolargl": [
           {
            "marker": {
             "colorbar": {
              "outlinewidth": 0,
              "ticks": ""
             }
            },
            "type": "scatterpolargl"
           }
          ],
          "scatterternary": [
           {
            "marker": {
             "colorbar": {
              "outlinewidth": 0,
              "ticks": ""
             }
            },
            "type": "scatterternary"
           }
          ],
          "surface": [
           {
            "colorbar": {
             "outlinewidth": 0,
             "ticks": ""
            },
            "colorscale": [
             [
              0,
              "#0d0887"
             ],
             [
              0.1111111111111111,
              "#46039f"
             ],
             [
              0.2222222222222222,
              "#7201a8"
             ],
             [
              0.3333333333333333,
              "#9c179e"
             ],
             [
              0.4444444444444444,
              "#bd3786"
             ],
             [
              0.5555555555555556,
              "#d8576b"
             ],
             [
              0.6666666666666666,
              "#ed7953"
             ],
             [
              0.7777777777777778,
              "#fb9f3a"
             ],
             [
              0.8888888888888888,
              "#fdca26"
             ],
             [
              1,
              "#f0f921"
             ]
            ],
            "type": "surface"
           }
          ],
          "table": [
           {
            "cells": {
             "fill": {
              "color": "#EBF0F8"
             },
             "line": {
              "color": "white"
             }
            },
            "header": {
             "fill": {
              "color": "#C8D4E3"
             },
             "line": {
              "color": "white"
             }
            },
            "type": "table"
           }
          ]
         },
         "layout": {
          "annotationdefaults": {
           "arrowcolor": "#2a3f5f",
           "arrowhead": 0,
           "arrowwidth": 1
          },
          "autotypenumbers": "strict",
          "coloraxis": {
           "colorbar": {
            "outlinewidth": 0,
            "ticks": ""
           }
          },
          "colorscale": {
           "diverging": [
            [
             0,
             "#8e0152"
            ],
            [
             0.1,
             "#c51b7d"
            ],
            [
             0.2,
             "#de77ae"
            ],
            [
             0.3,
             "#f1b6da"
            ],
            [
             0.4,
             "#fde0ef"
            ],
            [
             0.5,
             "#f7f7f7"
            ],
            [
             0.6,
             "#e6f5d0"
            ],
            [
             0.7,
             "#b8e186"
            ],
            [
             0.8,
             "#7fbc41"
            ],
            [
             0.9,
             "#4d9221"
            ],
            [
             1,
             "#276419"
            ]
           ],
           "sequential": [
            [
             0,
             "#0d0887"
            ],
            [
             0.1111111111111111,
             "#46039f"
            ],
            [
             0.2222222222222222,
             "#7201a8"
            ],
            [
             0.3333333333333333,
             "#9c179e"
            ],
            [
             0.4444444444444444,
             "#bd3786"
            ],
            [
             0.5555555555555556,
             "#d8576b"
            ],
            [
             0.6666666666666666,
             "#ed7953"
            ],
            [
             0.7777777777777778,
             "#fb9f3a"
            ],
            [
             0.8888888888888888,
             "#fdca26"
            ],
            [
             1,
             "#f0f921"
            ]
           ],
           "sequentialminus": [
            [
             0,
             "#0d0887"
            ],
            [
             0.1111111111111111,
             "#46039f"
            ],
            [
             0.2222222222222222,
             "#7201a8"
            ],
            [
             0.3333333333333333,
             "#9c179e"
            ],
            [
             0.4444444444444444,
             "#bd3786"
            ],
            [
             0.5555555555555556,
             "#d8576b"
            ],
            [
             0.6666666666666666,
             "#ed7953"
            ],
            [
             0.7777777777777778,
             "#fb9f3a"
            ],
            [
             0.8888888888888888,
             "#fdca26"
            ],
            [
             1,
             "#f0f921"
            ]
           ]
          },
          "colorway": [
           "#636efa",
           "#EF553B",
           "#00cc96",
           "#ab63fa",
           "#FFA15A",
           "#19d3f3",
           "#FF6692",
           "#B6E880",
           "#FF97FF",
           "#FECB52"
          ],
          "font": {
           "color": "#2a3f5f"
          },
          "geo": {
           "bgcolor": "white",
           "lakecolor": "white",
           "landcolor": "#E5ECF6",
           "showlakes": true,
           "showland": true,
           "subunitcolor": "white"
          },
          "hoverlabel": {
           "align": "left"
          },
          "hovermode": "closest",
          "mapbox": {
           "style": "light"
          },
          "paper_bgcolor": "white",
          "plot_bgcolor": "#E5ECF6",
          "polar": {
           "angularaxis": {
            "gridcolor": "white",
            "linecolor": "white",
            "ticks": ""
           },
           "bgcolor": "#E5ECF6",
           "radialaxis": {
            "gridcolor": "white",
            "linecolor": "white",
            "ticks": ""
           }
          },
          "scene": {
           "xaxis": {
            "backgroundcolor": "#E5ECF6",
            "gridcolor": "white",
            "gridwidth": 2,
            "linecolor": "white",
            "showbackground": true,
            "ticks": "",
            "zerolinecolor": "white"
           },
           "yaxis": {
            "backgroundcolor": "#E5ECF6",
            "gridcolor": "white",
            "gridwidth": 2,
            "linecolor": "white",
            "showbackground": true,
            "ticks": "",
            "zerolinecolor": "white"
           },
           "zaxis": {
            "backgroundcolor": "#E5ECF6",
            "gridcolor": "white",
            "gridwidth": 2,
            "linecolor": "white",
            "showbackground": true,
            "ticks": "",
            "zerolinecolor": "white"
           }
          },
          "shapedefaults": {
           "line": {
            "color": "#2a3f5f"
           }
          },
          "ternary": {
           "aaxis": {
            "gridcolor": "white",
            "linecolor": "white",
            "ticks": ""
           },
           "baxis": {
            "gridcolor": "white",
            "linecolor": "white",
            "ticks": ""
           },
           "bgcolor": "#E5ECF6",
           "caxis": {
            "gridcolor": "white",
            "linecolor": "white",
            "ticks": ""
           }
          },
          "title": {
           "x": 0.05
          },
          "xaxis": {
           "automargin": true,
           "gridcolor": "white",
           "linecolor": "white",
           "ticks": "",
           "title": {
            "standoff": 15
           },
           "zerolinecolor": "white",
           "zerolinewidth": 2
          },
          "yaxis": {
           "automargin": true,
           "gridcolor": "white",
           "linecolor": "white",
           "ticks": "",
           "title": {
            "standoff": 15
           },
           "zerolinecolor": "white",
           "zerolinewidth": 2
          }
         }
        }
       }
      },
      "text/html": [
       "<div>                            <div id=\"8919d7dc-093c-4490-9945-de8ee6bf61bc\" class=\"plotly-graph-div\" style=\"height:525px; width:100%;\"></div>            <script type=\"text/javascript\">                require([\"plotly\"], function(Plotly) {                    window.PLOTLYENV=window.PLOTLYENV || {};                                    if (document.getElementById(\"8919d7dc-093c-4490-9945-de8ee6bf61bc\")) {                    Plotly.newPlot(                        \"8919d7dc-093c-4490-9945-de8ee6bf61bc\",                        [{\"marker\":{\"color\":\"#636EFA\"},\"mode\":\"markers\",\"name\":\"data\",\"x\":[-2.6475819924330954,-2.0515469334036016,-1.8106646981606496,-1.312076282905776,-0.7895905078629929,-0.6609638446178359,0.8061481540360957,1.054879683024077],\"y\":[9.14045169318176,5.336237325257329,7.195181491514598,6.095357781703495,0.7219468779966638,2.177008172349038,4.367994079777328,5.852681713200849],\"type\":\"scatter\"}],                        {\"template\":{\"data\":{\"bar\":[{\"error_x\":{\"color\":\"#2a3f5f\"},\"error_y\":{\"color\":\"#2a3f5f\"},\"marker\":{\"line\":{\"color\":\"#E5ECF6\",\"width\":0.5},\"pattern\":{\"fillmode\":\"overlay\",\"size\":10,\"solidity\":0.2}},\"type\":\"bar\"}],\"barpolar\":[{\"marker\":{\"line\":{\"color\":\"#E5ECF6\",\"width\":0.5},\"pattern\":{\"fillmode\":\"overlay\",\"size\":10,\"solidity\":0.2}},\"type\":\"barpolar\"}],\"carpet\":[{\"aaxis\":{\"endlinecolor\":\"#2a3f5f\",\"gridcolor\":\"white\",\"linecolor\":\"white\",\"minorgridcolor\":\"white\",\"startlinecolor\":\"#2a3f5f\"},\"baxis\":{\"endlinecolor\":\"#2a3f5f\",\"gridcolor\":\"white\",\"linecolor\":\"white\",\"minorgridcolor\":\"white\",\"startlinecolor\":\"#2a3f5f\"},\"type\":\"carpet\"}],\"choropleth\":[{\"colorbar\":{\"outlinewidth\":0,\"ticks\":\"\"},\"type\":\"choropleth\"}],\"contour\":[{\"colorbar\":{\"outlinewidth\":0,\"ticks\":\"\"},\"colorscale\":[[0.0,\"#0d0887\"],[0.1111111111111111,\"#46039f\"],[0.2222222222222222,\"#7201a8\"],[0.3333333333333333,\"#9c179e\"],[0.4444444444444444,\"#bd3786\"],[0.5555555555555556,\"#d8576b\"],[0.6666666666666666,\"#ed7953\"],[0.7777777777777778,\"#fb9f3a\"],[0.8888888888888888,\"#fdca26\"],[1.0,\"#f0f921\"]],\"type\":\"contour\"}],\"contourcarpet\":[{\"colorbar\":{\"outlinewidth\":0,\"ticks\":\"\"},\"type\":\"contourcarpet\"}],\"heatmap\":[{\"colorbar\":{\"outlinewidth\":0,\"ticks\":\"\"},\"colorscale\":[[0.0,\"#0d0887\"],[0.1111111111111111,\"#46039f\"],[0.2222222222222222,\"#7201a8\"],[0.3333333333333333,\"#9c179e\"],[0.4444444444444444,\"#bd3786\"],[0.5555555555555556,\"#d8576b\"],[0.6666666666666666,\"#ed7953\"],[0.7777777777777778,\"#fb9f3a\"],[0.8888888888888888,\"#fdca26\"],[1.0,\"#f0f921\"]],\"type\":\"heatmap\"}],\"heatmapgl\":[{\"colorbar\":{\"outlinewidth\":0,\"ticks\":\"\"},\"colorscale\":[[0.0,\"#0d0887\"],[0.1111111111111111,\"#46039f\"],[0.2222222222222222,\"#7201a8\"],[0.3333333333333333,\"#9c179e\"],[0.4444444444444444,\"#bd3786\"],[0.5555555555555556,\"#d8576b\"],[0.6666666666666666,\"#ed7953\"],[0.7777777777777778,\"#fb9f3a\"],[0.8888888888888888,\"#fdca26\"],[1.0,\"#f0f921\"]],\"type\":\"heatmapgl\"}],\"histogram\":[{\"marker\":{\"pattern\":{\"fillmode\":\"overlay\",\"size\":10,\"solidity\":0.2}},\"type\":\"histogram\"}],\"histogram2d\":[{\"colorbar\":{\"outlinewidth\":0,\"ticks\":\"\"},\"colorscale\":[[0.0,\"#0d0887\"],[0.1111111111111111,\"#46039f\"],[0.2222222222222222,\"#7201a8\"],[0.3333333333333333,\"#9c179e\"],[0.4444444444444444,\"#bd3786\"],[0.5555555555555556,\"#d8576b\"],[0.6666666666666666,\"#ed7953\"],[0.7777777777777778,\"#fb9f3a\"],[0.8888888888888888,\"#fdca26\"],[1.0,\"#f0f921\"]],\"type\":\"histogram2d\"}],\"histogram2dcontour\":[{\"colorbar\":{\"outlinewidth\":0,\"ticks\":\"\"},\"colorscale\":[[0.0,\"#0d0887\"],[0.1111111111111111,\"#46039f\"],[0.2222222222222222,\"#7201a8\"],[0.3333333333333333,\"#9c179e\"],[0.4444444444444444,\"#bd3786\"],[0.5555555555555556,\"#d8576b\"],[0.6666666666666666,\"#ed7953\"],[0.7777777777777778,\"#fb9f3a\"],[0.8888888888888888,\"#fdca26\"],[1.0,\"#f0f921\"]],\"type\":\"histogram2dcontour\"}],\"mesh3d\":[{\"colorbar\":{\"outlinewidth\":0,\"ticks\":\"\"},\"type\":\"mesh3d\"}],\"parcoords\":[{\"line\":{\"colorbar\":{\"outlinewidth\":0,\"ticks\":\"\"}},\"type\":\"parcoords\"}],\"pie\":[{\"automargin\":true,\"type\":\"pie\"}],\"scatter\":[{\"marker\":{\"colorbar\":{\"outlinewidth\":0,\"ticks\":\"\"}},\"type\":\"scatter\"}],\"scatter3d\":[{\"line\":{\"colorbar\":{\"outlinewidth\":0,\"ticks\":\"\"}},\"marker\":{\"colorbar\":{\"outlinewidth\":0,\"ticks\":\"\"}},\"type\":\"scatter3d\"}],\"scattercarpet\":[{\"marker\":{\"colorbar\":{\"outlinewidth\":0,\"ticks\":\"\"}},\"type\":\"scattercarpet\"}],\"scattergeo\":[{\"marker\":{\"colorbar\":{\"outlinewidth\":0,\"ticks\":\"\"}},\"type\":\"scattergeo\"}],\"scattergl\":[{\"marker\":{\"colorbar\":{\"outlinewidth\":0,\"ticks\":\"\"}},\"type\":\"scattergl\"}],\"scattermapbox\":[{\"marker\":{\"colorbar\":{\"outlinewidth\":0,\"ticks\":\"\"}},\"type\":\"scattermapbox\"}],\"scatterpolar\":[{\"marker\":{\"colorbar\":{\"outlinewidth\":0,\"ticks\":\"\"}},\"type\":\"scatterpolar\"}],\"scatterpolargl\":[{\"marker\":{\"colorbar\":{\"outlinewidth\":0,\"ticks\":\"\"}},\"type\":\"scatterpolargl\"}],\"scatterternary\":[{\"marker\":{\"colorbar\":{\"outlinewidth\":0,\"ticks\":\"\"}},\"type\":\"scatterternary\"}],\"surface\":[{\"colorbar\":{\"outlinewidth\":0,\"ticks\":\"\"},\"colorscale\":[[0.0,\"#0d0887\"],[0.1111111111111111,\"#46039f\"],[0.2222222222222222,\"#7201a8\"],[0.3333333333333333,\"#9c179e\"],[0.4444444444444444,\"#bd3786\"],[0.5555555555555556,\"#d8576b\"],[0.6666666666666666,\"#ed7953\"],[0.7777777777777778,\"#fb9f3a\"],[0.8888888888888888,\"#fdca26\"],[1.0,\"#f0f921\"]],\"type\":\"surface\"}],\"table\":[{\"cells\":{\"fill\":{\"color\":\"#EBF0F8\"},\"line\":{\"color\":\"white\"}},\"header\":{\"fill\":{\"color\":\"#C8D4E3\"},\"line\":{\"color\":\"white\"}},\"type\":\"table\"}]},\"layout\":{\"annotationdefaults\":{\"arrowcolor\":\"#2a3f5f\",\"arrowhead\":0,\"arrowwidth\":1},\"autotypenumbers\":\"strict\",\"coloraxis\":{\"colorbar\":{\"outlinewidth\":0,\"ticks\":\"\"}},\"colorscale\":{\"diverging\":[[0,\"#8e0152\"],[0.1,\"#c51b7d\"],[0.2,\"#de77ae\"],[0.3,\"#f1b6da\"],[0.4,\"#fde0ef\"],[0.5,\"#f7f7f7\"],[0.6,\"#e6f5d0\"],[0.7,\"#b8e186\"],[0.8,\"#7fbc41\"],[0.9,\"#4d9221\"],[1,\"#276419\"]],\"sequential\":[[0.0,\"#0d0887\"],[0.1111111111111111,\"#46039f\"],[0.2222222222222222,\"#7201a8\"],[0.3333333333333333,\"#9c179e\"],[0.4444444444444444,\"#bd3786\"],[0.5555555555555556,\"#d8576b\"],[0.6666666666666666,\"#ed7953\"],[0.7777777777777778,\"#fb9f3a\"],[0.8888888888888888,\"#fdca26\"],[1.0,\"#f0f921\"]],\"sequentialminus\":[[0.0,\"#0d0887\"],[0.1111111111111111,\"#46039f\"],[0.2222222222222222,\"#7201a8\"],[0.3333333333333333,\"#9c179e\"],[0.4444444444444444,\"#bd3786\"],[0.5555555555555556,\"#d8576b\"],[0.6666666666666666,\"#ed7953\"],[0.7777777777777778,\"#fb9f3a\"],[0.8888888888888888,\"#fdca26\"],[1.0,\"#f0f921\"]]},\"colorway\":[\"#636efa\",\"#EF553B\",\"#00cc96\",\"#ab63fa\",\"#FFA15A\",\"#19d3f3\",\"#FF6692\",\"#B6E880\",\"#FF97FF\",\"#FECB52\"],\"font\":{\"color\":\"#2a3f5f\"},\"geo\":{\"bgcolor\":\"white\",\"lakecolor\":\"white\",\"landcolor\":\"#E5ECF6\",\"showlakes\":true,\"showland\":true,\"subunitcolor\":\"white\"},\"hoverlabel\":{\"align\":\"left\"},\"hovermode\":\"closest\",\"mapbox\":{\"style\":\"light\"},\"paper_bgcolor\":\"white\",\"plot_bgcolor\":\"#E5ECF6\",\"polar\":{\"angularaxis\":{\"gridcolor\":\"white\",\"linecolor\":\"white\",\"ticks\":\"\"},\"bgcolor\":\"#E5ECF6\",\"radialaxis\":{\"gridcolor\":\"white\",\"linecolor\":\"white\",\"ticks\":\"\"}},\"scene\":{\"xaxis\":{\"backgroundcolor\":\"#E5ECF6\",\"gridcolor\":\"white\",\"gridwidth\":2,\"linecolor\":\"white\",\"showbackground\":true,\"ticks\":\"\",\"zerolinecolor\":\"white\"},\"yaxis\":{\"backgroundcolor\":\"#E5ECF6\",\"gridcolor\":\"white\",\"gridwidth\":2,\"linecolor\":\"white\",\"showbackground\":true,\"ticks\":\"\",\"zerolinecolor\":\"white\"},\"zaxis\":{\"backgroundcolor\":\"#E5ECF6\",\"gridcolor\":\"white\",\"gridwidth\":2,\"linecolor\":\"white\",\"showbackground\":true,\"ticks\":\"\",\"zerolinecolor\":\"white\"}},\"shapedefaults\":{\"line\":{\"color\":\"#2a3f5f\"}},\"ternary\":{\"aaxis\":{\"gridcolor\":\"white\",\"linecolor\":\"white\",\"ticks\":\"\"},\"baxis\":{\"gridcolor\":\"white\",\"linecolor\":\"white\",\"ticks\":\"\"},\"bgcolor\":\"#E5ECF6\",\"caxis\":{\"gridcolor\":\"white\",\"linecolor\":\"white\",\"ticks\":\"\"}},\"title\":{\"x\":0.05},\"xaxis\":{\"automargin\":true,\"gridcolor\":\"white\",\"linecolor\":\"white\",\"ticks\":\"\",\"title\":{\"standoff\":15},\"zerolinecolor\":\"white\",\"zerolinewidth\":2},\"yaxis\":{\"automargin\":true,\"gridcolor\":\"white\",\"linecolor\":\"white\",\"ticks\":\"\",\"title\":{\"standoff\":15},\"zerolinecolor\":\"white\",\"zerolinewidth\":2}}}},                        {\"responsive\": true}                    ).then(function(){\n",
       "                            \n",
       "var gd = document.getElementById('8919d7dc-093c-4490-9945-de8ee6bf61bc');\n",
       "var x = new MutationObserver(function (mutations, observer) {{\n",
       "        var display = window.getComputedStyle(gd).display;\n",
       "        if (!display || display === 'none') {{\n",
       "            console.log([gd, 'removed!']);\n",
       "            Plotly.purge(gd);\n",
       "            observer.disconnect();\n",
       "        }}\n",
       "}});\n",
       "\n",
       "// Listen for the removal of the full notebook cells\n",
       "var notebookContainer = gd.closest('#notebook-container');\n",
       "if (notebookContainer) {{\n",
       "    x.observe(notebookContainer, {childList: true});\n",
       "}}\n",
       "\n",
       "// Listen for the clearing of the current output cell\n",
       "var outputEl = gd.closest('.output');\n",
       "if (outputEl) {{\n",
       "    x.observe(outputEl, {childList: true});\n",
       "}}\n",
       "\n",
       "                        })                };                });            </script>        </div>"
      ]
     },
     "metadata": {},
     "output_type": "display_data"
    }
   ],
   "source": [
    "colors = px.colors.qualitative.Plotly\n",
    "data_scatter = go.Scatter(x=data[\"X\"], y=data[\"Y\"], name=\"data\", mode=\"markers\", \n",
    "                          marker=dict(color=colors[0]))\n",
    "go.Figure([data_scatter])"
   ]
  },
  {
   "cell_type": "markdown",
   "metadata": {},
   "source": [
    "<br/><br/><br/>\n",
    "\n",
    "---\n",
    "\n",
    "\n",
    "\n",
    "## Fit a Basic Linear Model\n",
    "\n",
    "We can start by fitting a basic linear model to the data:\n"
   ]
  },
  {
   "cell_type": "code",
   "execution_count": 10,
   "metadata": {},
   "outputs": [
    {
     "data": {
      "text/plain": [
       "LinearRegression()"
      ]
     },
     "execution_count": 10,
     "metadata": {},
     "output_type": "execute_result"
    }
   ],
   "source": [
    "model = LinearRegression()\n",
    "model.fit(data[[\"X\"]], data[\"Y\"])"
   ]
  },
  {
   "cell_type": "markdown",
   "metadata": {},
   "source": [
    "As before we define a helper routine to track our progress in model design."
   ]
  },
  {
   "cell_type": "code",
   "execution_count": 11,
   "metadata": {},
   "outputs": [],
   "source": [
    "def evaluate_model(name, model, phi, models=dict()):\n",
    "    # run the prediction function and compute the RMSE\n",
    "    Yhat = model.predict(phi(data[[\"X\"]].to_numpy()) ).flatten()\n",
    "    Y = data['Y'].to_numpy()\n",
    "    rmse = np.sqrt(mean_squared_error(Y, Yhat))\n",
    "    print(\"Root Mean Squared Error:\", rmse)\n",
    "    \n",
    "    # Save the model and rmse to the collection of models \n",
    "    models[name] = dict(model=model, phi=phi, rmse=rmse)\n",
    "    \n",
    "    # Generate diagnostic and model comparison plots\n",
    "    fig = make_subplots(rows=1, cols=2)\n",
    "    fig.add_trace(data_scatter, row=1, col=1)    \n",
    "    xgrid = np.expand_dims(np.linspace(-3, 1.4, 100),1)\n",
    "    for (i,m) in enumerate(models):\n",
    "        fig.add_trace(go.Scatter(x=xgrid.flatten(), \n",
    "            y=models[m][\"model\"].predict(models[m][\"phi\"](xgrid)).flatten(), \n",
    "                                 marker=dict(color=colors[i+2]),\n",
    "                                 name=m), row=1, col=1)\n",
    "    fig.update_xaxes(title = \"X\", row=1, col=1)\n",
    "    fig.update_yaxes(title = \"Y\", range=[0,10], row=1, col=1)\n",
    "    fig.add_trace(go.Bar(x=list(models.keys()), \n",
    "                         y=[models[k]['rmse'] for k in models], \n",
    "                         marker=dict(color=colors[0]), showlegend=False), row=1, col=2)    \n",
    "    fig.update_yaxes(title = \"RMSE\", row=1, col=2)\n",
    "    fig.show()\n",
    "\n",
    "models = {}"
   ]
  },
  {
   "cell_type": "code",
   "execution_count": 12,
   "metadata": {},
   "outputs": [
    {
     "name": "stdout",
     "output_type": "stream",
     "text": [
      "Root Mean Squared Error: 2.272965710209297\n"
     ]
    },
    {
     "data": {
      "application/vnd.plotly.v1+json": {
       "config": {
        "plotlyServerURL": "https://plot.ly"
       },
       "data": [
        {
         "marker": {
          "color": "#636EFA"
         },
         "mode": "markers",
         "name": "data",
         "type": "scatter",
         "x": [
          -2.6475819924330954,
          -2.0515469334036016,
          -1.8106646981606496,
          -1.312076282905776,
          -0.7895905078629929,
          -0.6609638446178359,
          0.8061481540360957,
          1.054879683024077
         ],
         "xaxis": "x",
         "y": [
          9.14045169318176,
          5.336237325257329,
          7.195181491514598,
          6.095357781703495,
          0.7219468779966638,
          2.177008172349038,
          4.367994079777328,
          5.852681713200849
         ],
         "yaxis": "y"
        },
        {
         "marker": {
          "color": "#00CC96"
         },
         "name": "Linear in X",
         "type": "scatter",
         "x": [
          -3,
          -2.9555555555555557,
          -2.911111111111111,
          -2.8666666666666667,
          -2.8222222222222224,
          -2.7777777777777777,
          -2.7333333333333334,
          -2.688888888888889,
          -2.6444444444444444,
          -2.6,
          -2.5555555555555554,
          -2.511111111111111,
          -2.466666666666667,
          -2.422222222222222,
          -2.3777777777777778,
          -2.333333333333333,
          -2.2888888888888888,
          -2.2444444444444445,
          -2.2,
          -2.1555555555555554,
          -2.111111111111111,
          -2.0666666666666664,
          -2.022222222222222,
          -1.9777777777777776,
          -1.9333333333333333,
          -1.8888888888888888,
          -1.8444444444444443,
          -1.8,
          -1.7555555555555555,
          -1.711111111111111,
          -1.6666666666666665,
          -1.6222222222222222,
          -1.5777777777777777,
          -1.5333333333333332,
          -1.488888888888889,
          -1.4444444444444444,
          -1.4,
          -1.3555555555555554,
          -1.3111111111111111,
          -1.2666666666666666,
          -1.222222222222222,
          -1.1777777777777778,
          -1.1333333333333333,
          -1.0888888888888888,
          -1.0444444444444443,
          -1,
          -0.9555555555555553,
          -0.911111111111111,
          -0.8666666666666667,
          -0.822222222222222,
          -0.7777777777777777,
          -0.7333333333333334,
          -0.6888888888888887,
          -0.6444444444444444,
          -0.6000000000000001,
          -0.5555555555555554,
          -0.5111111111111111,
          -0.4666666666666668,
          -0.42222222222222205,
          -0.37777777777777777,
          -0.33333333333333304,
          -0.28888888888888875,
          -0.24444444444444446,
          -0.19999999999999973,
          -0.15555555555555545,
          -0.11111111111111116,
          -0.06666666666666643,
          -0.022222222222222143,
          0.022222222222222143,
          0.06666666666666687,
          0.11111111111111116,
          0.1555555555555559,
          0.20000000000000018,
          0.24444444444444446,
          0.2888888888888892,
          0.3333333333333335,
          0.37777777777777777,
          0.4222222222222225,
          0.4666666666666668,
          0.5111111111111111,
          0.5555555555555558,
          0.6000000000000001,
          0.6444444444444444,
          0.6888888888888891,
          0.7333333333333334,
          0.7777777777777781,
          0.8222222222222224,
          0.8666666666666667,
          0.9111111111111114,
          0.9555555555555557,
          1,
          1.0444444444444443,
          1.0888888888888895,
          1.1333333333333337,
          1.177777777777778,
          1.2222222222222223,
          1.2666666666666666,
          1.311111111111111,
          1.355555555555556,
          1.4
         ],
         "xaxis": "x",
         "y": [
          6.917571409286772,
          6.878846799154056,
          6.840122189021339,
          6.801397578888623,
          6.762672968755907,
          6.72394835862319,
          6.685223748490474,
          6.646499138357758,
          6.6077745282250415,
          6.569049918092325,
          6.530325307959609,
          6.491600697826893,
          6.452876087694177,
          6.41415147756146,
          6.375426867428744,
          6.336702257296028,
          6.297977647163312,
          6.259253037030596,
          6.2205284268978795,
          6.1818038167651626,
          6.143079206632446,
          6.10435459649973,
          6.065629986367014,
          6.026905376234298,
          5.988180766101582,
          5.949456155968865,
          5.910731545836149,
          5.872006935703433,
          5.833282325570717,
          5.794557715438,
          5.755833105305284,
          5.7171084951725675,
          5.678383885039851,
          5.639659274907135,
          5.600934664774419,
          5.562210054641703,
          5.523485444508986,
          5.48476083437627,
          5.446036224243554,
          5.407311614110838,
          5.368587003978121,
          5.329862393845405,
          5.2911377837126885,
          5.252413173579972,
          5.213688563447256,
          5.17496395331454,
          5.136239343181823,
          5.097514733049107,
          5.058790122916391,
          5.020065512783675,
          4.981340902650959,
          4.942616292518243,
          4.903891682385526,
          4.8651670722528095,
          4.826442462120093,
          4.787717851987377,
          4.748993241854661,
          4.710268631721945,
          4.671544021589229,
          4.632819411456512,
          4.594094801323796,
          4.55537019119108,
          4.516645581058364,
          4.477920970925647,
          4.439196360792931,
          4.4004717506602145,
          4.361747140527498,
          4.323022530394782,
          4.284297920262066,
          4.24557331012935,
          4.206848699996634,
          4.168124089863917,
          4.129399479731201,
          4.090674869598485,
          4.051950259465769,
          4.0132256493330525,
          3.974501039200336,
          3.9357764290676194,
          3.8970518189349033,
          3.858327208802187,
          3.8196025986694706,
          3.7808779885367545,
          3.7421533784040384,
          3.703428768271322,
          3.6647041581386057,
          3.625979548005889,
          3.587254937873173,
          3.548530327740457,
          3.5098057176077404,
          3.4710811074750243,
          3.432356497342308,
          3.393631887209592,
          3.354907277076875,
          3.316182666944159,
          3.277458056811443,
          3.2387334466787268,
          3.2000088365460106,
          3.1612842264132945,
          3.1225596162805775,
          3.0838350061478623
         ],
         "yaxis": "y"
        },
        {
         "marker": {
          "color": "#636EFA"
         },
         "showlegend": false,
         "type": "bar",
         "x": [
          "Linear in X"
         ],
         "xaxis": "x2",
         "y": [
          2.272965710209297
         ],
         "yaxis": "y2"
        }
       ],
       "layout": {
        "template": {
         "data": {
          "bar": [
           {
            "error_x": {
             "color": "#2a3f5f"
            },
            "error_y": {
             "color": "#2a3f5f"
            },
            "marker": {
             "line": {
              "color": "#E5ECF6",
              "width": 0.5
             },
             "pattern": {
              "fillmode": "overlay",
              "size": 10,
              "solidity": 0.2
             }
            },
            "type": "bar"
           }
          ],
          "barpolar": [
           {
            "marker": {
             "line": {
              "color": "#E5ECF6",
              "width": 0.5
             },
             "pattern": {
              "fillmode": "overlay",
              "size": 10,
              "solidity": 0.2
             }
            },
            "type": "barpolar"
           }
          ],
          "carpet": [
           {
            "aaxis": {
             "endlinecolor": "#2a3f5f",
             "gridcolor": "white",
             "linecolor": "white",
             "minorgridcolor": "white",
             "startlinecolor": "#2a3f5f"
            },
            "baxis": {
             "endlinecolor": "#2a3f5f",
             "gridcolor": "white",
             "linecolor": "white",
             "minorgridcolor": "white",
             "startlinecolor": "#2a3f5f"
            },
            "type": "carpet"
           }
          ],
          "choropleth": [
           {
            "colorbar": {
             "outlinewidth": 0,
             "ticks": ""
            },
            "type": "choropleth"
           }
          ],
          "contour": [
           {
            "colorbar": {
             "outlinewidth": 0,
             "ticks": ""
            },
            "colorscale": [
             [
              0,
              "#0d0887"
             ],
             [
              0.1111111111111111,
              "#46039f"
             ],
             [
              0.2222222222222222,
              "#7201a8"
             ],
             [
              0.3333333333333333,
              "#9c179e"
             ],
             [
              0.4444444444444444,
              "#bd3786"
             ],
             [
              0.5555555555555556,
              "#d8576b"
             ],
             [
              0.6666666666666666,
              "#ed7953"
             ],
             [
              0.7777777777777778,
              "#fb9f3a"
             ],
             [
              0.8888888888888888,
              "#fdca26"
             ],
             [
              1,
              "#f0f921"
             ]
            ],
            "type": "contour"
           }
          ],
          "contourcarpet": [
           {
            "colorbar": {
             "outlinewidth": 0,
             "ticks": ""
            },
            "type": "contourcarpet"
           }
          ],
          "heatmap": [
           {
            "colorbar": {
             "outlinewidth": 0,
             "ticks": ""
            },
            "colorscale": [
             [
              0,
              "#0d0887"
             ],
             [
              0.1111111111111111,
              "#46039f"
             ],
             [
              0.2222222222222222,
              "#7201a8"
             ],
             [
              0.3333333333333333,
              "#9c179e"
             ],
             [
              0.4444444444444444,
              "#bd3786"
             ],
             [
              0.5555555555555556,
              "#d8576b"
             ],
             [
              0.6666666666666666,
              "#ed7953"
             ],
             [
              0.7777777777777778,
              "#fb9f3a"
             ],
             [
              0.8888888888888888,
              "#fdca26"
             ],
             [
              1,
              "#f0f921"
             ]
            ],
            "type": "heatmap"
           }
          ],
          "heatmapgl": [
           {
            "colorbar": {
             "outlinewidth": 0,
             "ticks": ""
            },
            "colorscale": [
             [
              0,
              "#0d0887"
             ],
             [
              0.1111111111111111,
              "#46039f"
             ],
             [
              0.2222222222222222,
              "#7201a8"
             ],
             [
              0.3333333333333333,
              "#9c179e"
             ],
             [
              0.4444444444444444,
              "#bd3786"
             ],
             [
              0.5555555555555556,
              "#d8576b"
             ],
             [
              0.6666666666666666,
              "#ed7953"
             ],
             [
              0.7777777777777778,
              "#fb9f3a"
             ],
             [
              0.8888888888888888,
              "#fdca26"
             ],
             [
              1,
              "#f0f921"
             ]
            ],
            "type": "heatmapgl"
           }
          ],
          "histogram": [
           {
            "marker": {
             "pattern": {
              "fillmode": "overlay",
              "size": 10,
              "solidity": 0.2
             }
            },
            "type": "histogram"
           }
          ],
          "histogram2d": [
           {
            "colorbar": {
             "outlinewidth": 0,
             "ticks": ""
            },
            "colorscale": [
             [
              0,
              "#0d0887"
             ],
             [
              0.1111111111111111,
              "#46039f"
             ],
             [
              0.2222222222222222,
              "#7201a8"
             ],
             [
              0.3333333333333333,
              "#9c179e"
             ],
             [
              0.4444444444444444,
              "#bd3786"
             ],
             [
              0.5555555555555556,
              "#d8576b"
             ],
             [
              0.6666666666666666,
              "#ed7953"
             ],
             [
              0.7777777777777778,
              "#fb9f3a"
             ],
             [
              0.8888888888888888,
              "#fdca26"
             ],
             [
              1,
              "#f0f921"
             ]
            ],
            "type": "histogram2d"
           }
          ],
          "histogram2dcontour": [
           {
            "colorbar": {
             "outlinewidth": 0,
             "ticks": ""
            },
            "colorscale": [
             [
              0,
              "#0d0887"
             ],
             [
              0.1111111111111111,
              "#46039f"
             ],
             [
              0.2222222222222222,
              "#7201a8"
             ],
             [
              0.3333333333333333,
              "#9c179e"
             ],
             [
              0.4444444444444444,
              "#bd3786"
             ],
             [
              0.5555555555555556,
              "#d8576b"
             ],
             [
              0.6666666666666666,
              "#ed7953"
             ],
             [
              0.7777777777777778,
              "#fb9f3a"
             ],
             [
              0.8888888888888888,
              "#fdca26"
             ],
             [
              1,
              "#f0f921"
             ]
            ],
            "type": "histogram2dcontour"
           }
          ],
          "mesh3d": [
           {
            "colorbar": {
             "outlinewidth": 0,
             "ticks": ""
            },
            "type": "mesh3d"
           }
          ],
          "parcoords": [
           {
            "line": {
             "colorbar": {
              "outlinewidth": 0,
              "ticks": ""
             }
            },
            "type": "parcoords"
           }
          ],
          "pie": [
           {
            "automargin": true,
            "type": "pie"
           }
          ],
          "scatter": [
           {
            "marker": {
             "colorbar": {
              "outlinewidth": 0,
              "ticks": ""
             }
            },
            "type": "scatter"
           }
          ],
          "scatter3d": [
           {
            "line": {
             "colorbar": {
              "outlinewidth": 0,
              "ticks": ""
             }
            },
            "marker": {
             "colorbar": {
              "outlinewidth": 0,
              "ticks": ""
             }
            },
            "type": "scatter3d"
           }
          ],
          "scattercarpet": [
           {
            "marker": {
             "colorbar": {
              "outlinewidth": 0,
              "ticks": ""
             }
            },
            "type": "scattercarpet"
           }
          ],
          "scattergeo": [
           {
            "marker": {
             "colorbar": {
              "outlinewidth": 0,
              "ticks": ""
             }
            },
            "type": "scattergeo"
           }
          ],
          "scattergl": [
           {
            "marker": {
             "colorbar": {
              "outlinewidth": 0,
              "ticks": ""
             }
            },
            "type": "scattergl"
           }
          ],
          "scattermapbox": [
           {
            "marker": {
             "colorbar": {
              "outlinewidth": 0,
              "ticks": ""
             }
            },
            "type": "scattermapbox"
           }
          ],
          "scatterpolar": [
           {
            "marker": {
             "colorbar": {
              "outlinewidth": 0,
              "ticks": ""
             }
            },
            "type": "scatterpolar"
           }
          ],
          "scatterpolargl": [
           {
            "marker": {
             "colorbar": {
              "outlinewidth": 0,
              "ticks": ""
             }
            },
            "type": "scatterpolargl"
           }
          ],
          "scatterternary": [
           {
            "marker": {
             "colorbar": {
              "outlinewidth": 0,
              "ticks": ""
             }
            },
            "type": "scatterternary"
           }
          ],
          "surface": [
           {
            "colorbar": {
             "outlinewidth": 0,
             "ticks": ""
            },
            "colorscale": [
             [
              0,
              "#0d0887"
             ],
             [
              0.1111111111111111,
              "#46039f"
             ],
             [
              0.2222222222222222,
              "#7201a8"
             ],
             [
              0.3333333333333333,
              "#9c179e"
             ],
             [
              0.4444444444444444,
              "#bd3786"
             ],
             [
              0.5555555555555556,
              "#d8576b"
             ],
             [
              0.6666666666666666,
              "#ed7953"
             ],
             [
              0.7777777777777778,
              "#fb9f3a"
             ],
             [
              0.8888888888888888,
              "#fdca26"
             ],
             [
              1,
              "#f0f921"
             ]
            ],
            "type": "surface"
           }
          ],
          "table": [
           {
            "cells": {
             "fill": {
              "color": "#EBF0F8"
             },
             "line": {
              "color": "white"
             }
            },
            "header": {
             "fill": {
              "color": "#C8D4E3"
             },
             "line": {
              "color": "white"
             }
            },
            "type": "table"
           }
          ]
         },
         "layout": {
          "annotationdefaults": {
           "arrowcolor": "#2a3f5f",
           "arrowhead": 0,
           "arrowwidth": 1
          },
          "autotypenumbers": "strict",
          "coloraxis": {
           "colorbar": {
            "outlinewidth": 0,
            "ticks": ""
           }
          },
          "colorscale": {
           "diverging": [
            [
             0,
             "#8e0152"
            ],
            [
             0.1,
             "#c51b7d"
            ],
            [
             0.2,
             "#de77ae"
            ],
            [
             0.3,
             "#f1b6da"
            ],
            [
             0.4,
             "#fde0ef"
            ],
            [
             0.5,
             "#f7f7f7"
            ],
            [
             0.6,
             "#e6f5d0"
            ],
            [
             0.7,
             "#b8e186"
            ],
            [
             0.8,
             "#7fbc41"
            ],
            [
             0.9,
             "#4d9221"
            ],
            [
             1,
             "#276419"
            ]
           ],
           "sequential": [
            [
             0,
             "#0d0887"
            ],
            [
             0.1111111111111111,
             "#46039f"
            ],
            [
             0.2222222222222222,
             "#7201a8"
            ],
            [
             0.3333333333333333,
             "#9c179e"
            ],
            [
             0.4444444444444444,
             "#bd3786"
            ],
            [
             0.5555555555555556,
             "#d8576b"
            ],
            [
             0.6666666666666666,
             "#ed7953"
            ],
            [
             0.7777777777777778,
             "#fb9f3a"
            ],
            [
             0.8888888888888888,
             "#fdca26"
            ],
            [
             1,
             "#f0f921"
            ]
           ],
           "sequentialminus": [
            [
             0,
             "#0d0887"
            ],
            [
             0.1111111111111111,
             "#46039f"
            ],
            [
             0.2222222222222222,
             "#7201a8"
            ],
            [
             0.3333333333333333,
             "#9c179e"
            ],
            [
             0.4444444444444444,
             "#bd3786"
            ],
            [
             0.5555555555555556,
             "#d8576b"
            ],
            [
             0.6666666666666666,
             "#ed7953"
            ],
            [
             0.7777777777777778,
             "#fb9f3a"
            ],
            [
             0.8888888888888888,
             "#fdca26"
            ],
            [
             1,
             "#f0f921"
            ]
           ]
          },
          "colorway": [
           "#636efa",
           "#EF553B",
           "#00cc96",
           "#ab63fa",
           "#FFA15A",
           "#19d3f3",
           "#FF6692",
           "#B6E880",
           "#FF97FF",
           "#FECB52"
          ],
          "font": {
           "color": "#2a3f5f"
          },
          "geo": {
           "bgcolor": "white",
           "lakecolor": "white",
           "landcolor": "#E5ECF6",
           "showlakes": true,
           "showland": true,
           "subunitcolor": "white"
          },
          "hoverlabel": {
           "align": "left"
          },
          "hovermode": "closest",
          "mapbox": {
           "style": "light"
          },
          "paper_bgcolor": "white",
          "plot_bgcolor": "#E5ECF6",
          "polar": {
           "angularaxis": {
            "gridcolor": "white",
            "linecolor": "white",
            "ticks": ""
           },
           "bgcolor": "#E5ECF6",
           "radialaxis": {
            "gridcolor": "white",
            "linecolor": "white",
            "ticks": ""
           }
          },
          "scene": {
           "xaxis": {
            "backgroundcolor": "#E5ECF6",
            "gridcolor": "white",
            "gridwidth": 2,
            "linecolor": "white",
            "showbackground": true,
            "ticks": "",
            "zerolinecolor": "white"
           },
           "yaxis": {
            "backgroundcolor": "#E5ECF6",
            "gridcolor": "white",
            "gridwidth": 2,
            "linecolor": "white",
            "showbackground": true,
            "ticks": "",
            "zerolinecolor": "white"
           },
           "zaxis": {
            "backgroundcolor": "#E5ECF6",
            "gridcolor": "white",
            "gridwidth": 2,
            "linecolor": "white",
            "showbackground": true,
            "ticks": "",
            "zerolinecolor": "white"
           }
          },
          "shapedefaults": {
           "line": {
            "color": "#2a3f5f"
           }
          },
          "ternary": {
           "aaxis": {
            "gridcolor": "white",
            "linecolor": "white",
            "ticks": ""
           },
           "baxis": {
            "gridcolor": "white",
            "linecolor": "white",
            "ticks": ""
           },
           "bgcolor": "#E5ECF6",
           "caxis": {
            "gridcolor": "white",
            "linecolor": "white",
            "ticks": ""
           }
          },
          "title": {
           "x": 0.05
          },
          "xaxis": {
           "automargin": true,
           "gridcolor": "white",
           "linecolor": "white",
           "ticks": "",
           "title": {
            "standoff": 15
           },
           "zerolinecolor": "white",
           "zerolinewidth": 2
          },
          "yaxis": {
           "automargin": true,
           "gridcolor": "white",
           "linecolor": "white",
           "ticks": "",
           "title": {
            "standoff": 15
           },
           "zerolinecolor": "white",
           "zerolinewidth": 2
          }
         }
        },
        "xaxis": {
         "anchor": "y",
         "domain": [
          0,
          0.45
         ],
         "title": {
          "text": "X"
         }
        },
        "xaxis2": {
         "anchor": "y2",
         "domain": [
          0.55,
          1
         ]
        },
        "yaxis": {
         "anchor": "x",
         "domain": [
          0,
          1
         ],
         "range": [
          0,
          10
         ],
         "title": {
          "text": "Y"
         }
        },
        "yaxis2": {
         "anchor": "x2",
         "domain": [
          0,
          1
         ],
         "title": {
          "text": "RMSE"
         }
        }
       }
      },
      "text/html": [
       "<div>                            <div id=\"718acd85-b094-4fd1-bbc0-5434650faf41\" class=\"plotly-graph-div\" style=\"height:525px; width:100%;\"></div>            <script type=\"text/javascript\">                require([\"plotly\"], function(Plotly) {                    window.PLOTLYENV=window.PLOTLYENV || {};                                    if (document.getElementById(\"718acd85-b094-4fd1-bbc0-5434650faf41\")) {                    Plotly.newPlot(                        \"718acd85-b094-4fd1-bbc0-5434650faf41\",                        [{\"marker\":{\"color\":\"#636EFA\"},\"mode\":\"markers\",\"name\":\"data\",\"x\":[-2.6475819924330954,-2.0515469334036016,-1.8106646981606496,-1.312076282905776,-0.7895905078629929,-0.6609638446178359,0.8061481540360957,1.054879683024077],\"y\":[9.14045169318176,5.336237325257329,7.195181491514598,6.095357781703495,0.7219468779966638,2.177008172349038,4.367994079777328,5.852681713200849],\"type\":\"scatter\",\"xaxis\":\"x\",\"yaxis\":\"y\"},{\"marker\":{\"color\":\"#00CC96\"},\"name\":\"Linear in X\",\"x\":[-3.0,-2.9555555555555557,-2.911111111111111,-2.8666666666666667,-2.8222222222222224,-2.7777777777777777,-2.7333333333333334,-2.688888888888889,-2.6444444444444444,-2.6,-2.5555555555555554,-2.511111111111111,-2.466666666666667,-2.422222222222222,-2.3777777777777778,-2.333333333333333,-2.2888888888888888,-2.2444444444444445,-2.2,-2.1555555555555554,-2.111111111111111,-2.0666666666666664,-2.022222222222222,-1.9777777777777776,-1.9333333333333333,-1.8888888888888888,-1.8444444444444443,-1.8,-1.7555555555555555,-1.711111111111111,-1.6666666666666665,-1.6222222222222222,-1.5777777777777777,-1.5333333333333332,-1.488888888888889,-1.4444444444444444,-1.4,-1.3555555555555554,-1.3111111111111111,-1.2666666666666666,-1.222222222222222,-1.1777777777777778,-1.1333333333333333,-1.0888888888888888,-1.0444444444444443,-1.0,-0.9555555555555553,-0.911111111111111,-0.8666666666666667,-0.822222222222222,-0.7777777777777777,-0.7333333333333334,-0.6888888888888887,-0.6444444444444444,-0.6000000000000001,-0.5555555555555554,-0.5111111111111111,-0.4666666666666668,-0.42222222222222205,-0.37777777777777777,-0.33333333333333304,-0.28888888888888875,-0.24444444444444446,-0.19999999999999973,-0.15555555555555545,-0.11111111111111116,-0.06666666666666643,-0.022222222222222143,0.022222222222222143,0.06666666666666687,0.11111111111111116,0.1555555555555559,0.20000000000000018,0.24444444444444446,0.2888888888888892,0.3333333333333335,0.37777777777777777,0.4222222222222225,0.4666666666666668,0.5111111111111111,0.5555555555555558,0.6000000000000001,0.6444444444444444,0.6888888888888891,0.7333333333333334,0.7777777777777781,0.8222222222222224,0.8666666666666667,0.9111111111111114,0.9555555555555557,1.0,1.0444444444444443,1.0888888888888895,1.1333333333333337,1.177777777777778,1.2222222222222223,1.2666666666666666,1.311111111111111,1.355555555555556,1.4],\"y\":[6.917571409286772,6.878846799154056,6.840122189021339,6.801397578888623,6.762672968755907,6.72394835862319,6.685223748490474,6.646499138357758,6.6077745282250415,6.569049918092325,6.530325307959609,6.491600697826893,6.452876087694177,6.41415147756146,6.375426867428744,6.336702257296028,6.297977647163312,6.259253037030596,6.2205284268978795,6.1818038167651626,6.143079206632446,6.10435459649973,6.065629986367014,6.026905376234298,5.988180766101582,5.949456155968865,5.910731545836149,5.872006935703433,5.833282325570717,5.794557715438,5.755833105305284,5.7171084951725675,5.678383885039851,5.639659274907135,5.600934664774419,5.562210054641703,5.523485444508986,5.48476083437627,5.446036224243554,5.407311614110838,5.368587003978121,5.329862393845405,5.2911377837126885,5.252413173579972,5.213688563447256,5.17496395331454,5.136239343181823,5.097514733049107,5.058790122916391,5.020065512783675,4.981340902650959,4.942616292518243,4.903891682385526,4.8651670722528095,4.826442462120093,4.787717851987377,4.748993241854661,4.710268631721945,4.671544021589229,4.632819411456512,4.594094801323796,4.55537019119108,4.516645581058364,4.477920970925647,4.439196360792931,4.4004717506602145,4.361747140527498,4.323022530394782,4.284297920262066,4.24557331012935,4.206848699996634,4.168124089863917,4.129399479731201,4.090674869598485,4.051950259465769,4.0132256493330525,3.974501039200336,3.9357764290676194,3.8970518189349033,3.858327208802187,3.8196025986694706,3.7808779885367545,3.7421533784040384,3.703428768271322,3.6647041581386057,3.625979548005889,3.587254937873173,3.548530327740457,3.5098057176077404,3.4710811074750243,3.432356497342308,3.393631887209592,3.354907277076875,3.316182666944159,3.277458056811443,3.2387334466787268,3.2000088365460106,3.1612842264132945,3.1225596162805775,3.0838350061478623],\"type\":\"scatter\",\"xaxis\":\"x\",\"yaxis\":\"y\"},{\"marker\":{\"color\":\"#636EFA\"},\"showlegend\":false,\"x\":[\"Linear in X\"],\"y\":[2.272965710209297],\"type\":\"bar\",\"xaxis\":\"x2\",\"yaxis\":\"y2\"}],                        {\"template\":{\"data\":{\"bar\":[{\"error_x\":{\"color\":\"#2a3f5f\"},\"error_y\":{\"color\":\"#2a3f5f\"},\"marker\":{\"line\":{\"color\":\"#E5ECF6\",\"width\":0.5},\"pattern\":{\"fillmode\":\"overlay\",\"size\":10,\"solidity\":0.2}},\"type\":\"bar\"}],\"barpolar\":[{\"marker\":{\"line\":{\"color\":\"#E5ECF6\",\"width\":0.5},\"pattern\":{\"fillmode\":\"overlay\",\"size\":10,\"solidity\":0.2}},\"type\":\"barpolar\"}],\"carpet\":[{\"aaxis\":{\"endlinecolor\":\"#2a3f5f\",\"gridcolor\":\"white\",\"linecolor\":\"white\",\"minorgridcolor\":\"white\",\"startlinecolor\":\"#2a3f5f\"},\"baxis\":{\"endlinecolor\":\"#2a3f5f\",\"gridcolor\":\"white\",\"linecolor\":\"white\",\"minorgridcolor\":\"white\",\"startlinecolor\":\"#2a3f5f\"},\"type\":\"carpet\"}],\"choropleth\":[{\"colorbar\":{\"outlinewidth\":0,\"ticks\":\"\"},\"type\":\"choropleth\"}],\"contour\":[{\"colorbar\":{\"outlinewidth\":0,\"ticks\":\"\"},\"colorscale\":[[0.0,\"#0d0887\"],[0.1111111111111111,\"#46039f\"],[0.2222222222222222,\"#7201a8\"],[0.3333333333333333,\"#9c179e\"],[0.4444444444444444,\"#bd3786\"],[0.5555555555555556,\"#d8576b\"],[0.6666666666666666,\"#ed7953\"],[0.7777777777777778,\"#fb9f3a\"],[0.8888888888888888,\"#fdca26\"],[1.0,\"#f0f921\"]],\"type\":\"contour\"}],\"contourcarpet\":[{\"colorbar\":{\"outlinewidth\":0,\"ticks\":\"\"},\"type\":\"contourcarpet\"}],\"heatmap\":[{\"colorbar\":{\"outlinewidth\":0,\"ticks\":\"\"},\"colorscale\":[[0.0,\"#0d0887\"],[0.1111111111111111,\"#46039f\"],[0.2222222222222222,\"#7201a8\"],[0.3333333333333333,\"#9c179e\"],[0.4444444444444444,\"#bd3786\"],[0.5555555555555556,\"#d8576b\"],[0.6666666666666666,\"#ed7953\"],[0.7777777777777778,\"#fb9f3a\"],[0.8888888888888888,\"#fdca26\"],[1.0,\"#f0f921\"]],\"type\":\"heatmap\"}],\"heatmapgl\":[{\"colorbar\":{\"outlinewidth\":0,\"ticks\":\"\"},\"colorscale\":[[0.0,\"#0d0887\"],[0.1111111111111111,\"#46039f\"],[0.2222222222222222,\"#7201a8\"],[0.3333333333333333,\"#9c179e\"],[0.4444444444444444,\"#bd3786\"],[0.5555555555555556,\"#d8576b\"],[0.6666666666666666,\"#ed7953\"],[0.7777777777777778,\"#fb9f3a\"],[0.8888888888888888,\"#fdca26\"],[1.0,\"#f0f921\"]],\"type\":\"heatmapgl\"}],\"histogram\":[{\"marker\":{\"pattern\":{\"fillmode\":\"overlay\",\"size\":10,\"solidity\":0.2}},\"type\":\"histogram\"}],\"histogram2d\":[{\"colorbar\":{\"outlinewidth\":0,\"ticks\":\"\"},\"colorscale\":[[0.0,\"#0d0887\"],[0.1111111111111111,\"#46039f\"],[0.2222222222222222,\"#7201a8\"],[0.3333333333333333,\"#9c179e\"],[0.4444444444444444,\"#bd3786\"],[0.5555555555555556,\"#d8576b\"],[0.6666666666666666,\"#ed7953\"],[0.7777777777777778,\"#fb9f3a\"],[0.8888888888888888,\"#fdca26\"],[1.0,\"#f0f921\"]],\"type\":\"histogram2d\"}],\"histogram2dcontour\":[{\"colorbar\":{\"outlinewidth\":0,\"ticks\":\"\"},\"colorscale\":[[0.0,\"#0d0887\"],[0.1111111111111111,\"#46039f\"],[0.2222222222222222,\"#7201a8\"],[0.3333333333333333,\"#9c179e\"],[0.4444444444444444,\"#bd3786\"],[0.5555555555555556,\"#d8576b\"],[0.6666666666666666,\"#ed7953\"],[0.7777777777777778,\"#fb9f3a\"],[0.8888888888888888,\"#fdca26\"],[1.0,\"#f0f921\"]],\"type\":\"histogram2dcontour\"}],\"mesh3d\":[{\"colorbar\":{\"outlinewidth\":0,\"ticks\":\"\"},\"type\":\"mesh3d\"}],\"parcoords\":[{\"line\":{\"colorbar\":{\"outlinewidth\":0,\"ticks\":\"\"}},\"type\":\"parcoords\"}],\"pie\":[{\"automargin\":true,\"type\":\"pie\"}],\"scatter\":[{\"marker\":{\"colorbar\":{\"outlinewidth\":0,\"ticks\":\"\"}},\"type\":\"scatter\"}],\"scatter3d\":[{\"line\":{\"colorbar\":{\"outlinewidth\":0,\"ticks\":\"\"}},\"marker\":{\"colorbar\":{\"outlinewidth\":0,\"ticks\":\"\"}},\"type\":\"scatter3d\"}],\"scattercarpet\":[{\"marker\":{\"colorbar\":{\"outlinewidth\":0,\"ticks\":\"\"}},\"type\":\"scattercarpet\"}],\"scattergeo\":[{\"marker\":{\"colorbar\":{\"outlinewidth\":0,\"ticks\":\"\"}},\"type\":\"scattergeo\"}],\"scattergl\":[{\"marker\":{\"colorbar\":{\"outlinewidth\":0,\"ticks\":\"\"}},\"type\":\"scattergl\"}],\"scattermapbox\":[{\"marker\":{\"colorbar\":{\"outlinewidth\":0,\"ticks\":\"\"}},\"type\":\"scattermapbox\"}],\"scatterpolar\":[{\"marker\":{\"colorbar\":{\"outlinewidth\":0,\"ticks\":\"\"}},\"type\":\"scatterpolar\"}],\"scatterpolargl\":[{\"marker\":{\"colorbar\":{\"outlinewidth\":0,\"ticks\":\"\"}},\"type\":\"scatterpolargl\"}],\"scatterternary\":[{\"marker\":{\"colorbar\":{\"outlinewidth\":0,\"ticks\":\"\"}},\"type\":\"scatterternary\"}],\"surface\":[{\"colorbar\":{\"outlinewidth\":0,\"ticks\":\"\"},\"colorscale\":[[0.0,\"#0d0887\"],[0.1111111111111111,\"#46039f\"],[0.2222222222222222,\"#7201a8\"],[0.3333333333333333,\"#9c179e\"],[0.4444444444444444,\"#bd3786\"],[0.5555555555555556,\"#d8576b\"],[0.6666666666666666,\"#ed7953\"],[0.7777777777777778,\"#fb9f3a\"],[0.8888888888888888,\"#fdca26\"],[1.0,\"#f0f921\"]],\"type\":\"surface\"}],\"table\":[{\"cells\":{\"fill\":{\"color\":\"#EBF0F8\"},\"line\":{\"color\":\"white\"}},\"header\":{\"fill\":{\"color\":\"#C8D4E3\"},\"line\":{\"color\":\"white\"}},\"type\":\"table\"}]},\"layout\":{\"annotationdefaults\":{\"arrowcolor\":\"#2a3f5f\",\"arrowhead\":0,\"arrowwidth\":1},\"autotypenumbers\":\"strict\",\"coloraxis\":{\"colorbar\":{\"outlinewidth\":0,\"ticks\":\"\"}},\"colorscale\":{\"diverging\":[[0,\"#8e0152\"],[0.1,\"#c51b7d\"],[0.2,\"#de77ae\"],[0.3,\"#f1b6da\"],[0.4,\"#fde0ef\"],[0.5,\"#f7f7f7\"],[0.6,\"#e6f5d0\"],[0.7,\"#b8e186\"],[0.8,\"#7fbc41\"],[0.9,\"#4d9221\"],[1,\"#276419\"]],\"sequential\":[[0.0,\"#0d0887\"],[0.1111111111111111,\"#46039f\"],[0.2222222222222222,\"#7201a8\"],[0.3333333333333333,\"#9c179e\"],[0.4444444444444444,\"#bd3786\"],[0.5555555555555556,\"#d8576b\"],[0.6666666666666666,\"#ed7953\"],[0.7777777777777778,\"#fb9f3a\"],[0.8888888888888888,\"#fdca26\"],[1.0,\"#f0f921\"]],\"sequentialminus\":[[0.0,\"#0d0887\"],[0.1111111111111111,\"#46039f\"],[0.2222222222222222,\"#7201a8\"],[0.3333333333333333,\"#9c179e\"],[0.4444444444444444,\"#bd3786\"],[0.5555555555555556,\"#d8576b\"],[0.6666666666666666,\"#ed7953\"],[0.7777777777777778,\"#fb9f3a\"],[0.8888888888888888,\"#fdca26\"],[1.0,\"#f0f921\"]]},\"colorway\":[\"#636efa\",\"#EF553B\",\"#00cc96\",\"#ab63fa\",\"#FFA15A\",\"#19d3f3\",\"#FF6692\",\"#B6E880\",\"#FF97FF\",\"#FECB52\"],\"font\":{\"color\":\"#2a3f5f\"},\"geo\":{\"bgcolor\":\"white\",\"lakecolor\":\"white\",\"landcolor\":\"#E5ECF6\",\"showlakes\":true,\"showland\":true,\"subunitcolor\":\"white\"},\"hoverlabel\":{\"align\":\"left\"},\"hovermode\":\"closest\",\"mapbox\":{\"style\":\"light\"},\"paper_bgcolor\":\"white\",\"plot_bgcolor\":\"#E5ECF6\",\"polar\":{\"angularaxis\":{\"gridcolor\":\"white\",\"linecolor\":\"white\",\"ticks\":\"\"},\"bgcolor\":\"#E5ECF6\",\"radialaxis\":{\"gridcolor\":\"white\",\"linecolor\":\"white\",\"ticks\":\"\"}},\"scene\":{\"xaxis\":{\"backgroundcolor\":\"#E5ECF6\",\"gridcolor\":\"white\",\"gridwidth\":2,\"linecolor\":\"white\",\"showbackground\":true,\"ticks\":\"\",\"zerolinecolor\":\"white\"},\"yaxis\":{\"backgroundcolor\":\"#E5ECF6\",\"gridcolor\":\"white\",\"gridwidth\":2,\"linecolor\":\"white\",\"showbackground\":true,\"ticks\":\"\",\"zerolinecolor\":\"white\"},\"zaxis\":{\"backgroundcolor\":\"#E5ECF6\",\"gridcolor\":\"white\",\"gridwidth\":2,\"linecolor\":\"white\",\"showbackground\":true,\"ticks\":\"\",\"zerolinecolor\":\"white\"}},\"shapedefaults\":{\"line\":{\"color\":\"#2a3f5f\"}},\"ternary\":{\"aaxis\":{\"gridcolor\":\"white\",\"linecolor\":\"white\",\"ticks\":\"\"},\"baxis\":{\"gridcolor\":\"white\",\"linecolor\":\"white\",\"ticks\":\"\"},\"bgcolor\":\"#E5ECF6\",\"caxis\":{\"gridcolor\":\"white\",\"linecolor\":\"white\",\"ticks\":\"\"}},\"title\":{\"x\":0.05},\"xaxis\":{\"automargin\":true,\"gridcolor\":\"white\",\"linecolor\":\"white\",\"ticks\":\"\",\"title\":{\"standoff\":15},\"zerolinecolor\":\"white\",\"zerolinewidth\":2},\"yaxis\":{\"automargin\":true,\"gridcolor\":\"white\",\"linecolor\":\"white\",\"ticks\":\"\",\"title\":{\"standoff\":15},\"zerolinecolor\":\"white\",\"zerolinewidth\":2}}},\"xaxis\":{\"anchor\":\"y\",\"domain\":[0.0,0.45],\"title\":{\"text\":\"X\"}},\"yaxis\":{\"anchor\":\"x\",\"domain\":[0.0,1.0],\"title\":{\"text\":\"Y\"},\"range\":[0,10]},\"xaxis2\":{\"anchor\":\"y2\",\"domain\":[0.55,1.0]},\"yaxis2\":{\"anchor\":\"x2\",\"domain\":[0.0,1.0],\"title\":{\"text\":\"RMSE\"}}},                        {\"responsive\": true}                    ).then(function(){\n",
       "                            \n",
       "var gd = document.getElementById('718acd85-b094-4fd1-bbc0-5434650faf41');\n",
       "var x = new MutationObserver(function (mutations, observer) {{\n",
       "        var display = window.getComputedStyle(gd).display;\n",
       "        if (!display || display === 'none') {{\n",
       "            console.log([gd, 'removed!']);\n",
       "            Plotly.purge(gd);\n",
       "            observer.disconnect();\n",
       "        }}\n",
       "}});\n",
       "\n",
       "// Listen for the removal of the full notebook cells\n",
       "var notebookContainer = gd.closest('#notebook-container');\n",
       "if (notebookContainer) {{\n",
       "    x.observe(notebookContainer, {childList: true});\n",
       "}}\n",
       "\n",
       "// Listen for the clearing of the current output cell\n",
       "var outputEl = gd.closest('.output');\n",
       "if (outputEl) {{\n",
       "    x.observe(outputEl, {childList: true});\n",
       "}}\n",
       "\n",
       "                        })                };                });            </script>        </div>"
      ]
     },
     "metadata": {},
     "output_type": "display_data"
    }
   ],
   "source": [
    "evaluate_model(\"Linear in X\", model, lambda x: x, models )"
   ]
  },
  {
   "cell_type": "markdown",
   "metadata": {},
   "source": [
    "## Over Engineering\n",
    "\n",
    "How could we improve the model fit?"
   ]
  },
  {
   "cell_type": "code",
   "execution_count": 13,
   "metadata": {},
   "outputs": [],
   "source": [
    "def phi_polynomials(x, p=3):\n",
    "    return np.hstack([x**i for i in range(1,p+1)])"
   ]
  },
  {
   "cell_type": "code",
   "execution_count": 14,
   "metadata": {},
   "outputs": [
    {
     "name": "stdout",
     "output_type": "stream",
     "text": [
      "Root Mean Squared Error: 1.3646273702703906\n"
     ]
    },
    {
     "data": {
      "application/vnd.plotly.v1+json": {
       "config": {
        "plotlyServerURL": "https://plot.ly"
       },
       "data": [
        {
         "marker": {
          "color": "#636EFA"
         },
         "mode": "markers",
         "name": "data",
         "type": "scatter",
         "x": [
          -2.6475819924330954,
          -2.0515469334036016,
          -1.8106646981606496,
          -1.312076282905776,
          -0.7895905078629929,
          -0.6609638446178359,
          0.8061481540360957,
          1.054879683024077
         ],
         "xaxis": "x",
         "y": [
          9.14045169318176,
          5.336237325257329,
          7.195181491514598,
          6.095357781703495,
          0.7219468779966638,
          2.177008172349038,
          4.367994079777328,
          5.852681713200849
         ],
         "yaxis": "y"
        },
        {
         "marker": {
          "color": "#00CC96"
         },
         "name": "Linear in X",
         "type": "scatter",
         "x": [
          -3,
          -2.9555555555555557,
          -2.911111111111111,
          -2.8666666666666667,
          -2.8222222222222224,
          -2.7777777777777777,
          -2.7333333333333334,
          -2.688888888888889,
          -2.6444444444444444,
          -2.6,
          -2.5555555555555554,
          -2.511111111111111,
          -2.466666666666667,
          -2.422222222222222,
          -2.3777777777777778,
          -2.333333333333333,
          -2.2888888888888888,
          -2.2444444444444445,
          -2.2,
          -2.1555555555555554,
          -2.111111111111111,
          -2.0666666666666664,
          -2.022222222222222,
          -1.9777777777777776,
          -1.9333333333333333,
          -1.8888888888888888,
          -1.8444444444444443,
          -1.8,
          -1.7555555555555555,
          -1.711111111111111,
          -1.6666666666666665,
          -1.6222222222222222,
          -1.5777777777777777,
          -1.5333333333333332,
          -1.488888888888889,
          -1.4444444444444444,
          -1.4,
          -1.3555555555555554,
          -1.3111111111111111,
          -1.2666666666666666,
          -1.222222222222222,
          -1.1777777777777778,
          -1.1333333333333333,
          -1.0888888888888888,
          -1.0444444444444443,
          -1,
          -0.9555555555555553,
          -0.911111111111111,
          -0.8666666666666667,
          -0.822222222222222,
          -0.7777777777777777,
          -0.7333333333333334,
          -0.6888888888888887,
          -0.6444444444444444,
          -0.6000000000000001,
          -0.5555555555555554,
          -0.5111111111111111,
          -0.4666666666666668,
          -0.42222222222222205,
          -0.37777777777777777,
          -0.33333333333333304,
          -0.28888888888888875,
          -0.24444444444444446,
          -0.19999999999999973,
          -0.15555555555555545,
          -0.11111111111111116,
          -0.06666666666666643,
          -0.022222222222222143,
          0.022222222222222143,
          0.06666666666666687,
          0.11111111111111116,
          0.1555555555555559,
          0.20000000000000018,
          0.24444444444444446,
          0.2888888888888892,
          0.3333333333333335,
          0.37777777777777777,
          0.4222222222222225,
          0.4666666666666668,
          0.5111111111111111,
          0.5555555555555558,
          0.6000000000000001,
          0.6444444444444444,
          0.6888888888888891,
          0.7333333333333334,
          0.7777777777777781,
          0.8222222222222224,
          0.8666666666666667,
          0.9111111111111114,
          0.9555555555555557,
          1,
          1.0444444444444443,
          1.0888888888888895,
          1.1333333333333337,
          1.177777777777778,
          1.2222222222222223,
          1.2666666666666666,
          1.311111111111111,
          1.355555555555556,
          1.4
         ],
         "xaxis": "x",
         "y": [
          6.917571409286772,
          6.878846799154056,
          6.840122189021339,
          6.801397578888623,
          6.762672968755907,
          6.72394835862319,
          6.685223748490474,
          6.646499138357758,
          6.6077745282250415,
          6.569049918092325,
          6.530325307959609,
          6.491600697826893,
          6.452876087694177,
          6.41415147756146,
          6.375426867428744,
          6.336702257296028,
          6.297977647163312,
          6.259253037030596,
          6.2205284268978795,
          6.1818038167651626,
          6.143079206632446,
          6.10435459649973,
          6.065629986367014,
          6.026905376234298,
          5.988180766101582,
          5.949456155968865,
          5.910731545836149,
          5.872006935703433,
          5.833282325570717,
          5.794557715438,
          5.755833105305284,
          5.7171084951725675,
          5.678383885039851,
          5.639659274907135,
          5.600934664774419,
          5.562210054641703,
          5.523485444508986,
          5.48476083437627,
          5.446036224243554,
          5.407311614110838,
          5.368587003978121,
          5.329862393845405,
          5.2911377837126885,
          5.252413173579972,
          5.213688563447256,
          5.17496395331454,
          5.136239343181823,
          5.097514733049107,
          5.058790122916391,
          5.020065512783675,
          4.981340902650959,
          4.942616292518243,
          4.903891682385526,
          4.8651670722528095,
          4.826442462120093,
          4.787717851987377,
          4.748993241854661,
          4.710268631721945,
          4.671544021589229,
          4.632819411456512,
          4.594094801323796,
          4.55537019119108,
          4.516645581058364,
          4.477920970925647,
          4.439196360792931,
          4.4004717506602145,
          4.361747140527498,
          4.323022530394782,
          4.284297920262066,
          4.24557331012935,
          4.206848699996634,
          4.168124089863917,
          4.129399479731201,
          4.090674869598485,
          4.051950259465769,
          4.0132256493330525,
          3.974501039200336,
          3.9357764290676194,
          3.8970518189349033,
          3.858327208802187,
          3.8196025986694706,
          3.7808779885367545,
          3.7421533784040384,
          3.703428768271322,
          3.6647041581386057,
          3.625979548005889,
          3.587254937873173,
          3.548530327740457,
          3.5098057176077404,
          3.4710811074750243,
          3.432356497342308,
          3.393631887209592,
          3.354907277076875,
          3.316182666944159,
          3.277458056811443,
          3.2387334466787268,
          3.2000088365460106,
          3.1612842264132945,
          3.1225596162805775,
          3.0838350061478623
         ],
         "yaxis": "y"
        },
        {
         "marker": {
          "color": "#AB63FA"
         },
         "name": "Quadratic",
         "type": "scatter",
         "x": [
          -3,
          -2.9555555555555557,
          -2.911111111111111,
          -2.8666666666666667,
          -2.8222222222222224,
          -2.7777777777777777,
          -2.7333333333333334,
          -2.688888888888889,
          -2.6444444444444444,
          -2.6,
          -2.5555555555555554,
          -2.511111111111111,
          -2.466666666666667,
          -2.422222222222222,
          -2.3777777777777778,
          -2.333333333333333,
          -2.2888888888888888,
          -2.2444444444444445,
          -2.2,
          -2.1555555555555554,
          -2.111111111111111,
          -2.0666666666666664,
          -2.022222222222222,
          -1.9777777777777776,
          -1.9333333333333333,
          -1.8888888888888888,
          -1.8444444444444443,
          -1.8,
          -1.7555555555555555,
          -1.711111111111111,
          -1.6666666666666665,
          -1.6222222222222222,
          -1.5777777777777777,
          -1.5333333333333332,
          -1.488888888888889,
          -1.4444444444444444,
          -1.4,
          -1.3555555555555554,
          -1.3111111111111111,
          -1.2666666666666666,
          -1.222222222222222,
          -1.1777777777777778,
          -1.1333333333333333,
          -1.0888888888888888,
          -1.0444444444444443,
          -1,
          -0.9555555555555553,
          -0.911111111111111,
          -0.8666666666666667,
          -0.822222222222222,
          -0.7777777777777777,
          -0.7333333333333334,
          -0.6888888888888887,
          -0.6444444444444444,
          -0.6000000000000001,
          -0.5555555555555554,
          -0.5111111111111111,
          -0.4666666666666668,
          -0.42222222222222205,
          -0.37777777777777777,
          -0.33333333333333304,
          -0.28888888888888875,
          -0.24444444444444446,
          -0.19999999999999973,
          -0.15555555555555545,
          -0.11111111111111116,
          -0.06666666666666643,
          -0.022222222222222143,
          0.022222222222222143,
          0.06666666666666687,
          0.11111111111111116,
          0.1555555555555559,
          0.20000000000000018,
          0.24444444444444446,
          0.2888888888888892,
          0.3333333333333335,
          0.37777777777777777,
          0.4222222222222225,
          0.4666666666666668,
          0.5111111111111111,
          0.5555555555555558,
          0.6000000000000001,
          0.6444444444444444,
          0.6888888888888891,
          0.7333333333333334,
          0.7777777777777781,
          0.8222222222222224,
          0.8666666666666667,
          0.9111111111111114,
          0.9555555555555557,
          1,
          1.0444444444444443,
          1.0888888888888895,
          1.1333333333333337,
          1.177777777777778,
          1.2222222222222223,
          1.2666666666666666,
          1.311111111111111,
          1.355555555555556,
          1.4
         ],
         "xaxis": "x",
         "y": [
          12.036180361231835,
          11.720270179273705,
          11.409747663988355,
          11.104612815375805,
          10.804865633436041,
          10.510506118169065,
          10.221534269574882,
          9.93795008765349,
          9.659753572404885,
          9.386944723829073,
          9.119523541926048,
          8.857490026695817,
          8.600844178138374,
          8.349585996253719,
          8.103715481041856,
          7.863232632502782,
          7.6281374506365,
          7.398429935443008,
          7.174110086922306,
          6.955177905074391,
          6.7416333898992695,
          6.533476541396936,
          6.330707359567394,
          6.133325844410642,
          5.94133199592668,
          5.754725814115507,
          5.573507298977124,
          5.397676450511533,
          5.227233268718731,
          5.062177753598718,
          4.902509905151495,
          4.748229723377064,
          4.599337208275422,
          4.45583235984657,
          4.317715178090508,
          4.184985663007237,
          4.057643814596755,
          3.935689632859063,
          3.8191231177941622,
          3.7079442694020504,
          3.602153087682729,
          3.501749572636198,
          3.4067337242624562,
          3.317105542561505,
          3.232865027533344,
          3.1540121791779727,
          3.0805469974953916,
          3.012469482485601,
          2.9497796341486,
          2.892477452484389,
          2.840562937492968,
          2.794036089174338,
          2.7528969075284966,
          2.7171453925554463,
          2.6867815442551857,
          2.661805362627715,
          2.6422168476730348,
          2.6280159993911445,
          2.6192028177820443,
          2.615777302845734,
          2.617739454582214,
          2.6250892729914836,
          2.637826758073544,
          2.655951909828394,
          2.679464728256034,
          2.708365213356464,
          2.7426533651296845,
          2.7823291835756945,
          2.8273926686944946,
          2.8778438204860857,
          2.933682638950466,
          2.994909124087637,
          3.061523275897597,
          3.1335250943803477,
          3.210914579535889,
          3.2936917313642193,
          3.38185654986534,
          3.4754090350392515,
          3.574349186885952,
          3.6786770054054427,
          3.788392490597724,
          3.9034956424627953,
          4.023986461000656,
          4.149864946211308,
          4.281131098094749,
          4.417784916650982,
          4.559826401880002,
          4.707255553781813,
          4.860072372356416,
          5.018276857603807,
          5.1818690095239885,
          5.350848828116959,
          5.525216313382725,
          5.704971465321275,
          5.890114283932617,
          6.0806447692167485,
          6.27656292117367,
          6.477868739803381,
          6.684562225105887,
          6.896643377081176
         ],
         "yaxis": "y"
        },
        {
         "marker": {
          "color": "#636EFA"
         },
         "showlegend": false,
         "type": "bar",
         "x": [
          "Linear in X",
          "Quadratic"
         ],
         "xaxis": "x2",
         "y": [
          2.272965710209297,
          1.3646273702703906
         ],
         "yaxis": "y2"
        }
       ],
       "layout": {
        "template": {
         "data": {
          "bar": [
           {
            "error_x": {
             "color": "#2a3f5f"
            },
            "error_y": {
             "color": "#2a3f5f"
            },
            "marker": {
             "line": {
              "color": "#E5ECF6",
              "width": 0.5
             },
             "pattern": {
              "fillmode": "overlay",
              "size": 10,
              "solidity": 0.2
             }
            },
            "type": "bar"
           }
          ],
          "barpolar": [
           {
            "marker": {
             "line": {
              "color": "#E5ECF6",
              "width": 0.5
             },
             "pattern": {
              "fillmode": "overlay",
              "size": 10,
              "solidity": 0.2
             }
            },
            "type": "barpolar"
           }
          ],
          "carpet": [
           {
            "aaxis": {
             "endlinecolor": "#2a3f5f",
             "gridcolor": "white",
             "linecolor": "white",
             "minorgridcolor": "white",
             "startlinecolor": "#2a3f5f"
            },
            "baxis": {
             "endlinecolor": "#2a3f5f",
             "gridcolor": "white",
             "linecolor": "white",
             "minorgridcolor": "white",
             "startlinecolor": "#2a3f5f"
            },
            "type": "carpet"
           }
          ],
          "choropleth": [
           {
            "colorbar": {
             "outlinewidth": 0,
             "ticks": ""
            },
            "type": "choropleth"
           }
          ],
          "contour": [
           {
            "colorbar": {
             "outlinewidth": 0,
             "ticks": ""
            },
            "colorscale": [
             [
              0,
              "#0d0887"
             ],
             [
              0.1111111111111111,
              "#46039f"
             ],
             [
              0.2222222222222222,
              "#7201a8"
             ],
             [
              0.3333333333333333,
              "#9c179e"
             ],
             [
              0.4444444444444444,
              "#bd3786"
             ],
             [
              0.5555555555555556,
              "#d8576b"
             ],
             [
              0.6666666666666666,
              "#ed7953"
             ],
             [
              0.7777777777777778,
              "#fb9f3a"
             ],
             [
              0.8888888888888888,
              "#fdca26"
             ],
             [
              1,
              "#f0f921"
             ]
            ],
            "type": "contour"
           }
          ],
          "contourcarpet": [
           {
            "colorbar": {
             "outlinewidth": 0,
             "ticks": ""
            },
            "type": "contourcarpet"
           }
          ],
          "heatmap": [
           {
            "colorbar": {
             "outlinewidth": 0,
             "ticks": ""
            },
            "colorscale": [
             [
              0,
              "#0d0887"
             ],
             [
              0.1111111111111111,
              "#46039f"
             ],
             [
              0.2222222222222222,
              "#7201a8"
             ],
             [
              0.3333333333333333,
              "#9c179e"
             ],
             [
              0.4444444444444444,
              "#bd3786"
             ],
             [
              0.5555555555555556,
              "#d8576b"
             ],
             [
              0.6666666666666666,
              "#ed7953"
             ],
             [
              0.7777777777777778,
              "#fb9f3a"
             ],
             [
              0.8888888888888888,
              "#fdca26"
             ],
             [
              1,
              "#f0f921"
             ]
            ],
            "type": "heatmap"
           }
          ],
          "heatmapgl": [
           {
            "colorbar": {
             "outlinewidth": 0,
             "ticks": ""
            },
            "colorscale": [
             [
              0,
              "#0d0887"
             ],
             [
              0.1111111111111111,
              "#46039f"
             ],
             [
              0.2222222222222222,
              "#7201a8"
             ],
             [
              0.3333333333333333,
              "#9c179e"
             ],
             [
              0.4444444444444444,
              "#bd3786"
             ],
             [
              0.5555555555555556,
              "#d8576b"
             ],
             [
              0.6666666666666666,
              "#ed7953"
             ],
             [
              0.7777777777777778,
              "#fb9f3a"
             ],
             [
              0.8888888888888888,
              "#fdca26"
             ],
             [
              1,
              "#f0f921"
             ]
            ],
            "type": "heatmapgl"
           }
          ],
          "histogram": [
           {
            "marker": {
             "pattern": {
              "fillmode": "overlay",
              "size": 10,
              "solidity": 0.2
             }
            },
            "type": "histogram"
           }
          ],
          "histogram2d": [
           {
            "colorbar": {
             "outlinewidth": 0,
             "ticks": ""
            },
            "colorscale": [
             [
              0,
              "#0d0887"
             ],
             [
              0.1111111111111111,
              "#46039f"
             ],
             [
              0.2222222222222222,
              "#7201a8"
             ],
             [
              0.3333333333333333,
              "#9c179e"
             ],
             [
              0.4444444444444444,
              "#bd3786"
             ],
             [
              0.5555555555555556,
              "#d8576b"
             ],
             [
              0.6666666666666666,
              "#ed7953"
             ],
             [
              0.7777777777777778,
              "#fb9f3a"
             ],
             [
              0.8888888888888888,
              "#fdca26"
             ],
             [
              1,
              "#f0f921"
             ]
            ],
            "type": "histogram2d"
           }
          ],
          "histogram2dcontour": [
           {
            "colorbar": {
             "outlinewidth": 0,
             "ticks": ""
            },
            "colorscale": [
             [
              0,
              "#0d0887"
             ],
             [
              0.1111111111111111,
              "#46039f"
             ],
             [
              0.2222222222222222,
              "#7201a8"
             ],
             [
              0.3333333333333333,
              "#9c179e"
             ],
             [
              0.4444444444444444,
              "#bd3786"
             ],
             [
              0.5555555555555556,
              "#d8576b"
             ],
             [
              0.6666666666666666,
              "#ed7953"
             ],
             [
              0.7777777777777778,
              "#fb9f3a"
             ],
             [
              0.8888888888888888,
              "#fdca26"
             ],
             [
              1,
              "#f0f921"
             ]
            ],
            "type": "histogram2dcontour"
           }
          ],
          "mesh3d": [
           {
            "colorbar": {
             "outlinewidth": 0,
             "ticks": ""
            },
            "type": "mesh3d"
           }
          ],
          "parcoords": [
           {
            "line": {
             "colorbar": {
              "outlinewidth": 0,
              "ticks": ""
             }
            },
            "type": "parcoords"
           }
          ],
          "pie": [
           {
            "automargin": true,
            "type": "pie"
           }
          ],
          "scatter": [
           {
            "marker": {
             "colorbar": {
              "outlinewidth": 0,
              "ticks": ""
             }
            },
            "type": "scatter"
           }
          ],
          "scatter3d": [
           {
            "line": {
             "colorbar": {
              "outlinewidth": 0,
              "ticks": ""
             }
            },
            "marker": {
             "colorbar": {
              "outlinewidth": 0,
              "ticks": ""
             }
            },
            "type": "scatter3d"
           }
          ],
          "scattercarpet": [
           {
            "marker": {
             "colorbar": {
              "outlinewidth": 0,
              "ticks": ""
             }
            },
            "type": "scattercarpet"
           }
          ],
          "scattergeo": [
           {
            "marker": {
             "colorbar": {
              "outlinewidth": 0,
              "ticks": ""
             }
            },
            "type": "scattergeo"
           }
          ],
          "scattergl": [
           {
            "marker": {
             "colorbar": {
              "outlinewidth": 0,
              "ticks": ""
             }
            },
            "type": "scattergl"
           }
          ],
          "scattermapbox": [
           {
            "marker": {
             "colorbar": {
              "outlinewidth": 0,
              "ticks": ""
             }
            },
            "type": "scattermapbox"
           }
          ],
          "scatterpolar": [
           {
            "marker": {
             "colorbar": {
              "outlinewidth": 0,
              "ticks": ""
             }
            },
            "type": "scatterpolar"
           }
          ],
          "scatterpolargl": [
           {
            "marker": {
             "colorbar": {
              "outlinewidth": 0,
              "ticks": ""
             }
            },
            "type": "scatterpolargl"
           }
          ],
          "scatterternary": [
           {
            "marker": {
             "colorbar": {
              "outlinewidth": 0,
              "ticks": ""
             }
            },
            "type": "scatterternary"
           }
          ],
          "surface": [
           {
            "colorbar": {
             "outlinewidth": 0,
             "ticks": ""
            },
            "colorscale": [
             [
              0,
              "#0d0887"
             ],
             [
              0.1111111111111111,
              "#46039f"
             ],
             [
              0.2222222222222222,
              "#7201a8"
             ],
             [
              0.3333333333333333,
              "#9c179e"
             ],
             [
              0.4444444444444444,
              "#bd3786"
             ],
             [
              0.5555555555555556,
              "#d8576b"
             ],
             [
              0.6666666666666666,
              "#ed7953"
             ],
             [
              0.7777777777777778,
              "#fb9f3a"
             ],
             [
              0.8888888888888888,
              "#fdca26"
             ],
             [
              1,
              "#f0f921"
             ]
            ],
            "type": "surface"
           }
          ],
          "table": [
           {
            "cells": {
             "fill": {
              "color": "#EBF0F8"
             },
             "line": {
              "color": "white"
             }
            },
            "header": {
             "fill": {
              "color": "#C8D4E3"
             },
             "line": {
              "color": "white"
             }
            },
            "type": "table"
           }
          ]
         },
         "layout": {
          "annotationdefaults": {
           "arrowcolor": "#2a3f5f",
           "arrowhead": 0,
           "arrowwidth": 1
          },
          "autotypenumbers": "strict",
          "coloraxis": {
           "colorbar": {
            "outlinewidth": 0,
            "ticks": ""
           }
          },
          "colorscale": {
           "diverging": [
            [
             0,
             "#8e0152"
            ],
            [
             0.1,
             "#c51b7d"
            ],
            [
             0.2,
             "#de77ae"
            ],
            [
             0.3,
             "#f1b6da"
            ],
            [
             0.4,
             "#fde0ef"
            ],
            [
             0.5,
             "#f7f7f7"
            ],
            [
             0.6,
             "#e6f5d0"
            ],
            [
             0.7,
             "#b8e186"
            ],
            [
             0.8,
             "#7fbc41"
            ],
            [
             0.9,
             "#4d9221"
            ],
            [
             1,
             "#276419"
            ]
           ],
           "sequential": [
            [
             0,
             "#0d0887"
            ],
            [
             0.1111111111111111,
             "#46039f"
            ],
            [
             0.2222222222222222,
             "#7201a8"
            ],
            [
             0.3333333333333333,
             "#9c179e"
            ],
            [
             0.4444444444444444,
             "#bd3786"
            ],
            [
             0.5555555555555556,
             "#d8576b"
            ],
            [
             0.6666666666666666,
             "#ed7953"
            ],
            [
             0.7777777777777778,
             "#fb9f3a"
            ],
            [
             0.8888888888888888,
             "#fdca26"
            ],
            [
             1,
             "#f0f921"
            ]
           ],
           "sequentialminus": [
            [
             0,
             "#0d0887"
            ],
            [
             0.1111111111111111,
             "#46039f"
            ],
            [
             0.2222222222222222,
             "#7201a8"
            ],
            [
             0.3333333333333333,
             "#9c179e"
            ],
            [
             0.4444444444444444,
             "#bd3786"
            ],
            [
             0.5555555555555556,
             "#d8576b"
            ],
            [
             0.6666666666666666,
             "#ed7953"
            ],
            [
             0.7777777777777778,
             "#fb9f3a"
            ],
            [
             0.8888888888888888,
             "#fdca26"
            ],
            [
             1,
             "#f0f921"
            ]
           ]
          },
          "colorway": [
           "#636efa",
           "#EF553B",
           "#00cc96",
           "#ab63fa",
           "#FFA15A",
           "#19d3f3",
           "#FF6692",
           "#B6E880",
           "#FF97FF",
           "#FECB52"
          ],
          "font": {
           "color": "#2a3f5f"
          },
          "geo": {
           "bgcolor": "white",
           "lakecolor": "white",
           "landcolor": "#E5ECF6",
           "showlakes": true,
           "showland": true,
           "subunitcolor": "white"
          },
          "hoverlabel": {
           "align": "left"
          },
          "hovermode": "closest",
          "mapbox": {
           "style": "light"
          },
          "paper_bgcolor": "white",
          "plot_bgcolor": "#E5ECF6",
          "polar": {
           "angularaxis": {
            "gridcolor": "white",
            "linecolor": "white",
            "ticks": ""
           },
           "bgcolor": "#E5ECF6",
           "radialaxis": {
            "gridcolor": "white",
            "linecolor": "white",
            "ticks": ""
           }
          },
          "scene": {
           "xaxis": {
            "backgroundcolor": "#E5ECF6",
            "gridcolor": "white",
            "gridwidth": 2,
            "linecolor": "white",
            "showbackground": true,
            "ticks": "",
            "zerolinecolor": "white"
           },
           "yaxis": {
            "backgroundcolor": "#E5ECF6",
            "gridcolor": "white",
            "gridwidth": 2,
            "linecolor": "white",
            "showbackground": true,
            "ticks": "",
            "zerolinecolor": "white"
           },
           "zaxis": {
            "backgroundcolor": "#E5ECF6",
            "gridcolor": "white",
            "gridwidth": 2,
            "linecolor": "white",
            "showbackground": true,
            "ticks": "",
            "zerolinecolor": "white"
           }
          },
          "shapedefaults": {
           "line": {
            "color": "#2a3f5f"
           }
          },
          "ternary": {
           "aaxis": {
            "gridcolor": "white",
            "linecolor": "white",
            "ticks": ""
           },
           "baxis": {
            "gridcolor": "white",
            "linecolor": "white",
            "ticks": ""
           },
           "bgcolor": "#E5ECF6",
           "caxis": {
            "gridcolor": "white",
            "linecolor": "white",
            "ticks": ""
           }
          },
          "title": {
           "x": 0.05
          },
          "xaxis": {
           "automargin": true,
           "gridcolor": "white",
           "linecolor": "white",
           "ticks": "",
           "title": {
            "standoff": 15
           },
           "zerolinecolor": "white",
           "zerolinewidth": 2
          },
          "yaxis": {
           "automargin": true,
           "gridcolor": "white",
           "linecolor": "white",
           "ticks": "",
           "title": {
            "standoff": 15
           },
           "zerolinecolor": "white",
           "zerolinewidth": 2
          }
         }
        },
        "xaxis": {
         "anchor": "y",
         "domain": [
          0,
          0.45
         ],
         "title": {
          "text": "X"
         }
        },
        "xaxis2": {
         "anchor": "y2",
         "domain": [
          0.55,
          1
         ]
        },
        "yaxis": {
         "anchor": "x",
         "domain": [
          0,
          1
         ],
         "range": [
          0,
          10
         ],
         "title": {
          "text": "Y"
         }
        },
        "yaxis2": {
         "anchor": "x2",
         "domain": [
          0,
          1
         ],
         "title": {
          "text": "RMSE"
         }
        }
       }
      },
      "text/html": [
       "<div>                            <div id=\"f834b0a2-d840-4bf5-ad6b-87fa02f4d6ac\" class=\"plotly-graph-div\" style=\"height:525px; width:100%;\"></div>            <script type=\"text/javascript\">                require([\"plotly\"], function(Plotly) {                    window.PLOTLYENV=window.PLOTLYENV || {};                                    if (document.getElementById(\"f834b0a2-d840-4bf5-ad6b-87fa02f4d6ac\")) {                    Plotly.newPlot(                        \"f834b0a2-d840-4bf5-ad6b-87fa02f4d6ac\",                        [{\"marker\":{\"color\":\"#636EFA\"},\"mode\":\"markers\",\"name\":\"data\",\"x\":[-2.6475819924330954,-2.0515469334036016,-1.8106646981606496,-1.312076282905776,-0.7895905078629929,-0.6609638446178359,0.8061481540360957,1.054879683024077],\"y\":[9.14045169318176,5.336237325257329,7.195181491514598,6.095357781703495,0.7219468779966638,2.177008172349038,4.367994079777328,5.852681713200849],\"type\":\"scatter\",\"xaxis\":\"x\",\"yaxis\":\"y\"},{\"marker\":{\"color\":\"#00CC96\"},\"name\":\"Linear in X\",\"x\":[-3.0,-2.9555555555555557,-2.911111111111111,-2.8666666666666667,-2.8222222222222224,-2.7777777777777777,-2.7333333333333334,-2.688888888888889,-2.6444444444444444,-2.6,-2.5555555555555554,-2.511111111111111,-2.466666666666667,-2.422222222222222,-2.3777777777777778,-2.333333333333333,-2.2888888888888888,-2.2444444444444445,-2.2,-2.1555555555555554,-2.111111111111111,-2.0666666666666664,-2.022222222222222,-1.9777777777777776,-1.9333333333333333,-1.8888888888888888,-1.8444444444444443,-1.8,-1.7555555555555555,-1.711111111111111,-1.6666666666666665,-1.6222222222222222,-1.5777777777777777,-1.5333333333333332,-1.488888888888889,-1.4444444444444444,-1.4,-1.3555555555555554,-1.3111111111111111,-1.2666666666666666,-1.222222222222222,-1.1777777777777778,-1.1333333333333333,-1.0888888888888888,-1.0444444444444443,-1.0,-0.9555555555555553,-0.911111111111111,-0.8666666666666667,-0.822222222222222,-0.7777777777777777,-0.7333333333333334,-0.6888888888888887,-0.6444444444444444,-0.6000000000000001,-0.5555555555555554,-0.5111111111111111,-0.4666666666666668,-0.42222222222222205,-0.37777777777777777,-0.33333333333333304,-0.28888888888888875,-0.24444444444444446,-0.19999999999999973,-0.15555555555555545,-0.11111111111111116,-0.06666666666666643,-0.022222222222222143,0.022222222222222143,0.06666666666666687,0.11111111111111116,0.1555555555555559,0.20000000000000018,0.24444444444444446,0.2888888888888892,0.3333333333333335,0.37777777777777777,0.4222222222222225,0.4666666666666668,0.5111111111111111,0.5555555555555558,0.6000000000000001,0.6444444444444444,0.6888888888888891,0.7333333333333334,0.7777777777777781,0.8222222222222224,0.8666666666666667,0.9111111111111114,0.9555555555555557,1.0,1.0444444444444443,1.0888888888888895,1.1333333333333337,1.177777777777778,1.2222222222222223,1.2666666666666666,1.311111111111111,1.355555555555556,1.4],\"y\":[6.917571409286772,6.878846799154056,6.840122189021339,6.801397578888623,6.762672968755907,6.72394835862319,6.685223748490474,6.646499138357758,6.6077745282250415,6.569049918092325,6.530325307959609,6.491600697826893,6.452876087694177,6.41415147756146,6.375426867428744,6.336702257296028,6.297977647163312,6.259253037030596,6.2205284268978795,6.1818038167651626,6.143079206632446,6.10435459649973,6.065629986367014,6.026905376234298,5.988180766101582,5.949456155968865,5.910731545836149,5.872006935703433,5.833282325570717,5.794557715438,5.755833105305284,5.7171084951725675,5.678383885039851,5.639659274907135,5.600934664774419,5.562210054641703,5.523485444508986,5.48476083437627,5.446036224243554,5.407311614110838,5.368587003978121,5.329862393845405,5.2911377837126885,5.252413173579972,5.213688563447256,5.17496395331454,5.136239343181823,5.097514733049107,5.058790122916391,5.020065512783675,4.981340902650959,4.942616292518243,4.903891682385526,4.8651670722528095,4.826442462120093,4.787717851987377,4.748993241854661,4.710268631721945,4.671544021589229,4.632819411456512,4.594094801323796,4.55537019119108,4.516645581058364,4.477920970925647,4.439196360792931,4.4004717506602145,4.361747140527498,4.323022530394782,4.284297920262066,4.24557331012935,4.206848699996634,4.168124089863917,4.129399479731201,4.090674869598485,4.051950259465769,4.0132256493330525,3.974501039200336,3.9357764290676194,3.8970518189349033,3.858327208802187,3.8196025986694706,3.7808779885367545,3.7421533784040384,3.703428768271322,3.6647041581386057,3.625979548005889,3.587254937873173,3.548530327740457,3.5098057176077404,3.4710811074750243,3.432356497342308,3.393631887209592,3.354907277076875,3.316182666944159,3.277458056811443,3.2387334466787268,3.2000088365460106,3.1612842264132945,3.1225596162805775,3.0838350061478623],\"type\":\"scatter\",\"xaxis\":\"x\",\"yaxis\":\"y\"},{\"marker\":{\"color\":\"#AB63FA\"},\"name\":\"Quadratic\",\"x\":[-3.0,-2.9555555555555557,-2.911111111111111,-2.8666666666666667,-2.8222222222222224,-2.7777777777777777,-2.7333333333333334,-2.688888888888889,-2.6444444444444444,-2.6,-2.5555555555555554,-2.511111111111111,-2.466666666666667,-2.422222222222222,-2.3777777777777778,-2.333333333333333,-2.2888888888888888,-2.2444444444444445,-2.2,-2.1555555555555554,-2.111111111111111,-2.0666666666666664,-2.022222222222222,-1.9777777777777776,-1.9333333333333333,-1.8888888888888888,-1.8444444444444443,-1.8,-1.7555555555555555,-1.711111111111111,-1.6666666666666665,-1.6222222222222222,-1.5777777777777777,-1.5333333333333332,-1.488888888888889,-1.4444444444444444,-1.4,-1.3555555555555554,-1.3111111111111111,-1.2666666666666666,-1.222222222222222,-1.1777777777777778,-1.1333333333333333,-1.0888888888888888,-1.0444444444444443,-1.0,-0.9555555555555553,-0.911111111111111,-0.8666666666666667,-0.822222222222222,-0.7777777777777777,-0.7333333333333334,-0.6888888888888887,-0.6444444444444444,-0.6000000000000001,-0.5555555555555554,-0.5111111111111111,-0.4666666666666668,-0.42222222222222205,-0.37777777777777777,-0.33333333333333304,-0.28888888888888875,-0.24444444444444446,-0.19999999999999973,-0.15555555555555545,-0.11111111111111116,-0.06666666666666643,-0.022222222222222143,0.022222222222222143,0.06666666666666687,0.11111111111111116,0.1555555555555559,0.20000000000000018,0.24444444444444446,0.2888888888888892,0.3333333333333335,0.37777777777777777,0.4222222222222225,0.4666666666666668,0.5111111111111111,0.5555555555555558,0.6000000000000001,0.6444444444444444,0.6888888888888891,0.7333333333333334,0.7777777777777781,0.8222222222222224,0.8666666666666667,0.9111111111111114,0.9555555555555557,1.0,1.0444444444444443,1.0888888888888895,1.1333333333333337,1.177777777777778,1.2222222222222223,1.2666666666666666,1.311111111111111,1.355555555555556,1.4],\"y\":[12.036180361231835,11.720270179273705,11.409747663988355,11.104612815375805,10.804865633436041,10.510506118169065,10.221534269574882,9.93795008765349,9.659753572404885,9.386944723829073,9.119523541926048,8.857490026695817,8.600844178138374,8.349585996253719,8.103715481041856,7.863232632502782,7.6281374506365,7.398429935443008,7.174110086922306,6.955177905074391,6.7416333898992695,6.533476541396936,6.330707359567394,6.133325844410642,5.94133199592668,5.754725814115507,5.573507298977124,5.397676450511533,5.227233268718731,5.062177753598718,4.902509905151495,4.748229723377064,4.599337208275422,4.45583235984657,4.317715178090508,4.184985663007237,4.057643814596755,3.935689632859063,3.8191231177941622,3.7079442694020504,3.602153087682729,3.501749572636198,3.4067337242624562,3.317105542561505,3.232865027533344,3.1540121791779727,3.0805469974953916,3.012469482485601,2.9497796341486,2.892477452484389,2.840562937492968,2.794036089174338,2.7528969075284966,2.7171453925554463,2.6867815442551857,2.661805362627715,2.6422168476730348,2.6280159993911445,2.6192028177820443,2.615777302845734,2.617739454582214,2.6250892729914836,2.637826758073544,2.655951909828394,2.679464728256034,2.708365213356464,2.7426533651296845,2.7823291835756945,2.8273926686944946,2.8778438204860857,2.933682638950466,2.994909124087637,3.061523275897597,3.1335250943803477,3.210914579535889,3.2936917313642193,3.38185654986534,3.4754090350392515,3.574349186885952,3.6786770054054427,3.788392490597724,3.9034956424627953,4.023986461000656,4.149864946211308,4.281131098094749,4.417784916650982,4.559826401880002,4.707255553781813,4.860072372356416,5.018276857603807,5.1818690095239885,5.350848828116959,5.525216313382725,5.704971465321275,5.890114283932617,6.0806447692167485,6.27656292117367,6.477868739803381,6.684562225105887,6.896643377081176],\"type\":\"scatter\",\"xaxis\":\"x\",\"yaxis\":\"y\"},{\"marker\":{\"color\":\"#636EFA\"},\"showlegend\":false,\"x\":[\"Linear in X\",\"Quadratic\"],\"y\":[2.272965710209297,1.3646273702703906],\"type\":\"bar\",\"xaxis\":\"x2\",\"yaxis\":\"y2\"}],                        {\"template\":{\"data\":{\"bar\":[{\"error_x\":{\"color\":\"#2a3f5f\"},\"error_y\":{\"color\":\"#2a3f5f\"},\"marker\":{\"line\":{\"color\":\"#E5ECF6\",\"width\":0.5},\"pattern\":{\"fillmode\":\"overlay\",\"size\":10,\"solidity\":0.2}},\"type\":\"bar\"}],\"barpolar\":[{\"marker\":{\"line\":{\"color\":\"#E5ECF6\",\"width\":0.5},\"pattern\":{\"fillmode\":\"overlay\",\"size\":10,\"solidity\":0.2}},\"type\":\"barpolar\"}],\"carpet\":[{\"aaxis\":{\"endlinecolor\":\"#2a3f5f\",\"gridcolor\":\"white\",\"linecolor\":\"white\",\"minorgridcolor\":\"white\",\"startlinecolor\":\"#2a3f5f\"},\"baxis\":{\"endlinecolor\":\"#2a3f5f\",\"gridcolor\":\"white\",\"linecolor\":\"white\",\"minorgridcolor\":\"white\",\"startlinecolor\":\"#2a3f5f\"},\"type\":\"carpet\"}],\"choropleth\":[{\"colorbar\":{\"outlinewidth\":0,\"ticks\":\"\"},\"type\":\"choropleth\"}],\"contour\":[{\"colorbar\":{\"outlinewidth\":0,\"ticks\":\"\"},\"colorscale\":[[0.0,\"#0d0887\"],[0.1111111111111111,\"#46039f\"],[0.2222222222222222,\"#7201a8\"],[0.3333333333333333,\"#9c179e\"],[0.4444444444444444,\"#bd3786\"],[0.5555555555555556,\"#d8576b\"],[0.6666666666666666,\"#ed7953\"],[0.7777777777777778,\"#fb9f3a\"],[0.8888888888888888,\"#fdca26\"],[1.0,\"#f0f921\"]],\"type\":\"contour\"}],\"contourcarpet\":[{\"colorbar\":{\"outlinewidth\":0,\"ticks\":\"\"},\"type\":\"contourcarpet\"}],\"heatmap\":[{\"colorbar\":{\"outlinewidth\":0,\"ticks\":\"\"},\"colorscale\":[[0.0,\"#0d0887\"],[0.1111111111111111,\"#46039f\"],[0.2222222222222222,\"#7201a8\"],[0.3333333333333333,\"#9c179e\"],[0.4444444444444444,\"#bd3786\"],[0.5555555555555556,\"#d8576b\"],[0.6666666666666666,\"#ed7953\"],[0.7777777777777778,\"#fb9f3a\"],[0.8888888888888888,\"#fdca26\"],[1.0,\"#f0f921\"]],\"type\":\"heatmap\"}],\"heatmapgl\":[{\"colorbar\":{\"outlinewidth\":0,\"ticks\":\"\"},\"colorscale\":[[0.0,\"#0d0887\"],[0.1111111111111111,\"#46039f\"],[0.2222222222222222,\"#7201a8\"],[0.3333333333333333,\"#9c179e\"],[0.4444444444444444,\"#bd3786\"],[0.5555555555555556,\"#d8576b\"],[0.6666666666666666,\"#ed7953\"],[0.7777777777777778,\"#fb9f3a\"],[0.8888888888888888,\"#fdca26\"],[1.0,\"#f0f921\"]],\"type\":\"heatmapgl\"}],\"histogram\":[{\"marker\":{\"pattern\":{\"fillmode\":\"overlay\",\"size\":10,\"solidity\":0.2}},\"type\":\"histogram\"}],\"histogram2d\":[{\"colorbar\":{\"outlinewidth\":0,\"ticks\":\"\"},\"colorscale\":[[0.0,\"#0d0887\"],[0.1111111111111111,\"#46039f\"],[0.2222222222222222,\"#7201a8\"],[0.3333333333333333,\"#9c179e\"],[0.4444444444444444,\"#bd3786\"],[0.5555555555555556,\"#d8576b\"],[0.6666666666666666,\"#ed7953\"],[0.7777777777777778,\"#fb9f3a\"],[0.8888888888888888,\"#fdca26\"],[1.0,\"#f0f921\"]],\"type\":\"histogram2d\"}],\"histogram2dcontour\":[{\"colorbar\":{\"outlinewidth\":0,\"ticks\":\"\"},\"colorscale\":[[0.0,\"#0d0887\"],[0.1111111111111111,\"#46039f\"],[0.2222222222222222,\"#7201a8\"],[0.3333333333333333,\"#9c179e\"],[0.4444444444444444,\"#bd3786\"],[0.5555555555555556,\"#d8576b\"],[0.6666666666666666,\"#ed7953\"],[0.7777777777777778,\"#fb9f3a\"],[0.8888888888888888,\"#fdca26\"],[1.0,\"#f0f921\"]],\"type\":\"histogram2dcontour\"}],\"mesh3d\":[{\"colorbar\":{\"outlinewidth\":0,\"ticks\":\"\"},\"type\":\"mesh3d\"}],\"parcoords\":[{\"line\":{\"colorbar\":{\"outlinewidth\":0,\"ticks\":\"\"}},\"type\":\"parcoords\"}],\"pie\":[{\"automargin\":true,\"type\":\"pie\"}],\"scatter\":[{\"marker\":{\"colorbar\":{\"outlinewidth\":0,\"ticks\":\"\"}},\"type\":\"scatter\"}],\"scatter3d\":[{\"line\":{\"colorbar\":{\"outlinewidth\":0,\"ticks\":\"\"}},\"marker\":{\"colorbar\":{\"outlinewidth\":0,\"ticks\":\"\"}},\"type\":\"scatter3d\"}],\"scattercarpet\":[{\"marker\":{\"colorbar\":{\"outlinewidth\":0,\"ticks\":\"\"}},\"type\":\"scattercarpet\"}],\"scattergeo\":[{\"marker\":{\"colorbar\":{\"outlinewidth\":0,\"ticks\":\"\"}},\"type\":\"scattergeo\"}],\"scattergl\":[{\"marker\":{\"colorbar\":{\"outlinewidth\":0,\"ticks\":\"\"}},\"type\":\"scattergl\"}],\"scattermapbox\":[{\"marker\":{\"colorbar\":{\"outlinewidth\":0,\"ticks\":\"\"}},\"type\":\"scattermapbox\"}],\"scatterpolar\":[{\"marker\":{\"colorbar\":{\"outlinewidth\":0,\"ticks\":\"\"}},\"type\":\"scatterpolar\"}],\"scatterpolargl\":[{\"marker\":{\"colorbar\":{\"outlinewidth\":0,\"ticks\":\"\"}},\"type\":\"scatterpolargl\"}],\"scatterternary\":[{\"marker\":{\"colorbar\":{\"outlinewidth\":0,\"ticks\":\"\"}},\"type\":\"scatterternary\"}],\"surface\":[{\"colorbar\":{\"outlinewidth\":0,\"ticks\":\"\"},\"colorscale\":[[0.0,\"#0d0887\"],[0.1111111111111111,\"#46039f\"],[0.2222222222222222,\"#7201a8\"],[0.3333333333333333,\"#9c179e\"],[0.4444444444444444,\"#bd3786\"],[0.5555555555555556,\"#d8576b\"],[0.6666666666666666,\"#ed7953\"],[0.7777777777777778,\"#fb9f3a\"],[0.8888888888888888,\"#fdca26\"],[1.0,\"#f0f921\"]],\"type\":\"surface\"}],\"table\":[{\"cells\":{\"fill\":{\"color\":\"#EBF0F8\"},\"line\":{\"color\":\"white\"}},\"header\":{\"fill\":{\"color\":\"#C8D4E3\"},\"line\":{\"color\":\"white\"}},\"type\":\"table\"}]},\"layout\":{\"annotationdefaults\":{\"arrowcolor\":\"#2a3f5f\",\"arrowhead\":0,\"arrowwidth\":1},\"autotypenumbers\":\"strict\",\"coloraxis\":{\"colorbar\":{\"outlinewidth\":0,\"ticks\":\"\"}},\"colorscale\":{\"diverging\":[[0,\"#8e0152\"],[0.1,\"#c51b7d\"],[0.2,\"#de77ae\"],[0.3,\"#f1b6da\"],[0.4,\"#fde0ef\"],[0.5,\"#f7f7f7\"],[0.6,\"#e6f5d0\"],[0.7,\"#b8e186\"],[0.8,\"#7fbc41\"],[0.9,\"#4d9221\"],[1,\"#276419\"]],\"sequential\":[[0.0,\"#0d0887\"],[0.1111111111111111,\"#46039f\"],[0.2222222222222222,\"#7201a8\"],[0.3333333333333333,\"#9c179e\"],[0.4444444444444444,\"#bd3786\"],[0.5555555555555556,\"#d8576b\"],[0.6666666666666666,\"#ed7953\"],[0.7777777777777778,\"#fb9f3a\"],[0.8888888888888888,\"#fdca26\"],[1.0,\"#f0f921\"]],\"sequentialminus\":[[0.0,\"#0d0887\"],[0.1111111111111111,\"#46039f\"],[0.2222222222222222,\"#7201a8\"],[0.3333333333333333,\"#9c179e\"],[0.4444444444444444,\"#bd3786\"],[0.5555555555555556,\"#d8576b\"],[0.6666666666666666,\"#ed7953\"],[0.7777777777777778,\"#fb9f3a\"],[0.8888888888888888,\"#fdca26\"],[1.0,\"#f0f921\"]]},\"colorway\":[\"#636efa\",\"#EF553B\",\"#00cc96\",\"#ab63fa\",\"#FFA15A\",\"#19d3f3\",\"#FF6692\",\"#B6E880\",\"#FF97FF\",\"#FECB52\"],\"font\":{\"color\":\"#2a3f5f\"},\"geo\":{\"bgcolor\":\"white\",\"lakecolor\":\"white\",\"landcolor\":\"#E5ECF6\",\"showlakes\":true,\"showland\":true,\"subunitcolor\":\"white\"},\"hoverlabel\":{\"align\":\"left\"},\"hovermode\":\"closest\",\"mapbox\":{\"style\":\"light\"},\"paper_bgcolor\":\"white\",\"plot_bgcolor\":\"#E5ECF6\",\"polar\":{\"angularaxis\":{\"gridcolor\":\"white\",\"linecolor\":\"white\",\"ticks\":\"\"},\"bgcolor\":\"#E5ECF6\",\"radialaxis\":{\"gridcolor\":\"white\",\"linecolor\":\"white\",\"ticks\":\"\"}},\"scene\":{\"xaxis\":{\"backgroundcolor\":\"#E5ECF6\",\"gridcolor\":\"white\",\"gridwidth\":2,\"linecolor\":\"white\",\"showbackground\":true,\"ticks\":\"\",\"zerolinecolor\":\"white\"},\"yaxis\":{\"backgroundcolor\":\"#E5ECF6\",\"gridcolor\":\"white\",\"gridwidth\":2,\"linecolor\":\"white\",\"showbackground\":true,\"ticks\":\"\",\"zerolinecolor\":\"white\"},\"zaxis\":{\"backgroundcolor\":\"#E5ECF6\",\"gridcolor\":\"white\",\"gridwidth\":2,\"linecolor\":\"white\",\"showbackground\":true,\"ticks\":\"\",\"zerolinecolor\":\"white\"}},\"shapedefaults\":{\"line\":{\"color\":\"#2a3f5f\"}},\"ternary\":{\"aaxis\":{\"gridcolor\":\"white\",\"linecolor\":\"white\",\"ticks\":\"\"},\"baxis\":{\"gridcolor\":\"white\",\"linecolor\":\"white\",\"ticks\":\"\"},\"bgcolor\":\"#E5ECF6\",\"caxis\":{\"gridcolor\":\"white\",\"linecolor\":\"white\",\"ticks\":\"\"}},\"title\":{\"x\":0.05},\"xaxis\":{\"automargin\":true,\"gridcolor\":\"white\",\"linecolor\":\"white\",\"ticks\":\"\",\"title\":{\"standoff\":15},\"zerolinecolor\":\"white\",\"zerolinewidth\":2},\"yaxis\":{\"automargin\":true,\"gridcolor\":\"white\",\"linecolor\":\"white\",\"ticks\":\"\",\"title\":{\"standoff\":15},\"zerolinecolor\":\"white\",\"zerolinewidth\":2}}},\"xaxis\":{\"anchor\":\"y\",\"domain\":[0.0,0.45],\"title\":{\"text\":\"X\"}},\"yaxis\":{\"anchor\":\"x\",\"domain\":[0.0,1.0],\"title\":{\"text\":\"Y\"},\"range\":[0,10]},\"xaxis2\":{\"anchor\":\"y2\",\"domain\":[0.55,1.0]},\"yaxis2\":{\"anchor\":\"x2\",\"domain\":[0.0,1.0],\"title\":{\"text\":\"RMSE\"}}},                        {\"responsive\": true}                    ).then(function(){\n",
       "                            \n",
       "var gd = document.getElementById('f834b0a2-d840-4bf5-ad6b-87fa02f4d6ac');\n",
       "var x = new MutationObserver(function (mutations, observer) {{\n",
       "        var display = window.getComputedStyle(gd).display;\n",
       "        if (!display || display === 'none') {{\n",
       "            console.log([gd, 'removed!']);\n",
       "            Plotly.purge(gd);\n",
       "            observer.disconnect();\n",
       "        }}\n",
       "}});\n",
       "\n",
       "// Listen for the removal of the full notebook cells\n",
       "var notebookContainer = gd.closest('#notebook-container');\n",
       "if (notebookContainer) {{\n",
       "    x.observe(notebookContainer, {childList: true});\n",
       "}}\n",
       "\n",
       "// Listen for the clearing of the current output cell\n",
       "var outputEl = gd.closest('.output');\n",
       "if (outputEl) {{\n",
       "    x.observe(outputEl, {childList: true});\n",
       "}}\n",
       "\n",
       "                        })                };                });            </script>        </div>"
      ]
     },
     "metadata": {},
     "output_type": "display_data"
    }
   ],
   "source": [
    "model = LinearRegression()\n",
    "model.fit(phi_polynomials(data[[\"X\"]].to_numpy(), p=2), data[[\"Y\"]])\n",
    "evaluate_model(\"Quadratic\", model, lambda x: phi_polynomials(x, p=2), models)"
   ]
  },
  {
   "cell_type": "code",
   "execution_count": 15,
   "metadata": {},
   "outputs": [
    {
     "name": "stdout",
     "output_type": "stream",
     "text": [
      "Root Mean Squared Error: 1.1528916542943797\n"
     ]
    },
    {
     "data": {
      "application/vnd.plotly.v1+json": {
       "config": {
        "plotlyServerURL": "https://plot.ly"
       },
       "data": [
        {
         "marker": {
          "color": "#636EFA"
         },
         "mode": "markers",
         "name": "data",
         "type": "scatter",
         "x": [
          -2.6475819924330954,
          -2.0515469334036016,
          -1.8106646981606496,
          -1.312076282905776,
          -0.7895905078629929,
          -0.6609638446178359,
          0.8061481540360957,
          1.054879683024077
         ],
         "xaxis": "x",
         "y": [
          9.14045169318176,
          5.336237325257329,
          7.195181491514598,
          6.095357781703495,
          0.7219468779966638,
          2.177008172349038,
          4.367994079777328,
          5.852681713200849
         ],
         "yaxis": "y"
        },
        {
         "marker": {
          "color": "#00CC96"
         },
         "name": "Linear in X",
         "type": "scatter",
         "x": [
          -3,
          -2.9555555555555557,
          -2.911111111111111,
          -2.8666666666666667,
          -2.8222222222222224,
          -2.7777777777777777,
          -2.7333333333333334,
          -2.688888888888889,
          -2.6444444444444444,
          -2.6,
          -2.5555555555555554,
          -2.511111111111111,
          -2.466666666666667,
          -2.422222222222222,
          -2.3777777777777778,
          -2.333333333333333,
          -2.2888888888888888,
          -2.2444444444444445,
          -2.2,
          -2.1555555555555554,
          -2.111111111111111,
          -2.0666666666666664,
          -2.022222222222222,
          -1.9777777777777776,
          -1.9333333333333333,
          -1.8888888888888888,
          -1.8444444444444443,
          -1.8,
          -1.7555555555555555,
          -1.711111111111111,
          -1.6666666666666665,
          -1.6222222222222222,
          -1.5777777777777777,
          -1.5333333333333332,
          -1.488888888888889,
          -1.4444444444444444,
          -1.4,
          -1.3555555555555554,
          -1.3111111111111111,
          -1.2666666666666666,
          -1.222222222222222,
          -1.1777777777777778,
          -1.1333333333333333,
          -1.0888888888888888,
          -1.0444444444444443,
          -1,
          -0.9555555555555553,
          -0.911111111111111,
          -0.8666666666666667,
          -0.822222222222222,
          -0.7777777777777777,
          -0.7333333333333334,
          -0.6888888888888887,
          -0.6444444444444444,
          -0.6000000000000001,
          -0.5555555555555554,
          -0.5111111111111111,
          -0.4666666666666668,
          -0.42222222222222205,
          -0.37777777777777777,
          -0.33333333333333304,
          -0.28888888888888875,
          -0.24444444444444446,
          -0.19999999999999973,
          -0.15555555555555545,
          -0.11111111111111116,
          -0.06666666666666643,
          -0.022222222222222143,
          0.022222222222222143,
          0.06666666666666687,
          0.11111111111111116,
          0.1555555555555559,
          0.20000000000000018,
          0.24444444444444446,
          0.2888888888888892,
          0.3333333333333335,
          0.37777777777777777,
          0.4222222222222225,
          0.4666666666666668,
          0.5111111111111111,
          0.5555555555555558,
          0.6000000000000001,
          0.6444444444444444,
          0.6888888888888891,
          0.7333333333333334,
          0.7777777777777781,
          0.8222222222222224,
          0.8666666666666667,
          0.9111111111111114,
          0.9555555555555557,
          1,
          1.0444444444444443,
          1.0888888888888895,
          1.1333333333333337,
          1.177777777777778,
          1.2222222222222223,
          1.2666666666666666,
          1.311111111111111,
          1.355555555555556,
          1.4
         ],
         "xaxis": "x",
         "y": [
          6.917571409286772,
          6.878846799154056,
          6.840122189021339,
          6.801397578888623,
          6.762672968755907,
          6.72394835862319,
          6.685223748490474,
          6.646499138357758,
          6.6077745282250415,
          6.569049918092325,
          6.530325307959609,
          6.491600697826893,
          6.452876087694177,
          6.41415147756146,
          6.375426867428744,
          6.336702257296028,
          6.297977647163312,
          6.259253037030596,
          6.2205284268978795,
          6.1818038167651626,
          6.143079206632446,
          6.10435459649973,
          6.065629986367014,
          6.026905376234298,
          5.988180766101582,
          5.949456155968865,
          5.910731545836149,
          5.872006935703433,
          5.833282325570717,
          5.794557715438,
          5.755833105305284,
          5.7171084951725675,
          5.678383885039851,
          5.639659274907135,
          5.600934664774419,
          5.562210054641703,
          5.523485444508986,
          5.48476083437627,
          5.446036224243554,
          5.407311614110838,
          5.368587003978121,
          5.329862393845405,
          5.2911377837126885,
          5.252413173579972,
          5.213688563447256,
          5.17496395331454,
          5.136239343181823,
          5.097514733049107,
          5.058790122916391,
          5.020065512783675,
          4.981340902650959,
          4.942616292518243,
          4.903891682385526,
          4.8651670722528095,
          4.826442462120093,
          4.787717851987377,
          4.748993241854661,
          4.710268631721945,
          4.671544021589229,
          4.632819411456512,
          4.594094801323796,
          4.55537019119108,
          4.516645581058364,
          4.477920970925647,
          4.439196360792931,
          4.4004717506602145,
          4.361747140527498,
          4.323022530394782,
          4.284297920262066,
          4.24557331012935,
          4.206848699996634,
          4.168124089863917,
          4.129399479731201,
          4.090674869598485,
          4.051950259465769,
          4.0132256493330525,
          3.974501039200336,
          3.9357764290676194,
          3.8970518189349033,
          3.858327208802187,
          3.8196025986694706,
          3.7808779885367545,
          3.7421533784040384,
          3.703428768271322,
          3.6647041581386057,
          3.625979548005889,
          3.587254937873173,
          3.548530327740457,
          3.5098057176077404,
          3.4710811074750243,
          3.432356497342308,
          3.393631887209592,
          3.354907277076875,
          3.316182666944159,
          3.277458056811443,
          3.2387334466787268,
          3.2000088365460106,
          3.1612842264132945,
          3.1225596162805775,
          3.0838350061478623
         ],
         "yaxis": "y"
        },
        {
         "marker": {
          "color": "#AB63FA"
         },
         "name": "Quadratic",
         "type": "scatter",
         "x": [
          -3,
          -2.9555555555555557,
          -2.911111111111111,
          -2.8666666666666667,
          -2.8222222222222224,
          -2.7777777777777777,
          -2.7333333333333334,
          -2.688888888888889,
          -2.6444444444444444,
          -2.6,
          -2.5555555555555554,
          -2.511111111111111,
          -2.466666666666667,
          -2.422222222222222,
          -2.3777777777777778,
          -2.333333333333333,
          -2.2888888888888888,
          -2.2444444444444445,
          -2.2,
          -2.1555555555555554,
          -2.111111111111111,
          -2.0666666666666664,
          -2.022222222222222,
          -1.9777777777777776,
          -1.9333333333333333,
          -1.8888888888888888,
          -1.8444444444444443,
          -1.8,
          -1.7555555555555555,
          -1.711111111111111,
          -1.6666666666666665,
          -1.6222222222222222,
          -1.5777777777777777,
          -1.5333333333333332,
          -1.488888888888889,
          -1.4444444444444444,
          -1.4,
          -1.3555555555555554,
          -1.3111111111111111,
          -1.2666666666666666,
          -1.222222222222222,
          -1.1777777777777778,
          -1.1333333333333333,
          -1.0888888888888888,
          -1.0444444444444443,
          -1,
          -0.9555555555555553,
          -0.911111111111111,
          -0.8666666666666667,
          -0.822222222222222,
          -0.7777777777777777,
          -0.7333333333333334,
          -0.6888888888888887,
          -0.6444444444444444,
          -0.6000000000000001,
          -0.5555555555555554,
          -0.5111111111111111,
          -0.4666666666666668,
          -0.42222222222222205,
          -0.37777777777777777,
          -0.33333333333333304,
          -0.28888888888888875,
          -0.24444444444444446,
          -0.19999999999999973,
          -0.15555555555555545,
          -0.11111111111111116,
          -0.06666666666666643,
          -0.022222222222222143,
          0.022222222222222143,
          0.06666666666666687,
          0.11111111111111116,
          0.1555555555555559,
          0.20000000000000018,
          0.24444444444444446,
          0.2888888888888892,
          0.3333333333333335,
          0.37777777777777777,
          0.4222222222222225,
          0.4666666666666668,
          0.5111111111111111,
          0.5555555555555558,
          0.6000000000000001,
          0.6444444444444444,
          0.6888888888888891,
          0.7333333333333334,
          0.7777777777777781,
          0.8222222222222224,
          0.8666666666666667,
          0.9111111111111114,
          0.9555555555555557,
          1,
          1.0444444444444443,
          1.0888888888888895,
          1.1333333333333337,
          1.177777777777778,
          1.2222222222222223,
          1.2666666666666666,
          1.311111111111111,
          1.355555555555556,
          1.4
         ],
         "xaxis": "x",
         "y": [
          12.036180361231835,
          11.720270179273705,
          11.409747663988355,
          11.104612815375805,
          10.804865633436041,
          10.510506118169065,
          10.221534269574882,
          9.93795008765349,
          9.659753572404885,
          9.386944723829073,
          9.119523541926048,
          8.857490026695817,
          8.600844178138374,
          8.349585996253719,
          8.103715481041856,
          7.863232632502782,
          7.6281374506365,
          7.398429935443008,
          7.174110086922306,
          6.955177905074391,
          6.7416333898992695,
          6.533476541396936,
          6.330707359567394,
          6.133325844410642,
          5.94133199592668,
          5.754725814115507,
          5.573507298977124,
          5.397676450511533,
          5.227233268718731,
          5.062177753598718,
          4.902509905151495,
          4.748229723377064,
          4.599337208275422,
          4.45583235984657,
          4.317715178090508,
          4.184985663007237,
          4.057643814596755,
          3.935689632859063,
          3.8191231177941622,
          3.7079442694020504,
          3.602153087682729,
          3.501749572636198,
          3.4067337242624562,
          3.317105542561505,
          3.232865027533344,
          3.1540121791779727,
          3.0805469974953916,
          3.012469482485601,
          2.9497796341486,
          2.892477452484389,
          2.840562937492968,
          2.794036089174338,
          2.7528969075284966,
          2.7171453925554463,
          2.6867815442551857,
          2.661805362627715,
          2.6422168476730348,
          2.6280159993911445,
          2.6192028177820443,
          2.615777302845734,
          2.617739454582214,
          2.6250892729914836,
          2.637826758073544,
          2.655951909828394,
          2.679464728256034,
          2.708365213356464,
          2.7426533651296845,
          2.7823291835756945,
          2.8273926686944946,
          2.8778438204860857,
          2.933682638950466,
          2.994909124087637,
          3.061523275897597,
          3.1335250943803477,
          3.210914579535889,
          3.2936917313642193,
          3.38185654986534,
          3.4754090350392515,
          3.574349186885952,
          3.6786770054054427,
          3.788392490597724,
          3.9034956424627953,
          4.023986461000656,
          4.149864946211308,
          4.281131098094749,
          4.417784916650982,
          4.559826401880002,
          4.707255553781813,
          4.860072372356416,
          5.018276857603807,
          5.1818690095239885,
          5.350848828116959,
          5.525216313382725,
          5.704971465321275,
          5.890114283932617,
          6.0806447692167485,
          6.27656292117367,
          6.477868739803381,
          6.684562225105887,
          6.896643377081176
         ],
         "yaxis": "y"
        },
        {
         "marker": {
          "color": "#FFA15A"
         },
         "name": "Cubic",
         "type": "scatter",
         "x": [
          -3,
          -2.9555555555555557,
          -2.911111111111111,
          -2.8666666666666667,
          -2.8222222222222224,
          -2.7777777777777777,
          -2.7333333333333334,
          -2.688888888888889,
          -2.6444444444444444,
          -2.6,
          -2.5555555555555554,
          -2.511111111111111,
          -2.466666666666667,
          -2.422222222222222,
          -2.3777777777777778,
          -2.333333333333333,
          -2.2888888888888888,
          -2.2444444444444445,
          -2.2,
          -2.1555555555555554,
          -2.111111111111111,
          -2.0666666666666664,
          -2.022222222222222,
          -1.9777777777777776,
          -1.9333333333333333,
          -1.8888888888888888,
          -1.8444444444444443,
          -1.8,
          -1.7555555555555555,
          -1.711111111111111,
          -1.6666666666666665,
          -1.6222222222222222,
          -1.5777777777777777,
          -1.5333333333333332,
          -1.488888888888889,
          -1.4444444444444444,
          -1.4,
          -1.3555555555555554,
          -1.3111111111111111,
          -1.2666666666666666,
          -1.222222222222222,
          -1.1777777777777778,
          -1.1333333333333333,
          -1.0888888888888888,
          -1.0444444444444443,
          -1,
          -0.9555555555555553,
          -0.911111111111111,
          -0.8666666666666667,
          -0.822222222222222,
          -0.7777777777777777,
          -0.7333333333333334,
          -0.6888888888888887,
          -0.6444444444444444,
          -0.6000000000000001,
          -0.5555555555555554,
          -0.5111111111111111,
          -0.4666666666666668,
          -0.42222222222222205,
          -0.37777777777777777,
          -0.33333333333333304,
          -0.28888888888888875,
          -0.24444444444444446,
          -0.19999999999999973,
          -0.15555555555555545,
          -0.11111111111111116,
          -0.06666666666666643,
          -0.022222222222222143,
          0.022222222222222143,
          0.06666666666666687,
          0.11111111111111116,
          0.1555555555555559,
          0.20000000000000018,
          0.24444444444444446,
          0.2888888888888892,
          0.3333333333333335,
          0.37777777777777777,
          0.4222222222222225,
          0.4666666666666668,
          0.5111111111111111,
          0.5555555555555558,
          0.6000000000000001,
          0.6444444444444444,
          0.6888888888888891,
          0.7333333333333334,
          0.7777777777777781,
          0.8222222222222224,
          0.8666666666666667,
          0.9111111111111114,
          0.9555555555555557,
          1,
          1.0444444444444443,
          1.0888888888888895,
          1.1333333333333337,
          1.177777777777778,
          1.2222222222222223,
          1.2666666666666666,
          1.311111111111111,
          1.355555555555556,
          1.4
         ],
         "xaxis": "x",
         "y": [
          8.781827335663941,
          8.814772119120722,
          8.83491853069297,
          8.84265027280875,
          8.838351047896097,
          8.822404558383063,
          8.795194506697705,
          8.757104595268078,
          8.70851852652222,
          8.649820002888193,
          8.581392726794041,
          8.503620400667817,
          8.416886726937573,
          8.321575408031364,
          8.218070146377235,
          8.106754644403233,
          7.988012604537417,
          7.8622277292078415,
          7.729783720842546,
          7.591064281869585,
          7.446453114717016,
          7.296333921812882,
          7.141090405585238,
          6.981106268462135,
          6.816765212871623,
          6.6484509412417525,
          6.476547156000577,
          6.301437559576144,
          6.123505854396506,
          5.943135742889712,
          5.7607109274838155,
          5.576615110606868,
          5.391231994686919,
          5.2049452821520195,
          5.018138675430221,
          4.8311958769495735,
          4.6445005891381275,
          4.458436514423935,
          4.273387355235048,
          4.089736813999516,
          3.9078685931453894,
          3.728166395100722,
          3.551013922293561,
          3.37679487715196,
          3.2058929621039685,
          3.0386918795776388,
          2.875575332001019,
          2.716927021802164,
          2.563130651409123,
          2.414569923249946,
          2.2716285397526854,
          2.134690203345392,
          2.004138616456115,
          1.880357481512907,
          1.7637305009438191,
          1.6546413771769002,
          1.5534738126402043,
          1.4606115097617807,
          1.3764381709696794,
          1.3013374986919533,
          1.2356931953566517,
          1.179888963391827,
          1.1343085052255293,
          1.0993355232858095,
          1.0753537200007188,
          1.0627467977983083,
          1.0618984591066285,
          1.0731924063537306,
          1.0970123419676654,
          1.1337419683764844,
          1.1837649880082377,
          1.2474651032909772,
          1.3252260166527527,
          1.4174314305216158,
          1.5244650473256185,
          1.6467105694928095,
          1.7845516994512407,
          1.938372139628965,
          2.10855559245403,
          2.295485760354488,
          2.499546345758392,
          2.7211210510937898,
          2.9605935787887327,
          3.218347631271276,
          3.494766910969464,
          3.790235120311355,
          4.105135961724992,
          4.43985313763843,
          4.794770350479722,
          5.170271302676915,
          5.566739696658061,
          5.984559234851211,
          6.424113619684427,
          6.8857865535857385,
          7.369961738983209,
          7.877022878304887,
          8.407353673978825,
          8.961337828433074,
          9.539359044095693,
          10.141801023394708
         ],
         "yaxis": "y"
        },
        {
         "marker": {
          "color": "#636EFA"
         },
         "showlegend": false,
         "type": "bar",
         "x": [
          "Linear in X",
          "Quadratic",
          "Cubic"
         ],
         "xaxis": "x2",
         "y": [
          2.272965710209297,
          1.3646273702703906,
          1.1528916542943797
         ],
         "yaxis": "y2"
        }
       ],
       "layout": {
        "template": {
         "data": {
          "bar": [
           {
            "error_x": {
             "color": "#2a3f5f"
            },
            "error_y": {
             "color": "#2a3f5f"
            },
            "marker": {
             "line": {
              "color": "#E5ECF6",
              "width": 0.5
             },
             "pattern": {
              "fillmode": "overlay",
              "size": 10,
              "solidity": 0.2
             }
            },
            "type": "bar"
           }
          ],
          "barpolar": [
           {
            "marker": {
             "line": {
              "color": "#E5ECF6",
              "width": 0.5
             },
             "pattern": {
              "fillmode": "overlay",
              "size": 10,
              "solidity": 0.2
             }
            },
            "type": "barpolar"
           }
          ],
          "carpet": [
           {
            "aaxis": {
             "endlinecolor": "#2a3f5f",
             "gridcolor": "white",
             "linecolor": "white",
             "minorgridcolor": "white",
             "startlinecolor": "#2a3f5f"
            },
            "baxis": {
             "endlinecolor": "#2a3f5f",
             "gridcolor": "white",
             "linecolor": "white",
             "minorgridcolor": "white",
             "startlinecolor": "#2a3f5f"
            },
            "type": "carpet"
           }
          ],
          "choropleth": [
           {
            "colorbar": {
             "outlinewidth": 0,
             "ticks": ""
            },
            "type": "choropleth"
           }
          ],
          "contour": [
           {
            "colorbar": {
             "outlinewidth": 0,
             "ticks": ""
            },
            "colorscale": [
             [
              0,
              "#0d0887"
             ],
             [
              0.1111111111111111,
              "#46039f"
             ],
             [
              0.2222222222222222,
              "#7201a8"
             ],
             [
              0.3333333333333333,
              "#9c179e"
             ],
             [
              0.4444444444444444,
              "#bd3786"
             ],
             [
              0.5555555555555556,
              "#d8576b"
             ],
             [
              0.6666666666666666,
              "#ed7953"
             ],
             [
              0.7777777777777778,
              "#fb9f3a"
             ],
             [
              0.8888888888888888,
              "#fdca26"
             ],
             [
              1,
              "#f0f921"
             ]
            ],
            "type": "contour"
           }
          ],
          "contourcarpet": [
           {
            "colorbar": {
             "outlinewidth": 0,
             "ticks": ""
            },
            "type": "contourcarpet"
           }
          ],
          "heatmap": [
           {
            "colorbar": {
             "outlinewidth": 0,
             "ticks": ""
            },
            "colorscale": [
             [
              0,
              "#0d0887"
             ],
             [
              0.1111111111111111,
              "#46039f"
             ],
             [
              0.2222222222222222,
              "#7201a8"
             ],
             [
              0.3333333333333333,
              "#9c179e"
             ],
             [
              0.4444444444444444,
              "#bd3786"
             ],
             [
              0.5555555555555556,
              "#d8576b"
             ],
             [
              0.6666666666666666,
              "#ed7953"
             ],
             [
              0.7777777777777778,
              "#fb9f3a"
             ],
             [
              0.8888888888888888,
              "#fdca26"
             ],
             [
              1,
              "#f0f921"
             ]
            ],
            "type": "heatmap"
           }
          ],
          "heatmapgl": [
           {
            "colorbar": {
             "outlinewidth": 0,
             "ticks": ""
            },
            "colorscale": [
             [
              0,
              "#0d0887"
             ],
             [
              0.1111111111111111,
              "#46039f"
             ],
             [
              0.2222222222222222,
              "#7201a8"
             ],
             [
              0.3333333333333333,
              "#9c179e"
             ],
             [
              0.4444444444444444,
              "#bd3786"
             ],
             [
              0.5555555555555556,
              "#d8576b"
             ],
             [
              0.6666666666666666,
              "#ed7953"
             ],
             [
              0.7777777777777778,
              "#fb9f3a"
             ],
             [
              0.8888888888888888,
              "#fdca26"
             ],
             [
              1,
              "#f0f921"
             ]
            ],
            "type": "heatmapgl"
           }
          ],
          "histogram": [
           {
            "marker": {
             "pattern": {
              "fillmode": "overlay",
              "size": 10,
              "solidity": 0.2
             }
            },
            "type": "histogram"
           }
          ],
          "histogram2d": [
           {
            "colorbar": {
             "outlinewidth": 0,
             "ticks": ""
            },
            "colorscale": [
             [
              0,
              "#0d0887"
             ],
             [
              0.1111111111111111,
              "#46039f"
             ],
             [
              0.2222222222222222,
              "#7201a8"
             ],
             [
              0.3333333333333333,
              "#9c179e"
             ],
             [
              0.4444444444444444,
              "#bd3786"
             ],
             [
              0.5555555555555556,
              "#d8576b"
             ],
             [
              0.6666666666666666,
              "#ed7953"
             ],
             [
              0.7777777777777778,
              "#fb9f3a"
             ],
             [
              0.8888888888888888,
              "#fdca26"
             ],
             [
              1,
              "#f0f921"
             ]
            ],
            "type": "histogram2d"
           }
          ],
          "histogram2dcontour": [
           {
            "colorbar": {
             "outlinewidth": 0,
             "ticks": ""
            },
            "colorscale": [
             [
              0,
              "#0d0887"
             ],
             [
              0.1111111111111111,
              "#46039f"
             ],
             [
              0.2222222222222222,
              "#7201a8"
             ],
             [
              0.3333333333333333,
              "#9c179e"
             ],
             [
              0.4444444444444444,
              "#bd3786"
             ],
             [
              0.5555555555555556,
              "#d8576b"
             ],
             [
              0.6666666666666666,
              "#ed7953"
             ],
             [
              0.7777777777777778,
              "#fb9f3a"
             ],
             [
              0.8888888888888888,
              "#fdca26"
             ],
             [
              1,
              "#f0f921"
             ]
            ],
            "type": "histogram2dcontour"
           }
          ],
          "mesh3d": [
           {
            "colorbar": {
             "outlinewidth": 0,
             "ticks": ""
            },
            "type": "mesh3d"
           }
          ],
          "parcoords": [
           {
            "line": {
             "colorbar": {
              "outlinewidth": 0,
              "ticks": ""
             }
            },
            "type": "parcoords"
           }
          ],
          "pie": [
           {
            "automargin": true,
            "type": "pie"
           }
          ],
          "scatter": [
           {
            "marker": {
             "colorbar": {
              "outlinewidth": 0,
              "ticks": ""
             }
            },
            "type": "scatter"
           }
          ],
          "scatter3d": [
           {
            "line": {
             "colorbar": {
              "outlinewidth": 0,
              "ticks": ""
             }
            },
            "marker": {
             "colorbar": {
              "outlinewidth": 0,
              "ticks": ""
             }
            },
            "type": "scatter3d"
           }
          ],
          "scattercarpet": [
           {
            "marker": {
             "colorbar": {
              "outlinewidth": 0,
              "ticks": ""
             }
            },
            "type": "scattercarpet"
           }
          ],
          "scattergeo": [
           {
            "marker": {
             "colorbar": {
              "outlinewidth": 0,
              "ticks": ""
             }
            },
            "type": "scattergeo"
           }
          ],
          "scattergl": [
           {
            "marker": {
             "colorbar": {
              "outlinewidth": 0,
              "ticks": ""
             }
            },
            "type": "scattergl"
           }
          ],
          "scattermapbox": [
           {
            "marker": {
             "colorbar": {
              "outlinewidth": 0,
              "ticks": ""
             }
            },
            "type": "scattermapbox"
           }
          ],
          "scatterpolar": [
           {
            "marker": {
             "colorbar": {
              "outlinewidth": 0,
              "ticks": ""
             }
            },
            "type": "scatterpolar"
           }
          ],
          "scatterpolargl": [
           {
            "marker": {
             "colorbar": {
              "outlinewidth": 0,
              "ticks": ""
             }
            },
            "type": "scatterpolargl"
           }
          ],
          "scatterternary": [
           {
            "marker": {
             "colorbar": {
              "outlinewidth": 0,
              "ticks": ""
             }
            },
            "type": "scatterternary"
           }
          ],
          "surface": [
           {
            "colorbar": {
             "outlinewidth": 0,
             "ticks": ""
            },
            "colorscale": [
             [
              0,
              "#0d0887"
             ],
             [
              0.1111111111111111,
              "#46039f"
             ],
             [
              0.2222222222222222,
              "#7201a8"
             ],
             [
              0.3333333333333333,
              "#9c179e"
             ],
             [
              0.4444444444444444,
              "#bd3786"
             ],
             [
              0.5555555555555556,
              "#d8576b"
             ],
             [
              0.6666666666666666,
              "#ed7953"
             ],
             [
              0.7777777777777778,
              "#fb9f3a"
             ],
             [
              0.8888888888888888,
              "#fdca26"
             ],
             [
              1,
              "#f0f921"
             ]
            ],
            "type": "surface"
           }
          ],
          "table": [
           {
            "cells": {
             "fill": {
              "color": "#EBF0F8"
             },
             "line": {
              "color": "white"
             }
            },
            "header": {
             "fill": {
              "color": "#C8D4E3"
             },
             "line": {
              "color": "white"
             }
            },
            "type": "table"
           }
          ]
         },
         "layout": {
          "annotationdefaults": {
           "arrowcolor": "#2a3f5f",
           "arrowhead": 0,
           "arrowwidth": 1
          },
          "autotypenumbers": "strict",
          "coloraxis": {
           "colorbar": {
            "outlinewidth": 0,
            "ticks": ""
           }
          },
          "colorscale": {
           "diverging": [
            [
             0,
             "#8e0152"
            ],
            [
             0.1,
             "#c51b7d"
            ],
            [
             0.2,
             "#de77ae"
            ],
            [
             0.3,
             "#f1b6da"
            ],
            [
             0.4,
             "#fde0ef"
            ],
            [
             0.5,
             "#f7f7f7"
            ],
            [
             0.6,
             "#e6f5d0"
            ],
            [
             0.7,
             "#b8e186"
            ],
            [
             0.8,
             "#7fbc41"
            ],
            [
             0.9,
             "#4d9221"
            ],
            [
             1,
             "#276419"
            ]
           ],
           "sequential": [
            [
             0,
             "#0d0887"
            ],
            [
             0.1111111111111111,
             "#46039f"
            ],
            [
             0.2222222222222222,
             "#7201a8"
            ],
            [
             0.3333333333333333,
             "#9c179e"
            ],
            [
             0.4444444444444444,
             "#bd3786"
            ],
            [
             0.5555555555555556,
             "#d8576b"
            ],
            [
             0.6666666666666666,
             "#ed7953"
            ],
            [
             0.7777777777777778,
             "#fb9f3a"
            ],
            [
             0.8888888888888888,
             "#fdca26"
            ],
            [
             1,
             "#f0f921"
            ]
           ],
           "sequentialminus": [
            [
             0,
             "#0d0887"
            ],
            [
             0.1111111111111111,
             "#46039f"
            ],
            [
             0.2222222222222222,
             "#7201a8"
            ],
            [
             0.3333333333333333,
             "#9c179e"
            ],
            [
             0.4444444444444444,
             "#bd3786"
            ],
            [
             0.5555555555555556,
             "#d8576b"
            ],
            [
             0.6666666666666666,
             "#ed7953"
            ],
            [
             0.7777777777777778,
             "#fb9f3a"
            ],
            [
             0.8888888888888888,
             "#fdca26"
            ],
            [
             1,
             "#f0f921"
            ]
           ]
          },
          "colorway": [
           "#636efa",
           "#EF553B",
           "#00cc96",
           "#ab63fa",
           "#FFA15A",
           "#19d3f3",
           "#FF6692",
           "#B6E880",
           "#FF97FF",
           "#FECB52"
          ],
          "font": {
           "color": "#2a3f5f"
          },
          "geo": {
           "bgcolor": "white",
           "lakecolor": "white",
           "landcolor": "#E5ECF6",
           "showlakes": true,
           "showland": true,
           "subunitcolor": "white"
          },
          "hoverlabel": {
           "align": "left"
          },
          "hovermode": "closest",
          "mapbox": {
           "style": "light"
          },
          "paper_bgcolor": "white",
          "plot_bgcolor": "#E5ECF6",
          "polar": {
           "angularaxis": {
            "gridcolor": "white",
            "linecolor": "white",
            "ticks": ""
           },
           "bgcolor": "#E5ECF6",
           "radialaxis": {
            "gridcolor": "white",
            "linecolor": "white",
            "ticks": ""
           }
          },
          "scene": {
           "xaxis": {
            "backgroundcolor": "#E5ECF6",
            "gridcolor": "white",
            "gridwidth": 2,
            "linecolor": "white",
            "showbackground": true,
            "ticks": "",
            "zerolinecolor": "white"
           },
           "yaxis": {
            "backgroundcolor": "#E5ECF6",
            "gridcolor": "white",
            "gridwidth": 2,
            "linecolor": "white",
            "showbackground": true,
            "ticks": "",
            "zerolinecolor": "white"
           },
           "zaxis": {
            "backgroundcolor": "#E5ECF6",
            "gridcolor": "white",
            "gridwidth": 2,
            "linecolor": "white",
            "showbackground": true,
            "ticks": "",
            "zerolinecolor": "white"
           }
          },
          "shapedefaults": {
           "line": {
            "color": "#2a3f5f"
           }
          },
          "ternary": {
           "aaxis": {
            "gridcolor": "white",
            "linecolor": "white",
            "ticks": ""
           },
           "baxis": {
            "gridcolor": "white",
            "linecolor": "white",
            "ticks": ""
           },
           "bgcolor": "#E5ECF6",
           "caxis": {
            "gridcolor": "white",
            "linecolor": "white",
            "ticks": ""
           }
          },
          "title": {
           "x": 0.05
          },
          "xaxis": {
           "automargin": true,
           "gridcolor": "white",
           "linecolor": "white",
           "ticks": "",
           "title": {
            "standoff": 15
           },
           "zerolinecolor": "white",
           "zerolinewidth": 2
          },
          "yaxis": {
           "automargin": true,
           "gridcolor": "white",
           "linecolor": "white",
           "ticks": "",
           "title": {
            "standoff": 15
           },
           "zerolinecolor": "white",
           "zerolinewidth": 2
          }
         }
        },
        "xaxis": {
         "anchor": "y",
         "domain": [
          0,
          0.45
         ],
         "title": {
          "text": "X"
         }
        },
        "xaxis2": {
         "anchor": "y2",
         "domain": [
          0.55,
          1
         ]
        },
        "yaxis": {
         "anchor": "x",
         "domain": [
          0,
          1
         ],
         "range": [
          0,
          10
         ],
         "title": {
          "text": "Y"
         }
        },
        "yaxis2": {
         "anchor": "x2",
         "domain": [
          0,
          1
         ],
         "title": {
          "text": "RMSE"
         }
        }
       }
      },
      "text/html": [
       "<div>                            <div id=\"a7c2a82c-a234-45f1-9d88-d4608af7af8a\" class=\"plotly-graph-div\" style=\"height:525px; width:100%;\"></div>            <script type=\"text/javascript\">                require([\"plotly\"], function(Plotly) {                    window.PLOTLYENV=window.PLOTLYENV || {};                                    if (document.getElementById(\"a7c2a82c-a234-45f1-9d88-d4608af7af8a\")) {                    Plotly.newPlot(                        \"a7c2a82c-a234-45f1-9d88-d4608af7af8a\",                        [{\"marker\":{\"color\":\"#636EFA\"},\"mode\":\"markers\",\"name\":\"data\",\"x\":[-2.6475819924330954,-2.0515469334036016,-1.8106646981606496,-1.312076282905776,-0.7895905078629929,-0.6609638446178359,0.8061481540360957,1.054879683024077],\"y\":[9.14045169318176,5.336237325257329,7.195181491514598,6.095357781703495,0.7219468779966638,2.177008172349038,4.367994079777328,5.852681713200849],\"type\":\"scatter\",\"xaxis\":\"x\",\"yaxis\":\"y\"},{\"marker\":{\"color\":\"#00CC96\"},\"name\":\"Linear in X\",\"x\":[-3.0,-2.9555555555555557,-2.911111111111111,-2.8666666666666667,-2.8222222222222224,-2.7777777777777777,-2.7333333333333334,-2.688888888888889,-2.6444444444444444,-2.6,-2.5555555555555554,-2.511111111111111,-2.466666666666667,-2.422222222222222,-2.3777777777777778,-2.333333333333333,-2.2888888888888888,-2.2444444444444445,-2.2,-2.1555555555555554,-2.111111111111111,-2.0666666666666664,-2.022222222222222,-1.9777777777777776,-1.9333333333333333,-1.8888888888888888,-1.8444444444444443,-1.8,-1.7555555555555555,-1.711111111111111,-1.6666666666666665,-1.6222222222222222,-1.5777777777777777,-1.5333333333333332,-1.488888888888889,-1.4444444444444444,-1.4,-1.3555555555555554,-1.3111111111111111,-1.2666666666666666,-1.222222222222222,-1.1777777777777778,-1.1333333333333333,-1.0888888888888888,-1.0444444444444443,-1.0,-0.9555555555555553,-0.911111111111111,-0.8666666666666667,-0.822222222222222,-0.7777777777777777,-0.7333333333333334,-0.6888888888888887,-0.6444444444444444,-0.6000000000000001,-0.5555555555555554,-0.5111111111111111,-0.4666666666666668,-0.42222222222222205,-0.37777777777777777,-0.33333333333333304,-0.28888888888888875,-0.24444444444444446,-0.19999999999999973,-0.15555555555555545,-0.11111111111111116,-0.06666666666666643,-0.022222222222222143,0.022222222222222143,0.06666666666666687,0.11111111111111116,0.1555555555555559,0.20000000000000018,0.24444444444444446,0.2888888888888892,0.3333333333333335,0.37777777777777777,0.4222222222222225,0.4666666666666668,0.5111111111111111,0.5555555555555558,0.6000000000000001,0.6444444444444444,0.6888888888888891,0.7333333333333334,0.7777777777777781,0.8222222222222224,0.8666666666666667,0.9111111111111114,0.9555555555555557,1.0,1.0444444444444443,1.0888888888888895,1.1333333333333337,1.177777777777778,1.2222222222222223,1.2666666666666666,1.311111111111111,1.355555555555556,1.4],\"y\":[6.917571409286772,6.878846799154056,6.840122189021339,6.801397578888623,6.762672968755907,6.72394835862319,6.685223748490474,6.646499138357758,6.6077745282250415,6.569049918092325,6.530325307959609,6.491600697826893,6.452876087694177,6.41415147756146,6.375426867428744,6.336702257296028,6.297977647163312,6.259253037030596,6.2205284268978795,6.1818038167651626,6.143079206632446,6.10435459649973,6.065629986367014,6.026905376234298,5.988180766101582,5.949456155968865,5.910731545836149,5.872006935703433,5.833282325570717,5.794557715438,5.755833105305284,5.7171084951725675,5.678383885039851,5.639659274907135,5.600934664774419,5.562210054641703,5.523485444508986,5.48476083437627,5.446036224243554,5.407311614110838,5.368587003978121,5.329862393845405,5.2911377837126885,5.252413173579972,5.213688563447256,5.17496395331454,5.136239343181823,5.097514733049107,5.058790122916391,5.020065512783675,4.981340902650959,4.942616292518243,4.903891682385526,4.8651670722528095,4.826442462120093,4.787717851987377,4.748993241854661,4.710268631721945,4.671544021589229,4.632819411456512,4.594094801323796,4.55537019119108,4.516645581058364,4.477920970925647,4.439196360792931,4.4004717506602145,4.361747140527498,4.323022530394782,4.284297920262066,4.24557331012935,4.206848699996634,4.168124089863917,4.129399479731201,4.090674869598485,4.051950259465769,4.0132256493330525,3.974501039200336,3.9357764290676194,3.8970518189349033,3.858327208802187,3.8196025986694706,3.7808779885367545,3.7421533784040384,3.703428768271322,3.6647041581386057,3.625979548005889,3.587254937873173,3.548530327740457,3.5098057176077404,3.4710811074750243,3.432356497342308,3.393631887209592,3.354907277076875,3.316182666944159,3.277458056811443,3.2387334466787268,3.2000088365460106,3.1612842264132945,3.1225596162805775,3.0838350061478623],\"type\":\"scatter\",\"xaxis\":\"x\",\"yaxis\":\"y\"},{\"marker\":{\"color\":\"#AB63FA\"},\"name\":\"Quadratic\",\"x\":[-3.0,-2.9555555555555557,-2.911111111111111,-2.8666666666666667,-2.8222222222222224,-2.7777777777777777,-2.7333333333333334,-2.688888888888889,-2.6444444444444444,-2.6,-2.5555555555555554,-2.511111111111111,-2.466666666666667,-2.422222222222222,-2.3777777777777778,-2.333333333333333,-2.2888888888888888,-2.2444444444444445,-2.2,-2.1555555555555554,-2.111111111111111,-2.0666666666666664,-2.022222222222222,-1.9777777777777776,-1.9333333333333333,-1.8888888888888888,-1.8444444444444443,-1.8,-1.7555555555555555,-1.711111111111111,-1.6666666666666665,-1.6222222222222222,-1.5777777777777777,-1.5333333333333332,-1.488888888888889,-1.4444444444444444,-1.4,-1.3555555555555554,-1.3111111111111111,-1.2666666666666666,-1.222222222222222,-1.1777777777777778,-1.1333333333333333,-1.0888888888888888,-1.0444444444444443,-1.0,-0.9555555555555553,-0.911111111111111,-0.8666666666666667,-0.822222222222222,-0.7777777777777777,-0.7333333333333334,-0.6888888888888887,-0.6444444444444444,-0.6000000000000001,-0.5555555555555554,-0.5111111111111111,-0.4666666666666668,-0.42222222222222205,-0.37777777777777777,-0.33333333333333304,-0.28888888888888875,-0.24444444444444446,-0.19999999999999973,-0.15555555555555545,-0.11111111111111116,-0.06666666666666643,-0.022222222222222143,0.022222222222222143,0.06666666666666687,0.11111111111111116,0.1555555555555559,0.20000000000000018,0.24444444444444446,0.2888888888888892,0.3333333333333335,0.37777777777777777,0.4222222222222225,0.4666666666666668,0.5111111111111111,0.5555555555555558,0.6000000000000001,0.6444444444444444,0.6888888888888891,0.7333333333333334,0.7777777777777781,0.8222222222222224,0.8666666666666667,0.9111111111111114,0.9555555555555557,1.0,1.0444444444444443,1.0888888888888895,1.1333333333333337,1.177777777777778,1.2222222222222223,1.2666666666666666,1.311111111111111,1.355555555555556,1.4],\"y\":[12.036180361231835,11.720270179273705,11.409747663988355,11.104612815375805,10.804865633436041,10.510506118169065,10.221534269574882,9.93795008765349,9.659753572404885,9.386944723829073,9.119523541926048,8.857490026695817,8.600844178138374,8.349585996253719,8.103715481041856,7.863232632502782,7.6281374506365,7.398429935443008,7.174110086922306,6.955177905074391,6.7416333898992695,6.533476541396936,6.330707359567394,6.133325844410642,5.94133199592668,5.754725814115507,5.573507298977124,5.397676450511533,5.227233268718731,5.062177753598718,4.902509905151495,4.748229723377064,4.599337208275422,4.45583235984657,4.317715178090508,4.184985663007237,4.057643814596755,3.935689632859063,3.8191231177941622,3.7079442694020504,3.602153087682729,3.501749572636198,3.4067337242624562,3.317105542561505,3.232865027533344,3.1540121791779727,3.0805469974953916,3.012469482485601,2.9497796341486,2.892477452484389,2.840562937492968,2.794036089174338,2.7528969075284966,2.7171453925554463,2.6867815442551857,2.661805362627715,2.6422168476730348,2.6280159993911445,2.6192028177820443,2.615777302845734,2.617739454582214,2.6250892729914836,2.637826758073544,2.655951909828394,2.679464728256034,2.708365213356464,2.7426533651296845,2.7823291835756945,2.8273926686944946,2.8778438204860857,2.933682638950466,2.994909124087637,3.061523275897597,3.1335250943803477,3.210914579535889,3.2936917313642193,3.38185654986534,3.4754090350392515,3.574349186885952,3.6786770054054427,3.788392490597724,3.9034956424627953,4.023986461000656,4.149864946211308,4.281131098094749,4.417784916650982,4.559826401880002,4.707255553781813,4.860072372356416,5.018276857603807,5.1818690095239885,5.350848828116959,5.525216313382725,5.704971465321275,5.890114283932617,6.0806447692167485,6.27656292117367,6.477868739803381,6.684562225105887,6.896643377081176],\"type\":\"scatter\",\"xaxis\":\"x\",\"yaxis\":\"y\"},{\"marker\":{\"color\":\"#FFA15A\"},\"name\":\"Cubic\",\"x\":[-3.0,-2.9555555555555557,-2.911111111111111,-2.8666666666666667,-2.8222222222222224,-2.7777777777777777,-2.7333333333333334,-2.688888888888889,-2.6444444444444444,-2.6,-2.5555555555555554,-2.511111111111111,-2.466666666666667,-2.422222222222222,-2.3777777777777778,-2.333333333333333,-2.2888888888888888,-2.2444444444444445,-2.2,-2.1555555555555554,-2.111111111111111,-2.0666666666666664,-2.022222222222222,-1.9777777777777776,-1.9333333333333333,-1.8888888888888888,-1.8444444444444443,-1.8,-1.7555555555555555,-1.711111111111111,-1.6666666666666665,-1.6222222222222222,-1.5777777777777777,-1.5333333333333332,-1.488888888888889,-1.4444444444444444,-1.4,-1.3555555555555554,-1.3111111111111111,-1.2666666666666666,-1.222222222222222,-1.1777777777777778,-1.1333333333333333,-1.0888888888888888,-1.0444444444444443,-1.0,-0.9555555555555553,-0.911111111111111,-0.8666666666666667,-0.822222222222222,-0.7777777777777777,-0.7333333333333334,-0.6888888888888887,-0.6444444444444444,-0.6000000000000001,-0.5555555555555554,-0.5111111111111111,-0.4666666666666668,-0.42222222222222205,-0.37777777777777777,-0.33333333333333304,-0.28888888888888875,-0.24444444444444446,-0.19999999999999973,-0.15555555555555545,-0.11111111111111116,-0.06666666666666643,-0.022222222222222143,0.022222222222222143,0.06666666666666687,0.11111111111111116,0.1555555555555559,0.20000000000000018,0.24444444444444446,0.2888888888888892,0.3333333333333335,0.37777777777777777,0.4222222222222225,0.4666666666666668,0.5111111111111111,0.5555555555555558,0.6000000000000001,0.6444444444444444,0.6888888888888891,0.7333333333333334,0.7777777777777781,0.8222222222222224,0.8666666666666667,0.9111111111111114,0.9555555555555557,1.0,1.0444444444444443,1.0888888888888895,1.1333333333333337,1.177777777777778,1.2222222222222223,1.2666666666666666,1.311111111111111,1.355555555555556,1.4],\"y\":[8.781827335663941,8.814772119120722,8.83491853069297,8.84265027280875,8.838351047896097,8.822404558383063,8.795194506697705,8.757104595268078,8.70851852652222,8.649820002888193,8.581392726794041,8.503620400667817,8.416886726937573,8.321575408031364,8.218070146377235,8.106754644403233,7.988012604537417,7.8622277292078415,7.729783720842546,7.591064281869585,7.446453114717016,7.296333921812882,7.141090405585238,6.981106268462135,6.816765212871623,6.6484509412417525,6.476547156000577,6.301437559576144,6.123505854396506,5.943135742889712,5.7607109274838155,5.576615110606868,5.391231994686919,5.2049452821520195,5.018138675430221,4.8311958769495735,4.6445005891381275,4.458436514423935,4.273387355235048,4.089736813999516,3.9078685931453894,3.728166395100722,3.551013922293561,3.37679487715196,3.2058929621039685,3.0386918795776388,2.875575332001019,2.716927021802164,2.563130651409123,2.414569923249946,2.2716285397526854,2.134690203345392,2.004138616456115,1.880357481512907,1.7637305009438191,1.6546413771769002,1.5534738126402043,1.4606115097617807,1.3764381709696794,1.3013374986919533,1.2356931953566517,1.179888963391827,1.1343085052255293,1.0993355232858095,1.0753537200007188,1.0627467977983083,1.0618984591066285,1.0731924063537306,1.0970123419676654,1.1337419683764844,1.1837649880082377,1.2474651032909772,1.3252260166527527,1.4174314305216158,1.5244650473256185,1.6467105694928095,1.7845516994512407,1.938372139628965,2.10855559245403,2.295485760354488,2.499546345758392,2.7211210510937898,2.9605935787887327,3.218347631271276,3.494766910969464,3.790235120311355,4.105135961724992,4.43985313763843,4.794770350479722,5.170271302676915,5.566739696658061,5.984559234851211,6.424113619684427,6.8857865535857385,7.369961738983209,7.877022878304887,8.407353673978825,8.961337828433074,9.539359044095693,10.141801023394708],\"type\":\"scatter\",\"xaxis\":\"x\",\"yaxis\":\"y\"},{\"marker\":{\"color\":\"#636EFA\"},\"showlegend\":false,\"x\":[\"Linear in X\",\"Quadratic\",\"Cubic\"],\"y\":[2.272965710209297,1.3646273702703906,1.1528916542943797],\"type\":\"bar\",\"xaxis\":\"x2\",\"yaxis\":\"y2\"}],                        {\"template\":{\"data\":{\"bar\":[{\"error_x\":{\"color\":\"#2a3f5f\"},\"error_y\":{\"color\":\"#2a3f5f\"},\"marker\":{\"line\":{\"color\":\"#E5ECF6\",\"width\":0.5},\"pattern\":{\"fillmode\":\"overlay\",\"size\":10,\"solidity\":0.2}},\"type\":\"bar\"}],\"barpolar\":[{\"marker\":{\"line\":{\"color\":\"#E5ECF6\",\"width\":0.5},\"pattern\":{\"fillmode\":\"overlay\",\"size\":10,\"solidity\":0.2}},\"type\":\"barpolar\"}],\"carpet\":[{\"aaxis\":{\"endlinecolor\":\"#2a3f5f\",\"gridcolor\":\"white\",\"linecolor\":\"white\",\"minorgridcolor\":\"white\",\"startlinecolor\":\"#2a3f5f\"},\"baxis\":{\"endlinecolor\":\"#2a3f5f\",\"gridcolor\":\"white\",\"linecolor\":\"white\",\"minorgridcolor\":\"white\",\"startlinecolor\":\"#2a3f5f\"},\"type\":\"carpet\"}],\"choropleth\":[{\"colorbar\":{\"outlinewidth\":0,\"ticks\":\"\"},\"type\":\"choropleth\"}],\"contour\":[{\"colorbar\":{\"outlinewidth\":0,\"ticks\":\"\"},\"colorscale\":[[0.0,\"#0d0887\"],[0.1111111111111111,\"#46039f\"],[0.2222222222222222,\"#7201a8\"],[0.3333333333333333,\"#9c179e\"],[0.4444444444444444,\"#bd3786\"],[0.5555555555555556,\"#d8576b\"],[0.6666666666666666,\"#ed7953\"],[0.7777777777777778,\"#fb9f3a\"],[0.8888888888888888,\"#fdca26\"],[1.0,\"#f0f921\"]],\"type\":\"contour\"}],\"contourcarpet\":[{\"colorbar\":{\"outlinewidth\":0,\"ticks\":\"\"},\"type\":\"contourcarpet\"}],\"heatmap\":[{\"colorbar\":{\"outlinewidth\":0,\"ticks\":\"\"},\"colorscale\":[[0.0,\"#0d0887\"],[0.1111111111111111,\"#46039f\"],[0.2222222222222222,\"#7201a8\"],[0.3333333333333333,\"#9c179e\"],[0.4444444444444444,\"#bd3786\"],[0.5555555555555556,\"#d8576b\"],[0.6666666666666666,\"#ed7953\"],[0.7777777777777778,\"#fb9f3a\"],[0.8888888888888888,\"#fdca26\"],[1.0,\"#f0f921\"]],\"type\":\"heatmap\"}],\"heatmapgl\":[{\"colorbar\":{\"outlinewidth\":0,\"ticks\":\"\"},\"colorscale\":[[0.0,\"#0d0887\"],[0.1111111111111111,\"#46039f\"],[0.2222222222222222,\"#7201a8\"],[0.3333333333333333,\"#9c179e\"],[0.4444444444444444,\"#bd3786\"],[0.5555555555555556,\"#d8576b\"],[0.6666666666666666,\"#ed7953\"],[0.7777777777777778,\"#fb9f3a\"],[0.8888888888888888,\"#fdca26\"],[1.0,\"#f0f921\"]],\"type\":\"heatmapgl\"}],\"histogram\":[{\"marker\":{\"pattern\":{\"fillmode\":\"overlay\",\"size\":10,\"solidity\":0.2}},\"type\":\"histogram\"}],\"histogram2d\":[{\"colorbar\":{\"outlinewidth\":0,\"ticks\":\"\"},\"colorscale\":[[0.0,\"#0d0887\"],[0.1111111111111111,\"#46039f\"],[0.2222222222222222,\"#7201a8\"],[0.3333333333333333,\"#9c179e\"],[0.4444444444444444,\"#bd3786\"],[0.5555555555555556,\"#d8576b\"],[0.6666666666666666,\"#ed7953\"],[0.7777777777777778,\"#fb9f3a\"],[0.8888888888888888,\"#fdca26\"],[1.0,\"#f0f921\"]],\"type\":\"histogram2d\"}],\"histogram2dcontour\":[{\"colorbar\":{\"outlinewidth\":0,\"ticks\":\"\"},\"colorscale\":[[0.0,\"#0d0887\"],[0.1111111111111111,\"#46039f\"],[0.2222222222222222,\"#7201a8\"],[0.3333333333333333,\"#9c179e\"],[0.4444444444444444,\"#bd3786\"],[0.5555555555555556,\"#d8576b\"],[0.6666666666666666,\"#ed7953\"],[0.7777777777777778,\"#fb9f3a\"],[0.8888888888888888,\"#fdca26\"],[1.0,\"#f0f921\"]],\"type\":\"histogram2dcontour\"}],\"mesh3d\":[{\"colorbar\":{\"outlinewidth\":0,\"ticks\":\"\"},\"type\":\"mesh3d\"}],\"parcoords\":[{\"line\":{\"colorbar\":{\"outlinewidth\":0,\"ticks\":\"\"}},\"type\":\"parcoords\"}],\"pie\":[{\"automargin\":true,\"type\":\"pie\"}],\"scatter\":[{\"marker\":{\"colorbar\":{\"outlinewidth\":0,\"ticks\":\"\"}},\"type\":\"scatter\"}],\"scatter3d\":[{\"line\":{\"colorbar\":{\"outlinewidth\":0,\"ticks\":\"\"}},\"marker\":{\"colorbar\":{\"outlinewidth\":0,\"ticks\":\"\"}},\"type\":\"scatter3d\"}],\"scattercarpet\":[{\"marker\":{\"colorbar\":{\"outlinewidth\":0,\"ticks\":\"\"}},\"type\":\"scattercarpet\"}],\"scattergeo\":[{\"marker\":{\"colorbar\":{\"outlinewidth\":0,\"ticks\":\"\"}},\"type\":\"scattergeo\"}],\"scattergl\":[{\"marker\":{\"colorbar\":{\"outlinewidth\":0,\"ticks\":\"\"}},\"type\":\"scattergl\"}],\"scattermapbox\":[{\"marker\":{\"colorbar\":{\"outlinewidth\":0,\"ticks\":\"\"}},\"type\":\"scattermapbox\"}],\"scatterpolar\":[{\"marker\":{\"colorbar\":{\"outlinewidth\":0,\"ticks\":\"\"}},\"type\":\"scatterpolar\"}],\"scatterpolargl\":[{\"marker\":{\"colorbar\":{\"outlinewidth\":0,\"ticks\":\"\"}},\"type\":\"scatterpolargl\"}],\"scatterternary\":[{\"marker\":{\"colorbar\":{\"outlinewidth\":0,\"ticks\":\"\"}},\"type\":\"scatterternary\"}],\"surface\":[{\"colorbar\":{\"outlinewidth\":0,\"ticks\":\"\"},\"colorscale\":[[0.0,\"#0d0887\"],[0.1111111111111111,\"#46039f\"],[0.2222222222222222,\"#7201a8\"],[0.3333333333333333,\"#9c179e\"],[0.4444444444444444,\"#bd3786\"],[0.5555555555555556,\"#d8576b\"],[0.6666666666666666,\"#ed7953\"],[0.7777777777777778,\"#fb9f3a\"],[0.8888888888888888,\"#fdca26\"],[1.0,\"#f0f921\"]],\"type\":\"surface\"}],\"table\":[{\"cells\":{\"fill\":{\"color\":\"#EBF0F8\"},\"line\":{\"color\":\"white\"}},\"header\":{\"fill\":{\"color\":\"#C8D4E3\"},\"line\":{\"color\":\"white\"}},\"type\":\"table\"}]},\"layout\":{\"annotationdefaults\":{\"arrowcolor\":\"#2a3f5f\",\"arrowhead\":0,\"arrowwidth\":1},\"autotypenumbers\":\"strict\",\"coloraxis\":{\"colorbar\":{\"outlinewidth\":0,\"ticks\":\"\"}},\"colorscale\":{\"diverging\":[[0,\"#8e0152\"],[0.1,\"#c51b7d\"],[0.2,\"#de77ae\"],[0.3,\"#f1b6da\"],[0.4,\"#fde0ef\"],[0.5,\"#f7f7f7\"],[0.6,\"#e6f5d0\"],[0.7,\"#b8e186\"],[0.8,\"#7fbc41\"],[0.9,\"#4d9221\"],[1,\"#276419\"]],\"sequential\":[[0.0,\"#0d0887\"],[0.1111111111111111,\"#46039f\"],[0.2222222222222222,\"#7201a8\"],[0.3333333333333333,\"#9c179e\"],[0.4444444444444444,\"#bd3786\"],[0.5555555555555556,\"#d8576b\"],[0.6666666666666666,\"#ed7953\"],[0.7777777777777778,\"#fb9f3a\"],[0.8888888888888888,\"#fdca26\"],[1.0,\"#f0f921\"]],\"sequentialminus\":[[0.0,\"#0d0887\"],[0.1111111111111111,\"#46039f\"],[0.2222222222222222,\"#7201a8\"],[0.3333333333333333,\"#9c179e\"],[0.4444444444444444,\"#bd3786\"],[0.5555555555555556,\"#d8576b\"],[0.6666666666666666,\"#ed7953\"],[0.7777777777777778,\"#fb9f3a\"],[0.8888888888888888,\"#fdca26\"],[1.0,\"#f0f921\"]]},\"colorway\":[\"#636efa\",\"#EF553B\",\"#00cc96\",\"#ab63fa\",\"#FFA15A\",\"#19d3f3\",\"#FF6692\",\"#B6E880\",\"#FF97FF\",\"#FECB52\"],\"font\":{\"color\":\"#2a3f5f\"},\"geo\":{\"bgcolor\":\"white\",\"lakecolor\":\"white\",\"landcolor\":\"#E5ECF6\",\"showlakes\":true,\"showland\":true,\"subunitcolor\":\"white\"},\"hoverlabel\":{\"align\":\"left\"},\"hovermode\":\"closest\",\"mapbox\":{\"style\":\"light\"},\"paper_bgcolor\":\"white\",\"plot_bgcolor\":\"#E5ECF6\",\"polar\":{\"angularaxis\":{\"gridcolor\":\"white\",\"linecolor\":\"white\",\"ticks\":\"\"},\"bgcolor\":\"#E5ECF6\",\"radialaxis\":{\"gridcolor\":\"white\",\"linecolor\":\"white\",\"ticks\":\"\"}},\"scene\":{\"xaxis\":{\"backgroundcolor\":\"#E5ECF6\",\"gridcolor\":\"white\",\"gridwidth\":2,\"linecolor\":\"white\",\"showbackground\":true,\"ticks\":\"\",\"zerolinecolor\":\"white\"},\"yaxis\":{\"backgroundcolor\":\"#E5ECF6\",\"gridcolor\":\"white\",\"gridwidth\":2,\"linecolor\":\"white\",\"showbackground\":true,\"ticks\":\"\",\"zerolinecolor\":\"white\"},\"zaxis\":{\"backgroundcolor\":\"#E5ECF6\",\"gridcolor\":\"white\",\"gridwidth\":2,\"linecolor\":\"white\",\"showbackground\":true,\"ticks\":\"\",\"zerolinecolor\":\"white\"}},\"shapedefaults\":{\"line\":{\"color\":\"#2a3f5f\"}},\"ternary\":{\"aaxis\":{\"gridcolor\":\"white\",\"linecolor\":\"white\",\"ticks\":\"\"},\"baxis\":{\"gridcolor\":\"white\",\"linecolor\":\"white\",\"ticks\":\"\"},\"bgcolor\":\"#E5ECF6\",\"caxis\":{\"gridcolor\":\"white\",\"linecolor\":\"white\",\"ticks\":\"\"}},\"title\":{\"x\":0.05},\"xaxis\":{\"automargin\":true,\"gridcolor\":\"white\",\"linecolor\":\"white\",\"ticks\":\"\",\"title\":{\"standoff\":15},\"zerolinecolor\":\"white\",\"zerolinewidth\":2},\"yaxis\":{\"automargin\":true,\"gridcolor\":\"white\",\"linecolor\":\"white\",\"ticks\":\"\",\"title\":{\"standoff\":15},\"zerolinecolor\":\"white\",\"zerolinewidth\":2}}},\"xaxis\":{\"anchor\":\"y\",\"domain\":[0.0,0.45],\"title\":{\"text\":\"X\"}},\"yaxis\":{\"anchor\":\"x\",\"domain\":[0.0,1.0],\"title\":{\"text\":\"Y\"},\"range\":[0,10]},\"xaxis2\":{\"anchor\":\"y2\",\"domain\":[0.55,1.0]},\"yaxis2\":{\"anchor\":\"x2\",\"domain\":[0.0,1.0],\"title\":{\"text\":\"RMSE\"}}},                        {\"responsive\": true}                    ).then(function(){\n",
       "                            \n",
       "var gd = document.getElementById('a7c2a82c-a234-45f1-9d88-d4608af7af8a');\n",
       "var x = new MutationObserver(function (mutations, observer) {{\n",
       "        var display = window.getComputedStyle(gd).display;\n",
       "        if (!display || display === 'none') {{\n",
       "            console.log([gd, 'removed!']);\n",
       "            Plotly.purge(gd);\n",
       "            observer.disconnect();\n",
       "        }}\n",
       "}});\n",
       "\n",
       "// Listen for the removal of the full notebook cells\n",
       "var notebookContainer = gd.closest('#notebook-container');\n",
       "if (notebookContainer) {{\n",
       "    x.observe(notebookContainer, {childList: true});\n",
       "}}\n",
       "\n",
       "// Listen for the clearing of the current output cell\n",
       "var outputEl = gd.closest('.output');\n",
       "if (outputEl) {{\n",
       "    x.observe(outputEl, {childList: true});\n",
       "}}\n",
       "\n",
       "                        })                };                });            </script>        </div>"
      ]
     },
     "metadata": {},
     "output_type": "display_data"
    }
   ],
   "source": [
    "model = LinearRegression()\n",
    "model.fit(phi_polynomials(data[[\"X\"]].to_numpy(), p=3), data[[\"Y\"]])\n",
    "evaluate_model(\"Cubic\", model, lambda x: phi_polynomials(x, p=3), models)"
   ]
  },
  {
   "cell_type": "code",
   "execution_count": 16,
   "metadata": {},
   "outputs": [
    {
     "name": "stdout",
     "output_type": "stream",
     "text": [
      "Root Mean Squared Error: 1.1445074375807343\n"
     ]
    },
    {
     "data": {
      "application/vnd.plotly.v1+json": {
       "config": {
        "plotlyServerURL": "https://plot.ly"
       },
       "data": [
        {
         "marker": {
          "color": "#636EFA"
         },
         "mode": "markers",
         "name": "data",
         "type": "scatter",
         "x": [
          -2.6475819924330954,
          -2.0515469334036016,
          -1.8106646981606496,
          -1.312076282905776,
          -0.7895905078629929,
          -0.6609638446178359,
          0.8061481540360957,
          1.054879683024077
         ],
         "xaxis": "x",
         "y": [
          9.14045169318176,
          5.336237325257329,
          7.195181491514598,
          6.095357781703495,
          0.7219468779966638,
          2.177008172349038,
          4.367994079777328,
          5.852681713200849
         ],
         "yaxis": "y"
        },
        {
         "marker": {
          "color": "#00CC96"
         },
         "name": "Linear in X",
         "type": "scatter",
         "x": [
          -3,
          -2.9555555555555557,
          -2.911111111111111,
          -2.8666666666666667,
          -2.8222222222222224,
          -2.7777777777777777,
          -2.7333333333333334,
          -2.688888888888889,
          -2.6444444444444444,
          -2.6,
          -2.5555555555555554,
          -2.511111111111111,
          -2.466666666666667,
          -2.422222222222222,
          -2.3777777777777778,
          -2.333333333333333,
          -2.2888888888888888,
          -2.2444444444444445,
          -2.2,
          -2.1555555555555554,
          -2.111111111111111,
          -2.0666666666666664,
          -2.022222222222222,
          -1.9777777777777776,
          -1.9333333333333333,
          -1.8888888888888888,
          -1.8444444444444443,
          -1.8,
          -1.7555555555555555,
          -1.711111111111111,
          -1.6666666666666665,
          -1.6222222222222222,
          -1.5777777777777777,
          -1.5333333333333332,
          -1.488888888888889,
          -1.4444444444444444,
          -1.4,
          -1.3555555555555554,
          -1.3111111111111111,
          -1.2666666666666666,
          -1.222222222222222,
          -1.1777777777777778,
          -1.1333333333333333,
          -1.0888888888888888,
          -1.0444444444444443,
          -1,
          -0.9555555555555553,
          -0.911111111111111,
          -0.8666666666666667,
          -0.822222222222222,
          -0.7777777777777777,
          -0.7333333333333334,
          -0.6888888888888887,
          -0.6444444444444444,
          -0.6000000000000001,
          -0.5555555555555554,
          -0.5111111111111111,
          -0.4666666666666668,
          -0.42222222222222205,
          -0.37777777777777777,
          -0.33333333333333304,
          -0.28888888888888875,
          -0.24444444444444446,
          -0.19999999999999973,
          -0.15555555555555545,
          -0.11111111111111116,
          -0.06666666666666643,
          -0.022222222222222143,
          0.022222222222222143,
          0.06666666666666687,
          0.11111111111111116,
          0.1555555555555559,
          0.20000000000000018,
          0.24444444444444446,
          0.2888888888888892,
          0.3333333333333335,
          0.37777777777777777,
          0.4222222222222225,
          0.4666666666666668,
          0.5111111111111111,
          0.5555555555555558,
          0.6000000000000001,
          0.6444444444444444,
          0.6888888888888891,
          0.7333333333333334,
          0.7777777777777781,
          0.8222222222222224,
          0.8666666666666667,
          0.9111111111111114,
          0.9555555555555557,
          1,
          1.0444444444444443,
          1.0888888888888895,
          1.1333333333333337,
          1.177777777777778,
          1.2222222222222223,
          1.2666666666666666,
          1.311111111111111,
          1.355555555555556,
          1.4
         ],
         "xaxis": "x",
         "y": [
          6.917571409286772,
          6.878846799154056,
          6.840122189021339,
          6.801397578888623,
          6.762672968755907,
          6.72394835862319,
          6.685223748490474,
          6.646499138357758,
          6.6077745282250415,
          6.569049918092325,
          6.530325307959609,
          6.491600697826893,
          6.452876087694177,
          6.41415147756146,
          6.375426867428744,
          6.336702257296028,
          6.297977647163312,
          6.259253037030596,
          6.2205284268978795,
          6.1818038167651626,
          6.143079206632446,
          6.10435459649973,
          6.065629986367014,
          6.026905376234298,
          5.988180766101582,
          5.949456155968865,
          5.910731545836149,
          5.872006935703433,
          5.833282325570717,
          5.794557715438,
          5.755833105305284,
          5.7171084951725675,
          5.678383885039851,
          5.639659274907135,
          5.600934664774419,
          5.562210054641703,
          5.523485444508986,
          5.48476083437627,
          5.446036224243554,
          5.407311614110838,
          5.368587003978121,
          5.329862393845405,
          5.2911377837126885,
          5.252413173579972,
          5.213688563447256,
          5.17496395331454,
          5.136239343181823,
          5.097514733049107,
          5.058790122916391,
          5.020065512783675,
          4.981340902650959,
          4.942616292518243,
          4.903891682385526,
          4.8651670722528095,
          4.826442462120093,
          4.787717851987377,
          4.748993241854661,
          4.710268631721945,
          4.671544021589229,
          4.632819411456512,
          4.594094801323796,
          4.55537019119108,
          4.516645581058364,
          4.477920970925647,
          4.439196360792931,
          4.4004717506602145,
          4.361747140527498,
          4.323022530394782,
          4.284297920262066,
          4.24557331012935,
          4.206848699996634,
          4.168124089863917,
          4.129399479731201,
          4.090674869598485,
          4.051950259465769,
          4.0132256493330525,
          3.974501039200336,
          3.9357764290676194,
          3.8970518189349033,
          3.858327208802187,
          3.8196025986694706,
          3.7808779885367545,
          3.7421533784040384,
          3.703428768271322,
          3.6647041581386057,
          3.625979548005889,
          3.587254937873173,
          3.548530327740457,
          3.5098057176077404,
          3.4710811074750243,
          3.432356497342308,
          3.393631887209592,
          3.354907277076875,
          3.316182666944159,
          3.277458056811443,
          3.2387334466787268,
          3.2000088365460106,
          3.1612842264132945,
          3.1225596162805775,
          3.0838350061478623
         ],
         "yaxis": "y"
        },
        {
         "marker": {
          "color": "#AB63FA"
         },
         "name": "Quadratic",
         "type": "scatter",
         "x": [
          -3,
          -2.9555555555555557,
          -2.911111111111111,
          -2.8666666666666667,
          -2.8222222222222224,
          -2.7777777777777777,
          -2.7333333333333334,
          -2.688888888888889,
          -2.6444444444444444,
          -2.6,
          -2.5555555555555554,
          -2.511111111111111,
          -2.466666666666667,
          -2.422222222222222,
          -2.3777777777777778,
          -2.333333333333333,
          -2.2888888888888888,
          -2.2444444444444445,
          -2.2,
          -2.1555555555555554,
          -2.111111111111111,
          -2.0666666666666664,
          -2.022222222222222,
          -1.9777777777777776,
          -1.9333333333333333,
          -1.8888888888888888,
          -1.8444444444444443,
          -1.8,
          -1.7555555555555555,
          -1.711111111111111,
          -1.6666666666666665,
          -1.6222222222222222,
          -1.5777777777777777,
          -1.5333333333333332,
          -1.488888888888889,
          -1.4444444444444444,
          -1.4,
          -1.3555555555555554,
          -1.3111111111111111,
          -1.2666666666666666,
          -1.222222222222222,
          -1.1777777777777778,
          -1.1333333333333333,
          -1.0888888888888888,
          -1.0444444444444443,
          -1,
          -0.9555555555555553,
          -0.911111111111111,
          -0.8666666666666667,
          -0.822222222222222,
          -0.7777777777777777,
          -0.7333333333333334,
          -0.6888888888888887,
          -0.6444444444444444,
          -0.6000000000000001,
          -0.5555555555555554,
          -0.5111111111111111,
          -0.4666666666666668,
          -0.42222222222222205,
          -0.37777777777777777,
          -0.33333333333333304,
          -0.28888888888888875,
          -0.24444444444444446,
          -0.19999999999999973,
          -0.15555555555555545,
          -0.11111111111111116,
          -0.06666666666666643,
          -0.022222222222222143,
          0.022222222222222143,
          0.06666666666666687,
          0.11111111111111116,
          0.1555555555555559,
          0.20000000000000018,
          0.24444444444444446,
          0.2888888888888892,
          0.3333333333333335,
          0.37777777777777777,
          0.4222222222222225,
          0.4666666666666668,
          0.5111111111111111,
          0.5555555555555558,
          0.6000000000000001,
          0.6444444444444444,
          0.6888888888888891,
          0.7333333333333334,
          0.7777777777777781,
          0.8222222222222224,
          0.8666666666666667,
          0.9111111111111114,
          0.9555555555555557,
          1,
          1.0444444444444443,
          1.0888888888888895,
          1.1333333333333337,
          1.177777777777778,
          1.2222222222222223,
          1.2666666666666666,
          1.311111111111111,
          1.355555555555556,
          1.4
         ],
         "xaxis": "x",
         "y": [
          12.036180361231835,
          11.720270179273705,
          11.409747663988355,
          11.104612815375805,
          10.804865633436041,
          10.510506118169065,
          10.221534269574882,
          9.93795008765349,
          9.659753572404885,
          9.386944723829073,
          9.119523541926048,
          8.857490026695817,
          8.600844178138374,
          8.349585996253719,
          8.103715481041856,
          7.863232632502782,
          7.6281374506365,
          7.398429935443008,
          7.174110086922306,
          6.955177905074391,
          6.7416333898992695,
          6.533476541396936,
          6.330707359567394,
          6.133325844410642,
          5.94133199592668,
          5.754725814115507,
          5.573507298977124,
          5.397676450511533,
          5.227233268718731,
          5.062177753598718,
          4.902509905151495,
          4.748229723377064,
          4.599337208275422,
          4.45583235984657,
          4.317715178090508,
          4.184985663007237,
          4.057643814596755,
          3.935689632859063,
          3.8191231177941622,
          3.7079442694020504,
          3.602153087682729,
          3.501749572636198,
          3.4067337242624562,
          3.317105542561505,
          3.232865027533344,
          3.1540121791779727,
          3.0805469974953916,
          3.012469482485601,
          2.9497796341486,
          2.892477452484389,
          2.840562937492968,
          2.794036089174338,
          2.7528969075284966,
          2.7171453925554463,
          2.6867815442551857,
          2.661805362627715,
          2.6422168476730348,
          2.6280159993911445,
          2.6192028177820443,
          2.615777302845734,
          2.617739454582214,
          2.6250892729914836,
          2.637826758073544,
          2.655951909828394,
          2.679464728256034,
          2.708365213356464,
          2.7426533651296845,
          2.7823291835756945,
          2.8273926686944946,
          2.8778438204860857,
          2.933682638950466,
          2.994909124087637,
          3.061523275897597,
          3.1335250943803477,
          3.210914579535889,
          3.2936917313642193,
          3.38185654986534,
          3.4754090350392515,
          3.574349186885952,
          3.6786770054054427,
          3.788392490597724,
          3.9034956424627953,
          4.023986461000656,
          4.149864946211308,
          4.281131098094749,
          4.417784916650982,
          4.559826401880002,
          4.707255553781813,
          4.860072372356416,
          5.018276857603807,
          5.1818690095239885,
          5.350848828116959,
          5.525216313382725,
          5.704971465321275,
          5.890114283932617,
          6.0806447692167485,
          6.27656292117367,
          6.477868739803381,
          6.684562225105887,
          6.896643377081176
         ],
         "yaxis": "y"
        },
        {
         "marker": {
          "color": "#FFA15A"
         },
         "name": "Cubic",
         "type": "scatter",
         "x": [
          -3,
          -2.9555555555555557,
          -2.911111111111111,
          -2.8666666666666667,
          -2.8222222222222224,
          -2.7777777777777777,
          -2.7333333333333334,
          -2.688888888888889,
          -2.6444444444444444,
          -2.6,
          -2.5555555555555554,
          -2.511111111111111,
          -2.466666666666667,
          -2.422222222222222,
          -2.3777777777777778,
          -2.333333333333333,
          -2.2888888888888888,
          -2.2444444444444445,
          -2.2,
          -2.1555555555555554,
          -2.111111111111111,
          -2.0666666666666664,
          -2.022222222222222,
          -1.9777777777777776,
          -1.9333333333333333,
          -1.8888888888888888,
          -1.8444444444444443,
          -1.8,
          -1.7555555555555555,
          -1.711111111111111,
          -1.6666666666666665,
          -1.6222222222222222,
          -1.5777777777777777,
          -1.5333333333333332,
          -1.488888888888889,
          -1.4444444444444444,
          -1.4,
          -1.3555555555555554,
          -1.3111111111111111,
          -1.2666666666666666,
          -1.222222222222222,
          -1.1777777777777778,
          -1.1333333333333333,
          -1.0888888888888888,
          -1.0444444444444443,
          -1,
          -0.9555555555555553,
          -0.911111111111111,
          -0.8666666666666667,
          -0.822222222222222,
          -0.7777777777777777,
          -0.7333333333333334,
          -0.6888888888888887,
          -0.6444444444444444,
          -0.6000000000000001,
          -0.5555555555555554,
          -0.5111111111111111,
          -0.4666666666666668,
          -0.42222222222222205,
          -0.37777777777777777,
          -0.33333333333333304,
          -0.28888888888888875,
          -0.24444444444444446,
          -0.19999999999999973,
          -0.15555555555555545,
          -0.11111111111111116,
          -0.06666666666666643,
          -0.022222222222222143,
          0.022222222222222143,
          0.06666666666666687,
          0.11111111111111116,
          0.1555555555555559,
          0.20000000000000018,
          0.24444444444444446,
          0.2888888888888892,
          0.3333333333333335,
          0.37777777777777777,
          0.4222222222222225,
          0.4666666666666668,
          0.5111111111111111,
          0.5555555555555558,
          0.6000000000000001,
          0.6444444444444444,
          0.6888888888888891,
          0.7333333333333334,
          0.7777777777777781,
          0.8222222222222224,
          0.8666666666666667,
          0.9111111111111114,
          0.9555555555555557,
          1,
          1.0444444444444443,
          1.0888888888888895,
          1.1333333333333337,
          1.177777777777778,
          1.2222222222222223,
          1.2666666666666666,
          1.311111111111111,
          1.355555555555556,
          1.4
         ],
         "xaxis": "x",
         "y": [
          8.781827335663941,
          8.814772119120722,
          8.83491853069297,
          8.84265027280875,
          8.838351047896097,
          8.822404558383063,
          8.795194506697705,
          8.757104595268078,
          8.70851852652222,
          8.649820002888193,
          8.581392726794041,
          8.503620400667817,
          8.416886726937573,
          8.321575408031364,
          8.218070146377235,
          8.106754644403233,
          7.988012604537417,
          7.8622277292078415,
          7.729783720842546,
          7.591064281869585,
          7.446453114717016,
          7.296333921812882,
          7.141090405585238,
          6.981106268462135,
          6.816765212871623,
          6.6484509412417525,
          6.476547156000577,
          6.301437559576144,
          6.123505854396506,
          5.943135742889712,
          5.7607109274838155,
          5.576615110606868,
          5.391231994686919,
          5.2049452821520195,
          5.018138675430221,
          4.8311958769495735,
          4.6445005891381275,
          4.458436514423935,
          4.273387355235048,
          4.089736813999516,
          3.9078685931453894,
          3.728166395100722,
          3.551013922293561,
          3.37679487715196,
          3.2058929621039685,
          3.0386918795776388,
          2.875575332001019,
          2.716927021802164,
          2.563130651409123,
          2.414569923249946,
          2.2716285397526854,
          2.134690203345392,
          2.004138616456115,
          1.880357481512907,
          1.7637305009438191,
          1.6546413771769002,
          1.5534738126402043,
          1.4606115097617807,
          1.3764381709696794,
          1.3013374986919533,
          1.2356931953566517,
          1.179888963391827,
          1.1343085052255293,
          1.0993355232858095,
          1.0753537200007188,
          1.0627467977983083,
          1.0618984591066285,
          1.0731924063537306,
          1.0970123419676654,
          1.1337419683764844,
          1.1837649880082377,
          1.2474651032909772,
          1.3252260166527527,
          1.4174314305216158,
          1.5244650473256185,
          1.6467105694928095,
          1.7845516994512407,
          1.938372139628965,
          2.10855559245403,
          2.295485760354488,
          2.499546345758392,
          2.7211210510937898,
          2.9605935787887327,
          3.218347631271276,
          3.494766910969464,
          3.790235120311355,
          4.105135961724992,
          4.43985313763843,
          4.794770350479722,
          5.170271302676915,
          5.566739696658061,
          5.984559234851211,
          6.424113619684427,
          6.8857865535857385,
          7.369961738983209,
          7.877022878304887,
          8.407353673978825,
          8.961337828433074,
          9.539359044095693,
          10.141801023394708
         ],
         "yaxis": "y"
        },
        {
         "marker": {
          "color": "#19D3F3"
         },
         "name": "Quartic",
         "type": "scatter",
         "x": [
          -3,
          -2.9555555555555557,
          -2.911111111111111,
          -2.8666666666666667,
          -2.8222222222222224,
          -2.7777777777777777,
          -2.7333333333333334,
          -2.688888888888889,
          -2.6444444444444444,
          -2.6,
          -2.5555555555555554,
          -2.511111111111111,
          -2.466666666666667,
          -2.422222222222222,
          -2.3777777777777778,
          -2.333333333333333,
          -2.2888888888888888,
          -2.2444444444444445,
          -2.2,
          -2.1555555555555554,
          -2.111111111111111,
          -2.0666666666666664,
          -2.022222222222222,
          -1.9777777777777776,
          -1.9333333333333333,
          -1.8888888888888888,
          -1.8444444444444443,
          -1.8,
          -1.7555555555555555,
          -1.711111111111111,
          -1.6666666666666665,
          -1.6222222222222222,
          -1.5777777777777777,
          -1.5333333333333332,
          -1.488888888888889,
          -1.4444444444444444,
          -1.4,
          -1.3555555555555554,
          -1.3111111111111111,
          -1.2666666666666666,
          -1.222222222222222,
          -1.1777777777777778,
          -1.1333333333333333,
          -1.0888888888888888,
          -1.0444444444444443,
          -1,
          -0.9555555555555553,
          -0.911111111111111,
          -0.8666666666666667,
          -0.822222222222222,
          -0.7777777777777777,
          -0.7333333333333334,
          -0.6888888888888887,
          -0.6444444444444444,
          -0.6000000000000001,
          -0.5555555555555554,
          -0.5111111111111111,
          -0.4666666666666668,
          -0.42222222222222205,
          -0.37777777777777777,
          -0.33333333333333304,
          -0.28888888888888875,
          -0.24444444444444446,
          -0.19999999999999973,
          -0.15555555555555545,
          -0.11111111111111116,
          -0.06666666666666643,
          -0.022222222222222143,
          0.022222222222222143,
          0.06666666666666687,
          0.11111111111111116,
          0.1555555555555559,
          0.20000000000000018,
          0.24444444444444446,
          0.2888888888888892,
          0.3333333333333335,
          0.37777777777777777,
          0.4222222222222225,
          0.4666666666666668,
          0.5111111111111111,
          0.5555555555555558,
          0.6000000000000001,
          0.6444444444444444,
          0.6888888888888891,
          0.7333333333333334,
          0.7777777777777781,
          0.8222222222222224,
          0.8666666666666667,
          0.9111111111111114,
          0.9555555555555557,
          1,
          1.0444444444444443,
          1.0888888888888895,
          1.1333333333333337,
          1.177777777777778,
          1.2222222222222223,
          1.2666666666666666,
          1.311111111111111,
          1.355555555555556,
          1.4
         ],
         "xaxis": "x",
         "y": [
          9.578779950358374,
          9.4851099304597,
          9.390196173925762,
          9.293829862988776,
          9.195815485601702,
          9.095970835438344,
          8.994127011893298,
          8.890128420081975,
          8.78383277084055,
          8.675111080726037,
          8.56384767201624,
          8.449940172709784,
          8.333299516526061,
          8.213849942905295,
          8.091528997008496,
          7.96628752971749,
          7.838089697634893,
          7.706912963084139,
          7.572748094109444,
          7.435599164475847,
          7.2954835536691816,
          7.1524319468960735,
          7.006488335083966,
          6.857710014881108,
          6.706167588656532,
          6.55194496450009,
          6.395139356222428,
          6.235861283354999,
          6.074234571150061,
          5.9103963505806645,
          5.7444970583406745,
          5.576700436844752,
          5.40718353422836,
          5.236136704347769,
          5.063763606780048,
          4.890281206823071,
          4.715919775495514,
          4.540922889536855,
          4.365547431407375,
          4.19006358928816,
          4.014754857081094,
          3.8399180344088673,
          3.665863226614971,
          3.4929138447637023,
          3.321406605640156,
          3.1516915317502336,
          2.984131951320637,
          2.8191044982988727,
          2.6569991123532484,
          2.4982190388728736,
          2.3431808289676646,
          2.192314339468336,
          2.046062732926405,
          1.904882477614196,
          1.7692433475248321,
          1.6396284223722388,
          1.5165340875911484,
          1.4004700343370917,
          1.291959259486403,
          1.1915380656362222,
          1.099756061104487,
          1.017176159929943,
          0.9443745818721345,
          0.8819408524114095,
          0.8304778027489204,
          0.7906015698066203,
          0.7629415962272657,
          0.7481406303744158,
          0.7468547263324327,
          0.7597532439064807,
          0.7875188486225271,
          0.8308475117273421,
          0.8904485101884977,
          0.9670444266943693,
          1.061371149654136,
          1.174177873197777,
          1.3062270971760759,
          1.4582946271606205,
          1.6311695744437964,
          1.825654356038797,
          2.0425646946796183,
          2.2827296188210524,
          2.5469914626387014,
          2.8362058660289704,
          3.151241774609058,
          3.4929814397169787,
          3.862320418411535,
          4.260167573472344,
          4.687445073399825,
          5.145088392415189,
          5.634046310460459,
          6.155280913198461,
          6.70976759201283,
          7.298495044007976,
          7.9224652720091395,
          8.582693584562353,
          9.280208595934461,
          10.016052226113093,
          10.791279700806715,
          11.606959551444533
         ],
         "yaxis": "y"
        },
        {
         "marker": {
          "color": "#636EFA"
         },
         "showlegend": false,
         "type": "bar",
         "x": [
          "Linear in X",
          "Quadratic",
          "Cubic",
          "Quartic"
         ],
         "xaxis": "x2",
         "y": [
          2.272965710209297,
          1.3646273702703906,
          1.1528916542943797,
          1.1445074375807343
         ],
         "yaxis": "y2"
        }
       ],
       "layout": {
        "template": {
         "data": {
          "bar": [
           {
            "error_x": {
             "color": "#2a3f5f"
            },
            "error_y": {
             "color": "#2a3f5f"
            },
            "marker": {
             "line": {
              "color": "#E5ECF6",
              "width": 0.5
             },
             "pattern": {
              "fillmode": "overlay",
              "size": 10,
              "solidity": 0.2
             }
            },
            "type": "bar"
           }
          ],
          "barpolar": [
           {
            "marker": {
             "line": {
              "color": "#E5ECF6",
              "width": 0.5
             },
             "pattern": {
              "fillmode": "overlay",
              "size": 10,
              "solidity": 0.2
             }
            },
            "type": "barpolar"
           }
          ],
          "carpet": [
           {
            "aaxis": {
             "endlinecolor": "#2a3f5f",
             "gridcolor": "white",
             "linecolor": "white",
             "minorgridcolor": "white",
             "startlinecolor": "#2a3f5f"
            },
            "baxis": {
             "endlinecolor": "#2a3f5f",
             "gridcolor": "white",
             "linecolor": "white",
             "minorgridcolor": "white",
             "startlinecolor": "#2a3f5f"
            },
            "type": "carpet"
           }
          ],
          "choropleth": [
           {
            "colorbar": {
             "outlinewidth": 0,
             "ticks": ""
            },
            "type": "choropleth"
           }
          ],
          "contour": [
           {
            "colorbar": {
             "outlinewidth": 0,
             "ticks": ""
            },
            "colorscale": [
             [
              0,
              "#0d0887"
             ],
             [
              0.1111111111111111,
              "#46039f"
             ],
             [
              0.2222222222222222,
              "#7201a8"
             ],
             [
              0.3333333333333333,
              "#9c179e"
             ],
             [
              0.4444444444444444,
              "#bd3786"
             ],
             [
              0.5555555555555556,
              "#d8576b"
             ],
             [
              0.6666666666666666,
              "#ed7953"
             ],
             [
              0.7777777777777778,
              "#fb9f3a"
             ],
             [
              0.8888888888888888,
              "#fdca26"
             ],
             [
              1,
              "#f0f921"
             ]
            ],
            "type": "contour"
           }
          ],
          "contourcarpet": [
           {
            "colorbar": {
             "outlinewidth": 0,
             "ticks": ""
            },
            "type": "contourcarpet"
           }
          ],
          "heatmap": [
           {
            "colorbar": {
             "outlinewidth": 0,
             "ticks": ""
            },
            "colorscale": [
             [
              0,
              "#0d0887"
             ],
             [
              0.1111111111111111,
              "#46039f"
             ],
             [
              0.2222222222222222,
              "#7201a8"
             ],
             [
              0.3333333333333333,
              "#9c179e"
             ],
             [
              0.4444444444444444,
              "#bd3786"
             ],
             [
              0.5555555555555556,
              "#d8576b"
             ],
             [
              0.6666666666666666,
              "#ed7953"
             ],
             [
              0.7777777777777778,
              "#fb9f3a"
             ],
             [
              0.8888888888888888,
              "#fdca26"
             ],
             [
              1,
              "#f0f921"
             ]
            ],
            "type": "heatmap"
           }
          ],
          "heatmapgl": [
           {
            "colorbar": {
             "outlinewidth": 0,
             "ticks": ""
            },
            "colorscale": [
             [
              0,
              "#0d0887"
             ],
             [
              0.1111111111111111,
              "#46039f"
             ],
             [
              0.2222222222222222,
              "#7201a8"
             ],
             [
              0.3333333333333333,
              "#9c179e"
             ],
             [
              0.4444444444444444,
              "#bd3786"
             ],
             [
              0.5555555555555556,
              "#d8576b"
             ],
             [
              0.6666666666666666,
              "#ed7953"
             ],
             [
              0.7777777777777778,
              "#fb9f3a"
             ],
             [
              0.8888888888888888,
              "#fdca26"
             ],
             [
              1,
              "#f0f921"
             ]
            ],
            "type": "heatmapgl"
           }
          ],
          "histogram": [
           {
            "marker": {
             "pattern": {
              "fillmode": "overlay",
              "size": 10,
              "solidity": 0.2
             }
            },
            "type": "histogram"
           }
          ],
          "histogram2d": [
           {
            "colorbar": {
             "outlinewidth": 0,
             "ticks": ""
            },
            "colorscale": [
             [
              0,
              "#0d0887"
             ],
             [
              0.1111111111111111,
              "#46039f"
             ],
             [
              0.2222222222222222,
              "#7201a8"
             ],
             [
              0.3333333333333333,
              "#9c179e"
             ],
             [
              0.4444444444444444,
              "#bd3786"
             ],
             [
              0.5555555555555556,
              "#d8576b"
             ],
             [
              0.6666666666666666,
              "#ed7953"
             ],
             [
              0.7777777777777778,
              "#fb9f3a"
             ],
             [
              0.8888888888888888,
              "#fdca26"
             ],
             [
              1,
              "#f0f921"
             ]
            ],
            "type": "histogram2d"
           }
          ],
          "histogram2dcontour": [
           {
            "colorbar": {
             "outlinewidth": 0,
             "ticks": ""
            },
            "colorscale": [
             [
              0,
              "#0d0887"
             ],
             [
              0.1111111111111111,
              "#46039f"
             ],
             [
              0.2222222222222222,
              "#7201a8"
             ],
             [
              0.3333333333333333,
              "#9c179e"
             ],
             [
              0.4444444444444444,
              "#bd3786"
             ],
             [
              0.5555555555555556,
              "#d8576b"
             ],
             [
              0.6666666666666666,
              "#ed7953"
             ],
             [
              0.7777777777777778,
              "#fb9f3a"
             ],
             [
              0.8888888888888888,
              "#fdca26"
             ],
             [
              1,
              "#f0f921"
             ]
            ],
            "type": "histogram2dcontour"
           }
          ],
          "mesh3d": [
           {
            "colorbar": {
             "outlinewidth": 0,
             "ticks": ""
            },
            "type": "mesh3d"
           }
          ],
          "parcoords": [
           {
            "line": {
             "colorbar": {
              "outlinewidth": 0,
              "ticks": ""
             }
            },
            "type": "parcoords"
           }
          ],
          "pie": [
           {
            "automargin": true,
            "type": "pie"
           }
          ],
          "scatter": [
           {
            "marker": {
             "colorbar": {
              "outlinewidth": 0,
              "ticks": ""
             }
            },
            "type": "scatter"
           }
          ],
          "scatter3d": [
           {
            "line": {
             "colorbar": {
              "outlinewidth": 0,
              "ticks": ""
             }
            },
            "marker": {
             "colorbar": {
              "outlinewidth": 0,
              "ticks": ""
             }
            },
            "type": "scatter3d"
           }
          ],
          "scattercarpet": [
           {
            "marker": {
             "colorbar": {
              "outlinewidth": 0,
              "ticks": ""
             }
            },
            "type": "scattercarpet"
           }
          ],
          "scattergeo": [
           {
            "marker": {
             "colorbar": {
              "outlinewidth": 0,
              "ticks": ""
             }
            },
            "type": "scattergeo"
           }
          ],
          "scattergl": [
           {
            "marker": {
             "colorbar": {
              "outlinewidth": 0,
              "ticks": ""
             }
            },
            "type": "scattergl"
           }
          ],
          "scattermapbox": [
           {
            "marker": {
             "colorbar": {
              "outlinewidth": 0,
              "ticks": ""
             }
            },
            "type": "scattermapbox"
           }
          ],
          "scatterpolar": [
           {
            "marker": {
             "colorbar": {
              "outlinewidth": 0,
              "ticks": ""
             }
            },
            "type": "scatterpolar"
           }
          ],
          "scatterpolargl": [
           {
            "marker": {
             "colorbar": {
              "outlinewidth": 0,
              "ticks": ""
             }
            },
            "type": "scatterpolargl"
           }
          ],
          "scatterternary": [
           {
            "marker": {
             "colorbar": {
              "outlinewidth": 0,
              "ticks": ""
             }
            },
            "type": "scatterternary"
           }
          ],
          "surface": [
           {
            "colorbar": {
             "outlinewidth": 0,
             "ticks": ""
            },
            "colorscale": [
             [
              0,
              "#0d0887"
             ],
             [
              0.1111111111111111,
              "#46039f"
             ],
             [
              0.2222222222222222,
              "#7201a8"
             ],
             [
              0.3333333333333333,
              "#9c179e"
             ],
             [
              0.4444444444444444,
              "#bd3786"
             ],
             [
              0.5555555555555556,
              "#d8576b"
             ],
             [
              0.6666666666666666,
              "#ed7953"
             ],
             [
              0.7777777777777778,
              "#fb9f3a"
             ],
             [
              0.8888888888888888,
              "#fdca26"
             ],
             [
              1,
              "#f0f921"
             ]
            ],
            "type": "surface"
           }
          ],
          "table": [
           {
            "cells": {
             "fill": {
              "color": "#EBF0F8"
             },
             "line": {
              "color": "white"
             }
            },
            "header": {
             "fill": {
              "color": "#C8D4E3"
             },
             "line": {
              "color": "white"
             }
            },
            "type": "table"
           }
          ]
         },
         "layout": {
          "annotationdefaults": {
           "arrowcolor": "#2a3f5f",
           "arrowhead": 0,
           "arrowwidth": 1
          },
          "autotypenumbers": "strict",
          "coloraxis": {
           "colorbar": {
            "outlinewidth": 0,
            "ticks": ""
           }
          },
          "colorscale": {
           "diverging": [
            [
             0,
             "#8e0152"
            ],
            [
             0.1,
             "#c51b7d"
            ],
            [
             0.2,
             "#de77ae"
            ],
            [
             0.3,
             "#f1b6da"
            ],
            [
             0.4,
             "#fde0ef"
            ],
            [
             0.5,
             "#f7f7f7"
            ],
            [
             0.6,
             "#e6f5d0"
            ],
            [
             0.7,
             "#b8e186"
            ],
            [
             0.8,
             "#7fbc41"
            ],
            [
             0.9,
             "#4d9221"
            ],
            [
             1,
             "#276419"
            ]
           ],
           "sequential": [
            [
             0,
             "#0d0887"
            ],
            [
             0.1111111111111111,
             "#46039f"
            ],
            [
             0.2222222222222222,
             "#7201a8"
            ],
            [
             0.3333333333333333,
             "#9c179e"
            ],
            [
             0.4444444444444444,
             "#bd3786"
            ],
            [
             0.5555555555555556,
             "#d8576b"
            ],
            [
             0.6666666666666666,
             "#ed7953"
            ],
            [
             0.7777777777777778,
             "#fb9f3a"
            ],
            [
             0.8888888888888888,
             "#fdca26"
            ],
            [
             1,
             "#f0f921"
            ]
           ],
           "sequentialminus": [
            [
             0,
             "#0d0887"
            ],
            [
             0.1111111111111111,
             "#46039f"
            ],
            [
             0.2222222222222222,
             "#7201a8"
            ],
            [
             0.3333333333333333,
             "#9c179e"
            ],
            [
             0.4444444444444444,
             "#bd3786"
            ],
            [
             0.5555555555555556,
             "#d8576b"
            ],
            [
             0.6666666666666666,
             "#ed7953"
            ],
            [
             0.7777777777777778,
             "#fb9f3a"
            ],
            [
             0.8888888888888888,
             "#fdca26"
            ],
            [
             1,
             "#f0f921"
            ]
           ]
          },
          "colorway": [
           "#636efa",
           "#EF553B",
           "#00cc96",
           "#ab63fa",
           "#FFA15A",
           "#19d3f3",
           "#FF6692",
           "#B6E880",
           "#FF97FF",
           "#FECB52"
          ],
          "font": {
           "color": "#2a3f5f"
          },
          "geo": {
           "bgcolor": "white",
           "lakecolor": "white",
           "landcolor": "#E5ECF6",
           "showlakes": true,
           "showland": true,
           "subunitcolor": "white"
          },
          "hoverlabel": {
           "align": "left"
          },
          "hovermode": "closest",
          "mapbox": {
           "style": "light"
          },
          "paper_bgcolor": "white",
          "plot_bgcolor": "#E5ECF6",
          "polar": {
           "angularaxis": {
            "gridcolor": "white",
            "linecolor": "white",
            "ticks": ""
           },
           "bgcolor": "#E5ECF6",
           "radialaxis": {
            "gridcolor": "white",
            "linecolor": "white",
            "ticks": ""
           }
          },
          "scene": {
           "xaxis": {
            "backgroundcolor": "#E5ECF6",
            "gridcolor": "white",
            "gridwidth": 2,
            "linecolor": "white",
            "showbackground": true,
            "ticks": "",
            "zerolinecolor": "white"
           },
           "yaxis": {
            "backgroundcolor": "#E5ECF6",
            "gridcolor": "white",
            "gridwidth": 2,
            "linecolor": "white",
            "showbackground": true,
            "ticks": "",
            "zerolinecolor": "white"
           },
           "zaxis": {
            "backgroundcolor": "#E5ECF6",
            "gridcolor": "white",
            "gridwidth": 2,
            "linecolor": "white",
            "showbackground": true,
            "ticks": "",
            "zerolinecolor": "white"
           }
          },
          "shapedefaults": {
           "line": {
            "color": "#2a3f5f"
           }
          },
          "ternary": {
           "aaxis": {
            "gridcolor": "white",
            "linecolor": "white",
            "ticks": ""
           },
           "baxis": {
            "gridcolor": "white",
            "linecolor": "white",
            "ticks": ""
           },
           "bgcolor": "#E5ECF6",
           "caxis": {
            "gridcolor": "white",
            "linecolor": "white",
            "ticks": ""
           }
          },
          "title": {
           "x": 0.05
          },
          "xaxis": {
           "automargin": true,
           "gridcolor": "white",
           "linecolor": "white",
           "ticks": "",
           "title": {
            "standoff": 15
           },
           "zerolinecolor": "white",
           "zerolinewidth": 2
          },
          "yaxis": {
           "automargin": true,
           "gridcolor": "white",
           "linecolor": "white",
           "ticks": "",
           "title": {
            "standoff": 15
           },
           "zerolinecolor": "white",
           "zerolinewidth": 2
          }
         }
        },
        "xaxis": {
         "anchor": "y",
         "domain": [
          0,
          0.45
         ],
         "title": {
          "text": "X"
         }
        },
        "xaxis2": {
         "anchor": "y2",
         "domain": [
          0.55,
          1
         ]
        },
        "yaxis": {
         "anchor": "x",
         "domain": [
          0,
          1
         ],
         "range": [
          0,
          10
         ],
         "title": {
          "text": "Y"
         }
        },
        "yaxis2": {
         "anchor": "x2",
         "domain": [
          0,
          1
         ],
         "title": {
          "text": "RMSE"
         }
        }
       }
      },
      "text/html": [
       "<div>                            <div id=\"50c06fbc-2001-424f-81fc-8e37d26e3a70\" class=\"plotly-graph-div\" style=\"height:525px; width:100%;\"></div>            <script type=\"text/javascript\">                require([\"plotly\"], function(Plotly) {                    window.PLOTLYENV=window.PLOTLYENV || {};                                    if (document.getElementById(\"50c06fbc-2001-424f-81fc-8e37d26e3a70\")) {                    Plotly.newPlot(                        \"50c06fbc-2001-424f-81fc-8e37d26e3a70\",                        [{\"marker\":{\"color\":\"#636EFA\"},\"mode\":\"markers\",\"name\":\"data\",\"x\":[-2.6475819924330954,-2.0515469334036016,-1.8106646981606496,-1.312076282905776,-0.7895905078629929,-0.6609638446178359,0.8061481540360957,1.054879683024077],\"y\":[9.14045169318176,5.336237325257329,7.195181491514598,6.095357781703495,0.7219468779966638,2.177008172349038,4.367994079777328,5.852681713200849],\"type\":\"scatter\",\"xaxis\":\"x\",\"yaxis\":\"y\"},{\"marker\":{\"color\":\"#00CC96\"},\"name\":\"Linear in X\",\"x\":[-3.0,-2.9555555555555557,-2.911111111111111,-2.8666666666666667,-2.8222222222222224,-2.7777777777777777,-2.7333333333333334,-2.688888888888889,-2.6444444444444444,-2.6,-2.5555555555555554,-2.511111111111111,-2.466666666666667,-2.422222222222222,-2.3777777777777778,-2.333333333333333,-2.2888888888888888,-2.2444444444444445,-2.2,-2.1555555555555554,-2.111111111111111,-2.0666666666666664,-2.022222222222222,-1.9777777777777776,-1.9333333333333333,-1.8888888888888888,-1.8444444444444443,-1.8,-1.7555555555555555,-1.711111111111111,-1.6666666666666665,-1.6222222222222222,-1.5777777777777777,-1.5333333333333332,-1.488888888888889,-1.4444444444444444,-1.4,-1.3555555555555554,-1.3111111111111111,-1.2666666666666666,-1.222222222222222,-1.1777777777777778,-1.1333333333333333,-1.0888888888888888,-1.0444444444444443,-1.0,-0.9555555555555553,-0.911111111111111,-0.8666666666666667,-0.822222222222222,-0.7777777777777777,-0.7333333333333334,-0.6888888888888887,-0.6444444444444444,-0.6000000000000001,-0.5555555555555554,-0.5111111111111111,-0.4666666666666668,-0.42222222222222205,-0.37777777777777777,-0.33333333333333304,-0.28888888888888875,-0.24444444444444446,-0.19999999999999973,-0.15555555555555545,-0.11111111111111116,-0.06666666666666643,-0.022222222222222143,0.022222222222222143,0.06666666666666687,0.11111111111111116,0.1555555555555559,0.20000000000000018,0.24444444444444446,0.2888888888888892,0.3333333333333335,0.37777777777777777,0.4222222222222225,0.4666666666666668,0.5111111111111111,0.5555555555555558,0.6000000000000001,0.6444444444444444,0.6888888888888891,0.7333333333333334,0.7777777777777781,0.8222222222222224,0.8666666666666667,0.9111111111111114,0.9555555555555557,1.0,1.0444444444444443,1.0888888888888895,1.1333333333333337,1.177777777777778,1.2222222222222223,1.2666666666666666,1.311111111111111,1.355555555555556,1.4],\"y\":[6.917571409286772,6.878846799154056,6.840122189021339,6.801397578888623,6.762672968755907,6.72394835862319,6.685223748490474,6.646499138357758,6.6077745282250415,6.569049918092325,6.530325307959609,6.491600697826893,6.452876087694177,6.41415147756146,6.375426867428744,6.336702257296028,6.297977647163312,6.259253037030596,6.2205284268978795,6.1818038167651626,6.143079206632446,6.10435459649973,6.065629986367014,6.026905376234298,5.988180766101582,5.949456155968865,5.910731545836149,5.872006935703433,5.833282325570717,5.794557715438,5.755833105305284,5.7171084951725675,5.678383885039851,5.639659274907135,5.600934664774419,5.562210054641703,5.523485444508986,5.48476083437627,5.446036224243554,5.407311614110838,5.368587003978121,5.329862393845405,5.2911377837126885,5.252413173579972,5.213688563447256,5.17496395331454,5.136239343181823,5.097514733049107,5.058790122916391,5.020065512783675,4.981340902650959,4.942616292518243,4.903891682385526,4.8651670722528095,4.826442462120093,4.787717851987377,4.748993241854661,4.710268631721945,4.671544021589229,4.632819411456512,4.594094801323796,4.55537019119108,4.516645581058364,4.477920970925647,4.439196360792931,4.4004717506602145,4.361747140527498,4.323022530394782,4.284297920262066,4.24557331012935,4.206848699996634,4.168124089863917,4.129399479731201,4.090674869598485,4.051950259465769,4.0132256493330525,3.974501039200336,3.9357764290676194,3.8970518189349033,3.858327208802187,3.8196025986694706,3.7808779885367545,3.7421533784040384,3.703428768271322,3.6647041581386057,3.625979548005889,3.587254937873173,3.548530327740457,3.5098057176077404,3.4710811074750243,3.432356497342308,3.393631887209592,3.354907277076875,3.316182666944159,3.277458056811443,3.2387334466787268,3.2000088365460106,3.1612842264132945,3.1225596162805775,3.0838350061478623],\"type\":\"scatter\",\"xaxis\":\"x\",\"yaxis\":\"y\"},{\"marker\":{\"color\":\"#AB63FA\"},\"name\":\"Quadratic\",\"x\":[-3.0,-2.9555555555555557,-2.911111111111111,-2.8666666666666667,-2.8222222222222224,-2.7777777777777777,-2.7333333333333334,-2.688888888888889,-2.6444444444444444,-2.6,-2.5555555555555554,-2.511111111111111,-2.466666666666667,-2.422222222222222,-2.3777777777777778,-2.333333333333333,-2.2888888888888888,-2.2444444444444445,-2.2,-2.1555555555555554,-2.111111111111111,-2.0666666666666664,-2.022222222222222,-1.9777777777777776,-1.9333333333333333,-1.8888888888888888,-1.8444444444444443,-1.8,-1.7555555555555555,-1.711111111111111,-1.6666666666666665,-1.6222222222222222,-1.5777777777777777,-1.5333333333333332,-1.488888888888889,-1.4444444444444444,-1.4,-1.3555555555555554,-1.3111111111111111,-1.2666666666666666,-1.222222222222222,-1.1777777777777778,-1.1333333333333333,-1.0888888888888888,-1.0444444444444443,-1.0,-0.9555555555555553,-0.911111111111111,-0.8666666666666667,-0.822222222222222,-0.7777777777777777,-0.7333333333333334,-0.6888888888888887,-0.6444444444444444,-0.6000000000000001,-0.5555555555555554,-0.5111111111111111,-0.4666666666666668,-0.42222222222222205,-0.37777777777777777,-0.33333333333333304,-0.28888888888888875,-0.24444444444444446,-0.19999999999999973,-0.15555555555555545,-0.11111111111111116,-0.06666666666666643,-0.022222222222222143,0.022222222222222143,0.06666666666666687,0.11111111111111116,0.1555555555555559,0.20000000000000018,0.24444444444444446,0.2888888888888892,0.3333333333333335,0.37777777777777777,0.4222222222222225,0.4666666666666668,0.5111111111111111,0.5555555555555558,0.6000000000000001,0.6444444444444444,0.6888888888888891,0.7333333333333334,0.7777777777777781,0.8222222222222224,0.8666666666666667,0.9111111111111114,0.9555555555555557,1.0,1.0444444444444443,1.0888888888888895,1.1333333333333337,1.177777777777778,1.2222222222222223,1.2666666666666666,1.311111111111111,1.355555555555556,1.4],\"y\":[12.036180361231835,11.720270179273705,11.409747663988355,11.104612815375805,10.804865633436041,10.510506118169065,10.221534269574882,9.93795008765349,9.659753572404885,9.386944723829073,9.119523541926048,8.857490026695817,8.600844178138374,8.349585996253719,8.103715481041856,7.863232632502782,7.6281374506365,7.398429935443008,7.174110086922306,6.955177905074391,6.7416333898992695,6.533476541396936,6.330707359567394,6.133325844410642,5.94133199592668,5.754725814115507,5.573507298977124,5.397676450511533,5.227233268718731,5.062177753598718,4.902509905151495,4.748229723377064,4.599337208275422,4.45583235984657,4.317715178090508,4.184985663007237,4.057643814596755,3.935689632859063,3.8191231177941622,3.7079442694020504,3.602153087682729,3.501749572636198,3.4067337242624562,3.317105542561505,3.232865027533344,3.1540121791779727,3.0805469974953916,3.012469482485601,2.9497796341486,2.892477452484389,2.840562937492968,2.794036089174338,2.7528969075284966,2.7171453925554463,2.6867815442551857,2.661805362627715,2.6422168476730348,2.6280159993911445,2.6192028177820443,2.615777302845734,2.617739454582214,2.6250892729914836,2.637826758073544,2.655951909828394,2.679464728256034,2.708365213356464,2.7426533651296845,2.7823291835756945,2.8273926686944946,2.8778438204860857,2.933682638950466,2.994909124087637,3.061523275897597,3.1335250943803477,3.210914579535889,3.2936917313642193,3.38185654986534,3.4754090350392515,3.574349186885952,3.6786770054054427,3.788392490597724,3.9034956424627953,4.023986461000656,4.149864946211308,4.281131098094749,4.417784916650982,4.559826401880002,4.707255553781813,4.860072372356416,5.018276857603807,5.1818690095239885,5.350848828116959,5.525216313382725,5.704971465321275,5.890114283932617,6.0806447692167485,6.27656292117367,6.477868739803381,6.684562225105887,6.896643377081176],\"type\":\"scatter\",\"xaxis\":\"x\",\"yaxis\":\"y\"},{\"marker\":{\"color\":\"#FFA15A\"},\"name\":\"Cubic\",\"x\":[-3.0,-2.9555555555555557,-2.911111111111111,-2.8666666666666667,-2.8222222222222224,-2.7777777777777777,-2.7333333333333334,-2.688888888888889,-2.6444444444444444,-2.6,-2.5555555555555554,-2.511111111111111,-2.466666666666667,-2.422222222222222,-2.3777777777777778,-2.333333333333333,-2.2888888888888888,-2.2444444444444445,-2.2,-2.1555555555555554,-2.111111111111111,-2.0666666666666664,-2.022222222222222,-1.9777777777777776,-1.9333333333333333,-1.8888888888888888,-1.8444444444444443,-1.8,-1.7555555555555555,-1.711111111111111,-1.6666666666666665,-1.6222222222222222,-1.5777777777777777,-1.5333333333333332,-1.488888888888889,-1.4444444444444444,-1.4,-1.3555555555555554,-1.3111111111111111,-1.2666666666666666,-1.222222222222222,-1.1777777777777778,-1.1333333333333333,-1.0888888888888888,-1.0444444444444443,-1.0,-0.9555555555555553,-0.911111111111111,-0.8666666666666667,-0.822222222222222,-0.7777777777777777,-0.7333333333333334,-0.6888888888888887,-0.6444444444444444,-0.6000000000000001,-0.5555555555555554,-0.5111111111111111,-0.4666666666666668,-0.42222222222222205,-0.37777777777777777,-0.33333333333333304,-0.28888888888888875,-0.24444444444444446,-0.19999999999999973,-0.15555555555555545,-0.11111111111111116,-0.06666666666666643,-0.022222222222222143,0.022222222222222143,0.06666666666666687,0.11111111111111116,0.1555555555555559,0.20000000000000018,0.24444444444444446,0.2888888888888892,0.3333333333333335,0.37777777777777777,0.4222222222222225,0.4666666666666668,0.5111111111111111,0.5555555555555558,0.6000000000000001,0.6444444444444444,0.6888888888888891,0.7333333333333334,0.7777777777777781,0.8222222222222224,0.8666666666666667,0.9111111111111114,0.9555555555555557,1.0,1.0444444444444443,1.0888888888888895,1.1333333333333337,1.177777777777778,1.2222222222222223,1.2666666666666666,1.311111111111111,1.355555555555556,1.4],\"y\":[8.781827335663941,8.814772119120722,8.83491853069297,8.84265027280875,8.838351047896097,8.822404558383063,8.795194506697705,8.757104595268078,8.70851852652222,8.649820002888193,8.581392726794041,8.503620400667817,8.416886726937573,8.321575408031364,8.218070146377235,8.106754644403233,7.988012604537417,7.8622277292078415,7.729783720842546,7.591064281869585,7.446453114717016,7.296333921812882,7.141090405585238,6.981106268462135,6.816765212871623,6.6484509412417525,6.476547156000577,6.301437559576144,6.123505854396506,5.943135742889712,5.7607109274838155,5.576615110606868,5.391231994686919,5.2049452821520195,5.018138675430221,4.8311958769495735,4.6445005891381275,4.458436514423935,4.273387355235048,4.089736813999516,3.9078685931453894,3.728166395100722,3.551013922293561,3.37679487715196,3.2058929621039685,3.0386918795776388,2.875575332001019,2.716927021802164,2.563130651409123,2.414569923249946,2.2716285397526854,2.134690203345392,2.004138616456115,1.880357481512907,1.7637305009438191,1.6546413771769002,1.5534738126402043,1.4606115097617807,1.3764381709696794,1.3013374986919533,1.2356931953566517,1.179888963391827,1.1343085052255293,1.0993355232858095,1.0753537200007188,1.0627467977983083,1.0618984591066285,1.0731924063537306,1.0970123419676654,1.1337419683764844,1.1837649880082377,1.2474651032909772,1.3252260166527527,1.4174314305216158,1.5244650473256185,1.6467105694928095,1.7845516994512407,1.938372139628965,2.10855559245403,2.295485760354488,2.499546345758392,2.7211210510937898,2.9605935787887327,3.218347631271276,3.494766910969464,3.790235120311355,4.105135961724992,4.43985313763843,4.794770350479722,5.170271302676915,5.566739696658061,5.984559234851211,6.424113619684427,6.8857865535857385,7.369961738983209,7.877022878304887,8.407353673978825,8.961337828433074,9.539359044095693,10.141801023394708],\"type\":\"scatter\",\"xaxis\":\"x\",\"yaxis\":\"y\"},{\"marker\":{\"color\":\"#19D3F3\"},\"name\":\"Quartic\",\"x\":[-3.0,-2.9555555555555557,-2.911111111111111,-2.8666666666666667,-2.8222222222222224,-2.7777777777777777,-2.7333333333333334,-2.688888888888889,-2.6444444444444444,-2.6,-2.5555555555555554,-2.511111111111111,-2.466666666666667,-2.422222222222222,-2.3777777777777778,-2.333333333333333,-2.2888888888888888,-2.2444444444444445,-2.2,-2.1555555555555554,-2.111111111111111,-2.0666666666666664,-2.022222222222222,-1.9777777777777776,-1.9333333333333333,-1.8888888888888888,-1.8444444444444443,-1.8,-1.7555555555555555,-1.711111111111111,-1.6666666666666665,-1.6222222222222222,-1.5777777777777777,-1.5333333333333332,-1.488888888888889,-1.4444444444444444,-1.4,-1.3555555555555554,-1.3111111111111111,-1.2666666666666666,-1.222222222222222,-1.1777777777777778,-1.1333333333333333,-1.0888888888888888,-1.0444444444444443,-1.0,-0.9555555555555553,-0.911111111111111,-0.8666666666666667,-0.822222222222222,-0.7777777777777777,-0.7333333333333334,-0.6888888888888887,-0.6444444444444444,-0.6000000000000001,-0.5555555555555554,-0.5111111111111111,-0.4666666666666668,-0.42222222222222205,-0.37777777777777777,-0.33333333333333304,-0.28888888888888875,-0.24444444444444446,-0.19999999999999973,-0.15555555555555545,-0.11111111111111116,-0.06666666666666643,-0.022222222222222143,0.022222222222222143,0.06666666666666687,0.11111111111111116,0.1555555555555559,0.20000000000000018,0.24444444444444446,0.2888888888888892,0.3333333333333335,0.37777777777777777,0.4222222222222225,0.4666666666666668,0.5111111111111111,0.5555555555555558,0.6000000000000001,0.6444444444444444,0.6888888888888891,0.7333333333333334,0.7777777777777781,0.8222222222222224,0.8666666666666667,0.9111111111111114,0.9555555555555557,1.0,1.0444444444444443,1.0888888888888895,1.1333333333333337,1.177777777777778,1.2222222222222223,1.2666666666666666,1.311111111111111,1.355555555555556,1.4],\"y\":[9.578779950358374,9.4851099304597,9.390196173925762,9.293829862988776,9.195815485601702,9.095970835438344,8.994127011893298,8.890128420081975,8.78383277084055,8.675111080726037,8.56384767201624,8.449940172709784,8.333299516526061,8.213849942905295,8.091528997008496,7.96628752971749,7.838089697634893,7.706912963084139,7.572748094109444,7.435599164475847,7.2954835536691816,7.1524319468960735,7.006488335083966,6.857710014881108,6.706167588656532,6.55194496450009,6.395139356222428,6.235861283354999,6.074234571150061,5.9103963505806645,5.7444970583406745,5.576700436844752,5.40718353422836,5.236136704347769,5.063763606780048,4.890281206823071,4.715919775495514,4.540922889536855,4.365547431407375,4.19006358928816,4.014754857081094,3.8399180344088673,3.665863226614971,3.4929138447637023,3.321406605640156,3.1516915317502336,2.984131951320637,2.8191044982988727,2.6569991123532484,2.4982190388728736,2.3431808289676646,2.192314339468336,2.046062732926405,1.904882477614196,1.7692433475248321,1.6396284223722388,1.5165340875911484,1.4004700343370917,1.291959259486403,1.1915380656362222,1.099756061104487,1.017176159929943,0.9443745818721345,0.8819408524114095,0.8304778027489204,0.7906015698066203,0.7629415962272657,0.7481406303744158,0.7468547263324327,0.7597532439064807,0.7875188486225271,0.8308475117273421,0.8904485101884977,0.9670444266943693,1.061371149654136,1.174177873197777,1.3062270971760759,1.4582946271606205,1.6311695744437964,1.825654356038797,2.0425646946796183,2.2827296188210524,2.5469914626387014,2.8362058660289704,3.151241774609058,3.4929814397169787,3.862320418411535,4.260167573472344,4.687445073399825,5.145088392415189,5.634046310460459,6.155280913198461,6.70976759201283,7.298495044007976,7.9224652720091395,8.582693584562353,9.280208595934461,10.016052226113093,10.791279700806715,11.606959551444533],\"type\":\"scatter\",\"xaxis\":\"x\",\"yaxis\":\"y\"},{\"marker\":{\"color\":\"#636EFA\"},\"showlegend\":false,\"x\":[\"Linear in X\",\"Quadratic\",\"Cubic\",\"Quartic\"],\"y\":[2.272965710209297,1.3646273702703906,1.1528916542943797,1.1445074375807343],\"type\":\"bar\",\"xaxis\":\"x2\",\"yaxis\":\"y2\"}],                        {\"template\":{\"data\":{\"bar\":[{\"error_x\":{\"color\":\"#2a3f5f\"},\"error_y\":{\"color\":\"#2a3f5f\"},\"marker\":{\"line\":{\"color\":\"#E5ECF6\",\"width\":0.5},\"pattern\":{\"fillmode\":\"overlay\",\"size\":10,\"solidity\":0.2}},\"type\":\"bar\"}],\"barpolar\":[{\"marker\":{\"line\":{\"color\":\"#E5ECF6\",\"width\":0.5},\"pattern\":{\"fillmode\":\"overlay\",\"size\":10,\"solidity\":0.2}},\"type\":\"barpolar\"}],\"carpet\":[{\"aaxis\":{\"endlinecolor\":\"#2a3f5f\",\"gridcolor\":\"white\",\"linecolor\":\"white\",\"minorgridcolor\":\"white\",\"startlinecolor\":\"#2a3f5f\"},\"baxis\":{\"endlinecolor\":\"#2a3f5f\",\"gridcolor\":\"white\",\"linecolor\":\"white\",\"minorgridcolor\":\"white\",\"startlinecolor\":\"#2a3f5f\"},\"type\":\"carpet\"}],\"choropleth\":[{\"colorbar\":{\"outlinewidth\":0,\"ticks\":\"\"},\"type\":\"choropleth\"}],\"contour\":[{\"colorbar\":{\"outlinewidth\":0,\"ticks\":\"\"},\"colorscale\":[[0.0,\"#0d0887\"],[0.1111111111111111,\"#46039f\"],[0.2222222222222222,\"#7201a8\"],[0.3333333333333333,\"#9c179e\"],[0.4444444444444444,\"#bd3786\"],[0.5555555555555556,\"#d8576b\"],[0.6666666666666666,\"#ed7953\"],[0.7777777777777778,\"#fb9f3a\"],[0.8888888888888888,\"#fdca26\"],[1.0,\"#f0f921\"]],\"type\":\"contour\"}],\"contourcarpet\":[{\"colorbar\":{\"outlinewidth\":0,\"ticks\":\"\"},\"type\":\"contourcarpet\"}],\"heatmap\":[{\"colorbar\":{\"outlinewidth\":0,\"ticks\":\"\"},\"colorscale\":[[0.0,\"#0d0887\"],[0.1111111111111111,\"#46039f\"],[0.2222222222222222,\"#7201a8\"],[0.3333333333333333,\"#9c179e\"],[0.4444444444444444,\"#bd3786\"],[0.5555555555555556,\"#d8576b\"],[0.6666666666666666,\"#ed7953\"],[0.7777777777777778,\"#fb9f3a\"],[0.8888888888888888,\"#fdca26\"],[1.0,\"#f0f921\"]],\"type\":\"heatmap\"}],\"heatmapgl\":[{\"colorbar\":{\"outlinewidth\":0,\"ticks\":\"\"},\"colorscale\":[[0.0,\"#0d0887\"],[0.1111111111111111,\"#46039f\"],[0.2222222222222222,\"#7201a8\"],[0.3333333333333333,\"#9c179e\"],[0.4444444444444444,\"#bd3786\"],[0.5555555555555556,\"#d8576b\"],[0.6666666666666666,\"#ed7953\"],[0.7777777777777778,\"#fb9f3a\"],[0.8888888888888888,\"#fdca26\"],[1.0,\"#f0f921\"]],\"type\":\"heatmapgl\"}],\"histogram\":[{\"marker\":{\"pattern\":{\"fillmode\":\"overlay\",\"size\":10,\"solidity\":0.2}},\"type\":\"histogram\"}],\"histogram2d\":[{\"colorbar\":{\"outlinewidth\":0,\"ticks\":\"\"},\"colorscale\":[[0.0,\"#0d0887\"],[0.1111111111111111,\"#46039f\"],[0.2222222222222222,\"#7201a8\"],[0.3333333333333333,\"#9c179e\"],[0.4444444444444444,\"#bd3786\"],[0.5555555555555556,\"#d8576b\"],[0.6666666666666666,\"#ed7953\"],[0.7777777777777778,\"#fb9f3a\"],[0.8888888888888888,\"#fdca26\"],[1.0,\"#f0f921\"]],\"type\":\"histogram2d\"}],\"histogram2dcontour\":[{\"colorbar\":{\"outlinewidth\":0,\"ticks\":\"\"},\"colorscale\":[[0.0,\"#0d0887\"],[0.1111111111111111,\"#46039f\"],[0.2222222222222222,\"#7201a8\"],[0.3333333333333333,\"#9c179e\"],[0.4444444444444444,\"#bd3786\"],[0.5555555555555556,\"#d8576b\"],[0.6666666666666666,\"#ed7953\"],[0.7777777777777778,\"#fb9f3a\"],[0.8888888888888888,\"#fdca26\"],[1.0,\"#f0f921\"]],\"type\":\"histogram2dcontour\"}],\"mesh3d\":[{\"colorbar\":{\"outlinewidth\":0,\"ticks\":\"\"},\"type\":\"mesh3d\"}],\"parcoords\":[{\"line\":{\"colorbar\":{\"outlinewidth\":0,\"ticks\":\"\"}},\"type\":\"parcoords\"}],\"pie\":[{\"automargin\":true,\"type\":\"pie\"}],\"scatter\":[{\"marker\":{\"colorbar\":{\"outlinewidth\":0,\"ticks\":\"\"}},\"type\":\"scatter\"}],\"scatter3d\":[{\"line\":{\"colorbar\":{\"outlinewidth\":0,\"ticks\":\"\"}},\"marker\":{\"colorbar\":{\"outlinewidth\":0,\"ticks\":\"\"}},\"type\":\"scatter3d\"}],\"scattercarpet\":[{\"marker\":{\"colorbar\":{\"outlinewidth\":0,\"ticks\":\"\"}},\"type\":\"scattercarpet\"}],\"scattergeo\":[{\"marker\":{\"colorbar\":{\"outlinewidth\":0,\"ticks\":\"\"}},\"type\":\"scattergeo\"}],\"scattergl\":[{\"marker\":{\"colorbar\":{\"outlinewidth\":0,\"ticks\":\"\"}},\"type\":\"scattergl\"}],\"scattermapbox\":[{\"marker\":{\"colorbar\":{\"outlinewidth\":0,\"ticks\":\"\"}},\"type\":\"scattermapbox\"}],\"scatterpolar\":[{\"marker\":{\"colorbar\":{\"outlinewidth\":0,\"ticks\":\"\"}},\"type\":\"scatterpolar\"}],\"scatterpolargl\":[{\"marker\":{\"colorbar\":{\"outlinewidth\":0,\"ticks\":\"\"}},\"type\":\"scatterpolargl\"}],\"scatterternary\":[{\"marker\":{\"colorbar\":{\"outlinewidth\":0,\"ticks\":\"\"}},\"type\":\"scatterternary\"}],\"surface\":[{\"colorbar\":{\"outlinewidth\":0,\"ticks\":\"\"},\"colorscale\":[[0.0,\"#0d0887\"],[0.1111111111111111,\"#46039f\"],[0.2222222222222222,\"#7201a8\"],[0.3333333333333333,\"#9c179e\"],[0.4444444444444444,\"#bd3786\"],[0.5555555555555556,\"#d8576b\"],[0.6666666666666666,\"#ed7953\"],[0.7777777777777778,\"#fb9f3a\"],[0.8888888888888888,\"#fdca26\"],[1.0,\"#f0f921\"]],\"type\":\"surface\"}],\"table\":[{\"cells\":{\"fill\":{\"color\":\"#EBF0F8\"},\"line\":{\"color\":\"white\"}},\"header\":{\"fill\":{\"color\":\"#C8D4E3\"},\"line\":{\"color\":\"white\"}},\"type\":\"table\"}]},\"layout\":{\"annotationdefaults\":{\"arrowcolor\":\"#2a3f5f\",\"arrowhead\":0,\"arrowwidth\":1},\"autotypenumbers\":\"strict\",\"coloraxis\":{\"colorbar\":{\"outlinewidth\":0,\"ticks\":\"\"}},\"colorscale\":{\"diverging\":[[0,\"#8e0152\"],[0.1,\"#c51b7d\"],[0.2,\"#de77ae\"],[0.3,\"#f1b6da\"],[0.4,\"#fde0ef\"],[0.5,\"#f7f7f7\"],[0.6,\"#e6f5d0\"],[0.7,\"#b8e186\"],[0.8,\"#7fbc41\"],[0.9,\"#4d9221\"],[1,\"#276419\"]],\"sequential\":[[0.0,\"#0d0887\"],[0.1111111111111111,\"#46039f\"],[0.2222222222222222,\"#7201a8\"],[0.3333333333333333,\"#9c179e\"],[0.4444444444444444,\"#bd3786\"],[0.5555555555555556,\"#d8576b\"],[0.6666666666666666,\"#ed7953\"],[0.7777777777777778,\"#fb9f3a\"],[0.8888888888888888,\"#fdca26\"],[1.0,\"#f0f921\"]],\"sequentialminus\":[[0.0,\"#0d0887\"],[0.1111111111111111,\"#46039f\"],[0.2222222222222222,\"#7201a8\"],[0.3333333333333333,\"#9c179e\"],[0.4444444444444444,\"#bd3786\"],[0.5555555555555556,\"#d8576b\"],[0.6666666666666666,\"#ed7953\"],[0.7777777777777778,\"#fb9f3a\"],[0.8888888888888888,\"#fdca26\"],[1.0,\"#f0f921\"]]},\"colorway\":[\"#636efa\",\"#EF553B\",\"#00cc96\",\"#ab63fa\",\"#FFA15A\",\"#19d3f3\",\"#FF6692\",\"#B6E880\",\"#FF97FF\",\"#FECB52\"],\"font\":{\"color\":\"#2a3f5f\"},\"geo\":{\"bgcolor\":\"white\",\"lakecolor\":\"white\",\"landcolor\":\"#E5ECF6\",\"showlakes\":true,\"showland\":true,\"subunitcolor\":\"white\"},\"hoverlabel\":{\"align\":\"left\"},\"hovermode\":\"closest\",\"mapbox\":{\"style\":\"light\"},\"paper_bgcolor\":\"white\",\"plot_bgcolor\":\"#E5ECF6\",\"polar\":{\"angularaxis\":{\"gridcolor\":\"white\",\"linecolor\":\"white\",\"ticks\":\"\"},\"bgcolor\":\"#E5ECF6\",\"radialaxis\":{\"gridcolor\":\"white\",\"linecolor\":\"white\",\"ticks\":\"\"}},\"scene\":{\"xaxis\":{\"backgroundcolor\":\"#E5ECF6\",\"gridcolor\":\"white\",\"gridwidth\":2,\"linecolor\":\"white\",\"showbackground\":true,\"ticks\":\"\",\"zerolinecolor\":\"white\"},\"yaxis\":{\"backgroundcolor\":\"#E5ECF6\",\"gridcolor\":\"white\",\"gridwidth\":2,\"linecolor\":\"white\",\"showbackground\":true,\"ticks\":\"\",\"zerolinecolor\":\"white\"},\"zaxis\":{\"backgroundcolor\":\"#E5ECF6\",\"gridcolor\":\"white\",\"gridwidth\":2,\"linecolor\":\"white\",\"showbackground\":true,\"ticks\":\"\",\"zerolinecolor\":\"white\"}},\"shapedefaults\":{\"line\":{\"color\":\"#2a3f5f\"}},\"ternary\":{\"aaxis\":{\"gridcolor\":\"white\",\"linecolor\":\"white\",\"ticks\":\"\"},\"baxis\":{\"gridcolor\":\"white\",\"linecolor\":\"white\",\"ticks\":\"\"},\"bgcolor\":\"#E5ECF6\",\"caxis\":{\"gridcolor\":\"white\",\"linecolor\":\"white\",\"ticks\":\"\"}},\"title\":{\"x\":0.05},\"xaxis\":{\"automargin\":true,\"gridcolor\":\"white\",\"linecolor\":\"white\",\"ticks\":\"\",\"title\":{\"standoff\":15},\"zerolinecolor\":\"white\",\"zerolinewidth\":2},\"yaxis\":{\"automargin\":true,\"gridcolor\":\"white\",\"linecolor\":\"white\",\"ticks\":\"\",\"title\":{\"standoff\":15},\"zerolinecolor\":\"white\",\"zerolinewidth\":2}}},\"xaxis\":{\"anchor\":\"y\",\"domain\":[0.0,0.45],\"title\":{\"text\":\"X\"}},\"yaxis\":{\"anchor\":\"x\",\"domain\":[0.0,1.0],\"title\":{\"text\":\"Y\"},\"range\":[0,10]},\"xaxis2\":{\"anchor\":\"y2\",\"domain\":[0.55,1.0]},\"yaxis2\":{\"anchor\":\"x2\",\"domain\":[0.0,1.0],\"title\":{\"text\":\"RMSE\"}}},                        {\"responsive\": true}                    ).then(function(){\n",
       "                            \n",
       "var gd = document.getElementById('50c06fbc-2001-424f-81fc-8e37d26e3a70');\n",
       "var x = new MutationObserver(function (mutations, observer) {{\n",
       "        var display = window.getComputedStyle(gd).display;\n",
       "        if (!display || display === 'none') {{\n",
       "            console.log([gd, 'removed!']);\n",
       "            Plotly.purge(gd);\n",
       "            observer.disconnect();\n",
       "        }}\n",
       "}});\n",
       "\n",
       "// Listen for the removal of the full notebook cells\n",
       "var notebookContainer = gd.closest('#notebook-container');\n",
       "if (notebookContainer) {{\n",
       "    x.observe(notebookContainer, {childList: true});\n",
       "}}\n",
       "\n",
       "// Listen for the clearing of the current output cell\n",
       "var outputEl = gd.closest('.output');\n",
       "if (outputEl) {{\n",
       "    x.observe(outputEl, {childList: true});\n",
       "}}\n",
       "\n",
       "                        })                };                });            </script>        </div>"
      ]
     },
     "metadata": {},
     "output_type": "display_data"
    }
   ],
   "source": [
    "model = LinearRegression()\n",
    "model.fit(phi_polynomials(data[[\"X\"]].to_numpy(), p=4), data[[\"Y\"]])\n",
    "evaluate_model(\"Quartic\", model, lambda x: phi_polynomials(x, p=4), models)"
   ]
  },
  {
   "cell_type": "code",
   "execution_count": 17,
   "metadata": {},
   "outputs": [
    {
     "name": "stdout",
     "output_type": "stream",
     "text": [
      "Root Mean Squared Error: 0.7148394938839464\n"
     ]
    },
    {
     "data": {
      "application/vnd.plotly.v1+json": {
       "config": {
        "plotlyServerURL": "https://plot.ly"
       },
       "data": [
        {
         "marker": {
          "color": "#636EFA"
         },
         "mode": "markers",
         "name": "data",
         "type": "scatter",
         "x": [
          -2.6475819924330954,
          -2.0515469334036016,
          -1.8106646981606496,
          -1.312076282905776,
          -0.7895905078629929,
          -0.6609638446178359,
          0.8061481540360957,
          1.054879683024077
         ],
         "xaxis": "x",
         "y": [
          9.14045169318176,
          5.336237325257329,
          7.195181491514598,
          6.095357781703495,
          0.7219468779966638,
          2.177008172349038,
          4.367994079777328,
          5.852681713200849
         ],
         "yaxis": "y"
        },
        {
         "marker": {
          "color": "#00CC96"
         },
         "name": "Linear in X",
         "type": "scatter",
         "x": [
          -3,
          -2.9555555555555557,
          -2.911111111111111,
          -2.8666666666666667,
          -2.8222222222222224,
          -2.7777777777777777,
          -2.7333333333333334,
          -2.688888888888889,
          -2.6444444444444444,
          -2.6,
          -2.5555555555555554,
          -2.511111111111111,
          -2.466666666666667,
          -2.422222222222222,
          -2.3777777777777778,
          -2.333333333333333,
          -2.2888888888888888,
          -2.2444444444444445,
          -2.2,
          -2.1555555555555554,
          -2.111111111111111,
          -2.0666666666666664,
          -2.022222222222222,
          -1.9777777777777776,
          -1.9333333333333333,
          -1.8888888888888888,
          -1.8444444444444443,
          -1.8,
          -1.7555555555555555,
          -1.711111111111111,
          -1.6666666666666665,
          -1.6222222222222222,
          -1.5777777777777777,
          -1.5333333333333332,
          -1.488888888888889,
          -1.4444444444444444,
          -1.4,
          -1.3555555555555554,
          -1.3111111111111111,
          -1.2666666666666666,
          -1.222222222222222,
          -1.1777777777777778,
          -1.1333333333333333,
          -1.0888888888888888,
          -1.0444444444444443,
          -1,
          -0.9555555555555553,
          -0.911111111111111,
          -0.8666666666666667,
          -0.822222222222222,
          -0.7777777777777777,
          -0.7333333333333334,
          -0.6888888888888887,
          -0.6444444444444444,
          -0.6000000000000001,
          -0.5555555555555554,
          -0.5111111111111111,
          -0.4666666666666668,
          -0.42222222222222205,
          -0.37777777777777777,
          -0.33333333333333304,
          -0.28888888888888875,
          -0.24444444444444446,
          -0.19999999999999973,
          -0.15555555555555545,
          -0.11111111111111116,
          -0.06666666666666643,
          -0.022222222222222143,
          0.022222222222222143,
          0.06666666666666687,
          0.11111111111111116,
          0.1555555555555559,
          0.20000000000000018,
          0.24444444444444446,
          0.2888888888888892,
          0.3333333333333335,
          0.37777777777777777,
          0.4222222222222225,
          0.4666666666666668,
          0.5111111111111111,
          0.5555555555555558,
          0.6000000000000001,
          0.6444444444444444,
          0.6888888888888891,
          0.7333333333333334,
          0.7777777777777781,
          0.8222222222222224,
          0.8666666666666667,
          0.9111111111111114,
          0.9555555555555557,
          1,
          1.0444444444444443,
          1.0888888888888895,
          1.1333333333333337,
          1.177777777777778,
          1.2222222222222223,
          1.2666666666666666,
          1.311111111111111,
          1.355555555555556,
          1.4
         ],
         "xaxis": "x",
         "y": [
          6.917571409286772,
          6.878846799154056,
          6.840122189021339,
          6.801397578888623,
          6.762672968755907,
          6.72394835862319,
          6.685223748490474,
          6.646499138357758,
          6.6077745282250415,
          6.569049918092325,
          6.530325307959609,
          6.491600697826893,
          6.452876087694177,
          6.41415147756146,
          6.375426867428744,
          6.336702257296028,
          6.297977647163312,
          6.259253037030596,
          6.2205284268978795,
          6.1818038167651626,
          6.143079206632446,
          6.10435459649973,
          6.065629986367014,
          6.026905376234298,
          5.988180766101582,
          5.949456155968865,
          5.910731545836149,
          5.872006935703433,
          5.833282325570717,
          5.794557715438,
          5.755833105305284,
          5.7171084951725675,
          5.678383885039851,
          5.639659274907135,
          5.600934664774419,
          5.562210054641703,
          5.523485444508986,
          5.48476083437627,
          5.446036224243554,
          5.407311614110838,
          5.368587003978121,
          5.329862393845405,
          5.2911377837126885,
          5.252413173579972,
          5.213688563447256,
          5.17496395331454,
          5.136239343181823,
          5.097514733049107,
          5.058790122916391,
          5.020065512783675,
          4.981340902650959,
          4.942616292518243,
          4.903891682385526,
          4.8651670722528095,
          4.826442462120093,
          4.787717851987377,
          4.748993241854661,
          4.710268631721945,
          4.671544021589229,
          4.632819411456512,
          4.594094801323796,
          4.55537019119108,
          4.516645581058364,
          4.477920970925647,
          4.439196360792931,
          4.4004717506602145,
          4.361747140527498,
          4.323022530394782,
          4.284297920262066,
          4.24557331012935,
          4.206848699996634,
          4.168124089863917,
          4.129399479731201,
          4.090674869598485,
          4.051950259465769,
          4.0132256493330525,
          3.974501039200336,
          3.9357764290676194,
          3.8970518189349033,
          3.858327208802187,
          3.8196025986694706,
          3.7808779885367545,
          3.7421533784040384,
          3.703428768271322,
          3.6647041581386057,
          3.625979548005889,
          3.587254937873173,
          3.548530327740457,
          3.5098057176077404,
          3.4710811074750243,
          3.432356497342308,
          3.393631887209592,
          3.354907277076875,
          3.316182666944159,
          3.277458056811443,
          3.2387334466787268,
          3.2000088365460106,
          3.1612842264132945,
          3.1225596162805775,
          3.0838350061478623
         ],
         "yaxis": "y"
        },
        {
         "marker": {
          "color": "#AB63FA"
         },
         "name": "Quadratic",
         "type": "scatter",
         "x": [
          -3,
          -2.9555555555555557,
          -2.911111111111111,
          -2.8666666666666667,
          -2.8222222222222224,
          -2.7777777777777777,
          -2.7333333333333334,
          -2.688888888888889,
          -2.6444444444444444,
          -2.6,
          -2.5555555555555554,
          -2.511111111111111,
          -2.466666666666667,
          -2.422222222222222,
          -2.3777777777777778,
          -2.333333333333333,
          -2.2888888888888888,
          -2.2444444444444445,
          -2.2,
          -2.1555555555555554,
          -2.111111111111111,
          -2.0666666666666664,
          -2.022222222222222,
          -1.9777777777777776,
          -1.9333333333333333,
          -1.8888888888888888,
          -1.8444444444444443,
          -1.8,
          -1.7555555555555555,
          -1.711111111111111,
          -1.6666666666666665,
          -1.6222222222222222,
          -1.5777777777777777,
          -1.5333333333333332,
          -1.488888888888889,
          -1.4444444444444444,
          -1.4,
          -1.3555555555555554,
          -1.3111111111111111,
          -1.2666666666666666,
          -1.222222222222222,
          -1.1777777777777778,
          -1.1333333333333333,
          -1.0888888888888888,
          -1.0444444444444443,
          -1,
          -0.9555555555555553,
          -0.911111111111111,
          -0.8666666666666667,
          -0.822222222222222,
          -0.7777777777777777,
          -0.7333333333333334,
          -0.6888888888888887,
          -0.6444444444444444,
          -0.6000000000000001,
          -0.5555555555555554,
          -0.5111111111111111,
          -0.4666666666666668,
          -0.42222222222222205,
          -0.37777777777777777,
          -0.33333333333333304,
          -0.28888888888888875,
          -0.24444444444444446,
          -0.19999999999999973,
          -0.15555555555555545,
          -0.11111111111111116,
          -0.06666666666666643,
          -0.022222222222222143,
          0.022222222222222143,
          0.06666666666666687,
          0.11111111111111116,
          0.1555555555555559,
          0.20000000000000018,
          0.24444444444444446,
          0.2888888888888892,
          0.3333333333333335,
          0.37777777777777777,
          0.4222222222222225,
          0.4666666666666668,
          0.5111111111111111,
          0.5555555555555558,
          0.6000000000000001,
          0.6444444444444444,
          0.6888888888888891,
          0.7333333333333334,
          0.7777777777777781,
          0.8222222222222224,
          0.8666666666666667,
          0.9111111111111114,
          0.9555555555555557,
          1,
          1.0444444444444443,
          1.0888888888888895,
          1.1333333333333337,
          1.177777777777778,
          1.2222222222222223,
          1.2666666666666666,
          1.311111111111111,
          1.355555555555556,
          1.4
         ],
         "xaxis": "x",
         "y": [
          12.036180361231835,
          11.720270179273705,
          11.409747663988355,
          11.104612815375805,
          10.804865633436041,
          10.510506118169065,
          10.221534269574882,
          9.93795008765349,
          9.659753572404885,
          9.386944723829073,
          9.119523541926048,
          8.857490026695817,
          8.600844178138374,
          8.349585996253719,
          8.103715481041856,
          7.863232632502782,
          7.6281374506365,
          7.398429935443008,
          7.174110086922306,
          6.955177905074391,
          6.7416333898992695,
          6.533476541396936,
          6.330707359567394,
          6.133325844410642,
          5.94133199592668,
          5.754725814115507,
          5.573507298977124,
          5.397676450511533,
          5.227233268718731,
          5.062177753598718,
          4.902509905151495,
          4.748229723377064,
          4.599337208275422,
          4.45583235984657,
          4.317715178090508,
          4.184985663007237,
          4.057643814596755,
          3.935689632859063,
          3.8191231177941622,
          3.7079442694020504,
          3.602153087682729,
          3.501749572636198,
          3.4067337242624562,
          3.317105542561505,
          3.232865027533344,
          3.1540121791779727,
          3.0805469974953916,
          3.012469482485601,
          2.9497796341486,
          2.892477452484389,
          2.840562937492968,
          2.794036089174338,
          2.7528969075284966,
          2.7171453925554463,
          2.6867815442551857,
          2.661805362627715,
          2.6422168476730348,
          2.6280159993911445,
          2.6192028177820443,
          2.615777302845734,
          2.617739454582214,
          2.6250892729914836,
          2.637826758073544,
          2.655951909828394,
          2.679464728256034,
          2.708365213356464,
          2.7426533651296845,
          2.7823291835756945,
          2.8273926686944946,
          2.8778438204860857,
          2.933682638950466,
          2.994909124087637,
          3.061523275897597,
          3.1335250943803477,
          3.210914579535889,
          3.2936917313642193,
          3.38185654986534,
          3.4754090350392515,
          3.574349186885952,
          3.6786770054054427,
          3.788392490597724,
          3.9034956424627953,
          4.023986461000656,
          4.149864946211308,
          4.281131098094749,
          4.417784916650982,
          4.559826401880002,
          4.707255553781813,
          4.860072372356416,
          5.018276857603807,
          5.1818690095239885,
          5.350848828116959,
          5.525216313382725,
          5.704971465321275,
          5.890114283932617,
          6.0806447692167485,
          6.27656292117367,
          6.477868739803381,
          6.684562225105887,
          6.896643377081176
         ],
         "yaxis": "y"
        },
        {
         "marker": {
          "color": "#FFA15A"
         },
         "name": "Cubic",
         "type": "scatter",
         "x": [
          -3,
          -2.9555555555555557,
          -2.911111111111111,
          -2.8666666666666667,
          -2.8222222222222224,
          -2.7777777777777777,
          -2.7333333333333334,
          -2.688888888888889,
          -2.6444444444444444,
          -2.6,
          -2.5555555555555554,
          -2.511111111111111,
          -2.466666666666667,
          -2.422222222222222,
          -2.3777777777777778,
          -2.333333333333333,
          -2.2888888888888888,
          -2.2444444444444445,
          -2.2,
          -2.1555555555555554,
          -2.111111111111111,
          -2.0666666666666664,
          -2.022222222222222,
          -1.9777777777777776,
          -1.9333333333333333,
          -1.8888888888888888,
          -1.8444444444444443,
          -1.8,
          -1.7555555555555555,
          -1.711111111111111,
          -1.6666666666666665,
          -1.6222222222222222,
          -1.5777777777777777,
          -1.5333333333333332,
          -1.488888888888889,
          -1.4444444444444444,
          -1.4,
          -1.3555555555555554,
          -1.3111111111111111,
          -1.2666666666666666,
          -1.222222222222222,
          -1.1777777777777778,
          -1.1333333333333333,
          -1.0888888888888888,
          -1.0444444444444443,
          -1,
          -0.9555555555555553,
          -0.911111111111111,
          -0.8666666666666667,
          -0.822222222222222,
          -0.7777777777777777,
          -0.7333333333333334,
          -0.6888888888888887,
          -0.6444444444444444,
          -0.6000000000000001,
          -0.5555555555555554,
          -0.5111111111111111,
          -0.4666666666666668,
          -0.42222222222222205,
          -0.37777777777777777,
          -0.33333333333333304,
          -0.28888888888888875,
          -0.24444444444444446,
          -0.19999999999999973,
          -0.15555555555555545,
          -0.11111111111111116,
          -0.06666666666666643,
          -0.022222222222222143,
          0.022222222222222143,
          0.06666666666666687,
          0.11111111111111116,
          0.1555555555555559,
          0.20000000000000018,
          0.24444444444444446,
          0.2888888888888892,
          0.3333333333333335,
          0.37777777777777777,
          0.4222222222222225,
          0.4666666666666668,
          0.5111111111111111,
          0.5555555555555558,
          0.6000000000000001,
          0.6444444444444444,
          0.6888888888888891,
          0.7333333333333334,
          0.7777777777777781,
          0.8222222222222224,
          0.8666666666666667,
          0.9111111111111114,
          0.9555555555555557,
          1,
          1.0444444444444443,
          1.0888888888888895,
          1.1333333333333337,
          1.177777777777778,
          1.2222222222222223,
          1.2666666666666666,
          1.311111111111111,
          1.355555555555556,
          1.4
         ],
         "xaxis": "x",
         "y": [
          8.781827335663941,
          8.814772119120722,
          8.83491853069297,
          8.84265027280875,
          8.838351047896097,
          8.822404558383063,
          8.795194506697705,
          8.757104595268078,
          8.70851852652222,
          8.649820002888193,
          8.581392726794041,
          8.503620400667817,
          8.416886726937573,
          8.321575408031364,
          8.218070146377235,
          8.106754644403233,
          7.988012604537417,
          7.8622277292078415,
          7.729783720842546,
          7.591064281869585,
          7.446453114717016,
          7.296333921812882,
          7.141090405585238,
          6.981106268462135,
          6.816765212871623,
          6.6484509412417525,
          6.476547156000577,
          6.301437559576144,
          6.123505854396506,
          5.943135742889712,
          5.7607109274838155,
          5.576615110606868,
          5.391231994686919,
          5.2049452821520195,
          5.018138675430221,
          4.8311958769495735,
          4.6445005891381275,
          4.458436514423935,
          4.273387355235048,
          4.089736813999516,
          3.9078685931453894,
          3.728166395100722,
          3.551013922293561,
          3.37679487715196,
          3.2058929621039685,
          3.0386918795776388,
          2.875575332001019,
          2.716927021802164,
          2.563130651409123,
          2.414569923249946,
          2.2716285397526854,
          2.134690203345392,
          2.004138616456115,
          1.880357481512907,
          1.7637305009438191,
          1.6546413771769002,
          1.5534738126402043,
          1.4606115097617807,
          1.3764381709696794,
          1.3013374986919533,
          1.2356931953566517,
          1.179888963391827,
          1.1343085052255293,
          1.0993355232858095,
          1.0753537200007188,
          1.0627467977983083,
          1.0618984591066285,
          1.0731924063537306,
          1.0970123419676654,
          1.1337419683764844,
          1.1837649880082377,
          1.2474651032909772,
          1.3252260166527527,
          1.4174314305216158,
          1.5244650473256185,
          1.6467105694928095,
          1.7845516994512407,
          1.938372139628965,
          2.10855559245403,
          2.295485760354488,
          2.499546345758392,
          2.7211210510937898,
          2.9605935787887327,
          3.218347631271276,
          3.494766910969464,
          3.790235120311355,
          4.105135961724992,
          4.43985313763843,
          4.794770350479722,
          5.170271302676915,
          5.566739696658061,
          5.984559234851211,
          6.424113619684427,
          6.8857865535857385,
          7.369961738983209,
          7.877022878304887,
          8.407353673978825,
          8.961337828433074,
          9.539359044095693,
          10.141801023394708
         ],
         "yaxis": "y"
        },
        {
         "marker": {
          "color": "#19D3F3"
         },
         "name": "Quartic",
         "type": "scatter",
         "x": [
          -3,
          -2.9555555555555557,
          -2.911111111111111,
          -2.8666666666666667,
          -2.8222222222222224,
          -2.7777777777777777,
          -2.7333333333333334,
          -2.688888888888889,
          -2.6444444444444444,
          -2.6,
          -2.5555555555555554,
          -2.511111111111111,
          -2.466666666666667,
          -2.422222222222222,
          -2.3777777777777778,
          -2.333333333333333,
          -2.2888888888888888,
          -2.2444444444444445,
          -2.2,
          -2.1555555555555554,
          -2.111111111111111,
          -2.0666666666666664,
          -2.022222222222222,
          -1.9777777777777776,
          -1.9333333333333333,
          -1.8888888888888888,
          -1.8444444444444443,
          -1.8,
          -1.7555555555555555,
          -1.711111111111111,
          -1.6666666666666665,
          -1.6222222222222222,
          -1.5777777777777777,
          -1.5333333333333332,
          -1.488888888888889,
          -1.4444444444444444,
          -1.4,
          -1.3555555555555554,
          -1.3111111111111111,
          -1.2666666666666666,
          -1.222222222222222,
          -1.1777777777777778,
          -1.1333333333333333,
          -1.0888888888888888,
          -1.0444444444444443,
          -1,
          -0.9555555555555553,
          -0.911111111111111,
          -0.8666666666666667,
          -0.822222222222222,
          -0.7777777777777777,
          -0.7333333333333334,
          -0.6888888888888887,
          -0.6444444444444444,
          -0.6000000000000001,
          -0.5555555555555554,
          -0.5111111111111111,
          -0.4666666666666668,
          -0.42222222222222205,
          -0.37777777777777777,
          -0.33333333333333304,
          -0.28888888888888875,
          -0.24444444444444446,
          -0.19999999999999973,
          -0.15555555555555545,
          -0.11111111111111116,
          -0.06666666666666643,
          -0.022222222222222143,
          0.022222222222222143,
          0.06666666666666687,
          0.11111111111111116,
          0.1555555555555559,
          0.20000000000000018,
          0.24444444444444446,
          0.2888888888888892,
          0.3333333333333335,
          0.37777777777777777,
          0.4222222222222225,
          0.4666666666666668,
          0.5111111111111111,
          0.5555555555555558,
          0.6000000000000001,
          0.6444444444444444,
          0.6888888888888891,
          0.7333333333333334,
          0.7777777777777781,
          0.8222222222222224,
          0.8666666666666667,
          0.9111111111111114,
          0.9555555555555557,
          1,
          1.0444444444444443,
          1.0888888888888895,
          1.1333333333333337,
          1.177777777777778,
          1.2222222222222223,
          1.2666666666666666,
          1.311111111111111,
          1.355555555555556,
          1.4
         ],
         "xaxis": "x",
         "y": [
          9.578779950358374,
          9.4851099304597,
          9.390196173925762,
          9.293829862988776,
          9.195815485601702,
          9.095970835438344,
          8.994127011893298,
          8.890128420081975,
          8.78383277084055,
          8.675111080726037,
          8.56384767201624,
          8.449940172709784,
          8.333299516526061,
          8.213849942905295,
          8.091528997008496,
          7.96628752971749,
          7.838089697634893,
          7.706912963084139,
          7.572748094109444,
          7.435599164475847,
          7.2954835536691816,
          7.1524319468960735,
          7.006488335083966,
          6.857710014881108,
          6.706167588656532,
          6.55194496450009,
          6.395139356222428,
          6.235861283354999,
          6.074234571150061,
          5.9103963505806645,
          5.7444970583406745,
          5.576700436844752,
          5.40718353422836,
          5.236136704347769,
          5.063763606780048,
          4.890281206823071,
          4.715919775495514,
          4.540922889536855,
          4.365547431407375,
          4.19006358928816,
          4.014754857081094,
          3.8399180344088673,
          3.665863226614971,
          3.4929138447637023,
          3.321406605640156,
          3.1516915317502336,
          2.984131951320637,
          2.8191044982988727,
          2.6569991123532484,
          2.4982190388728736,
          2.3431808289676646,
          2.192314339468336,
          2.046062732926405,
          1.904882477614196,
          1.7692433475248321,
          1.6396284223722388,
          1.5165340875911484,
          1.4004700343370917,
          1.291959259486403,
          1.1915380656362222,
          1.099756061104487,
          1.017176159929943,
          0.9443745818721345,
          0.8819408524114095,
          0.8304778027489204,
          0.7906015698066203,
          0.7629415962272657,
          0.7481406303744158,
          0.7468547263324327,
          0.7597532439064807,
          0.7875188486225271,
          0.8308475117273421,
          0.8904485101884977,
          0.9670444266943693,
          1.061371149654136,
          1.174177873197777,
          1.3062270971760759,
          1.4582946271606205,
          1.6311695744437964,
          1.825654356038797,
          2.0425646946796183,
          2.2827296188210524,
          2.5469914626387014,
          2.8362058660289704,
          3.151241774609058,
          3.4929814397169787,
          3.862320418411535,
          4.260167573472344,
          4.687445073399825,
          5.145088392415189,
          5.634046310460459,
          6.155280913198461,
          6.70976759201283,
          7.298495044007976,
          7.9224652720091395,
          8.582693584562353,
          9.280208595934461,
          10.016052226113093,
          10.791279700806715,
          11.606959551444533
         ],
         "yaxis": "y"
        },
        {
         "marker": {
          "color": "#FF6692"
         },
         "name": "Quintic",
         "type": "scatter",
         "x": [
          -3,
          -2.9555555555555557,
          -2.911111111111111,
          -2.8666666666666667,
          -2.8222222222222224,
          -2.7777777777777777,
          -2.7333333333333334,
          -2.688888888888889,
          -2.6444444444444444,
          -2.6,
          -2.5555555555555554,
          -2.511111111111111,
          -2.466666666666667,
          -2.422222222222222,
          -2.3777777777777778,
          -2.333333333333333,
          -2.2888888888888888,
          -2.2444444444444445,
          -2.2,
          -2.1555555555555554,
          -2.111111111111111,
          -2.0666666666666664,
          -2.022222222222222,
          -1.9777777777777776,
          -1.9333333333333333,
          -1.8888888888888888,
          -1.8444444444444443,
          -1.8,
          -1.7555555555555555,
          -1.711111111111111,
          -1.6666666666666665,
          -1.6222222222222222,
          -1.5777777777777777,
          -1.5333333333333332,
          -1.488888888888889,
          -1.4444444444444444,
          -1.4,
          -1.3555555555555554,
          -1.3111111111111111,
          -1.2666666666666666,
          -1.222222222222222,
          -1.1777777777777778,
          -1.1333333333333333,
          -1.0888888888888888,
          -1.0444444444444443,
          -1,
          -0.9555555555555553,
          -0.911111111111111,
          -0.8666666666666667,
          -0.822222222222222,
          -0.7777777777777777,
          -0.7333333333333334,
          -0.6888888888888887,
          -0.6444444444444444,
          -0.6000000000000001,
          -0.5555555555555554,
          -0.5111111111111111,
          -0.4666666666666668,
          -0.42222222222222205,
          -0.37777777777777777,
          -0.33333333333333304,
          -0.28888888888888875,
          -0.24444444444444446,
          -0.19999999999999973,
          -0.15555555555555545,
          -0.11111111111111116,
          -0.06666666666666643,
          -0.022222222222222143,
          0.022222222222222143,
          0.06666666666666687,
          0.11111111111111116,
          0.1555555555555559,
          0.20000000000000018,
          0.24444444444444446,
          0.2888888888888892,
          0.3333333333333335,
          0.37777777777777777,
          0.4222222222222225,
          0.4666666666666668,
          0.5111111111111111,
          0.5555555555555558,
          0.6000000000000001,
          0.6444444444444444,
          0.6888888888888891,
          0.7333333333333334,
          0.7777777777777781,
          0.8222222222222224,
          0.8666666666666667,
          0.9111111111111114,
          0.9555555555555557,
          1,
          1.0444444444444443,
          1.0888888888888895,
          1.1333333333333337,
          1.177777777777778,
          1.2222222222222223,
          1.2666666666666666,
          1.311111111111111,
          1.355555555555556,
          1.4
         ],
         "xaxis": "x",
         "y": [
          24.307143564340144,
          21.39168633758549,
          18.811849500607302,
          16.54193720087158,
          14.557406431888628,
          12.834843657353863,
          11.351941435288884,
          10.087475042182737,
          9.021279097133023,
          8.134224185986957,
          7.408193485482533,
          6.826059387389639,
          6.371660122651084,
          6.029776385523965,
          5.786107957720494,
          5.627250332549357,
          5.540671339056578,
          5.514687766166963,
          5.538441986824969,
          5.601878582135987,
          5.695720965507283,
          5.811448006789254,
          5.941270656416611,
          6.078108569549292,
          6.215566730213764,
          6.3479120754440554,
          6.47005011942292,
          6.577501577622959,
          6.666378990947662,
          6.733363349872645,
          6.7756807185867185,
          6.791078859132982,
          6.777803855549999,
          6.734576738012867,
          6.660570106974381,
          6.5553847573061415,
          6.419026302439649,
          6.25188179850748,
          6.054696368484349,
          5.828549826328283,
          5.574833301121702,
          5.295225861212566,
          4.991671138355474,
          4.666353951852816,
          4.3216769326958655,
          3.9602371477059197,
          3.5848027236754056,
          3.198289471509023,
          2.803737510364839,
          2.4042878917954296,
          2.003159223889,
          1.603624295410496,
          1.2089866999427206,
          0.8225574600274879,
          0.4476316513067031,
          0.08746502666350642,
          -0.2547493596365984,
          -0.5759045278046444,
          -0.8730029483870685,
          -1.1431799181245808,
          -1.3837269358110629,
          -1.5921150781524274,
          -1.766018375625511,
          -1.903337188336947,
          -2.0022215818820386,
          -2.0610947032036484,
          -2.0786761564510683,
          -2.0540053788389017,
          -1.9864650165059412,
          -1.8758043003740459,
          -1.7221624220070246,
          -1.5260919094695062,
          -1.2885820031858288,
          -1.0110820317989082,
          -0.6955247880291178,
          -0.34434990453318015,
          0.03947277023697415,
          0.45241979617532024,
          0.8903907656628447,
          1.3486849277086943,
          1.821977812091288,
          2.3042978534994134,
          2.7890030156733907,
          3.26875741554617,
          3.7355079473844395,
          4.1804609069297864,
          4.594058615539772,
          4.965956044329095,
          5.28499743831069,
          5.539192940536843,
          5.715695216240334,
          5.8007760769755485,
          5.779803104759586,
          5.637216276213411,
          5.356504586702943,
          4.920182674480195,
          4.3097674448243986,
          3.505754694183116,
          2.487595734313336,
          1.2336740164227056
         ],
         "yaxis": "y"
        },
        {
         "marker": {
          "color": "#636EFA"
         },
         "showlegend": false,
         "type": "bar",
         "x": [
          "Linear in X",
          "Quadratic",
          "Cubic",
          "Quartic",
          "Quintic"
         ],
         "xaxis": "x2",
         "y": [
          2.272965710209297,
          1.3646273702703906,
          1.1528916542943797,
          1.1445074375807343,
          0.7148394938839464
         ],
         "yaxis": "y2"
        }
       ],
       "layout": {
        "template": {
         "data": {
          "bar": [
           {
            "error_x": {
             "color": "#2a3f5f"
            },
            "error_y": {
             "color": "#2a3f5f"
            },
            "marker": {
             "line": {
              "color": "#E5ECF6",
              "width": 0.5
             },
             "pattern": {
              "fillmode": "overlay",
              "size": 10,
              "solidity": 0.2
             }
            },
            "type": "bar"
           }
          ],
          "barpolar": [
           {
            "marker": {
             "line": {
              "color": "#E5ECF6",
              "width": 0.5
             },
             "pattern": {
              "fillmode": "overlay",
              "size": 10,
              "solidity": 0.2
             }
            },
            "type": "barpolar"
           }
          ],
          "carpet": [
           {
            "aaxis": {
             "endlinecolor": "#2a3f5f",
             "gridcolor": "white",
             "linecolor": "white",
             "minorgridcolor": "white",
             "startlinecolor": "#2a3f5f"
            },
            "baxis": {
             "endlinecolor": "#2a3f5f",
             "gridcolor": "white",
             "linecolor": "white",
             "minorgridcolor": "white",
             "startlinecolor": "#2a3f5f"
            },
            "type": "carpet"
           }
          ],
          "choropleth": [
           {
            "colorbar": {
             "outlinewidth": 0,
             "ticks": ""
            },
            "type": "choropleth"
           }
          ],
          "contour": [
           {
            "colorbar": {
             "outlinewidth": 0,
             "ticks": ""
            },
            "colorscale": [
             [
              0,
              "#0d0887"
             ],
             [
              0.1111111111111111,
              "#46039f"
             ],
             [
              0.2222222222222222,
              "#7201a8"
             ],
             [
              0.3333333333333333,
              "#9c179e"
             ],
             [
              0.4444444444444444,
              "#bd3786"
             ],
             [
              0.5555555555555556,
              "#d8576b"
             ],
             [
              0.6666666666666666,
              "#ed7953"
             ],
             [
              0.7777777777777778,
              "#fb9f3a"
             ],
             [
              0.8888888888888888,
              "#fdca26"
             ],
             [
              1,
              "#f0f921"
             ]
            ],
            "type": "contour"
           }
          ],
          "contourcarpet": [
           {
            "colorbar": {
             "outlinewidth": 0,
             "ticks": ""
            },
            "type": "contourcarpet"
           }
          ],
          "heatmap": [
           {
            "colorbar": {
             "outlinewidth": 0,
             "ticks": ""
            },
            "colorscale": [
             [
              0,
              "#0d0887"
             ],
             [
              0.1111111111111111,
              "#46039f"
             ],
             [
              0.2222222222222222,
              "#7201a8"
             ],
             [
              0.3333333333333333,
              "#9c179e"
             ],
             [
              0.4444444444444444,
              "#bd3786"
             ],
             [
              0.5555555555555556,
              "#d8576b"
             ],
             [
              0.6666666666666666,
              "#ed7953"
             ],
             [
              0.7777777777777778,
              "#fb9f3a"
             ],
             [
              0.8888888888888888,
              "#fdca26"
             ],
             [
              1,
              "#f0f921"
             ]
            ],
            "type": "heatmap"
           }
          ],
          "heatmapgl": [
           {
            "colorbar": {
             "outlinewidth": 0,
             "ticks": ""
            },
            "colorscale": [
             [
              0,
              "#0d0887"
             ],
             [
              0.1111111111111111,
              "#46039f"
             ],
             [
              0.2222222222222222,
              "#7201a8"
             ],
             [
              0.3333333333333333,
              "#9c179e"
             ],
             [
              0.4444444444444444,
              "#bd3786"
             ],
             [
              0.5555555555555556,
              "#d8576b"
             ],
             [
              0.6666666666666666,
              "#ed7953"
             ],
             [
              0.7777777777777778,
              "#fb9f3a"
             ],
             [
              0.8888888888888888,
              "#fdca26"
             ],
             [
              1,
              "#f0f921"
             ]
            ],
            "type": "heatmapgl"
           }
          ],
          "histogram": [
           {
            "marker": {
             "pattern": {
              "fillmode": "overlay",
              "size": 10,
              "solidity": 0.2
             }
            },
            "type": "histogram"
           }
          ],
          "histogram2d": [
           {
            "colorbar": {
             "outlinewidth": 0,
             "ticks": ""
            },
            "colorscale": [
             [
              0,
              "#0d0887"
             ],
             [
              0.1111111111111111,
              "#46039f"
             ],
             [
              0.2222222222222222,
              "#7201a8"
             ],
             [
              0.3333333333333333,
              "#9c179e"
             ],
             [
              0.4444444444444444,
              "#bd3786"
             ],
             [
              0.5555555555555556,
              "#d8576b"
             ],
             [
              0.6666666666666666,
              "#ed7953"
             ],
             [
              0.7777777777777778,
              "#fb9f3a"
             ],
             [
              0.8888888888888888,
              "#fdca26"
             ],
             [
              1,
              "#f0f921"
             ]
            ],
            "type": "histogram2d"
           }
          ],
          "histogram2dcontour": [
           {
            "colorbar": {
             "outlinewidth": 0,
             "ticks": ""
            },
            "colorscale": [
             [
              0,
              "#0d0887"
             ],
             [
              0.1111111111111111,
              "#46039f"
             ],
             [
              0.2222222222222222,
              "#7201a8"
             ],
             [
              0.3333333333333333,
              "#9c179e"
             ],
             [
              0.4444444444444444,
              "#bd3786"
             ],
             [
              0.5555555555555556,
              "#d8576b"
             ],
             [
              0.6666666666666666,
              "#ed7953"
             ],
             [
              0.7777777777777778,
              "#fb9f3a"
             ],
             [
              0.8888888888888888,
              "#fdca26"
             ],
             [
              1,
              "#f0f921"
             ]
            ],
            "type": "histogram2dcontour"
           }
          ],
          "mesh3d": [
           {
            "colorbar": {
             "outlinewidth": 0,
             "ticks": ""
            },
            "type": "mesh3d"
           }
          ],
          "parcoords": [
           {
            "line": {
             "colorbar": {
              "outlinewidth": 0,
              "ticks": ""
             }
            },
            "type": "parcoords"
           }
          ],
          "pie": [
           {
            "automargin": true,
            "type": "pie"
           }
          ],
          "scatter": [
           {
            "marker": {
             "colorbar": {
              "outlinewidth": 0,
              "ticks": ""
             }
            },
            "type": "scatter"
           }
          ],
          "scatter3d": [
           {
            "line": {
             "colorbar": {
              "outlinewidth": 0,
              "ticks": ""
             }
            },
            "marker": {
             "colorbar": {
              "outlinewidth": 0,
              "ticks": ""
             }
            },
            "type": "scatter3d"
           }
          ],
          "scattercarpet": [
           {
            "marker": {
             "colorbar": {
              "outlinewidth": 0,
              "ticks": ""
             }
            },
            "type": "scattercarpet"
           }
          ],
          "scattergeo": [
           {
            "marker": {
             "colorbar": {
              "outlinewidth": 0,
              "ticks": ""
             }
            },
            "type": "scattergeo"
           }
          ],
          "scattergl": [
           {
            "marker": {
             "colorbar": {
              "outlinewidth": 0,
              "ticks": ""
             }
            },
            "type": "scattergl"
           }
          ],
          "scattermapbox": [
           {
            "marker": {
             "colorbar": {
              "outlinewidth": 0,
              "ticks": ""
             }
            },
            "type": "scattermapbox"
           }
          ],
          "scatterpolar": [
           {
            "marker": {
             "colorbar": {
              "outlinewidth": 0,
              "ticks": ""
             }
            },
            "type": "scatterpolar"
           }
          ],
          "scatterpolargl": [
           {
            "marker": {
             "colorbar": {
              "outlinewidth": 0,
              "ticks": ""
             }
            },
            "type": "scatterpolargl"
           }
          ],
          "scatterternary": [
           {
            "marker": {
             "colorbar": {
              "outlinewidth": 0,
              "ticks": ""
             }
            },
            "type": "scatterternary"
           }
          ],
          "surface": [
           {
            "colorbar": {
             "outlinewidth": 0,
             "ticks": ""
            },
            "colorscale": [
             [
              0,
              "#0d0887"
             ],
             [
              0.1111111111111111,
              "#46039f"
             ],
             [
              0.2222222222222222,
              "#7201a8"
             ],
             [
              0.3333333333333333,
              "#9c179e"
             ],
             [
              0.4444444444444444,
              "#bd3786"
             ],
             [
              0.5555555555555556,
              "#d8576b"
             ],
             [
              0.6666666666666666,
              "#ed7953"
             ],
             [
              0.7777777777777778,
              "#fb9f3a"
             ],
             [
              0.8888888888888888,
              "#fdca26"
             ],
             [
              1,
              "#f0f921"
             ]
            ],
            "type": "surface"
           }
          ],
          "table": [
           {
            "cells": {
             "fill": {
              "color": "#EBF0F8"
             },
             "line": {
              "color": "white"
             }
            },
            "header": {
             "fill": {
              "color": "#C8D4E3"
             },
             "line": {
              "color": "white"
             }
            },
            "type": "table"
           }
          ]
         },
         "layout": {
          "annotationdefaults": {
           "arrowcolor": "#2a3f5f",
           "arrowhead": 0,
           "arrowwidth": 1
          },
          "autotypenumbers": "strict",
          "coloraxis": {
           "colorbar": {
            "outlinewidth": 0,
            "ticks": ""
           }
          },
          "colorscale": {
           "diverging": [
            [
             0,
             "#8e0152"
            ],
            [
             0.1,
             "#c51b7d"
            ],
            [
             0.2,
             "#de77ae"
            ],
            [
             0.3,
             "#f1b6da"
            ],
            [
             0.4,
             "#fde0ef"
            ],
            [
             0.5,
             "#f7f7f7"
            ],
            [
             0.6,
             "#e6f5d0"
            ],
            [
             0.7,
             "#b8e186"
            ],
            [
             0.8,
             "#7fbc41"
            ],
            [
             0.9,
             "#4d9221"
            ],
            [
             1,
             "#276419"
            ]
           ],
           "sequential": [
            [
             0,
             "#0d0887"
            ],
            [
             0.1111111111111111,
             "#46039f"
            ],
            [
             0.2222222222222222,
             "#7201a8"
            ],
            [
             0.3333333333333333,
             "#9c179e"
            ],
            [
             0.4444444444444444,
             "#bd3786"
            ],
            [
             0.5555555555555556,
             "#d8576b"
            ],
            [
             0.6666666666666666,
             "#ed7953"
            ],
            [
             0.7777777777777778,
             "#fb9f3a"
            ],
            [
             0.8888888888888888,
             "#fdca26"
            ],
            [
             1,
             "#f0f921"
            ]
           ],
           "sequentialminus": [
            [
             0,
             "#0d0887"
            ],
            [
             0.1111111111111111,
             "#46039f"
            ],
            [
             0.2222222222222222,
             "#7201a8"
            ],
            [
             0.3333333333333333,
             "#9c179e"
            ],
            [
             0.4444444444444444,
             "#bd3786"
            ],
            [
             0.5555555555555556,
             "#d8576b"
            ],
            [
             0.6666666666666666,
             "#ed7953"
            ],
            [
             0.7777777777777778,
             "#fb9f3a"
            ],
            [
             0.8888888888888888,
             "#fdca26"
            ],
            [
             1,
             "#f0f921"
            ]
           ]
          },
          "colorway": [
           "#636efa",
           "#EF553B",
           "#00cc96",
           "#ab63fa",
           "#FFA15A",
           "#19d3f3",
           "#FF6692",
           "#B6E880",
           "#FF97FF",
           "#FECB52"
          ],
          "font": {
           "color": "#2a3f5f"
          },
          "geo": {
           "bgcolor": "white",
           "lakecolor": "white",
           "landcolor": "#E5ECF6",
           "showlakes": true,
           "showland": true,
           "subunitcolor": "white"
          },
          "hoverlabel": {
           "align": "left"
          },
          "hovermode": "closest",
          "mapbox": {
           "style": "light"
          },
          "paper_bgcolor": "white",
          "plot_bgcolor": "#E5ECF6",
          "polar": {
           "angularaxis": {
            "gridcolor": "white",
            "linecolor": "white",
            "ticks": ""
           },
           "bgcolor": "#E5ECF6",
           "radialaxis": {
            "gridcolor": "white",
            "linecolor": "white",
            "ticks": ""
           }
          },
          "scene": {
           "xaxis": {
            "backgroundcolor": "#E5ECF6",
            "gridcolor": "white",
            "gridwidth": 2,
            "linecolor": "white",
            "showbackground": true,
            "ticks": "",
            "zerolinecolor": "white"
           },
           "yaxis": {
            "backgroundcolor": "#E5ECF6",
            "gridcolor": "white",
            "gridwidth": 2,
            "linecolor": "white",
            "showbackground": true,
            "ticks": "",
            "zerolinecolor": "white"
           },
           "zaxis": {
            "backgroundcolor": "#E5ECF6",
            "gridcolor": "white",
            "gridwidth": 2,
            "linecolor": "white",
            "showbackground": true,
            "ticks": "",
            "zerolinecolor": "white"
           }
          },
          "shapedefaults": {
           "line": {
            "color": "#2a3f5f"
           }
          },
          "ternary": {
           "aaxis": {
            "gridcolor": "white",
            "linecolor": "white",
            "ticks": ""
           },
           "baxis": {
            "gridcolor": "white",
            "linecolor": "white",
            "ticks": ""
           },
           "bgcolor": "#E5ECF6",
           "caxis": {
            "gridcolor": "white",
            "linecolor": "white",
            "ticks": ""
           }
          },
          "title": {
           "x": 0.05
          },
          "xaxis": {
           "automargin": true,
           "gridcolor": "white",
           "linecolor": "white",
           "ticks": "",
           "title": {
            "standoff": 15
           },
           "zerolinecolor": "white",
           "zerolinewidth": 2
          },
          "yaxis": {
           "automargin": true,
           "gridcolor": "white",
           "linecolor": "white",
           "ticks": "",
           "title": {
            "standoff": 15
           },
           "zerolinecolor": "white",
           "zerolinewidth": 2
          }
         }
        },
        "xaxis": {
         "anchor": "y",
         "domain": [
          0,
          0.45
         ],
         "title": {
          "text": "X"
         }
        },
        "xaxis2": {
         "anchor": "y2",
         "domain": [
          0.55,
          1
         ]
        },
        "yaxis": {
         "anchor": "x",
         "domain": [
          0,
          1
         ],
         "range": [
          0,
          10
         ],
         "title": {
          "text": "Y"
         }
        },
        "yaxis2": {
         "anchor": "x2",
         "domain": [
          0,
          1
         ],
         "title": {
          "text": "RMSE"
         }
        }
       }
      },
      "text/html": [
       "<div>                            <div id=\"9812926c-5a53-4411-b9ae-d1b8be7772a7\" class=\"plotly-graph-div\" style=\"height:525px; width:100%;\"></div>            <script type=\"text/javascript\">                require([\"plotly\"], function(Plotly) {                    window.PLOTLYENV=window.PLOTLYENV || {};                                    if (document.getElementById(\"9812926c-5a53-4411-b9ae-d1b8be7772a7\")) {                    Plotly.newPlot(                        \"9812926c-5a53-4411-b9ae-d1b8be7772a7\",                        [{\"marker\":{\"color\":\"#636EFA\"},\"mode\":\"markers\",\"name\":\"data\",\"x\":[-2.6475819924330954,-2.0515469334036016,-1.8106646981606496,-1.312076282905776,-0.7895905078629929,-0.6609638446178359,0.8061481540360957,1.054879683024077],\"y\":[9.14045169318176,5.336237325257329,7.195181491514598,6.095357781703495,0.7219468779966638,2.177008172349038,4.367994079777328,5.852681713200849],\"type\":\"scatter\",\"xaxis\":\"x\",\"yaxis\":\"y\"},{\"marker\":{\"color\":\"#00CC96\"},\"name\":\"Linear in X\",\"x\":[-3.0,-2.9555555555555557,-2.911111111111111,-2.8666666666666667,-2.8222222222222224,-2.7777777777777777,-2.7333333333333334,-2.688888888888889,-2.6444444444444444,-2.6,-2.5555555555555554,-2.511111111111111,-2.466666666666667,-2.422222222222222,-2.3777777777777778,-2.333333333333333,-2.2888888888888888,-2.2444444444444445,-2.2,-2.1555555555555554,-2.111111111111111,-2.0666666666666664,-2.022222222222222,-1.9777777777777776,-1.9333333333333333,-1.8888888888888888,-1.8444444444444443,-1.8,-1.7555555555555555,-1.711111111111111,-1.6666666666666665,-1.6222222222222222,-1.5777777777777777,-1.5333333333333332,-1.488888888888889,-1.4444444444444444,-1.4,-1.3555555555555554,-1.3111111111111111,-1.2666666666666666,-1.222222222222222,-1.1777777777777778,-1.1333333333333333,-1.0888888888888888,-1.0444444444444443,-1.0,-0.9555555555555553,-0.911111111111111,-0.8666666666666667,-0.822222222222222,-0.7777777777777777,-0.7333333333333334,-0.6888888888888887,-0.6444444444444444,-0.6000000000000001,-0.5555555555555554,-0.5111111111111111,-0.4666666666666668,-0.42222222222222205,-0.37777777777777777,-0.33333333333333304,-0.28888888888888875,-0.24444444444444446,-0.19999999999999973,-0.15555555555555545,-0.11111111111111116,-0.06666666666666643,-0.022222222222222143,0.022222222222222143,0.06666666666666687,0.11111111111111116,0.1555555555555559,0.20000000000000018,0.24444444444444446,0.2888888888888892,0.3333333333333335,0.37777777777777777,0.4222222222222225,0.4666666666666668,0.5111111111111111,0.5555555555555558,0.6000000000000001,0.6444444444444444,0.6888888888888891,0.7333333333333334,0.7777777777777781,0.8222222222222224,0.8666666666666667,0.9111111111111114,0.9555555555555557,1.0,1.0444444444444443,1.0888888888888895,1.1333333333333337,1.177777777777778,1.2222222222222223,1.2666666666666666,1.311111111111111,1.355555555555556,1.4],\"y\":[6.917571409286772,6.878846799154056,6.840122189021339,6.801397578888623,6.762672968755907,6.72394835862319,6.685223748490474,6.646499138357758,6.6077745282250415,6.569049918092325,6.530325307959609,6.491600697826893,6.452876087694177,6.41415147756146,6.375426867428744,6.336702257296028,6.297977647163312,6.259253037030596,6.2205284268978795,6.1818038167651626,6.143079206632446,6.10435459649973,6.065629986367014,6.026905376234298,5.988180766101582,5.949456155968865,5.910731545836149,5.872006935703433,5.833282325570717,5.794557715438,5.755833105305284,5.7171084951725675,5.678383885039851,5.639659274907135,5.600934664774419,5.562210054641703,5.523485444508986,5.48476083437627,5.446036224243554,5.407311614110838,5.368587003978121,5.329862393845405,5.2911377837126885,5.252413173579972,5.213688563447256,5.17496395331454,5.136239343181823,5.097514733049107,5.058790122916391,5.020065512783675,4.981340902650959,4.942616292518243,4.903891682385526,4.8651670722528095,4.826442462120093,4.787717851987377,4.748993241854661,4.710268631721945,4.671544021589229,4.632819411456512,4.594094801323796,4.55537019119108,4.516645581058364,4.477920970925647,4.439196360792931,4.4004717506602145,4.361747140527498,4.323022530394782,4.284297920262066,4.24557331012935,4.206848699996634,4.168124089863917,4.129399479731201,4.090674869598485,4.051950259465769,4.0132256493330525,3.974501039200336,3.9357764290676194,3.8970518189349033,3.858327208802187,3.8196025986694706,3.7808779885367545,3.7421533784040384,3.703428768271322,3.6647041581386057,3.625979548005889,3.587254937873173,3.548530327740457,3.5098057176077404,3.4710811074750243,3.432356497342308,3.393631887209592,3.354907277076875,3.316182666944159,3.277458056811443,3.2387334466787268,3.2000088365460106,3.1612842264132945,3.1225596162805775,3.0838350061478623],\"type\":\"scatter\",\"xaxis\":\"x\",\"yaxis\":\"y\"},{\"marker\":{\"color\":\"#AB63FA\"},\"name\":\"Quadratic\",\"x\":[-3.0,-2.9555555555555557,-2.911111111111111,-2.8666666666666667,-2.8222222222222224,-2.7777777777777777,-2.7333333333333334,-2.688888888888889,-2.6444444444444444,-2.6,-2.5555555555555554,-2.511111111111111,-2.466666666666667,-2.422222222222222,-2.3777777777777778,-2.333333333333333,-2.2888888888888888,-2.2444444444444445,-2.2,-2.1555555555555554,-2.111111111111111,-2.0666666666666664,-2.022222222222222,-1.9777777777777776,-1.9333333333333333,-1.8888888888888888,-1.8444444444444443,-1.8,-1.7555555555555555,-1.711111111111111,-1.6666666666666665,-1.6222222222222222,-1.5777777777777777,-1.5333333333333332,-1.488888888888889,-1.4444444444444444,-1.4,-1.3555555555555554,-1.3111111111111111,-1.2666666666666666,-1.222222222222222,-1.1777777777777778,-1.1333333333333333,-1.0888888888888888,-1.0444444444444443,-1.0,-0.9555555555555553,-0.911111111111111,-0.8666666666666667,-0.822222222222222,-0.7777777777777777,-0.7333333333333334,-0.6888888888888887,-0.6444444444444444,-0.6000000000000001,-0.5555555555555554,-0.5111111111111111,-0.4666666666666668,-0.42222222222222205,-0.37777777777777777,-0.33333333333333304,-0.28888888888888875,-0.24444444444444446,-0.19999999999999973,-0.15555555555555545,-0.11111111111111116,-0.06666666666666643,-0.022222222222222143,0.022222222222222143,0.06666666666666687,0.11111111111111116,0.1555555555555559,0.20000000000000018,0.24444444444444446,0.2888888888888892,0.3333333333333335,0.37777777777777777,0.4222222222222225,0.4666666666666668,0.5111111111111111,0.5555555555555558,0.6000000000000001,0.6444444444444444,0.6888888888888891,0.7333333333333334,0.7777777777777781,0.8222222222222224,0.8666666666666667,0.9111111111111114,0.9555555555555557,1.0,1.0444444444444443,1.0888888888888895,1.1333333333333337,1.177777777777778,1.2222222222222223,1.2666666666666666,1.311111111111111,1.355555555555556,1.4],\"y\":[12.036180361231835,11.720270179273705,11.409747663988355,11.104612815375805,10.804865633436041,10.510506118169065,10.221534269574882,9.93795008765349,9.659753572404885,9.386944723829073,9.119523541926048,8.857490026695817,8.600844178138374,8.349585996253719,8.103715481041856,7.863232632502782,7.6281374506365,7.398429935443008,7.174110086922306,6.955177905074391,6.7416333898992695,6.533476541396936,6.330707359567394,6.133325844410642,5.94133199592668,5.754725814115507,5.573507298977124,5.397676450511533,5.227233268718731,5.062177753598718,4.902509905151495,4.748229723377064,4.599337208275422,4.45583235984657,4.317715178090508,4.184985663007237,4.057643814596755,3.935689632859063,3.8191231177941622,3.7079442694020504,3.602153087682729,3.501749572636198,3.4067337242624562,3.317105542561505,3.232865027533344,3.1540121791779727,3.0805469974953916,3.012469482485601,2.9497796341486,2.892477452484389,2.840562937492968,2.794036089174338,2.7528969075284966,2.7171453925554463,2.6867815442551857,2.661805362627715,2.6422168476730348,2.6280159993911445,2.6192028177820443,2.615777302845734,2.617739454582214,2.6250892729914836,2.637826758073544,2.655951909828394,2.679464728256034,2.708365213356464,2.7426533651296845,2.7823291835756945,2.8273926686944946,2.8778438204860857,2.933682638950466,2.994909124087637,3.061523275897597,3.1335250943803477,3.210914579535889,3.2936917313642193,3.38185654986534,3.4754090350392515,3.574349186885952,3.6786770054054427,3.788392490597724,3.9034956424627953,4.023986461000656,4.149864946211308,4.281131098094749,4.417784916650982,4.559826401880002,4.707255553781813,4.860072372356416,5.018276857603807,5.1818690095239885,5.350848828116959,5.525216313382725,5.704971465321275,5.890114283932617,6.0806447692167485,6.27656292117367,6.477868739803381,6.684562225105887,6.896643377081176],\"type\":\"scatter\",\"xaxis\":\"x\",\"yaxis\":\"y\"},{\"marker\":{\"color\":\"#FFA15A\"},\"name\":\"Cubic\",\"x\":[-3.0,-2.9555555555555557,-2.911111111111111,-2.8666666666666667,-2.8222222222222224,-2.7777777777777777,-2.7333333333333334,-2.688888888888889,-2.6444444444444444,-2.6,-2.5555555555555554,-2.511111111111111,-2.466666666666667,-2.422222222222222,-2.3777777777777778,-2.333333333333333,-2.2888888888888888,-2.2444444444444445,-2.2,-2.1555555555555554,-2.111111111111111,-2.0666666666666664,-2.022222222222222,-1.9777777777777776,-1.9333333333333333,-1.8888888888888888,-1.8444444444444443,-1.8,-1.7555555555555555,-1.711111111111111,-1.6666666666666665,-1.6222222222222222,-1.5777777777777777,-1.5333333333333332,-1.488888888888889,-1.4444444444444444,-1.4,-1.3555555555555554,-1.3111111111111111,-1.2666666666666666,-1.222222222222222,-1.1777777777777778,-1.1333333333333333,-1.0888888888888888,-1.0444444444444443,-1.0,-0.9555555555555553,-0.911111111111111,-0.8666666666666667,-0.822222222222222,-0.7777777777777777,-0.7333333333333334,-0.6888888888888887,-0.6444444444444444,-0.6000000000000001,-0.5555555555555554,-0.5111111111111111,-0.4666666666666668,-0.42222222222222205,-0.37777777777777777,-0.33333333333333304,-0.28888888888888875,-0.24444444444444446,-0.19999999999999973,-0.15555555555555545,-0.11111111111111116,-0.06666666666666643,-0.022222222222222143,0.022222222222222143,0.06666666666666687,0.11111111111111116,0.1555555555555559,0.20000000000000018,0.24444444444444446,0.2888888888888892,0.3333333333333335,0.37777777777777777,0.4222222222222225,0.4666666666666668,0.5111111111111111,0.5555555555555558,0.6000000000000001,0.6444444444444444,0.6888888888888891,0.7333333333333334,0.7777777777777781,0.8222222222222224,0.8666666666666667,0.9111111111111114,0.9555555555555557,1.0,1.0444444444444443,1.0888888888888895,1.1333333333333337,1.177777777777778,1.2222222222222223,1.2666666666666666,1.311111111111111,1.355555555555556,1.4],\"y\":[8.781827335663941,8.814772119120722,8.83491853069297,8.84265027280875,8.838351047896097,8.822404558383063,8.795194506697705,8.757104595268078,8.70851852652222,8.649820002888193,8.581392726794041,8.503620400667817,8.416886726937573,8.321575408031364,8.218070146377235,8.106754644403233,7.988012604537417,7.8622277292078415,7.729783720842546,7.591064281869585,7.446453114717016,7.296333921812882,7.141090405585238,6.981106268462135,6.816765212871623,6.6484509412417525,6.476547156000577,6.301437559576144,6.123505854396506,5.943135742889712,5.7607109274838155,5.576615110606868,5.391231994686919,5.2049452821520195,5.018138675430221,4.8311958769495735,4.6445005891381275,4.458436514423935,4.273387355235048,4.089736813999516,3.9078685931453894,3.728166395100722,3.551013922293561,3.37679487715196,3.2058929621039685,3.0386918795776388,2.875575332001019,2.716927021802164,2.563130651409123,2.414569923249946,2.2716285397526854,2.134690203345392,2.004138616456115,1.880357481512907,1.7637305009438191,1.6546413771769002,1.5534738126402043,1.4606115097617807,1.3764381709696794,1.3013374986919533,1.2356931953566517,1.179888963391827,1.1343085052255293,1.0993355232858095,1.0753537200007188,1.0627467977983083,1.0618984591066285,1.0731924063537306,1.0970123419676654,1.1337419683764844,1.1837649880082377,1.2474651032909772,1.3252260166527527,1.4174314305216158,1.5244650473256185,1.6467105694928095,1.7845516994512407,1.938372139628965,2.10855559245403,2.295485760354488,2.499546345758392,2.7211210510937898,2.9605935787887327,3.218347631271276,3.494766910969464,3.790235120311355,4.105135961724992,4.43985313763843,4.794770350479722,5.170271302676915,5.566739696658061,5.984559234851211,6.424113619684427,6.8857865535857385,7.369961738983209,7.877022878304887,8.407353673978825,8.961337828433074,9.539359044095693,10.141801023394708],\"type\":\"scatter\",\"xaxis\":\"x\",\"yaxis\":\"y\"},{\"marker\":{\"color\":\"#19D3F3\"},\"name\":\"Quartic\",\"x\":[-3.0,-2.9555555555555557,-2.911111111111111,-2.8666666666666667,-2.8222222222222224,-2.7777777777777777,-2.7333333333333334,-2.688888888888889,-2.6444444444444444,-2.6,-2.5555555555555554,-2.511111111111111,-2.466666666666667,-2.422222222222222,-2.3777777777777778,-2.333333333333333,-2.2888888888888888,-2.2444444444444445,-2.2,-2.1555555555555554,-2.111111111111111,-2.0666666666666664,-2.022222222222222,-1.9777777777777776,-1.9333333333333333,-1.8888888888888888,-1.8444444444444443,-1.8,-1.7555555555555555,-1.711111111111111,-1.6666666666666665,-1.6222222222222222,-1.5777777777777777,-1.5333333333333332,-1.488888888888889,-1.4444444444444444,-1.4,-1.3555555555555554,-1.3111111111111111,-1.2666666666666666,-1.222222222222222,-1.1777777777777778,-1.1333333333333333,-1.0888888888888888,-1.0444444444444443,-1.0,-0.9555555555555553,-0.911111111111111,-0.8666666666666667,-0.822222222222222,-0.7777777777777777,-0.7333333333333334,-0.6888888888888887,-0.6444444444444444,-0.6000000000000001,-0.5555555555555554,-0.5111111111111111,-0.4666666666666668,-0.42222222222222205,-0.37777777777777777,-0.33333333333333304,-0.28888888888888875,-0.24444444444444446,-0.19999999999999973,-0.15555555555555545,-0.11111111111111116,-0.06666666666666643,-0.022222222222222143,0.022222222222222143,0.06666666666666687,0.11111111111111116,0.1555555555555559,0.20000000000000018,0.24444444444444446,0.2888888888888892,0.3333333333333335,0.37777777777777777,0.4222222222222225,0.4666666666666668,0.5111111111111111,0.5555555555555558,0.6000000000000001,0.6444444444444444,0.6888888888888891,0.7333333333333334,0.7777777777777781,0.8222222222222224,0.8666666666666667,0.9111111111111114,0.9555555555555557,1.0,1.0444444444444443,1.0888888888888895,1.1333333333333337,1.177777777777778,1.2222222222222223,1.2666666666666666,1.311111111111111,1.355555555555556,1.4],\"y\":[9.578779950358374,9.4851099304597,9.390196173925762,9.293829862988776,9.195815485601702,9.095970835438344,8.994127011893298,8.890128420081975,8.78383277084055,8.675111080726037,8.56384767201624,8.449940172709784,8.333299516526061,8.213849942905295,8.091528997008496,7.96628752971749,7.838089697634893,7.706912963084139,7.572748094109444,7.435599164475847,7.2954835536691816,7.1524319468960735,7.006488335083966,6.857710014881108,6.706167588656532,6.55194496450009,6.395139356222428,6.235861283354999,6.074234571150061,5.9103963505806645,5.7444970583406745,5.576700436844752,5.40718353422836,5.236136704347769,5.063763606780048,4.890281206823071,4.715919775495514,4.540922889536855,4.365547431407375,4.19006358928816,4.014754857081094,3.8399180344088673,3.665863226614971,3.4929138447637023,3.321406605640156,3.1516915317502336,2.984131951320637,2.8191044982988727,2.6569991123532484,2.4982190388728736,2.3431808289676646,2.192314339468336,2.046062732926405,1.904882477614196,1.7692433475248321,1.6396284223722388,1.5165340875911484,1.4004700343370917,1.291959259486403,1.1915380656362222,1.099756061104487,1.017176159929943,0.9443745818721345,0.8819408524114095,0.8304778027489204,0.7906015698066203,0.7629415962272657,0.7481406303744158,0.7468547263324327,0.7597532439064807,0.7875188486225271,0.8308475117273421,0.8904485101884977,0.9670444266943693,1.061371149654136,1.174177873197777,1.3062270971760759,1.4582946271606205,1.6311695744437964,1.825654356038797,2.0425646946796183,2.2827296188210524,2.5469914626387014,2.8362058660289704,3.151241774609058,3.4929814397169787,3.862320418411535,4.260167573472344,4.687445073399825,5.145088392415189,5.634046310460459,6.155280913198461,6.70976759201283,7.298495044007976,7.9224652720091395,8.582693584562353,9.280208595934461,10.016052226113093,10.791279700806715,11.606959551444533],\"type\":\"scatter\",\"xaxis\":\"x\",\"yaxis\":\"y\"},{\"marker\":{\"color\":\"#FF6692\"},\"name\":\"Quintic\",\"x\":[-3.0,-2.9555555555555557,-2.911111111111111,-2.8666666666666667,-2.8222222222222224,-2.7777777777777777,-2.7333333333333334,-2.688888888888889,-2.6444444444444444,-2.6,-2.5555555555555554,-2.511111111111111,-2.466666666666667,-2.422222222222222,-2.3777777777777778,-2.333333333333333,-2.2888888888888888,-2.2444444444444445,-2.2,-2.1555555555555554,-2.111111111111111,-2.0666666666666664,-2.022222222222222,-1.9777777777777776,-1.9333333333333333,-1.8888888888888888,-1.8444444444444443,-1.8,-1.7555555555555555,-1.711111111111111,-1.6666666666666665,-1.6222222222222222,-1.5777777777777777,-1.5333333333333332,-1.488888888888889,-1.4444444444444444,-1.4,-1.3555555555555554,-1.3111111111111111,-1.2666666666666666,-1.222222222222222,-1.1777777777777778,-1.1333333333333333,-1.0888888888888888,-1.0444444444444443,-1.0,-0.9555555555555553,-0.911111111111111,-0.8666666666666667,-0.822222222222222,-0.7777777777777777,-0.7333333333333334,-0.6888888888888887,-0.6444444444444444,-0.6000000000000001,-0.5555555555555554,-0.5111111111111111,-0.4666666666666668,-0.42222222222222205,-0.37777777777777777,-0.33333333333333304,-0.28888888888888875,-0.24444444444444446,-0.19999999999999973,-0.15555555555555545,-0.11111111111111116,-0.06666666666666643,-0.022222222222222143,0.022222222222222143,0.06666666666666687,0.11111111111111116,0.1555555555555559,0.20000000000000018,0.24444444444444446,0.2888888888888892,0.3333333333333335,0.37777777777777777,0.4222222222222225,0.4666666666666668,0.5111111111111111,0.5555555555555558,0.6000000000000001,0.6444444444444444,0.6888888888888891,0.7333333333333334,0.7777777777777781,0.8222222222222224,0.8666666666666667,0.9111111111111114,0.9555555555555557,1.0,1.0444444444444443,1.0888888888888895,1.1333333333333337,1.177777777777778,1.2222222222222223,1.2666666666666666,1.311111111111111,1.355555555555556,1.4],\"y\":[24.307143564340144,21.39168633758549,18.811849500607302,16.54193720087158,14.557406431888628,12.834843657353863,11.351941435288884,10.087475042182737,9.021279097133023,8.134224185986957,7.408193485482533,6.826059387389639,6.371660122651084,6.029776385523965,5.786107957720494,5.627250332549357,5.540671339056578,5.514687766166963,5.538441986824969,5.601878582135987,5.695720965507283,5.811448006789254,5.941270656416611,6.078108569549292,6.215566730213764,6.3479120754440554,6.47005011942292,6.577501577622959,6.666378990947662,6.733363349872645,6.7756807185867185,6.791078859132982,6.777803855549999,6.734576738012867,6.660570106974381,6.5553847573061415,6.419026302439649,6.25188179850748,6.054696368484349,5.828549826328283,5.574833301121702,5.295225861212566,4.991671138355474,4.666353951852816,4.3216769326958655,3.9602371477059197,3.5848027236754056,3.198289471509023,2.803737510364839,2.4042878917954296,2.003159223889,1.603624295410496,1.2089866999427206,0.8225574600274879,0.4476316513067031,0.08746502666350642,-0.2547493596365984,-0.5759045278046444,-0.8730029483870685,-1.1431799181245808,-1.3837269358110629,-1.5921150781524274,-1.766018375625511,-1.903337188336947,-2.0022215818820386,-2.0610947032036484,-2.0786761564510683,-2.0540053788389017,-1.9864650165059412,-1.8758043003740459,-1.7221624220070246,-1.5260919094695062,-1.2885820031858288,-1.0110820317989082,-0.6955247880291178,-0.34434990453318015,0.03947277023697415,0.45241979617532024,0.8903907656628447,1.3486849277086943,1.821977812091288,2.3042978534994134,2.7890030156733907,3.26875741554617,3.7355079473844395,4.1804609069297864,4.594058615539772,4.965956044329095,5.28499743831069,5.539192940536843,5.715695216240334,5.8007760769755485,5.779803104759586,5.637216276213411,5.356504586702943,4.920182674480195,4.3097674448243986,3.505754694183116,2.487595734313336,1.2336740164227056],\"type\":\"scatter\",\"xaxis\":\"x\",\"yaxis\":\"y\"},{\"marker\":{\"color\":\"#636EFA\"},\"showlegend\":false,\"x\":[\"Linear in X\",\"Quadratic\",\"Cubic\",\"Quartic\",\"Quintic\"],\"y\":[2.272965710209297,1.3646273702703906,1.1528916542943797,1.1445074375807343,0.7148394938839464],\"type\":\"bar\",\"xaxis\":\"x2\",\"yaxis\":\"y2\"}],                        {\"template\":{\"data\":{\"bar\":[{\"error_x\":{\"color\":\"#2a3f5f\"},\"error_y\":{\"color\":\"#2a3f5f\"},\"marker\":{\"line\":{\"color\":\"#E5ECF6\",\"width\":0.5},\"pattern\":{\"fillmode\":\"overlay\",\"size\":10,\"solidity\":0.2}},\"type\":\"bar\"}],\"barpolar\":[{\"marker\":{\"line\":{\"color\":\"#E5ECF6\",\"width\":0.5},\"pattern\":{\"fillmode\":\"overlay\",\"size\":10,\"solidity\":0.2}},\"type\":\"barpolar\"}],\"carpet\":[{\"aaxis\":{\"endlinecolor\":\"#2a3f5f\",\"gridcolor\":\"white\",\"linecolor\":\"white\",\"minorgridcolor\":\"white\",\"startlinecolor\":\"#2a3f5f\"},\"baxis\":{\"endlinecolor\":\"#2a3f5f\",\"gridcolor\":\"white\",\"linecolor\":\"white\",\"minorgridcolor\":\"white\",\"startlinecolor\":\"#2a3f5f\"},\"type\":\"carpet\"}],\"choropleth\":[{\"colorbar\":{\"outlinewidth\":0,\"ticks\":\"\"},\"type\":\"choropleth\"}],\"contour\":[{\"colorbar\":{\"outlinewidth\":0,\"ticks\":\"\"},\"colorscale\":[[0.0,\"#0d0887\"],[0.1111111111111111,\"#46039f\"],[0.2222222222222222,\"#7201a8\"],[0.3333333333333333,\"#9c179e\"],[0.4444444444444444,\"#bd3786\"],[0.5555555555555556,\"#d8576b\"],[0.6666666666666666,\"#ed7953\"],[0.7777777777777778,\"#fb9f3a\"],[0.8888888888888888,\"#fdca26\"],[1.0,\"#f0f921\"]],\"type\":\"contour\"}],\"contourcarpet\":[{\"colorbar\":{\"outlinewidth\":0,\"ticks\":\"\"},\"type\":\"contourcarpet\"}],\"heatmap\":[{\"colorbar\":{\"outlinewidth\":0,\"ticks\":\"\"},\"colorscale\":[[0.0,\"#0d0887\"],[0.1111111111111111,\"#46039f\"],[0.2222222222222222,\"#7201a8\"],[0.3333333333333333,\"#9c179e\"],[0.4444444444444444,\"#bd3786\"],[0.5555555555555556,\"#d8576b\"],[0.6666666666666666,\"#ed7953\"],[0.7777777777777778,\"#fb9f3a\"],[0.8888888888888888,\"#fdca26\"],[1.0,\"#f0f921\"]],\"type\":\"heatmap\"}],\"heatmapgl\":[{\"colorbar\":{\"outlinewidth\":0,\"ticks\":\"\"},\"colorscale\":[[0.0,\"#0d0887\"],[0.1111111111111111,\"#46039f\"],[0.2222222222222222,\"#7201a8\"],[0.3333333333333333,\"#9c179e\"],[0.4444444444444444,\"#bd3786\"],[0.5555555555555556,\"#d8576b\"],[0.6666666666666666,\"#ed7953\"],[0.7777777777777778,\"#fb9f3a\"],[0.8888888888888888,\"#fdca26\"],[1.0,\"#f0f921\"]],\"type\":\"heatmapgl\"}],\"histogram\":[{\"marker\":{\"pattern\":{\"fillmode\":\"overlay\",\"size\":10,\"solidity\":0.2}},\"type\":\"histogram\"}],\"histogram2d\":[{\"colorbar\":{\"outlinewidth\":0,\"ticks\":\"\"},\"colorscale\":[[0.0,\"#0d0887\"],[0.1111111111111111,\"#46039f\"],[0.2222222222222222,\"#7201a8\"],[0.3333333333333333,\"#9c179e\"],[0.4444444444444444,\"#bd3786\"],[0.5555555555555556,\"#d8576b\"],[0.6666666666666666,\"#ed7953\"],[0.7777777777777778,\"#fb9f3a\"],[0.8888888888888888,\"#fdca26\"],[1.0,\"#f0f921\"]],\"type\":\"histogram2d\"}],\"histogram2dcontour\":[{\"colorbar\":{\"outlinewidth\":0,\"ticks\":\"\"},\"colorscale\":[[0.0,\"#0d0887\"],[0.1111111111111111,\"#46039f\"],[0.2222222222222222,\"#7201a8\"],[0.3333333333333333,\"#9c179e\"],[0.4444444444444444,\"#bd3786\"],[0.5555555555555556,\"#d8576b\"],[0.6666666666666666,\"#ed7953\"],[0.7777777777777778,\"#fb9f3a\"],[0.8888888888888888,\"#fdca26\"],[1.0,\"#f0f921\"]],\"type\":\"histogram2dcontour\"}],\"mesh3d\":[{\"colorbar\":{\"outlinewidth\":0,\"ticks\":\"\"},\"type\":\"mesh3d\"}],\"parcoords\":[{\"line\":{\"colorbar\":{\"outlinewidth\":0,\"ticks\":\"\"}},\"type\":\"parcoords\"}],\"pie\":[{\"automargin\":true,\"type\":\"pie\"}],\"scatter\":[{\"marker\":{\"colorbar\":{\"outlinewidth\":0,\"ticks\":\"\"}},\"type\":\"scatter\"}],\"scatter3d\":[{\"line\":{\"colorbar\":{\"outlinewidth\":0,\"ticks\":\"\"}},\"marker\":{\"colorbar\":{\"outlinewidth\":0,\"ticks\":\"\"}},\"type\":\"scatter3d\"}],\"scattercarpet\":[{\"marker\":{\"colorbar\":{\"outlinewidth\":0,\"ticks\":\"\"}},\"type\":\"scattercarpet\"}],\"scattergeo\":[{\"marker\":{\"colorbar\":{\"outlinewidth\":0,\"ticks\":\"\"}},\"type\":\"scattergeo\"}],\"scattergl\":[{\"marker\":{\"colorbar\":{\"outlinewidth\":0,\"ticks\":\"\"}},\"type\":\"scattergl\"}],\"scattermapbox\":[{\"marker\":{\"colorbar\":{\"outlinewidth\":0,\"ticks\":\"\"}},\"type\":\"scattermapbox\"}],\"scatterpolar\":[{\"marker\":{\"colorbar\":{\"outlinewidth\":0,\"ticks\":\"\"}},\"type\":\"scatterpolar\"}],\"scatterpolargl\":[{\"marker\":{\"colorbar\":{\"outlinewidth\":0,\"ticks\":\"\"}},\"type\":\"scatterpolargl\"}],\"scatterternary\":[{\"marker\":{\"colorbar\":{\"outlinewidth\":0,\"ticks\":\"\"}},\"type\":\"scatterternary\"}],\"surface\":[{\"colorbar\":{\"outlinewidth\":0,\"ticks\":\"\"},\"colorscale\":[[0.0,\"#0d0887\"],[0.1111111111111111,\"#46039f\"],[0.2222222222222222,\"#7201a8\"],[0.3333333333333333,\"#9c179e\"],[0.4444444444444444,\"#bd3786\"],[0.5555555555555556,\"#d8576b\"],[0.6666666666666666,\"#ed7953\"],[0.7777777777777778,\"#fb9f3a\"],[0.8888888888888888,\"#fdca26\"],[1.0,\"#f0f921\"]],\"type\":\"surface\"}],\"table\":[{\"cells\":{\"fill\":{\"color\":\"#EBF0F8\"},\"line\":{\"color\":\"white\"}},\"header\":{\"fill\":{\"color\":\"#C8D4E3\"},\"line\":{\"color\":\"white\"}},\"type\":\"table\"}]},\"layout\":{\"annotationdefaults\":{\"arrowcolor\":\"#2a3f5f\",\"arrowhead\":0,\"arrowwidth\":1},\"autotypenumbers\":\"strict\",\"coloraxis\":{\"colorbar\":{\"outlinewidth\":0,\"ticks\":\"\"}},\"colorscale\":{\"diverging\":[[0,\"#8e0152\"],[0.1,\"#c51b7d\"],[0.2,\"#de77ae\"],[0.3,\"#f1b6da\"],[0.4,\"#fde0ef\"],[0.5,\"#f7f7f7\"],[0.6,\"#e6f5d0\"],[0.7,\"#b8e186\"],[0.8,\"#7fbc41\"],[0.9,\"#4d9221\"],[1,\"#276419\"]],\"sequential\":[[0.0,\"#0d0887\"],[0.1111111111111111,\"#46039f\"],[0.2222222222222222,\"#7201a8\"],[0.3333333333333333,\"#9c179e\"],[0.4444444444444444,\"#bd3786\"],[0.5555555555555556,\"#d8576b\"],[0.6666666666666666,\"#ed7953\"],[0.7777777777777778,\"#fb9f3a\"],[0.8888888888888888,\"#fdca26\"],[1.0,\"#f0f921\"]],\"sequentialminus\":[[0.0,\"#0d0887\"],[0.1111111111111111,\"#46039f\"],[0.2222222222222222,\"#7201a8\"],[0.3333333333333333,\"#9c179e\"],[0.4444444444444444,\"#bd3786\"],[0.5555555555555556,\"#d8576b\"],[0.6666666666666666,\"#ed7953\"],[0.7777777777777778,\"#fb9f3a\"],[0.8888888888888888,\"#fdca26\"],[1.0,\"#f0f921\"]]},\"colorway\":[\"#636efa\",\"#EF553B\",\"#00cc96\",\"#ab63fa\",\"#FFA15A\",\"#19d3f3\",\"#FF6692\",\"#B6E880\",\"#FF97FF\",\"#FECB52\"],\"font\":{\"color\":\"#2a3f5f\"},\"geo\":{\"bgcolor\":\"white\",\"lakecolor\":\"white\",\"landcolor\":\"#E5ECF6\",\"showlakes\":true,\"showland\":true,\"subunitcolor\":\"white\"},\"hoverlabel\":{\"align\":\"left\"},\"hovermode\":\"closest\",\"mapbox\":{\"style\":\"light\"},\"paper_bgcolor\":\"white\",\"plot_bgcolor\":\"#E5ECF6\",\"polar\":{\"angularaxis\":{\"gridcolor\":\"white\",\"linecolor\":\"white\",\"ticks\":\"\"},\"bgcolor\":\"#E5ECF6\",\"radialaxis\":{\"gridcolor\":\"white\",\"linecolor\":\"white\",\"ticks\":\"\"}},\"scene\":{\"xaxis\":{\"backgroundcolor\":\"#E5ECF6\",\"gridcolor\":\"white\",\"gridwidth\":2,\"linecolor\":\"white\",\"showbackground\":true,\"ticks\":\"\",\"zerolinecolor\":\"white\"},\"yaxis\":{\"backgroundcolor\":\"#E5ECF6\",\"gridcolor\":\"white\",\"gridwidth\":2,\"linecolor\":\"white\",\"showbackground\":true,\"ticks\":\"\",\"zerolinecolor\":\"white\"},\"zaxis\":{\"backgroundcolor\":\"#E5ECF6\",\"gridcolor\":\"white\",\"gridwidth\":2,\"linecolor\":\"white\",\"showbackground\":true,\"ticks\":\"\",\"zerolinecolor\":\"white\"}},\"shapedefaults\":{\"line\":{\"color\":\"#2a3f5f\"}},\"ternary\":{\"aaxis\":{\"gridcolor\":\"white\",\"linecolor\":\"white\",\"ticks\":\"\"},\"baxis\":{\"gridcolor\":\"white\",\"linecolor\":\"white\",\"ticks\":\"\"},\"bgcolor\":\"#E5ECF6\",\"caxis\":{\"gridcolor\":\"white\",\"linecolor\":\"white\",\"ticks\":\"\"}},\"title\":{\"x\":0.05},\"xaxis\":{\"automargin\":true,\"gridcolor\":\"white\",\"linecolor\":\"white\",\"ticks\":\"\",\"title\":{\"standoff\":15},\"zerolinecolor\":\"white\",\"zerolinewidth\":2},\"yaxis\":{\"automargin\":true,\"gridcolor\":\"white\",\"linecolor\":\"white\",\"ticks\":\"\",\"title\":{\"standoff\":15},\"zerolinecolor\":\"white\",\"zerolinewidth\":2}}},\"xaxis\":{\"anchor\":\"y\",\"domain\":[0.0,0.45],\"title\":{\"text\":\"X\"}},\"yaxis\":{\"anchor\":\"x\",\"domain\":[0.0,1.0],\"title\":{\"text\":\"Y\"},\"range\":[0,10]},\"xaxis2\":{\"anchor\":\"y2\",\"domain\":[0.55,1.0]},\"yaxis2\":{\"anchor\":\"x2\",\"domain\":[0.0,1.0],\"title\":{\"text\":\"RMSE\"}}},                        {\"responsive\": true}                    ).then(function(){\n",
       "                            \n",
       "var gd = document.getElementById('9812926c-5a53-4411-b9ae-d1b8be7772a7');\n",
       "var x = new MutationObserver(function (mutations, observer) {{\n",
       "        var display = window.getComputedStyle(gd).display;\n",
       "        if (!display || display === 'none') {{\n",
       "            console.log([gd, 'removed!']);\n",
       "            Plotly.purge(gd);\n",
       "            observer.disconnect();\n",
       "        }}\n",
       "}});\n",
       "\n",
       "// Listen for the removal of the full notebook cells\n",
       "var notebookContainer = gd.closest('#notebook-container');\n",
       "if (notebookContainer) {{\n",
       "    x.observe(notebookContainer, {childList: true});\n",
       "}}\n",
       "\n",
       "// Listen for the clearing of the current output cell\n",
       "var outputEl = gd.closest('.output');\n",
       "if (outputEl) {{\n",
       "    x.observe(outputEl, {childList: true});\n",
       "}}\n",
       "\n",
       "                        })                };                });            </script>        </div>"
      ]
     },
     "metadata": {},
     "output_type": "display_data"
    }
   ],
   "source": [
    "model = LinearRegression()\n",
    "model.fit(phi_polynomials(data[[\"X\"]].to_numpy(), p=5), data[[\"Y\"]])\n",
    "evaluate_model(\"Quintic\", model, lambda x: phi_polynomials(x, p=5), models)"
   ]
  },
  {
   "cell_type": "code",
   "execution_count": 18,
   "metadata": {},
   "outputs": [
    {
     "name": "stdout",
     "output_type": "stream",
     "text": [
      "Root Mean Squared Error: 6.102130856184464e-12\n"
     ]
    },
    {
     "data": {
      "application/vnd.plotly.v1+json": {
       "config": {
        "plotlyServerURL": "https://plot.ly"
       },
       "data": [
        {
         "marker": {
          "color": "#636EFA"
         },
         "mode": "markers",
         "name": "data",
         "type": "scatter",
         "x": [
          -2.6475819924330954,
          -2.0515469334036016,
          -1.8106646981606496,
          -1.312076282905776,
          -0.7895905078629929,
          -0.6609638446178359,
          0.8061481540360957,
          1.054879683024077
         ],
         "xaxis": "x",
         "y": [
          9.14045169318176,
          5.336237325257329,
          7.195181491514598,
          6.095357781703495,
          0.7219468779966638,
          2.177008172349038,
          4.367994079777328,
          5.852681713200849
         ],
         "yaxis": "y"
        },
        {
         "marker": {
          "color": "#00CC96"
         },
         "name": "Linear in X",
         "type": "scatter",
         "x": [
          -3,
          -2.9555555555555557,
          -2.911111111111111,
          -2.8666666666666667,
          -2.8222222222222224,
          -2.7777777777777777,
          -2.7333333333333334,
          -2.688888888888889,
          -2.6444444444444444,
          -2.6,
          -2.5555555555555554,
          -2.511111111111111,
          -2.466666666666667,
          -2.422222222222222,
          -2.3777777777777778,
          -2.333333333333333,
          -2.2888888888888888,
          -2.2444444444444445,
          -2.2,
          -2.1555555555555554,
          -2.111111111111111,
          -2.0666666666666664,
          -2.022222222222222,
          -1.9777777777777776,
          -1.9333333333333333,
          -1.8888888888888888,
          -1.8444444444444443,
          -1.8,
          -1.7555555555555555,
          -1.711111111111111,
          -1.6666666666666665,
          -1.6222222222222222,
          -1.5777777777777777,
          -1.5333333333333332,
          -1.488888888888889,
          -1.4444444444444444,
          -1.4,
          -1.3555555555555554,
          -1.3111111111111111,
          -1.2666666666666666,
          -1.222222222222222,
          -1.1777777777777778,
          -1.1333333333333333,
          -1.0888888888888888,
          -1.0444444444444443,
          -1,
          -0.9555555555555553,
          -0.911111111111111,
          -0.8666666666666667,
          -0.822222222222222,
          -0.7777777777777777,
          -0.7333333333333334,
          -0.6888888888888887,
          -0.6444444444444444,
          -0.6000000000000001,
          -0.5555555555555554,
          -0.5111111111111111,
          -0.4666666666666668,
          -0.42222222222222205,
          -0.37777777777777777,
          -0.33333333333333304,
          -0.28888888888888875,
          -0.24444444444444446,
          -0.19999999999999973,
          -0.15555555555555545,
          -0.11111111111111116,
          -0.06666666666666643,
          -0.022222222222222143,
          0.022222222222222143,
          0.06666666666666687,
          0.11111111111111116,
          0.1555555555555559,
          0.20000000000000018,
          0.24444444444444446,
          0.2888888888888892,
          0.3333333333333335,
          0.37777777777777777,
          0.4222222222222225,
          0.4666666666666668,
          0.5111111111111111,
          0.5555555555555558,
          0.6000000000000001,
          0.6444444444444444,
          0.6888888888888891,
          0.7333333333333334,
          0.7777777777777781,
          0.8222222222222224,
          0.8666666666666667,
          0.9111111111111114,
          0.9555555555555557,
          1,
          1.0444444444444443,
          1.0888888888888895,
          1.1333333333333337,
          1.177777777777778,
          1.2222222222222223,
          1.2666666666666666,
          1.311111111111111,
          1.355555555555556,
          1.4
         ],
         "xaxis": "x",
         "y": [
          6.917571409286772,
          6.878846799154056,
          6.840122189021339,
          6.801397578888623,
          6.762672968755907,
          6.72394835862319,
          6.685223748490474,
          6.646499138357758,
          6.6077745282250415,
          6.569049918092325,
          6.530325307959609,
          6.491600697826893,
          6.452876087694177,
          6.41415147756146,
          6.375426867428744,
          6.336702257296028,
          6.297977647163312,
          6.259253037030596,
          6.2205284268978795,
          6.1818038167651626,
          6.143079206632446,
          6.10435459649973,
          6.065629986367014,
          6.026905376234298,
          5.988180766101582,
          5.949456155968865,
          5.910731545836149,
          5.872006935703433,
          5.833282325570717,
          5.794557715438,
          5.755833105305284,
          5.7171084951725675,
          5.678383885039851,
          5.639659274907135,
          5.600934664774419,
          5.562210054641703,
          5.523485444508986,
          5.48476083437627,
          5.446036224243554,
          5.407311614110838,
          5.368587003978121,
          5.329862393845405,
          5.2911377837126885,
          5.252413173579972,
          5.213688563447256,
          5.17496395331454,
          5.136239343181823,
          5.097514733049107,
          5.058790122916391,
          5.020065512783675,
          4.981340902650959,
          4.942616292518243,
          4.903891682385526,
          4.8651670722528095,
          4.826442462120093,
          4.787717851987377,
          4.748993241854661,
          4.710268631721945,
          4.671544021589229,
          4.632819411456512,
          4.594094801323796,
          4.55537019119108,
          4.516645581058364,
          4.477920970925647,
          4.439196360792931,
          4.4004717506602145,
          4.361747140527498,
          4.323022530394782,
          4.284297920262066,
          4.24557331012935,
          4.206848699996634,
          4.168124089863917,
          4.129399479731201,
          4.090674869598485,
          4.051950259465769,
          4.0132256493330525,
          3.974501039200336,
          3.9357764290676194,
          3.8970518189349033,
          3.858327208802187,
          3.8196025986694706,
          3.7808779885367545,
          3.7421533784040384,
          3.703428768271322,
          3.6647041581386057,
          3.625979548005889,
          3.587254937873173,
          3.548530327740457,
          3.5098057176077404,
          3.4710811074750243,
          3.432356497342308,
          3.393631887209592,
          3.354907277076875,
          3.316182666944159,
          3.277458056811443,
          3.2387334466787268,
          3.2000088365460106,
          3.1612842264132945,
          3.1225596162805775,
          3.0838350061478623
         ],
         "yaxis": "y"
        },
        {
         "marker": {
          "color": "#AB63FA"
         },
         "name": "Quadratic",
         "type": "scatter",
         "x": [
          -3,
          -2.9555555555555557,
          -2.911111111111111,
          -2.8666666666666667,
          -2.8222222222222224,
          -2.7777777777777777,
          -2.7333333333333334,
          -2.688888888888889,
          -2.6444444444444444,
          -2.6,
          -2.5555555555555554,
          -2.511111111111111,
          -2.466666666666667,
          -2.422222222222222,
          -2.3777777777777778,
          -2.333333333333333,
          -2.2888888888888888,
          -2.2444444444444445,
          -2.2,
          -2.1555555555555554,
          -2.111111111111111,
          -2.0666666666666664,
          -2.022222222222222,
          -1.9777777777777776,
          -1.9333333333333333,
          -1.8888888888888888,
          -1.8444444444444443,
          -1.8,
          -1.7555555555555555,
          -1.711111111111111,
          -1.6666666666666665,
          -1.6222222222222222,
          -1.5777777777777777,
          -1.5333333333333332,
          -1.488888888888889,
          -1.4444444444444444,
          -1.4,
          -1.3555555555555554,
          -1.3111111111111111,
          -1.2666666666666666,
          -1.222222222222222,
          -1.1777777777777778,
          -1.1333333333333333,
          -1.0888888888888888,
          -1.0444444444444443,
          -1,
          -0.9555555555555553,
          -0.911111111111111,
          -0.8666666666666667,
          -0.822222222222222,
          -0.7777777777777777,
          -0.7333333333333334,
          -0.6888888888888887,
          -0.6444444444444444,
          -0.6000000000000001,
          -0.5555555555555554,
          -0.5111111111111111,
          -0.4666666666666668,
          -0.42222222222222205,
          -0.37777777777777777,
          -0.33333333333333304,
          -0.28888888888888875,
          -0.24444444444444446,
          -0.19999999999999973,
          -0.15555555555555545,
          -0.11111111111111116,
          -0.06666666666666643,
          -0.022222222222222143,
          0.022222222222222143,
          0.06666666666666687,
          0.11111111111111116,
          0.1555555555555559,
          0.20000000000000018,
          0.24444444444444446,
          0.2888888888888892,
          0.3333333333333335,
          0.37777777777777777,
          0.4222222222222225,
          0.4666666666666668,
          0.5111111111111111,
          0.5555555555555558,
          0.6000000000000001,
          0.6444444444444444,
          0.6888888888888891,
          0.7333333333333334,
          0.7777777777777781,
          0.8222222222222224,
          0.8666666666666667,
          0.9111111111111114,
          0.9555555555555557,
          1,
          1.0444444444444443,
          1.0888888888888895,
          1.1333333333333337,
          1.177777777777778,
          1.2222222222222223,
          1.2666666666666666,
          1.311111111111111,
          1.355555555555556,
          1.4
         ],
         "xaxis": "x",
         "y": [
          12.036180361231835,
          11.720270179273705,
          11.409747663988355,
          11.104612815375805,
          10.804865633436041,
          10.510506118169065,
          10.221534269574882,
          9.93795008765349,
          9.659753572404885,
          9.386944723829073,
          9.119523541926048,
          8.857490026695817,
          8.600844178138374,
          8.349585996253719,
          8.103715481041856,
          7.863232632502782,
          7.6281374506365,
          7.398429935443008,
          7.174110086922306,
          6.955177905074391,
          6.7416333898992695,
          6.533476541396936,
          6.330707359567394,
          6.133325844410642,
          5.94133199592668,
          5.754725814115507,
          5.573507298977124,
          5.397676450511533,
          5.227233268718731,
          5.062177753598718,
          4.902509905151495,
          4.748229723377064,
          4.599337208275422,
          4.45583235984657,
          4.317715178090508,
          4.184985663007237,
          4.057643814596755,
          3.935689632859063,
          3.8191231177941622,
          3.7079442694020504,
          3.602153087682729,
          3.501749572636198,
          3.4067337242624562,
          3.317105542561505,
          3.232865027533344,
          3.1540121791779727,
          3.0805469974953916,
          3.012469482485601,
          2.9497796341486,
          2.892477452484389,
          2.840562937492968,
          2.794036089174338,
          2.7528969075284966,
          2.7171453925554463,
          2.6867815442551857,
          2.661805362627715,
          2.6422168476730348,
          2.6280159993911445,
          2.6192028177820443,
          2.615777302845734,
          2.617739454582214,
          2.6250892729914836,
          2.637826758073544,
          2.655951909828394,
          2.679464728256034,
          2.708365213356464,
          2.7426533651296845,
          2.7823291835756945,
          2.8273926686944946,
          2.8778438204860857,
          2.933682638950466,
          2.994909124087637,
          3.061523275897597,
          3.1335250943803477,
          3.210914579535889,
          3.2936917313642193,
          3.38185654986534,
          3.4754090350392515,
          3.574349186885952,
          3.6786770054054427,
          3.788392490597724,
          3.9034956424627953,
          4.023986461000656,
          4.149864946211308,
          4.281131098094749,
          4.417784916650982,
          4.559826401880002,
          4.707255553781813,
          4.860072372356416,
          5.018276857603807,
          5.1818690095239885,
          5.350848828116959,
          5.525216313382725,
          5.704971465321275,
          5.890114283932617,
          6.0806447692167485,
          6.27656292117367,
          6.477868739803381,
          6.684562225105887,
          6.896643377081176
         ],
         "yaxis": "y"
        },
        {
         "marker": {
          "color": "#FFA15A"
         },
         "name": "Cubic",
         "type": "scatter",
         "x": [
          -3,
          -2.9555555555555557,
          -2.911111111111111,
          -2.8666666666666667,
          -2.8222222222222224,
          -2.7777777777777777,
          -2.7333333333333334,
          -2.688888888888889,
          -2.6444444444444444,
          -2.6,
          -2.5555555555555554,
          -2.511111111111111,
          -2.466666666666667,
          -2.422222222222222,
          -2.3777777777777778,
          -2.333333333333333,
          -2.2888888888888888,
          -2.2444444444444445,
          -2.2,
          -2.1555555555555554,
          -2.111111111111111,
          -2.0666666666666664,
          -2.022222222222222,
          -1.9777777777777776,
          -1.9333333333333333,
          -1.8888888888888888,
          -1.8444444444444443,
          -1.8,
          -1.7555555555555555,
          -1.711111111111111,
          -1.6666666666666665,
          -1.6222222222222222,
          -1.5777777777777777,
          -1.5333333333333332,
          -1.488888888888889,
          -1.4444444444444444,
          -1.4,
          -1.3555555555555554,
          -1.3111111111111111,
          -1.2666666666666666,
          -1.222222222222222,
          -1.1777777777777778,
          -1.1333333333333333,
          -1.0888888888888888,
          -1.0444444444444443,
          -1,
          -0.9555555555555553,
          -0.911111111111111,
          -0.8666666666666667,
          -0.822222222222222,
          -0.7777777777777777,
          -0.7333333333333334,
          -0.6888888888888887,
          -0.6444444444444444,
          -0.6000000000000001,
          -0.5555555555555554,
          -0.5111111111111111,
          -0.4666666666666668,
          -0.42222222222222205,
          -0.37777777777777777,
          -0.33333333333333304,
          -0.28888888888888875,
          -0.24444444444444446,
          -0.19999999999999973,
          -0.15555555555555545,
          -0.11111111111111116,
          -0.06666666666666643,
          -0.022222222222222143,
          0.022222222222222143,
          0.06666666666666687,
          0.11111111111111116,
          0.1555555555555559,
          0.20000000000000018,
          0.24444444444444446,
          0.2888888888888892,
          0.3333333333333335,
          0.37777777777777777,
          0.4222222222222225,
          0.4666666666666668,
          0.5111111111111111,
          0.5555555555555558,
          0.6000000000000001,
          0.6444444444444444,
          0.6888888888888891,
          0.7333333333333334,
          0.7777777777777781,
          0.8222222222222224,
          0.8666666666666667,
          0.9111111111111114,
          0.9555555555555557,
          1,
          1.0444444444444443,
          1.0888888888888895,
          1.1333333333333337,
          1.177777777777778,
          1.2222222222222223,
          1.2666666666666666,
          1.311111111111111,
          1.355555555555556,
          1.4
         ],
         "xaxis": "x",
         "y": [
          8.781827335663941,
          8.814772119120722,
          8.83491853069297,
          8.84265027280875,
          8.838351047896097,
          8.822404558383063,
          8.795194506697705,
          8.757104595268078,
          8.70851852652222,
          8.649820002888193,
          8.581392726794041,
          8.503620400667817,
          8.416886726937573,
          8.321575408031364,
          8.218070146377235,
          8.106754644403233,
          7.988012604537417,
          7.8622277292078415,
          7.729783720842546,
          7.591064281869585,
          7.446453114717016,
          7.296333921812882,
          7.141090405585238,
          6.981106268462135,
          6.816765212871623,
          6.6484509412417525,
          6.476547156000577,
          6.301437559576144,
          6.123505854396506,
          5.943135742889712,
          5.7607109274838155,
          5.576615110606868,
          5.391231994686919,
          5.2049452821520195,
          5.018138675430221,
          4.8311958769495735,
          4.6445005891381275,
          4.458436514423935,
          4.273387355235048,
          4.089736813999516,
          3.9078685931453894,
          3.728166395100722,
          3.551013922293561,
          3.37679487715196,
          3.2058929621039685,
          3.0386918795776388,
          2.875575332001019,
          2.716927021802164,
          2.563130651409123,
          2.414569923249946,
          2.2716285397526854,
          2.134690203345392,
          2.004138616456115,
          1.880357481512907,
          1.7637305009438191,
          1.6546413771769002,
          1.5534738126402043,
          1.4606115097617807,
          1.3764381709696794,
          1.3013374986919533,
          1.2356931953566517,
          1.179888963391827,
          1.1343085052255293,
          1.0993355232858095,
          1.0753537200007188,
          1.0627467977983083,
          1.0618984591066285,
          1.0731924063537306,
          1.0970123419676654,
          1.1337419683764844,
          1.1837649880082377,
          1.2474651032909772,
          1.3252260166527527,
          1.4174314305216158,
          1.5244650473256185,
          1.6467105694928095,
          1.7845516994512407,
          1.938372139628965,
          2.10855559245403,
          2.295485760354488,
          2.499546345758392,
          2.7211210510937898,
          2.9605935787887327,
          3.218347631271276,
          3.494766910969464,
          3.790235120311355,
          4.105135961724992,
          4.43985313763843,
          4.794770350479722,
          5.170271302676915,
          5.566739696658061,
          5.984559234851211,
          6.424113619684427,
          6.8857865535857385,
          7.369961738983209,
          7.877022878304887,
          8.407353673978825,
          8.961337828433074,
          9.539359044095693,
          10.141801023394708
         ],
         "yaxis": "y"
        },
        {
         "marker": {
          "color": "#19D3F3"
         },
         "name": "Quartic",
         "type": "scatter",
         "x": [
          -3,
          -2.9555555555555557,
          -2.911111111111111,
          -2.8666666666666667,
          -2.8222222222222224,
          -2.7777777777777777,
          -2.7333333333333334,
          -2.688888888888889,
          -2.6444444444444444,
          -2.6,
          -2.5555555555555554,
          -2.511111111111111,
          -2.466666666666667,
          -2.422222222222222,
          -2.3777777777777778,
          -2.333333333333333,
          -2.2888888888888888,
          -2.2444444444444445,
          -2.2,
          -2.1555555555555554,
          -2.111111111111111,
          -2.0666666666666664,
          -2.022222222222222,
          -1.9777777777777776,
          -1.9333333333333333,
          -1.8888888888888888,
          -1.8444444444444443,
          -1.8,
          -1.7555555555555555,
          -1.711111111111111,
          -1.6666666666666665,
          -1.6222222222222222,
          -1.5777777777777777,
          -1.5333333333333332,
          -1.488888888888889,
          -1.4444444444444444,
          -1.4,
          -1.3555555555555554,
          -1.3111111111111111,
          -1.2666666666666666,
          -1.222222222222222,
          -1.1777777777777778,
          -1.1333333333333333,
          -1.0888888888888888,
          -1.0444444444444443,
          -1,
          -0.9555555555555553,
          -0.911111111111111,
          -0.8666666666666667,
          -0.822222222222222,
          -0.7777777777777777,
          -0.7333333333333334,
          -0.6888888888888887,
          -0.6444444444444444,
          -0.6000000000000001,
          -0.5555555555555554,
          -0.5111111111111111,
          -0.4666666666666668,
          -0.42222222222222205,
          -0.37777777777777777,
          -0.33333333333333304,
          -0.28888888888888875,
          -0.24444444444444446,
          -0.19999999999999973,
          -0.15555555555555545,
          -0.11111111111111116,
          -0.06666666666666643,
          -0.022222222222222143,
          0.022222222222222143,
          0.06666666666666687,
          0.11111111111111116,
          0.1555555555555559,
          0.20000000000000018,
          0.24444444444444446,
          0.2888888888888892,
          0.3333333333333335,
          0.37777777777777777,
          0.4222222222222225,
          0.4666666666666668,
          0.5111111111111111,
          0.5555555555555558,
          0.6000000000000001,
          0.6444444444444444,
          0.6888888888888891,
          0.7333333333333334,
          0.7777777777777781,
          0.8222222222222224,
          0.8666666666666667,
          0.9111111111111114,
          0.9555555555555557,
          1,
          1.0444444444444443,
          1.0888888888888895,
          1.1333333333333337,
          1.177777777777778,
          1.2222222222222223,
          1.2666666666666666,
          1.311111111111111,
          1.355555555555556,
          1.4
         ],
         "xaxis": "x",
         "y": [
          9.578779950358374,
          9.4851099304597,
          9.390196173925762,
          9.293829862988776,
          9.195815485601702,
          9.095970835438344,
          8.994127011893298,
          8.890128420081975,
          8.78383277084055,
          8.675111080726037,
          8.56384767201624,
          8.449940172709784,
          8.333299516526061,
          8.213849942905295,
          8.091528997008496,
          7.96628752971749,
          7.838089697634893,
          7.706912963084139,
          7.572748094109444,
          7.435599164475847,
          7.2954835536691816,
          7.1524319468960735,
          7.006488335083966,
          6.857710014881108,
          6.706167588656532,
          6.55194496450009,
          6.395139356222428,
          6.235861283354999,
          6.074234571150061,
          5.9103963505806645,
          5.7444970583406745,
          5.576700436844752,
          5.40718353422836,
          5.236136704347769,
          5.063763606780048,
          4.890281206823071,
          4.715919775495514,
          4.540922889536855,
          4.365547431407375,
          4.19006358928816,
          4.014754857081094,
          3.8399180344088673,
          3.665863226614971,
          3.4929138447637023,
          3.321406605640156,
          3.1516915317502336,
          2.984131951320637,
          2.8191044982988727,
          2.6569991123532484,
          2.4982190388728736,
          2.3431808289676646,
          2.192314339468336,
          2.046062732926405,
          1.904882477614196,
          1.7692433475248321,
          1.6396284223722388,
          1.5165340875911484,
          1.4004700343370917,
          1.291959259486403,
          1.1915380656362222,
          1.099756061104487,
          1.017176159929943,
          0.9443745818721345,
          0.8819408524114095,
          0.8304778027489204,
          0.7906015698066203,
          0.7629415962272657,
          0.7481406303744158,
          0.7468547263324327,
          0.7597532439064807,
          0.7875188486225271,
          0.8308475117273421,
          0.8904485101884977,
          0.9670444266943693,
          1.061371149654136,
          1.174177873197777,
          1.3062270971760759,
          1.4582946271606205,
          1.6311695744437964,
          1.825654356038797,
          2.0425646946796183,
          2.2827296188210524,
          2.5469914626387014,
          2.8362058660289704,
          3.151241774609058,
          3.4929814397169787,
          3.862320418411535,
          4.260167573472344,
          4.687445073399825,
          5.145088392415189,
          5.634046310460459,
          6.155280913198461,
          6.70976759201283,
          7.298495044007976,
          7.9224652720091395,
          8.582693584562353,
          9.280208595934461,
          10.016052226113093,
          10.791279700806715,
          11.606959551444533
         ],
         "yaxis": "y"
        },
        {
         "marker": {
          "color": "#FF6692"
         },
         "name": "Quintic",
         "type": "scatter",
         "x": [
          -3,
          -2.9555555555555557,
          -2.911111111111111,
          -2.8666666666666667,
          -2.8222222222222224,
          -2.7777777777777777,
          -2.7333333333333334,
          -2.688888888888889,
          -2.6444444444444444,
          -2.6,
          -2.5555555555555554,
          -2.511111111111111,
          -2.466666666666667,
          -2.422222222222222,
          -2.3777777777777778,
          -2.333333333333333,
          -2.2888888888888888,
          -2.2444444444444445,
          -2.2,
          -2.1555555555555554,
          -2.111111111111111,
          -2.0666666666666664,
          -2.022222222222222,
          -1.9777777777777776,
          -1.9333333333333333,
          -1.8888888888888888,
          -1.8444444444444443,
          -1.8,
          -1.7555555555555555,
          -1.711111111111111,
          -1.6666666666666665,
          -1.6222222222222222,
          -1.5777777777777777,
          -1.5333333333333332,
          -1.488888888888889,
          -1.4444444444444444,
          -1.4,
          -1.3555555555555554,
          -1.3111111111111111,
          -1.2666666666666666,
          -1.222222222222222,
          -1.1777777777777778,
          -1.1333333333333333,
          -1.0888888888888888,
          -1.0444444444444443,
          -1,
          -0.9555555555555553,
          -0.911111111111111,
          -0.8666666666666667,
          -0.822222222222222,
          -0.7777777777777777,
          -0.7333333333333334,
          -0.6888888888888887,
          -0.6444444444444444,
          -0.6000000000000001,
          -0.5555555555555554,
          -0.5111111111111111,
          -0.4666666666666668,
          -0.42222222222222205,
          -0.37777777777777777,
          -0.33333333333333304,
          -0.28888888888888875,
          -0.24444444444444446,
          -0.19999999999999973,
          -0.15555555555555545,
          -0.11111111111111116,
          -0.06666666666666643,
          -0.022222222222222143,
          0.022222222222222143,
          0.06666666666666687,
          0.11111111111111116,
          0.1555555555555559,
          0.20000000000000018,
          0.24444444444444446,
          0.2888888888888892,
          0.3333333333333335,
          0.37777777777777777,
          0.4222222222222225,
          0.4666666666666668,
          0.5111111111111111,
          0.5555555555555558,
          0.6000000000000001,
          0.6444444444444444,
          0.6888888888888891,
          0.7333333333333334,
          0.7777777777777781,
          0.8222222222222224,
          0.8666666666666667,
          0.9111111111111114,
          0.9555555555555557,
          1,
          1.0444444444444443,
          1.0888888888888895,
          1.1333333333333337,
          1.177777777777778,
          1.2222222222222223,
          1.2666666666666666,
          1.311111111111111,
          1.355555555555556,
          1.4
         ],
         "xaxis": "x",
         "y": [
          24.307143564340144,
          21.39168633758549,
          18.811849500607302,
          16.54193720087158,
          14.557406431888628,
          12.834843657353863,
          11.351941435288884,
          10.087475042182737,
          9.021279097133023,
          8.134224185986957,
          7.408193485482533,
          6.826059387389639,
          6.371660122651084,
          6.029776385523965,
          5.786107957720494,
          5.627250332549357,
          5.540671339056578,
          5.514687766166963,
          5.538441986824969,
          5.601878582135987,
          5.695720965507283,
          5.811448006789254,
          5.941270656416611,
          6.078108569549292,
          6.215566730213764,
          6.3479120754440554,
          6.47005011942292,
          6.577501577622959,
          6.666378990947662,
          6.733363349872645,
          6.7756807185867185,
          6.791078859132982,
          6.777803855549999,
          6.734576738012867,
          6.660570106974381,
          6.5553847573061415,
          6.419026302439649,
          6.25188179850748,
          6.054696368484349,
          5.828549826328283,
          5.574833301121702,
          5.295225861212566,
          4.991671138355474,
          4.666353951852816,
          4.3216769326958655,
          3.9602371477059197,
          3.5848027236754056,
          3.198289471509023,
          2.803737510364839,
          2.4042878917954296,
          2.003159223889,
          1.603624295410496,
          1.2089866999427206,
          0.8225574600274879,
          0.4476316513067031,
          0.08746502666350642,
          -0.2547493596365984,
          -0.5759045278046444,
          -0.8730029483870685,
          -1.1431799181245808,
          -1.3837269358110629,
          -1.5921150781524274,
          -1.766018375625511,
          -1.903337188336947,
          -2.0022215818820386,
          -2.0610947032036484,
          -2.0786761564510683,
          -2.0540053788389017,
          -1.9864650165059412,
          -1.8758043003740459,
          -1.7221624220070246,
          -1.5260919094695062,
          -1.2885820031858288,
          -1.0110820317989082,
          -0.6955247880291178,
          -0.34434990453318015,
          0.03947277023697415,
          0.45241979617532024,
          0.8903907656628447,
          1.3486849277086943,
          1.821977812091288,
          2.3042978534994134,
          2.7890030156733907,
          3.26875741554617,
          3.7355079473844395,
          4.1804609069297864,
          4.594058615539772,
          4.965956044329095,
          5.28499743831069,
          5.539192940536843,
          5.715695216240334,
          5.8007760769755485,
          5.779803104759586,
          5.637216276213411,
          5.356504586702943,
          4.920182674480195,
          4.3097674448243986,
          3.505754694183116,
          2.487595734313336,
          1.2336740164227056
         ],
         "yaxis": "y"
        },
        {
         "marker": {
          "color": "#B6E880"
         },
         "name": "Octic",
         "type": "scatter",
         "x": [
          -3,
          -2.9555555555555557,
          -2.911111111111111,
          -2.8666666666666667,
          -2.8222222222222224,
          -2.7777777777777777,
          -2.7333333333333334,
          -2.688888888888889,
          -2.6444444444444444,
          -2.6,
          -2.5555555555555554,
          -2.511111111111111,
          -2.466666666666667,
          -2.422222222222222,
          -2.3777777777777778,
          -2.333333333333333,
          -2.2888888888888888,
          -2.2444444444444445,
          -2.2,
          -2.1555555555555554,
          -2.111111111111111,
          -2.0666666666666664,
          -2.022222222222222,
          -1.9777777777777776,
          -1.9333333333333333,
          -1.8888888888888888,
          -1.8444444444444443,
          -1.8,
          -1.7555555555555555,
          -1.711111111111111,
          -1.6666666666666665,
          -1.6222222222222222,
          -1.5777777777777777,
          -1.5333333333333332,
          -1.488888888888889,
          -1.4444444444444444,
          -1.4,
          -1.3555555555555554,
          -1.3111111111111111,
          -1.2666666666666666,
          -1.222222222222222,
          -1.1777777777777778,
          -1.1333333333333333,
          -1.0888888888888888,
          -1.0444444444444443,
          -1,
          -0.9555555555555553,
          -0.911111111111111,
          -0.8666666666666667,
          -0.822222222222222,
          -0.7777777777777777,
          -0.7333333333333334,
          -0.6888888888888887,
          -0.6444444444444444,
          -0.6000000000000001,
          -0.5555555555555554,
          -0.5111111111111111,
          -0.4666666666666668,
          -0.42222222222222205,
          -0.37777777777777777,
          -0.33333333333333304,
          -0.28888888888888875,
          -0.24444444444444446,
          -0.19999999999999973,
          -0.15555555555555545,
          -0.11111111111111116,
          -0.06666666666666643,
          -0.022222222222222143,
          0.022222222222222143,
          0.06666666666666687,
          0.11111111111111116,
          0.1555555555555559,
          0.20000000000000018,
          0.24444444444444446,
          0.2888888888888892,
          0.3333333333333335,
          0.37777777777777777,
          0.4222222222222225,
          0.4666666666666668,
          0.5111111111111111,
          0.5555555555555558,
          0.6000000000000001,
          0.6444444444444444,
          0.6888888888888891,
          0.7333333333333334,
          0.7777777777777781,
          0.8222222222222224,
          0.8666666666666667,
          0.9111111111111114,
          0.9555555555555557,
          1,
          1.0444444444444443,
          1.0888888888888895,
          1.1333333333333337,
          1.177777777777778,
          1.2222222222222223,
          1.2666666666666666,
          1.311111111111111,
          1.355555555555556,
          1.4
         ],
         "xaxis": "x",
         "y": [
          -151.08744180761062,
          -107.36404836274562,
          -73.15318535062363,
          -46.83355829057256,
          -26.996458600465864,
          -12.425008836869544,
          -2.0748347394816093,
          4.943897877851107,
          9.383142061484598,
          11.872383863810121,
          12.932869800856118,
          12.99070443619383,
          12.388873619757199,
          11.39824762451952,
          10.227617138030276,
          9.032813780069212,
          7.924965531859364,
          6.977936176433452,
          6.234996563977695,
          5.714774230148471,
          5.416526609520027,
          5.324781800562398,
          5.413389552675092,
          5.649023860047585,
          5.994177261258422,
          6.409685657744042,
          6.856821178436697,
          7.298989332074036,
          7.7030654028518555,
          8.040403759302656,
          8.287552460447849,
          8.42670425747179,
          8.445913803354536,
          8.33910959707908,
          8.105927903222899,
          7.751394601931629,
          7.285479638457112,
          6.722547455631975,
          6.0807255068386965,
          5.381211661222501,
          4.647540027079295,
          3.9048234335446708,
          3.178989524890376,
          2.496026135928311,
          1.881250331205898,
          1.35861420486669,
          0.950059252236521,
          0.6749298383833562,
          0.5494550030872816,
          0.5863065558440255,
          0.7942401287135468,
          1.177824569012838,
          1.7372637680395115,
          2.4683137362008054,
          3.3622964491101115,
          4.406210703400802,
          5.582938935194825,
          6.871547668351457,
          8.247677973808853,
          9.684021035519049,
          11.150872632664825,
          12.61675906203401,
          14.049125738615244,
          15.415078426666204,
          16.68216576769336,
          17.819190485970083,
          18.797035366407243,
          19.58948881377843,
          20.174053516489607,
          20.53272045227048,
          20.652689187352703,
          20.52701413488783,
          20.155155152545262,
          19.543409573418568,
          18.705201478555793,
          17.66120273361753,
          16.439259026353653,
          15.074092855777902,
          13.606754138106746,
          12.083787808716686,
          10.556086513562187,
          9.077395197683735,
          7.7024331126232095,
          6.484597478751818,
          5.47321175270319,
          4.710280164291792,
          4.226708901485132,
          4.037953036184991,
          4.139046997761653,
          4.498975115471723,
          5.054337465078653,
          5.702264969182465,
          6.292536414952515,
          6.618848767145501,
          6.409190868478213,
          5.315269333611774,
          2.900934157193255,
          -1.3704497294141262,
          -8.149740003890706,
          -18.216919938201805
         ],
         "yaxis": "y"
        },
        {
         "marker": {
          "color": "#636EFA"
         },
         "showlegend": false,
         "type": "bar",
         "x": [
          "Linear in X",
          "Quadratic",
          "Cubic",
          "Quartic",
          "Quintic",
          "Octic"
         ],
         "xaxis": "x2",
         "y": [
          2.272965710209297,
          1.3646273702703906,
          1.1528916542943797,
          1.1445074375807343,
          0.7148394938839464,
          6.102130856184464e-12
         ],
         "yaxis": "y2"
        }
       ],
       "layout": {
        "template": {
         "data": {
          "bar": [
           {
            "error_x": {
             "color": "#2a3f5f"
            },
            "error_y": {
             "color": "#2a3f5f"
            },
            "marker": {
             "line": {
              "color": "#E5ECF6",
              "width": 0.5
             },
             "pattern": {
              "fillmode": "overlay",
              "size": 10,
              "solidity": 0.2
             }
            },
            "type": "bar"
           }
          ],
          "barpolar": [
           {
            "marker": {
             "line": {
              "color": "#E5ECF6",
              "width": 0.5
             },
             "pattern": {
              "fillmode": "overlay",
              "size": 10,
              "solidity": 0.2
             }
            },
            "type": "barpolar"
           }
          ],
          "carpet": [
           {
            "aaxis": {
             "endlinecolor": "#2a3f5f",
             "gridcolor": "white",
             "linecolor": "white",
             "minorgridcolor": "white",
             "startlinecolor": "#2a3f5f"
            },
            "baxis": {
             "endlinecolor": "#2a3f5f",
             "gridcolor": "white",
             "linecolor": "white",
             "minorgridcolor": "white",
             "startlinecolor": "#2a3f5f"
            },
            "type": "carpet"
           }
          ],
          "choropleth": [
           {
            "colorbar": {
             "outlinewidth": 0,
             "ticks": ""
            },
            "type": "choropleth"
           }
          ],
          "contour": [
           {
            "colorbar": {
             "outlinewidth": 0,
             "ticks": ""
            },
            "colorscale": [
             [
              0,
              "#0d0887"
             ],
             [
              0.1111111111111111,
              "#46039f"
             ],
             [
              0.2222222222222222,
              "#7201a8"
             ],
             [
              0.3333333333333333,
              "#9c179e"
             ],
             [
              0.4444444444444444,
              "#bd3786"
             ],
             [
              0.5555555555555556,
              "#d8576b"
             ],
             [
              0.6666666666666666,
              "#ed7953"
             ],
             [
              0.7777777777777778,
              "#fb9f3a"
             ],
             [
              0.8888888888888888,
              "#fdca26"
             ],
             [
              1,
              "#f0f921"
             ]
            ],
            "type": "contour"
           }
          ],
          "contourcarpet": [
           {
            "colorbar": {
             "outlinewidth": 0,
             "ticks": ""
            },
            "type": "contourcarpet"
           }
          ],
          "heatmap": [
           {
            "colorbar": {
             "outlinewidth": 0,
             "ticks": ""
            },
            "colorscale": [
             [
              0,
              "#0d0887"
             ],
             [
              0.1111111111111111,
              "#46039f"
             ],
             [
              0.2222222222222222,
              "#7201a8"
             ],
             [
              0.3333333333333333,
              "#9c179e"
             ],
             [
              0.4444444444444444,
              "#bd3786"
             ],
             [
              0.5555555555555556,
              "#d8576b"
             ],
             [
              0.6666666666666666,
              "#ed7953"
             ],
             [
              0.7777777777777778,
              "#fb9f3a"
             ],
             [
              0.8888888888888888,
              "#fdca26"
             ],
             [
              1,
              "#f0f921"
             ]
            ],
            "type": "heatmap"
           }
          ],
          "heatmapgl": [
           {
            "colorbar": {
             "outlinewidth": 0,
             "ticks": ""
            },
            "colorscale": [
             [
              0,
              "#0d0887"
             ],
             [
              0.1111111111111111,
              "#46039f"
             ],
             [
              0.2222222222222222,
              "#7201a8"
             ],
             [
              0.3333333333333333,
              "#9c179e"
             ],
             [
              0.4444444444444444,
              "#bd3786"
             ],
             [
              0.5555555555555556,
              "#d8576b"
             ],
             [
              0.6666666666666666,
              "#ed7953"
             ],
             [
              0.7777777777777778,
              "#fb9f3a"
             ],
             [
              0.8888888888888888,
              "#fdca26"
             ],
             [
              1,
              "#f0f921"
             ]
            ],
            "type": "heatmapgl"
           }
          ],
          "histogram": [
           {
            "marker": {
             "pattern": {
              "fillmode": "overlay",
              "size": 10,
              "solidity": 0.2
             }
            },
            "type": "histogram"
           }
          ],
          "histogram2d": [
           {
            "colorbar": {
             "outlinewidth": 0,
             "ticks": ""
            },
            "colorscale": [
             [
              0,
              "#0d0887"
             ],
             [
              0.1111111111111111,
              "#46039f"
             ],
             [
              0.2222222222222222,
              "#7201a8"
             ],
             [
              0.3333333333333333,
              "#9c179e"
             ],
             [
              0.4444444444444444,
              "#bd3786"
             ],
             [
              0.5555555555555556,
              "#d8576b"
             ],
             [
              0.6666666666666666,
              "#ed7953"
             ],
             [
              0.7777777777777778,
              "#fb9f3a"
             ],
             [
              0.8888888888888888,
              "#fdca26"
             ],
             [
              1,
              "#f0f921"
             ]
            ],
            "type": "histogram2d"
           }
          ],
          "histogram2dcontour": [
           {
            "colorbar": {
             "outlinewidth": 0,
             "ticks": ""
            },
            "colorscale": [
             [
              0,
              "#0d0887"
             ],
             [
              0.1111111111111111,
              "#46039f"
             ],
             [
              0.2222222222222222,
              "#7201a8"
             ],
             [
              0.3333333333333333,
              "#9c179e"
             ],
             [
              0.4444444444444444,
              "#bd3786"
             ],
             [
              0.5555555555555556,
              "#d8576b"
             ],
             [
              0.6666666666666666,
              "#ed7953"
             ],
             [
              0.7777777777777778,
              "#fb9f3a"
             ],
             [
              0.8888888888888888,
              "#fdca26"
             ],
             [
              1,
              "#f0f921"
             ]
            ],
            "type": "histogram2dcontour"
           }
          ],
          "mesh3d": [
           {
            "colorbar": {
             "outlinewidth": 0,
             "ticks": ""
            },
            "type": "mesh3d"
           }
          ],
          "parcoords": [
           {
            "line": {
             "colorbar": {
              "outlinewidth": 0,
              "ticks": ""
             }
            },
            "type": "parcoords"
           }
          ],
          "pie": [
           {
            "automargin": true,
            "type": "pie"
           }
          ],
          "scatter": [
           {
            "marker": {
             "colorbar": {
              "outlinewidth": 0,
              "ticks": ""
             }
            },
            "type": "scatter"
           }
          ],
          "scatter3d": [
           {
            "line": {
             "colorbar": {
              "outlinewidth": 0,
              "ticks": ""
             }
            },
            "marker": {
             "colorbar": {
              "outlinewidth": 0,
              "ticks": ""
             }
            },
            "type": "scatter3d"
           }
          ],
          "scattercarpet": [
           {
            "marker": {
             "colorbar": {
              "outlinewidth": 0,
              "ticks": ""
             }
            },
            "type": "scattercarpet"
           }
          ],
          "scattergeo": [
           {
            "marker": {
             "colorbar": {
              "outlinewidth": 0,
              "ticks": ""
             }
            },
            "type": "scattergeo"
           }
          ],
          "scattergl": [
           {
            "marker": {
             "colorbar": {
              "outlinewidth": 0,
              "ticks": ""
             }
            },
            "type": "scattergl"
           }
          ],
          "scattermapbox": [
           {
            "marker": {
             "colorbar": {
              "outlinewidth": 0,
              "ticks": ""
             }
            },
            "type": "scattermapbox"
           }
          ],
          "scatterpolar": [
           {
            "marker": {
             "colorbar": {
              "outlinewidth": 0,
              "ticks": ""
             }
            },
            "type": "scatterpolar"
           }
          ],
          "scatterpolargl": [
           {
            "marker": {
             "colorbar": {
              "outlinewidth": 0,
              "ticks": ""
             }
            },
            "type": "scatterpolargl"
           }
          ],
          "scatterternary": [
           {
            "marker": {
             "colorbar": {
              "outlinewidth": 0,
              "ticks": ""
             }
            },
            "type": "scatterternary"
           }
          ],
          "surface": [
           {
            "colorbar": {
             "outlinewidth": 0,
             "ticks": ""
            },
            "colorscale": [
             [
              0,
              "#0d0887"
             ],
             [
              0.1111111111111111,
              "#46039f"
             ],
             [
              0.2222222222222222,
              "#7201a8"
             ],
             [
              0.3333333333333333,
              "#9c179e"
             ],
             [
              0.4444444444444444,
              "#bd3786"
             ],
             [
              0.5555555555555556,
              "#d8576b"
             ],
             [
              0.6666666666666666,
              "#ed7953"
             ],
             [
              0.7777777777777778,
              "#fb9f3a"
             ],
             [
              0.8888888888888888,
              "#fdca26"
             ],
             [
              1,
              "#f0f921"
             ]
            ],
            "type": "surface"
           }
          ],
          "table": [
           {
            "cells": {
             "fill": {
              "color": "#EBF0F8"
             },
             "line": {
              "color": "white"
             }
            },
            "header": {
             "fill": {
              "color": "#C8D4E3"
             },
             "line": {
              "color": "white"
             }
            },
            "type": "table"
           }
          ]
         },
         "layout": {
          "annotationdefaults": {
           "arrowcolor": "#2a3f5f",
           "arrowhead": 0,
           "arrowwidth": 1
          },
          "autotypenumbers": "strict",
          "coloraxis": {
           "colorbar": {
            "outlinewidth": 0,
            "ticks": ""
           }
          },
          "colorscale": {
           "diverging": [
            [
             0,
             "#8e0152"
            ],
            [
             0.1,
             "#c51b7d"
            ],
            [
             0.2,
             "#de77ae"
            ],
            [
             0.3,
             "#f1b6da"
            ],
            [
             0.4,
             "#fde0ef"
            ],
            [
             0.5,
             "#f7f7f7"
            ],
            [
             0.6,
             "#e6f5d0"
            ],
            [
             0.7,
             "#b8e186"
            ],
            [
             0.8,
             "#7fbc41"
            ],
            [
             0.9,
             "#4d9221"
            ],
            [
             1,
             "#276419"
            ]
           ],
           "sequential": [
            [
             0,
             "#0d0887"
            ],
            [
             0.1111111111111111,
             "#46039f"
            ],
            [
             0.2222222222222222,
             "#7201a8"
            ],
            [
             0.3333333333333333,
             "#9c179e"
            ],
            [
             0.4444444444444444,
             "#bd3786"
            ],
            [
             0.5555555555555556,
             "#d8576b"
            ],
            [
             0.6666666666666666,
             "#ed7953"
            ],
            [
             0.7777777777777778,
             "#fb9f3a"
            ],
            [
             0.8888888888888888,
             "#fdca26"
            ],
            [
             1,
             "#f0f921"
            ]
           ],
           "sequentialminus": [
            [
             0,
             "#0d0887"
            ],
            [
             0.1111111111111111,
             "#46039f"
            ],
            [
             0.2222222222222222,
             "#7201a8"
            ],
            [
             0.3333333333333333,
             "#9c179e"
            ],
            [
             0.4444444444444444,
             "#bd3786"
            ],
            [
             0.5555555555555556,
             "#d8576b"
            ],
            [
             0.6666666666666666,
             "#ed7953"
            ],
            [
             0.7777777777777778,
             "#fb9f3a"
            ],
            [
             0.8888888888888888,
             "#fdca26"
            ],
            [
             1,
             "#f0f921"
            ]
           ]
          },
          "colorway": [
           "#636efa",
           "#EF553B",
           "#00cc96",
           "#ab63fa",
           "#FFA15A",
           "#19d3f3",
           "#FF6692",
           "#B6E880",
           "#FF97FF",
           "#FECB52"
          ],
          "font": {
           "color": "#2a3f5f"
          },
          "geo": {
           "bgcolor": "white",
           "lakecolor": "white",
           "landcolor": "#E5ECF6",
           "showlakes": true,
           "showland": true,
           "subunitcolor": "white"
          },
          "hoverlabel": {
           "align": "left"
          },
          "hovermode": "closest",
          "mapbox": {
           "style": "light"
          },
          "paper_bgcolor": "white",
          "plot_bgcolor": "#E5ECF6",
          "polar": {
           "angularaxis": {
            "gridcolor": "white",
            "linecolor": "white",
            "ticks": ""
           },
           "bgcolor": "#E5ECF6",
           "radialaxis": {
            "gridcolor": "white",
            "linecolor": "white",
            "ticks": ""
           }
          },
          "scene": {
           "xaxis": {
            "backgroundcolor": "#E5ECF6",
            "gridcolor": "white",
            "gridwidth": 2,
            "linecolor": "white",
            "showbackground": true,
            "ticks": "",
            "zerolinecolor": "white"
           },
           "yaxis": {
            "backgroundcolor": "#E5ECF6",
            "gridcolor": "white",
            "gridwidth": 2,
            "linecolor": "white",
            "showbackground": true,
            "ticks": "",
            "zerolinecolor": "white"
           },
           "zaxis": {
            "backgroundcolor": "#E5ECF6",
            "gridcolor": "white",
            "gridwidth": 2,
            "linecolor": "white",
            "showbackground": true,
            "ticks": "",
            "zerolinecolor": "white"
           }
          },
          "shapedefaults": {
           "line": {
            "color": "#2a3f5f"
           }
          },
          "ternary": {
           "aaxis": {
            "gridcolor": "white",
            "linecolor": "white",
            "ticks": ""
           },
           "baxis": {
            "gridcolor": "white",
            "linecolor": "white",
            "ticks": ""
           },
           "bgcolor": "#E5ECF6",
           "caxis": {
            "gridcolor": "white",
            "linecolor": "white",
            "ticks": ""
           }
          },
          "title": {
           "x": 0.05
          },
          "xaxis": {
           "automargin": true,
           "gridcolor": "white",
           "linecolor": "white",
           "ticks": "",
           "title": {
            "standoff": 15
           },
           "zerolinecolor": "white",
           "zerolinewidth": 2
          },
          "yaxis": {
           "automargin": true,
           "gridcolor": "white",
           "linecolor": "white",
           "ticks": "",
           "title": {
            "standoff": 15
           },
           "zerolinecolor": "white",
           "zerolinewidth": 2
          }
         }
        },
        "xaxis": {
         "anchor": "y",
         "domain": [
          0,
          0.45
         ],
         "title": {
          "text": "X"
         }
        },
        "xaxis2": {
         "anchor": "y2",
         "domain": [
          0.55,
          1
         ]
        },
        "yaxis": {
         "anchor": "x",
         "domain": [
          0,
          1
         ],
         "range": [
          0,
          10
         ],
         "title": {
          "text": "Y"
         }
        },
        "yaxis2": {
         "anchor": "x2",
         "domain": [
          0,
          1
         ],
         "title": {
          "text": "RMSE"
         }
        }
       }
      },
      "text/html": [
       "<div>                            <div id=\"d87a7c28-cdc2-431b-9996-5f0d3ab27fd2\" class=\"plotly-graph-div\" style=\"height:525px; width:100%;\"></div>            <script type=\"text/javascript\">                require([\"plotly\"], function(Plotly) {                    window.PLOTLYENV=window.PLOTLYENV || {};                                    if (document.getElementById(\"d87a7c28-cdc2-431b-9996-5f0d3ab27fd2\")) {                    Plotly.newPlot(                        \"d87a7c28-cdc2-431b-9996-5f0d3ab27fd2\",                        [{\"marker\":{\"color\":\"#636EFA\"},\"mode\":\"markers\",\"name\":\"data\",\"x\":[-2.6475819924330954,-2.0515469334036016,-1.8106646981606496,-1.312076282905776,-0.7895905078629929,-0.6609638446178359,0.8061481540360957,1.054879683024077],\"y\":[9.14045169318176,5.336237325257329,7.195181491514598,6.095357781703495,0.7219468779966638,2.177008172349038,4.367994079777328,5.852681713200849],\"type\":\"scatter\",\"xaxis\":\"x\",\"yaxis\":\"y\"},{\"marker\":{\"color\":\"#00CC96\"},\"name\":\"Linear in X\",\"x\":[-3.0,-2.9555555555555557,-2.911111111111111,-2.8666666666666667,-2.8222222222222224,-2.7777777777777777,-2.7333333333333334,-2.688888888888889,-2.6444444444444444,-2.6,-2.5555555555555554,-2.511111111111111,-2.466666666666667,-2.422222222222222,-2.3777777777777778,-2.333333333333333,-2.2888888888888888,-2.2444444444444445,-2.2,-2.1555555555555554,-2.111111111111111,-2.0666666666666664,-2.022222222222222,-1.9777777777777776,-1.9333333333333333,-1.8888888888888888,-1.8444444444444443,-1.8,-1.7555555555555555,-1.711111111111111,-1.6666666666666665,-1.6222222222222222,-1.5777777777777777,-1.5333333333333332,-1.488888888888889,-1.4444444444444444,-1.4,-1.3555555555555554,-1.3111111111111111,-1.2666666666666666,-1.222222222222222,-1.1777777777777778,-1.1333333333333333,-1.0888888888888888,-1.0444444444444443,-1.0,-0.9555555555555553,-0.911111111111111,-0.8666666666666667,-0.822222222222222,-0.7777777777777777,-0.7333333333333334,-0.6888888888888887,-0.6444444444444444,-0.6000000000000001,-0.5555555555555554,-0.5111111111111111,-0.4666666666666668,-0.42222222222222205,-0.37777777777777777,-0.33333333333333304,-0.28888888888888875,-0.24444444444444446,-0.19999999999999973,-0.15555555555555545,-0.11111111111111116,-0.06666666666666643,-0.022222222222222143,0.022222222222222143,0.06666666666666687,0.11111111111111116,0.1555555555555559,0.20000000000000018,0.24444444444444446,0.2888888888888892,0.3333333333333335,0.37777777777777777,0.4222222222222225,0.4666666666666668,0.5111111111111111,0.5555555555555558,0.6000000000000001,0.6444444444444444,0.6888888888888891,0.7333333333333334,0.7777777777777781,0.8222222222222224,0.8666666666666667,0.9111111111111114,0.9555555555555557,1.0,1.0444444444444443,1.0888888888888895,1.1333333333333337,1.177777777777778,1.2222222222222223,1.2666666666666666,1.311111111111111,1.355555555555556,1.4],\"y\":[6.917571409286772,6.878846799154056,6.840122189021339,6.801397578888623,6.762672968755907,6.72394835862319,6.685223748490474,6.646499138357758,6.6077745282250415,6.569049918092325,6.530325307959609,6.491600697826893,6.452876087694177,6.41415147756146,6.375426867428744,6.336702257296028,6.297977647163312,6.259253037030596,6.2205284268978795,6.1818038167651626,6.143079206632446,6.10435459649973,6.065629986367014,6.026905376234298,5.988180766101582,5.949456155968865,5.910731545836149,5.872006935703433,5.833282325570717,5.794557715438,5.755833105305284,5.7171084951725675,5.678383885039851,5.639659274907135,5.600934664774419,5.562210054641703,5.523485444508986,5.48476083437627,5.446036224243554,5.407311614110838,5.368587003978121,5.329862393845405,5.2911377837126885,5.252413173579972,5.213688563447256,5.17496395331454,5.136239343181823,5.097514733049107,5.058790122916391,5.020065512783675,4.981340902650959,4.942616292518243,4.903891682385526,4.8651670722528095,4.826442462120093,4.787717851987377,4.748993241854661,4.710268631721945,4.671544021589229,4.632819411456512,4.594094801323796,4.55537019119108,4.516645581058364,4.477920970925647,4.439196360792931,4.4004717506602145,4.361747140527498,4.323022530394782,4.284297920262066,4.24557331012935,4.206848699996634,4.168124089863917,4.129399479731201,4.090674869598485,4.051950259465769,4.0132256493330525,3.974501039200336,3.9357764290676194,3.8970518189349033,3.858327208802187,3.8196025986694706,3.7808779885367545,3.7421533784040384,3.703428768271322,3.6647041581386057,3.625979548005889,3.587254937873173,3.548530327740457,3.5098057176077404,3.4710811074750243,3.432356497342308,3.393631887209592,3.354907277076875,3.316182666944159,3.277458056811443,3.2387334466787268,3.2000088365460106,3.1612842264132945,3.1225596162805775,3.0838350061478623],\"type\":\"scatter\",\"xaxis\":\"x\",\"yaxis\":\"y\"},{\"marker\":{\"color\":\"#AB63FA\"},\"name\":\"Quadratic\",\"x\":[-3.0,-2.9555555555555557,-2.911111111111111,-2.8666666666666667,-2.8222222222222224,-2.7777777777777777,-2.7333333333333334,-2.688888888888889,-2.6444444444444444,-2.6,-2.5555555555555554,-2.511111111111111,-2.466666666666667,-2.422222222222222,-2.3777777777777778,-2.333333333333333,-2.2888888888888888,-2.2444444444444445,-2.2,-2.1555555555555554,-2.111111111111111,-2.0666666666666664,-2.022222222222222,-1.9777777777777776,-1.9333333333333333,-1.8888888888888888,-1.8444444444444443,-1.8,-1.7555555555555555,-1.711111111111111,-1.6666666666666665,-1.6222222222222222,-1.5777777777777777,-1.5333333333333332,-1.488888888888889,-1.4444444444444444,-1.4,-1.3555555555555554,-1.3111111111111111,-1.2666666666666666,-1.222222222222222,-1.1777777777777778,-1.1333333333333333,-1.0888888888888888,-1.0444444444444443,-1.0,-0.9555555555555553,-0.911111111111111,-0.8666666666666667,-0.822222222222222,-0.7777777777777777,-0.7333333333333334,-0.6888888888888887,-0.6444444444444444,-0.6000000000000001,-0.5555555555555554,-0.5111111111111111,-0.4666666666666668,-0.42222222222222205,-0.37777777777777777,-0.33333333333333304,-0.28888888888888875,-0.24444444444444446,-0.19999999999999973,-0.15555555555555545,-0.11111111111111116,-0.06666666666666643,-0.022222222222222143,0.022222222222222143,0.06666666666666687,0.11111111111111116,0.1555555555555559,0.20000000000000018,0.24444444444444446,0.2888888888888892,0.3333333333333335,0.37777777777777777,0.4222222222222225,0.4666666666666668,0.5111111111111111,0.5555555555555558,0.6000000000000001,0.6444444444444444,0.6888888888888891,0.7333333333333334,0.7777777777777781,0.8222222222222224,0.8666666666666667,0.9111111111111114,0.9555555555555557,1.0,1.0444444444444443,1.0888888888888895,1.1333333333333337,1.177777777777778,1.2222222222222223,1.2666666666666666,1.311111111111111,1.355555555555556,1.4],\"y\":[12.036180361231835,11.720270179273705,11.409747663988355,11.104612815375805,10.804865633436041,10.510506118169065,10.221534269574882,9.93795008765349,9.659753572404885,9.386944723829073,9.119523541926048,8.857490026695817,8.600844178138374,8.349585996253719,8.103715481041856,7.863232632502782,7.6281374506365,7.398429935443008,7.174110086922306,6.955177905074391,6.7416333898992695,6.533476541396936,6.330707359567394,6.133325844410642,5.94133199592668,5.754725814115507,5.573507298977124,5.397676450511533,5.227233268718731,5.062177753598718,4.902509905151495,4.748229723377064,4.599337208275422,4.45583235984657,4.317715178090508,4.184985663007237,4.057643814596755,3.935689632859063,3.8191231177941622,3.7079442694020504,3.602153087682729,3.501749572636198,3.4067337242624562,3.317105542561505,3.232865027533344,3.1540121791779727,3.0805469974953916,3.012469482485601,2.9497796341486,2.892477452484389,2.840562937492968,2.794036089174338,2.7528969075284966,2.7171453925554463,2.6867815442551857,2.661805362627715,2.6422168476730348,2.6280159993911445,2.6192028177820443,2.615777302845734,2.617739454582214,2.6250892729914836,2.637826758073544,2.655951909828394,2.679464728256034,2.708365213356464,2.7426533651296845,2.7823291835756945,2.8273926686944946,2.8778438204860857,2.933682638950466,2.994909124087637,3.061523275897597,3.1335250943803477,3.210914579535889,3.2936917313642193,3.38185654986534,3.4754090350392515,3.574349186885952,3.6786770054054427,3.788392490597724,3.9034956424627953,4.023986461000656,4.149864946211308,4.281131098094749,4.417784916650982,4.559826401880002,4.707255553781813,4.860072372356416,5.018276857603807,5.1818690095239885,5.350848828116959,5.525216313382725,5.704971465321275,5.890114283932617,6.0806447692167485,6.27656292117367,6.477868739803381,6.684562225105887,6.896643377081176],\"type\":\"scatter\",\"xaxis\":\"x\",\"yaxis\":\"y\"},{\"marker\":{\"color\":\"#FFA15A\"},\"name\":\"Cubic\",\"x\":[-3.0,-2.9555555555555557,-2.911111111111111,-2.8666666666666667,-2.8222222222222224,-2.7777777777777777,-2.7333333333333334,-2.688888888888889,-2.6444444444444444,-2.6,-2.5555555555555554,-2.511111111111111,-2.466666666666667,-2.422222222222222,-2.3777777777777778,-2.333333333333333,-2.2888888888888888,-2.2444444444444445,-2.2,-2.1555555555555554,-2.111111111111111,-2.0666666666666664,-2.022222222222222,-1.9777777777777776,-1.9333333333333333,-1.8888888888888888,-1.8444444444444443,-1.8,-1.7555555555555555,-1.711111111111111,-1.6666666666666665,-1.6222222222222222,-1.5777777777777777,-1.5333333333333332,-1.488888888888889,-1.4444444444444444,-1.4,-1.3555555555555554,-1.3111111111111111,-1.2666666666666666,-1.222222222222222,-1.1777777777777778,-1.1333333333333333,-1.0888888888888888,-1.0444444444444443,-1.0,-0.9555555555555553,-0.911111111111111,-0.8666666666666667,-0.822222222222222,-0.7777777777777777,-0.7333333333333334,-0.6888888888888887,-0.6444444444444444,-0.6000000000000001,-0.5555555555555554,-0.5111111111111111,-0.4666666666666668,-0.42222222222222205,-0.37777777777777777,-0.33333333333333304,-0.28888888888888875,-0.24444444444444446,-0.19999999999999973,-0.15555555555555545,-0.11111111111111116,-0.06666666666666643,-0.022222222222222143,0.022222222222222143,0.06666666666666687,0.11111111111111116,0.1555555555555559,0.20000000000000018,0.24444444444444446,0.2888888888888892,0.3333333333333335,0.37777777777777777,0.4222222222222225,0.4666666666666668,0.5111111111111111,0.5555555555555558,0.6000000000000001,0.6444444444444444,0.6888888888888891,0.7333333333333334,0.7777777777777781,0.8222222222222224,0.8666666666666667,0.9111111111111114,0.9555555555555557,1.0,1.0444444444444443,1.0888888888888895,1.1333333333333337,1.177777777777778,1.2222222222222223,1.2666666666666666,1.311111111111111,1.355555555555556,1.4],\"y\":[8.781827335663941,8.814772119120722,8.83491853069297,8.84265027280875,8.838351047896097,8.822404558383063,8.795194506697705,8.757104595268078,8.70851852652222,8.649820002888193,8.581392726794041,8.503620400667817,8.416886726937573,8.321575408031364,8.218070146377235,8.106754644403233,7.988012604537417,7.8622277292078415,7.729783720842546,7.591064281869585,7.446453114717016,7.296333921812882,7.141090405585238,6.981106268462135,6.816765212871623,6.6484509412417525,6.476547156000577,6.301437559576144,6.123505854396506,5.943135742889712,5.7607109274838155,5.576615110606868,5.391231994686919,5.2049452821520195,5.018138675430221,4.8311958769495735,4.6445005891381275,4.458436514423935,4.273387355235048,4.089736813999516,3.9078685931453894,3.728166395100722,3.551013922293561,3.37679487715196,3.2058929621039685,3.0386918795776388,2.875575332001019,2.716927021802164,2.563130651409123,2.414569923249946,2.2716285397526854,2.134690203345392,2.004138616456115,1.880357481512907,1.7637305009438191,1.6546413771769002,1.5534738126402043,1.4606115097617807,1.3764381709696794,1.3013374986919533,1.2356931953566517,1.179888963391827,1.1343085052255293,1.0993355232858095,1.0753537200007188,1.0627467977983083,1.0618984591066285,1.0731924063537306,1.0970123419676654,1.1337419683764844,1.1837649880082377,1.2474651032909772,1.3252260166527527,1.4174314305216158,1.5244650473256185,1.6467105694928095,1.7845516994512407,1.938372139628965,2.10855559245403,2.295485760354488,2.499546345758392,2.7211210510937898,2.9605935787887327,3.218347631271276,3.494766910969464,3.790235120311355,4.105135961724992,4.43985313763843,4.794770350479722,5.170271302676915,5.566739696658061,5.984559234851211,6.424113619684427,6.8857865535857385,7.369961738983209,7.877022878304887,8.407353673978825,8.961337828433074,9.539359044095693,10.141801023394708],\"type\":\"scatter\",\"xaxis\":\"x\",\"yaxis\":\"y\"},{\"marker\":{\"color\":\"#19D3F3\"},\"name\":\"Quartic\",\"x\":[-3.0,-2.9555555555555557,-2.911111111111111,-2.8666666666666667,-2.8222222222222224,-2.7777777777777777,-2.7333333333333334,-2.688888888888889,-2.6444444444444444,-2.6,-2.5555555555555554,-2.511111111111111,-2.466666666666667,-2.422222222222222,-2.3777777777777778,-2.333333333333333,-2.2888888888888888,-2.2444444444444445,-2.2,-2.1555555555555554,-2.111111111111111,-2.0666666666666664,-2.022222222222222,-1.9777777777777776,-1.9333333333333333,-1.8888888888888888,-1.8444444444444443,-1.8,-1.7555555555555555,-1.711111111111111,-1.6666666666666665,-1.6222222222222222,-1.5777777777777777,-1.5333333333333332,-1.488888888888889,-1.4444444444444444,-1.4,-1.3555555555555554,-1.3111111111111111,-1.2666666666666666,-1.222222222222222,-1.1777777777777778,-1.1333333333333333,-1.0888888888888888,-1.0444444444444443,-1.0,-0.9555555555555553,-0.911111111111111,-0.8666666666666667,-0.822222222222222,-0.7777777777777777,-0.7333333333333334,-0.6888888888888887,-0.6444444444444444,-0.6000000000000001,-0.5555555555555554,-0.5111111111111111,-0.4666666666666668,-0.42222222222222205,-0.37777777777777777,-0.33333333333333304,-0.28888888888888875,-0.24444444444444446,-0.19999999999999973,-0.15555555555555545,-0.11111111111111116,-0.06666666666666643,-0.022222222222222143,0.022222222222222143,0.06666666666666687,0.11111111111111116,0.1555555555555559,0.20000000000000018,0.24444444444444446,0.2888888888888892,0.3333333333333335,0.37777777777777777,0.4222222222222225,0.4666666666666668,0.5111111111111111,0.5555555555555558,0.6000000000000001,0.6444444444444444,0.6888888888888891,0.7333333333333334,0.7777777777777781,0.8222222222222224,0.8666666666666667,0.9111111111111114,0.9555555555555557,1.0,1.0444444444444443,1.0888888888888895,1.1333333333333337,1.177777777777778,1.2222222222222223,1.2666666666666666,1.311111111111111,1.355555555555556,1.4],\"y\":[9.578779950358374,9.4851099304597,9.390196173925762,9.293829862988776,9.195815485601702,9.095970835438344,8.994127011893298,8.890128420081975,8.78383277084055,8.675111080726037,8.56384767201624,8.449940172709784,8.333299516526061,8.213849942905295,8.091528997008496,7.96628752971749,7.838089697634893,7.706912963084139,7.572748094109444,7.435599164475847,7.2954835536691816,7.1524319468960735,7.006488335083966,6.857710014881108,6.706167588656532,6.55194496450009,6.395139356222428,6.235861283354999,6.074234571150061,5.9103963505806645,5.7444970583406745,5.576700436844752,5.40718353422836,5.236136704347769,5.063763606780048,4.890281206823071,4.715919775495514,4.540922889536855,4.365547431407375,4.19006358928816,4.014754857081094,3.8399180344088673,3.665863226614971,3.4929138447637023,3.321406605640156,3.1516915317502336,2.984131951320637,2.8191044982988727,2.6569991123532484,2.4982190388728736,2.3431808289676646,2.192314339468336,2.046062732926405,1.904882477614196,1.7692433475248321,1.6396284223722388,1.5165340875911484,1.4004700343370917,1.291959259486403,1.1915380656362222,1.099756061104487,1.017176159929943,0.9443745818721345,0.8819408524114095,0.8304778027489204,0.7906015698066203,0.7629415962272657,0.7481406303744158,0.7468547263324327,0.7597532439064807,0.7875188486225271,0.8308475117273421,0.8904485101884977,0.9670444266943693,1.061371149654136,1.174177873197777,1.3062270971760759,1.4582946271606205,1.6311695744437964,1.825654356038797,2.0425646946796183,2.2827296188210524,2.5469914626387014,2.8362058660289704,3.151241774609058,3.4929814397169787,3.862320418411535,4.260167573472344,4.687445073399825,5.145088392415189,5.634046310460459,6.155280913198461,6.70976759201283,7.298495044007976,7.9224652720091395,8.582693584562353,9.280208595934461,10.016052226113093,10.791279700806715,11.606959551444533],\"type\":\"scatter\",\"xaxis\":\"x\",\"yaxis\":\"y\"},{\"marker\":{\"color\":\"#FF6692\"},\"name\":\"Quintic\",\"x\":[-3.0,-2.9555555555555557,-2.911111111111111,-2.8666666666666667,-2.8222222222222224,-2.7777777777777777,-2.7333333333333334,-2.688888888888889,-2.6444444444444444,-2.6,-2.5555555555555554,-2.511111111111111,-2.466666666666667,-2.422222222222222,-2.3777777777777778,-2.333333333333333,-2.2888888888888888,-2.2444444444444445,-2.2,-2.1555555555555554,-2.111111111111111,-2.0666666666666664,-2.022222222222222,-1.9777777777777776,-1.9333333333333333,-1.8888888888888888,-1.8444444444444443,-1.8,-1.7555555555555555,-1.711111111111111,-1.6666666666666665,-1.6222222222222222,-1.5777777777777777,-1.5333333333333332,-1.488888888888889,-1.4444444444444444,-1.4,-1.3555555555555554,-1.3111111111111111,-1.2666666666666666,-1.222222222222222,-1.1777777777777778,-1.1333333333333333,-1.0888888888888888,-1.0444444444444443,-1.0,-0.9555555555555553,-0.911111111111111,-0.8666666666666667,-0.822222222222222,-0.7777777777777777,-0.7333333333333334,-0.6888888888888887,-0.6444444444444444,-0.6000000000000001,-0.5555555555555554,-0.5111111111111111,-0.4666666666666668,-0.42222222222222205,-0.37777777777777777,-0.33333333333333304,-0.28888888888888875,-0.24444444444444446,-0.19999999999999973,-0.15555555555555545,-0.11111111111111116,-0.06666666666666643,-0.022222222222222143,0.022222222222222143,0.06666666666666687,0.11111111111111116,0.1555555555555559,0.20000000000000018,0.24444444444444446,0.2888888888888892,0.3333333333333335,0.37777777777777777,0.4222222222222225,0.4666666666666668,0.5111111111111111,0.5555555555555558,0.6000000000000001,0.6444444444444444,0.6888888888888891,0.7333333333333334,0.7777777777777781,0.8222222222222224,0.8666666666666667,0.9111111111111114,0.9555555555555557,1.0,1.0444444444444443,1.0888888888888895,1.1333333333333337,1.177777777777778,1.2222222222222223,1.2666666666666666,1.311111111111111,1.355555555555556,1.4],\"y\":[24.307143564340144,21.39168633758549,18.811849500607302,16.54193720087158,14.557406431888628,12.834843657353863,11.351941435288884,10.087475042182737,9.021279097133023,8.134224185986957,7.408193485482533,6.826059387389639,6.371660122651084,6.029776385523965,5.786107957720494,5.627250332549357,5.540671339056578,5.514687766166963,5.538441986824969,5.601878582135987,5.695720965507283,5.811448006789254,5.941270656416611,6.078108569549292,6.215566730213764,6.3479120754440554,6.47005011942292,6.577501577622959,6.666378990947662,6.733363349872645,6.7756807185867185,6.791078859132982,6.777803855549999,6.734576738012867,6.660570106974381,6.5553847573061415,6.419026302439649,6.25188179850748,6.054696368484349,5.828549826328283,5.574833301121702,5.295225861212566,4.991671138355474,4.666353951852816,4.3216769326958655,3.9602371477059197,3.5848027236754056,3.198289471509023,2.803737510364839,2.4042878917954296,2.003159223889,1.603624295410496,1.2089866999427206,0.8225574600274879,0.4476316513067031,0.08746502666350642,-0.2547493596365984,-0.5759045278046444,-0.8730029483870685,-1.1431799181245808,-1.3837269358110629,-1.5921150781524274,-1.766018375625511,-1.903337188336947,-2.0022215818820386,-2.0610947032036484,-2.0786761564510683,-2.0540053788389017,-1.9864650165059412,-1.8758043003740459,-1.7221624220070246,-1.5260919094695062,-1.2885820031858288,-1.0110820317989082,-0.6955247880291178,-0.34434990453318015,0.03947277023697415,0.45241979617532024,0.8903907656628447,1.3486849277086943,1.821977812091288,2.3042978534994134,2.7890030156733907,3.26875741554617,3.7355079473844395,4.1804609069297864,4.594058615539772,4.965956044329095,5.28499743831069,5.539192940536843,5.715695216240334,5.8007760769755485,5.779803104759586,5.637216276213411,5.356504586702943,4.920182674480195,4.3097674448243986,3.505754694183116,2.487595734313336,1.2336740164227056],\"type\":\"scatter\",\"xaxis\":\"x\",\"yaxis\":\"y\"},{\"marker\":{\"color\":\"#B6E880\"},\"name\":\"Octic\",\"x\":[-3.0,-2.9555555555555557,-2.911111111111111,-2.8666666666666667,-2.8222222222222224,-2.7777777777777777,-2.7333333333333334,-2.688888888888889,-2.6444444444444444,-2.6,-2.5555555555555554,-2.511111111111111,-2.466666666666667,-2.422222222222222,-2.3777777777777778,-2.333333333333333,-2.2888888888888888,-2.2444444444444445,-2.2,-2.1555555555555554,-2.111111111111111,-2.0666666666666664,-2.022222222222222,-1.9777777777777776,-1.9333333333333333,-1.8888888888888888,-1.8444444444444443,-1.8,-1.7555555555555555,-1.711111111111111,-1.6666666666666665,-1.6222222222222222,-1.5777777777777777,-1.5333333333333332,-1.488888888888889,-1.4444444444444444,-1.4,-1.3555555555555554,-1.3111111111111111,-1.2666666666666666,-1.222222222222222,-1.1777777777777778,-1.1333333333333333,-1.0888888888888888,-1.0444444444444443,-1.0,-0.9555555555555553,-0.911111111111111,-0.8666666666666667,-0.822222222222222,-0.7777777777777777,-0.7333333333333334,-0.6888888888888887,-0.6444444444444444,-0.6000000000000001,-0.5555555555555554,-0.5111111111111111,-0.4666666666666668,-0.42222222222222205,-0.37777777777777777,-0.33333333333333304,-0.28888888888888875,-0.24444444444444446,-0.19999999999999973,-0.15555555555555545,-0.11111111111111116,-0.06666666666666643,-0.022222222222222143,0.022222222222222143,0.06666666666666687,0.11111111111111116,0.1555555555555559,0.20000000000000018,0.24444444444444446,0.2888888888888892,0.3333333333333335,0.37777777777777777,0.4222222222222225,0.4666666666666668,0.5111111111111111,0.5555555555555558,0.6000000000000001,0.6444444444444444,0.6888888888888891,0.7333333333333334,0.7777777777777781,0.8222222222222224,0.8666666666666667,0.9111111111111114,0.9555555555555557,1.0,1.0444444444444443,1.0888888888888895,1.1333333333333337,1.177777777777778,1.2222222222222223,1.2666666666666666,1.311111111111111,1.355555555555556,1.4],\"y\":[-151.08744180761062,-107.36404836274562,-73.15318535062363,-46.83355829057256,-26.996458600465864,-12.425008836869544,-2.0748347394816093,4.943897877851107,9.383142061484598,11.872383863810121,12.932869800856118,12.99070443619383,12.388873619757199,11.39824762451952,10.227617138030276,9.032813780069212,7.924965531859364,6.977936176433452,6.234996563977695,5.714774230148471,5.416526609520027,5.324781800562398,5.413389552675092,5.649023860047585,5.994177261258422,6.409685657744042,6.856821178436697,7.298989332074036,7.7030654028518555,8.040403759302656,8.287552460447849,8.42670425747179,8.445913803354536,8.33910959707908,8.105927903222899,7.751394601931629,7.285479638457112,6.722547455631975,6.0807255068386965,5.381211661222501,4.647540027079295,3.9048234335446708,3.178989524890376,2.496026135928311,1.881250331205898,1.35861420486669,0.950059252236521,0.6749298383833562,0.5494550030872816,0.5863065558440255,0.7942401287135468,1.177824569012838,1.7372637680395115,2.4683137362008054,3.3622964491101115,4.406210703400802,5.582938935194825,6.871547668351457,8.247677973808853,9.684021035519049,11.150872632664825,12.61675906203401,14.049125738615244,15.415078426666204,16.68216576769336,17.819190485970083,18.797035366407243,19.58948881377843,20.174053516489607,20.53272045227048,20.652689187352703,20.52701413488783,20.155155152545262,19.543409573418568,18.705201478555793,17.66120273361753,16.439259026353653,15.074092855777902,13.606754138106746,12.083787808716686,10.556086513562187,9.077395197683735,7.7024331126232095,6.484597478751818,5.47321175270319,4.710280164291792,4.226708901485132,4.037953036184991,4.139046997761653,4.498975115471723,5.054337465078653,5.702264969182465,6.292536414952515,6.618848767145501,6.409190868478213,5.315269333611774,2.900934157193255,-1.3704497294141262,-8.149740003890706,-18.216919938201805],\"type\":\"scatter\",\"xaxis\":\"x\",\"yaxis\":\"y\"},{\"marker\":{\"color\":\"#636EFA\"},\"showlegend\":false,\"x\":[\"Linear in X\",\"Quadratic\",\"Cubic\",\"Quartic\",\"Quintic\",\"Octic\"],\"y\":[2.272965710209297,1.3646273702703906,1.1528916542943797,1.1445074375807343,0.7148394938839464,6.102130856184464e-12],\"type\":\"bar\",\"xaxis\":\"x2\",\"yaxis\":\"y2\"}],                        {\"template\":{\"data\":{\"bar\":[{\"error_x\":{\"color\":\"#2a3f5f\"},\"error_y\":{\"color\":\"#2a3f5f\"},\"marker\":{\"line\":{\"color\":\"#E5ECF6\",\"width\":0.5},\"pattern\":{\"fillmode\":\"overlay\",\"size\":10,\"solidity\":0.2}},\"type\":\"bar\"}],\"barpolar\":[{\"marker\":{\"line\":{\"color\":\"#E5ECF6\",\"width\":0.5},\"pattern\":{\"fillmode\":\"overlay\",\"size\":10,\"solidity\":0.2}},\"type\":\"barpolar\"}],\"carpet\":[{\"aaxis\":{\"endlinecolor\":\"#2a3f5f\",\"gridcolor\":\"white\",\"linecolor\":\"white\",\"minorgridcolor\":\"white\",\"startlinecolor\":\"#2a3f5f\"},\"baxis\":{\"endlinecolor\":\"#2a3f5f\",\"gridcolor\":\"white\",\"linecolor\":\"white\",\"minorgridcolor\":\"white\",\"startlinecolor\":\"#2a3f5f\"},\"type\":\"carpet\"}],\"choropleth\":[{\"colorbar\":{\"outlinewidth\":0,\"ticks\":\"\"},\"type\":\"choropleth\"}],\"contour\":[{\"colorbar\":{\"outlinewidth\":0,\"ticks\":\"\"},\"colorscale\":[[0.0,\"#0d0887\"],[0.1111111111111111,\"#46039f\"],[0.2222222222222222,\"#7201a8\"],[0.3333333333333333,\"#9c179e\"],[0.4444444444444444,\"#bd3786\"],[0.5555555555555556,\"#d8576b\"],[0.6666666666666666,\"#ed7953\"],[0.7777777777777778,\"#fb9f3a\"],[0.8888888888888888,\"#fdca26\"],[1.0,\"#f0f921\"]],\"type\":\"contour\"}],\"contourcarpet\":[{\"colorbar\":{\"outlinewidth\":0,\"ticks\":\"\"},\"type\":\"contourcarpet\"}],\"heatmap\":[{\"colorbar\":{\"outlinewidth\":0,\"ticks\":\"\"},\"colorscale\":[[0.0,\"#0d0887\"],[0.1111111111111111,\"#46039f\"],[0.2222222222222222,\"#7201a8\"],[0.3333333333333333,\"#9c179e\"],[0.4444444444444444,\"#bd3786\"],[0.5555555555555556,\"#d8576b\"],[0.6666666666666666,\"#ed7953\"],[0.7777777777777778,\"#fb9f3a\"],[0.8888888888888888,\"#fdca26\"],[1.0,\"#f0f921\"]],\"type\":\"heatmap\"}],\"heatmapgl\":[{\"colorbar\":{\"outlinewidth\":0,\"ticks\":\"\"},\"colorscale\":[[0.0,\"#0d0887\"],[0.1111111111111111,\"#46039f\"],[0.2222222222222222,\"#7201a8\"],[0.3333333333333333,\"#9c179e\"],[0.4444444444444444,\"#bd3786\"],[0.5555555555555556,\"#d8576b\"],[0.6666666666666666,\"#ed7953\"],[0.7777777777777778,\"#fb9f3a\"],[0.8888888888888888,\"#fdca26\"],[1.0,\"#f0f921\"]],\"type\":\"heatmapgl\"}],\"histogram\":[{\"marker\":{\"pattern\":{\"fillmode\":\"overlay\",\"size\":10,\"solidity\":0.2}},\"type\":\"histogram\"}],\"histogram2d\":[{\"colorbar\":{\"outlinewidth\":0,\"ticks\":\"\"},\"colorscale\":[[0.0,\"#0d0887\"],[0.1111111111111111,\"#46039f\"],[0.2222222222222222,\"#7201a8\"],[0.3333333333333333,\"#9c179e\"],[0.4444444444444444,\"#bd3786\"],[0.5555555555555556,\"#d8576b\"],[0.6666666666666666,\"#ed7953\"],[0.7777777777777778,\"#fb9f3a\"],[0.8888888888888888,\"#fdca26\"],[1.0,\"#f0f921\"]],\"type\":\"histogram2d\"}],\"histogram2dcontour\":[{\"colorbar\":{\"outlinewidth\":0,\"ticks\":\"\"},\"colorscale\":[[0.0,\"#0d0887\"],[0.1111111111111111,\"#46039f\"],[0.2222222222222222,\"#7201a8\"],[0.3333333333333333,\"#9c179e\"],[0.4444444444444444,\"#bd3786\"],[0.5555555555555556,\"#d8576b\"],[0.6666666666666666,\"#ed7953\"],[0.7777777777777778,\"#fb9f3a\"],[0.8888888888888888,\"#fdca26\"],[1.0,\"#f0f921\"]],\"type\":\"histogram2dcontour\"}],\"mesh3d\":[{\"colorbar\":{\"outlinewidth\":0,\"ticks\":\"\"},\"type\":\"mesh3d\"}],\"parcoords\":[{\"line\":{\"colorbar\":{\"outlinewidth\":0,\"ticks\":\"\"}},\"type\":\"parcoords\"}],\"pie\":[{\"automargin\":true,\"type\":\"pie\"}],\"scatter\":[{\"marker\":{\"colorbar\":{\"outlinewidth\":0,\"ticks\":\"\"}},\"type\":\"scatter\"}],\"scatter3d\":[{\"line\":{\"colorbar\":{\"outlinewidth\":0,\"ticks\":\"\"}},\"marker\":{\"colorbar\":{\"outlinewidth\":0,\"ticks\":\"\"}},\"type\":\"scatter3d\"}],\"scattercarpet\":[{\"marker\":{\"colorbar\":{\"outlinewidth\":0,\"ticks\":\"\"}},\"type\":\"scattercarpet\"}],\"scattergeo\":[{\"marker\":{\"colorbar\":{\"outlinewidth\":0,\"ticks\":\"\"}},\"type\":\"scattergeo\"}],\"scattergl\":[{\"marker\":{\"colorbar\":{\"outlinewidth\":0,\"ticks\":\"\"}},\"type\":\"scattergl\"}],\"scattermapbox\":[{\"marker\":{\"colorbar\":{\"outlinewidth\":0,\"ticks\":\"\"}},\"type\":\"scattermapbox\"}],\"scatterpolar\":[{\"marker\":{\"colorbar\":{\"outlinewidth\":0,\"ticks\":\"\"}},\"type\":\"scatterpolar\"}],\"scatterpolargl\":[{\"marker\":{\"colorbar\":{\"outlinewidth\":0,\"ticks\":\"\"}},\"type\":\"scatterpolargl\"}],\"scatterternary\":[{\"marker\":{\"colorbar\":{\"outlinewidth\":0,\"ticks\":\"\"}},\"type\":\"scatterternary\"}],\"surface\":[{\"colorbar\":{\"outlinewidth\":0,\"ticks\":\"\"},\"colorscale\":[[0.0,\"#0d0887\"],[0.1111111111111111,\"#46039f\"],[0.2222222222222222,\"#7201a8\"],[0.3333333333333333,\"#9c179e\"],[0.4444444444444444,\"#bd3786\"],[0.5555555555555556,\"#d8576b\"],[0.6666666666666666,\"#ed7953\"],[0.7777777777777778,\"#fb9f3a\"],[0.8888888888888888,\"#fdca26\"],[1.0,\"#f0f921\"]],\"type\":\"surface\"}],\"table\":[{\"cells\":{\"fill\":{\"color\":\"#EBF0F8\"},\"line\":{\"color\":\"white\"}},\"header\":{\"fill\":{\"color\":\"#C8D4E3\"},\"line\":{\"color\":\"white\"}},\"type\":\"table\"}]},\"layout\":{\"annotationdefaults\":{\"arrowcolor\":\"#2a3f5f\",\"arrowhead\":0,\"arrowwidth\":1},\"autotypenumbers\":\"strict\",\"coloraxis\":{\"colorbar\":{\"outlinewidth\":0,\"ticks\":\"\"}},\"colorscale\":{\"diverging\":[[0,\"#8e0152\"],[0.1,\"#c51b7d\"],[0.2,\"#de77ae\"],[0.3,\"#f1b6da\"],[0.4,\"#fde0ef\"],[0.5,\"#f7f7f7\"],[0.6,\"#e6f5d0\"],[0.7,\"#b8e186\"],[0.8,\"#7fbc41\"],[0.9,\"#4d9221\"],[1,\"#276419\"]],\"sequential\":[[0.0,\"#0d0887\"],[0.1111111111111111,\"#46039f\"],[0.2222222222222222,\"#7201a8\"],[0.3333333333333333,\"#9c179e\"],[0.4444444444444444,\"#bd3786\"],[0.5555555555555556,\"#d8576b\"],[0.6666666666666666,\"#ed7953\"],[0.7777777777777778,\"#fb9f3a\"],[0.8888888888888888,\"#fdca26\"],[1.0,\"#f0f921\"]],\"sequentialminus\":[[0.0,\"#0d0887\"],[0.1111111111111111,\"#46039f\"],[0.2222222222222222,\"#7201a8\"],[0.3333333333333333,\"#9c179e\"],[0.4444444444444444,\"#bd3786\"],[0.5555555555555556,\"#d8576b\"],[0.6666666666666666,\"#ed7953\"],[0.7777777777777778,\"#fb9f3a\"],[0.8888888888888888,\"#fdca26\"],[1.0,\"#f0f921\"]]},\"colorway\":[\"#636efa\",\"#EF553B\",\"#00cc96\",\"#ab63fa\",\"#FFA15A\",\"#19d3f3\",\"#FF6692\",\"#B6E880\",\"#FF97FF\",\"#FECB52\"],\"font\":{\"color\":\"#2a3f5f\"},\"geo\":{\"bgcolor\":\"white\",\"lakecolor\":\"white\",\"landcolor\":\"#E5ECF6\",\"showlakes\":true,\"showland\":true,\"subunitcolor\":\"white\"},\"hoverlabel\":{\"align\":\"left\"},\"hovermode\":\"closest\",\"mapbox\":{\"style\":\"light\"},\"paper_bgcolor\":\"white\",\"plot_bgcolor\":\"#E5ECF6\",\"polar\":{\"angularaxis\":{\"gridcolor\":\"white\",\"linecolor\":\"white\",\"ticks\":\"\"},\"bgcolor\":\"#E5ECF6\",\"radialaxis\":{\"gridcolor\":\"white\",\"linecolor\":\"white\",\"ticks\":\"\"}},\"scene\":{\"xaxis\":{\"backgroundcolor\":\"#E5ECF6\",\"gridcolor\":\"white\",\"gridwidth\":2,\"linecolor\":\"white\",\"showbackground\":true,\"ticks\":\"\",\"zerolinecolor\":\"white\"},\"yaxis\":{\"backgroundcolor\":\"#E5ECF6\",\"gridcolor\":\"white\",\"gridwidth\":2,\"linecolor\":\"white\",\"showbackground\":true,\"ticks\":\"\",\"zerolinecolor\":\"white\"},\"zaxis\":{\"backgroundcolor\":\"#E5ECF6\",\"gridcolor\":\"white\",\"gridwidth\":2,\"linecolor\":\"white\",\"showbackground\":true,\"ticks\":\"\",\"zerolinecolor\":\"white\"}},\"shapedefaults\":{\"line\":{\"color\":\"#2a3f5f\"}},\"ternary\":{\"aaxis\":{\"gridcolor\":\"white\",\"linecolor\":\"white\",\"ticks\":\"\"},\"baxis\":{\"gridcolor\":\"white\",\"linecolor\":\"white\",\"ticks\":\"\"},\"bgcolor\":\"#E5ECF6\",\"caxis\":{\"gridcolor\":\"white\",\"linecolor\":\"white\",\"ticks\":\"\"}},\"title\":{\"x\":0.05},\"xaxis\":{\"automargin\":true,\"gridcolor\":\"white\",\"linecolor\":\"white\",\"ticks\":\"\",\"title\":{\"standoff\":15},\"zerolinecolor\":\"white\",\"zerolinewidth\":2},\"yaxis\":{\"automargin\":true,\"gridcolor\":\"white\",\"linecolor\":\"white\",\"ticks\":\"\",\"title\":{\"standoff\":15},\"zerolinecolor\":\"white\",\"zerolinewidth\":2}}},\"xaxis\":{\"anchor\":\"y\",\"domain\":[0.0,0.45],\"title\":{\"text\":\"X\"}},\"yaxis\":{\"anchor\":\"x\",\"domain\":[0.0,1.0],\"title\":{\"text\":\"Y\"},\"range\":[0,10]},\"xaxis2\":{\"anchor\":\"y2\",\"domain\":[0.55,1.0]},\"yaxis2\":{\"anchor\":\"x2\",\"domain\":[0.0,1.0],\"title\":{\"text\":\"RMSE\"}}},                        {\"responsive\": true}                    ).then(function(){\n",
       "                            \n",
       "var gd = document.getElementById('d87a7c28-cdc2-431b-9996-5f0d3ab27fd2');\n",
       "var x = new MutationObserver(function (mutations, observer) {{\n",
       "        var display = window.getComputedStyle(gd).display;\n",
       "        if (!display || display === 'none') {{\n",
       "            console.log([gd, 'removed!']);\n",
       "            Plotly.purge(gd);\n",
       "            observer.disconnect();\n",
       "        }}\n",
       "}});\n",
       "\n",
       "// Listen for the removal of the full notebook cells\n",
       "var notebookContainer = gd.closest('#notebook-container');\n",
       "if (notebookContainer) {{\n",
       "    x.observe(notebookContainer, {childList: true});\n",
       "}}\n",
       "\n",
       "// Listen for the clearing of the current output cell\n",
       "var outputEl = gd.closest('.output');\n",
       "if (outputEl) {{\n",
       "    x.observe(outputEl, {childList: true});\n",
       "}}\n",
       "\n",
       "                        })                };                });            </script>        </div>"
      ]
     },
     "metadata": {},
     "output_type": "display_data"
    }
   ],
   "source": [
    "model = LinearRegression()\n",
    "model.fit(phi_polynomials(data[[\"X\"]].to_numpy(), p=8), data[[\"Y\"]])\n",
    "evaluate_model(\"Octic\", model, lambda x: phi_polynomials(x, p=8), models)"
   ]
  },
  {
   "cell_type": "markdown",
   "metadata": {},
   "source": [
    "## Success!?\n",
    "\n",
    "What happens if we get more data from the world?"
   ]
  },
  {
   "cell_type": "code",
   "execution_count": 19,
   "metadata": {},
   "outputs": [
    {
     "data": {
      "text/html": [
       "<div>\n",
       "<style scoped>\n",
       "    .dataframe tbody tr th:only-of-type {\n",
       "        vertical-align: middle;\n",
       "    }\n",
       "\n",
       "    .dataframe tbody tr th {\n",
       "        vertical-align: top;\n",
       "    }\n",
       "\n",
       "    .dataframe thead th {\n",
       "        text-align: right;\n",
       "    }\n",
       "</style>\n",
       "<table border=\"1\" class=\"dataframe\">\n",
       "  <thead>\n",
       "    <tr style=\"text-align: right;\">\n",
       "      <th></th>\n",
       "      <th>X</th>\n",
       "      <th>Y</th>\n",
       "    </tr>\n",
       "  </thead>\n",
       "  <tbody>\n",
       "    <tr>\n",
       "      <th>0</th>\n",
       "      <td>-2.972389</td>\n",
       "      <td>12.829875</td>\n",
       "    </tr>\n",
       "    <tr>\n",
       "      <th>1</th>\n",
       "      <td>-2.897078</td>\n",
       "      <td>11.633153</td>\n",
       "    </tr>\n",
       "    <tr>\n",
       "      <th>2</th>\n",
       "      <td>-2.872904</td>\n",
       "      <td>11.871463</td>\n",
       "    </tr>\n",
       "    <tr>\n",
       "      <th>3</th>\n",
       "      <td>-2.828057</td>\n",
       "      <td>8.954620</td>\n",
       "    </tr>\n",
       "    <tr>\n",
       "      <th>4</th>\n",
       "      <td>-2.773864</td>\n",
       "      <td>10.577305</td>\n",
       "    </tr>\n",
       "    <tr>\n",
       "      <th>...</th>\n",
       "      <td>...</td>\n",
       "      <td>...</td>\n",
       "    </tr>\n",
       "    <tr>\n",
       "      <th>95</th>\n",
       "      <td>1.753572</td>\n",
       "      <td>9.678197</td>\n",
       "    </tr>\n",
       "    <tr>\n",
       "      <th>96</th>\n",
       "      <td>1.828160</td>\n",
       "      <td>11.248137</td>\n",
       "    </tr>\n",
       "    <tr>\n",
       "      <th>97</th>\n",
       "      <td>1.847923</td>\n",
       "      <td>11.934869</td>\n",
       "    </tr>\n",
       "    <tr>\n",
       "      <th>98</th>\n",
       "      <td>1.849549</td>\n",
       "      <td>11.872792</td>\n",
       "    </tr>\n",
       "    <tr>\n",
       "      <th>99</th>\n",
       "      <td>1.934435</td>\n",
       "      <td>13.345564</td>\n",
       "    </tr>\n",
       "  </tbody>\n",
       "</table>\n",
       "<p>100 rows × 2 columns</p>\n",
       "</div>"
      ],
      "text/plain": [
       "           X          Y\n",
       "0  -2.972389  12.829875\n",
       "1  -2.897078  11.633153\n",
       "2  -2.872904  11.871463\n",
       "3  -2.828057   8.954620\n",
       "4  -2.773864  10.577305\n",
       "..       ...        ...\n",
       "95  1.753572   9.678197\n",
       "96  1.828160  11.248137\n",
       "97  1.847923  11.934869\n",
       "98  1.849549  11.872792\n",
       "99  1.934435  13.345564\n",
       "\n",
       "[100 rows x 2 columns]"
      ]
     },
     "execution_count": 19,
     "metadata": {},
     "output_type": "execute_result"
    }
   ],
   "source": [
    "test_data = pd.read_csv(\"data/test.csv\")\n",
    "test_data"
   ]
  },
  {
   "cell_type": "markdown",
   "metadata": {},
   "source": [
    "Plotting this new data (in red) on top of the old data we see that while the more complex RBF model fit the original data perfectly, it does not fit the new "
   ]
  },
  {
   "cell_type": "code",
   "execution_count": 20,
   "metadata": {},
   "outputs": [
    {
     "data": {
      "application/vnd.plotly.v1+json": {
       "config": {
        "plotlyServerURL": "https://plot.ly"
       },
       "data": [
        {
         "marker": {
          "color": "#636EFA"
         },
         "mode": "markers",
         "name": "data",
         "type": "scatter",
         "x": [
          -2.6475819924330954,
          -2.0515469334036016,
          -1.8106646981606496,
          -1.312076282905776,
          -0.7895905078629929,
          -0.6609638446178359,
          0.8061481540360957,
          1.054879683024077
         ],
         "y": [
          9.14045169318176,
          5.336237325257329,
          7.195181491514598,
          6.095357781703495,
          0.7219468779966638,
          2.177008172349038,
          4.367994079777328,
          5.852681713200849
         ]
        },
        {
         "marker": {
          "color": "#EF553B",
          "symbol": "cross"
         },
         "mode": "markers",
         "name": "Test Data",
         "type": "scatter",
         "x": [
          -2.972389414381988,
          -2.897077528520988,
          -2.872904366279524,
          -2.828057394423908,
          -2.7738635554473103,
          -2.7677479364000117,
          -2.7095819391590026,
          -2.6822082485698817,
          -2.6747420350736024,
          -2.6297767413295485,
          -2.627246781601146,
          -2.5575374897404024,
          -2.5116394299680804,
          -2.460542865033478,
          -2.4206547023743514,
          -2.4020287703084917,
          -2.3898088257761056,
          -2.3025306967397907,
          -2.295378875126187,
          -2.2200273983189867,
          -2.219906797787817,
          -2.1473793815635425,
          -2.0908751639644967,
          -2.082977450732831,
          -2.0757277223723647,
          -2.0200856879042743,
          -2.006421592329138,
          -2.001631089208201,
          -1.9383044466086192,
          -1.7061000919999154,
          -1.6432548411305206,
          -1.5953274515630962,
          -1.5438542990097903,
          -1.5392767573239092,
          -1.4787887852023114,
          -1.476931154133147,
          -1.445088391421689,
          -1.4414446195529451,
          -1.3740833898662648,
          -1.3733483461836782,
          -1.3455098757367543,
          -1.2162333665320535,
          -1.2076713572786368,
          -1.1681907835315417,
          -1.1272994057631875,
          -1.0566135515525898,
          -0.8622949082072521,
          -0.8402749067894213,
          -0.7992375313019933,
          -0.7196500789148201,
          -0.6389253741902534,
          -0.5310220181780463,
          -0.5241154494436491,
          -0.42882780793194186,
          -0.3996598941109459,
          -0.3863358530900296,
          -0.3762178418388107,
          -0.2865195842087576,
          -0.26644860328360176,
          -0.19361401215251872,
          -0.03792715568978755,
          -0.0105001059445744,
          -0.006707579014816999,
          0.005575058716043913,
          0.0377242595071916,
          0.05926447361189746,
          0.1164906341377896,
          0.18778735677606573,
          0.3126114217699101,
          0.4211651325607844,
          0.5342867192380858,
          0.5403628889802272,
          0.5662239361149748,
          0.6450358402049368,
          0.6480308916903201,
          0.6599697090570253,
          0.8039252430844872,
          0.8548358997728052,
          0.8563517334297286,
          0.8612238464832869,
          0.8756641168055728,
          0.9258798069650682,
          1.0109849037701988,
          1.0419867405823051,
          1.0773071422741705,
          1.1436875457596472,
          1.1622132040021091,
          1.3155171293779675,
          1.3308807288746758,
          1.4360637128816327,
          1.4741367521382438,
          1.5466020103939109,
          1.6093711751155837,
          1.6974947078209457,
          1.7444276862666666,
          1.7535715320495804,
          1.8281601653727968,
          1.847923138822793,
          1.8495492608099715,
          1.9344346830025865
         ],
         "y": [
          12.829875314582026,
          11.633152534921534,
          11.871463194859464,
          8.954619765942603,
          10.577304672177947,
          11.213896491907118,
          12.037977545405136,
          9.402141418324485,
          8.988813514760324,
          8.969789483515175,
          10.648840280907358,
          9.361422374966097,
          7.957674147884162,
          8.803377571003383,
          7.994322030723066,
          8.89780087480193,
          6.800291083309704,
          6.605039249461149,
          6.476240826740156,
          4.6607705641774215,
          6.7715031186309815,
          6.240983980217226,
          5.567903722609082,
          5.23013065900705,
          3.767390819645104,
          4.616546609824387,
          4.6273546078387895,
          4.047059133087277,
          4.4438965082690425,
          3.894215892021855,
          5.37748634498938,
          3.10897782769362,
          2.9883240639897584,
          2.5708572577079987,
          0.11352951371678355,
          2.3769723092927832,
          2.3586603871293037,
          5.228526478352722,
          1.7972103871428542,
          2.3873314783638664,
          1.8881197762904705,
          0.12356682552423948,
          2.8729848772432005,
          2.2952774856171203,
          2.2362474253933526,
          0.02837234579028847,
          2.4458683741491214,
          -0.9506472509696384,
          1.3833147128397472,
          3.2250390653065475,
          -0.6500430709690221,
          -0.17763254429964814,
          0.6207447479089078,
          -0.09403982309189383,
          -1.340659843579706,
          0.6081146463527756,
          -0.7441204111132425,
          1.1594586926150214,
          -0.4942165712642028,
          2.5476660331196013,
          -0.012881323905624796,
          0.5927464731137351,
          1.9628954860464496,
          -0.4658248997292838,
          1.3512466800500702,
          2.6941248080276994,
          -0.668858477514245,
          1.667663526520779,
          2.1325339986799383,
          3.1352778490242272,
          1.1551571821308677,
          1.0801619458334375,
          3.399996842629297,
          3.4785957585874736,
          3.4365412769655954,
          3.6067973032560503,
          3.084412413211689,
          4.449865067219577,
          4.5310670175140775,
          3.3486390188378685,
          6.52383293790662,
          5.134865952915625,
          3.636586562199695,
          6.04331054662388,
          4.306177637865435,
          6.847919020661688,
          7.416220165926798,
          6.107386112107581,
          8.360299841822515,
          8.492022512997824,
          9.280904024279256,
          11.15331115708153,
          9.104427769613553,
          9.253482584573137,
          9.507493962210058,
          9.67819695817006,
          11.248137459960454,
          11.934868501418928,
          11.87279241714139,
          13.345564350455037
         ]
        }
       ],
       "layout": {
        "template": {
         "data": {
          "bar": [
           {
            "error_x": {
             "color": "#2a3f5f"
            },
            "error_y": {
             "color": "#2a3f5f"
            },
            "marker": {
             "line": {
              "color": "#E5ECF6",
              "width": 0.5
             },
             "pattern": {
              "fillmode": "overlay",
              "size": 10,
              "solidity": 0.2
             }
            },
            "type": "bar"
           }
          ],
          "barpolar": [
           {
            "marker": {
             "line": {
              "color": "#E5ECF6",
              "width": 0.5
             },
             "pattern": {
              "fillmode": "overlay",
              "size": 10,
              "solidity": 0.2
             }
            },
            "type": "barpolar"
           }
          ],
          "carpet": [
           {
            "aaxis": {
             "endlinecolor": "#2a3f5f",
             "gridcolor": "white",
             "linecolor": "white",
             "minorgridcolor": "white",
             "startlinecolor": "#2a3f5f"
            },
            "baxis": {
             "endlinecolor": "#2a3f5f",
             "gridcolor": "white",
             "linecolor": "white",
             "minorgridcolor": "white",
             "startlinecolor": "#2a3f5f"
            },
            "type": "carpet"
           }
          ],
          "choropleth": [
           {
            "colorbar": {
             "outlinewidth": 0,
             "ticks": ""
            },
            "type": "choropleth"
           }
          ],
          "contour": [
           {
            "colorbar": {
             "outlinewidth": 0,
             "ticks": ""
            },
            "colorscale": [
             [
              0,
              "#0d0887"
             ],
             [
              0.1111111111111111,
              "#46039f"
             ],
             [
              0.2222222222222222,
              "#7201a8"
             ],
             [
              0.3333333333333333,
              "#9c179e"
             ],
             [
              0.4444444444444444,
              "#bd3786"
             ],
             [
              0.5555555555555556,
              "#d8576b"
             ],
             [
              0.6666666666666666,
              "#ed7953"
             ],
             [
              0.7777777777777778,
              "#fb9f3a"
             ],
             [
              0.8888888888888888,
              "#fdca26"
             ],
             [
              1,
              "#f0f921"
             ]
            ],
            "type": "contour"
           }
          ],
          "contourcarpet": [
           {
            "colorbar": {
             "outlinewidth": 0,
             "ticks": ""
            },
            "type": "contourcarpet"
           }
          ],
          "heatmap": [
           {
            "colorbar": {
             "outlinewidth": 0,
             "ticks": ""
            },
            "colorscale": [
             [
              0,
              "#0d0887"
             ],
             [
              0.1111111111111111,
              "#46039f"
             ],
             [
              0.2222222222222222,
              "#7201a8"
             ],
             [
              0.3333333333333333,
              "#9c179e"
             ],
             [
              0.4444444444444444,
              "#bd3786"
             ],
             [
              0.5555555555555556,
              "#d8576b"
             ],
             [
              0.6666666666666666,
              "#ed7953"
             ],
             [
              0.7777777777777778,
              "#fb9f3a"
             ],
             [
              0.8888888888888888,
              "#fdca26"
             ],
             [
              1,
              "#f0f921"
             ]
            ],
            "type": "heatmap"
           }
          ],
          "heatmapgl": [
           {
            "colorbar": {
             "outlinewidth": 0,
             "ticks": ""
            },
            "colorscale": [
             [
              0,
              "#0d0887"
             ],
             [
              0.1111111111111111,
              "#46039f"
             ],
             [
              0.2222222222222222,
              "#7201a8"
             ],
             [
              0.3333333333333333,
              "#9c179e"
             ],
             [
              0.4444444444444444,
              "#bd3786"
             ],
             [
              0.5555555555555556,
              "#d8576b"
             ],
             [
              0.6666666666666666,
              "#ed7953"
             ],
             [
              0.7777777777777778,
              "#fb9f3a"
             ],
             [
              0.8888888888888888,
              "#fdca26"
             ],
             [
              1,
              "#f0f921"
             ]
            ],
            "type": "heatmapgl"
           }
          ],
          "histogram": [
           {
            "marker": {
             "pattern": {
              "fillmode": "overlay",
              "size": 10,
              "solidity": 0.2
             }
            },
            "type": "histogram"
           }
          ],
          "histogram2d": [
           {
            "colorbar": {
             "outlinewidth": 0,
             "ticks": ""
            },
            "colorscale": [
             [
              0,
              "#0d0887"
             ],
             [
              0.1111111111111111,
              "#46039f"
             ],
             [
              0.2222222222222222,
              "#7201a8"
             ],
             [
              0.3333333333333333,
              "#9c179e"
             ],
             [
              0.4444444444444444,
              "#bd3786"
             ],
             [
              0.5555555555555556,
              "#d8576b"
             ],
             [
              0.6666666666666666,
              "#ed7953"
             ],
             [
              0.7777777777777778,
              "#fb9f3a"
             ],
             [
              0.8888888888888888,
              "#fdca26"
             ],
             [
              1,
              "#f0f921"
             ]
            ],
            "type": "histogram2d"
           }
          ],
          "histogram2dcontour": [
           {
            "colorbar": {
             "outlinewidth": 0,
             "ticks": ""
            },
            "colorscale": [
             [
              0,
              "#0d0887"
             ],
             [
              0.1111111111111111,
              "#46039f"
             ],
             [
              0.2222222222222222,
              "#7201a8"
             ],
             [
              0.3333333333333333,
              "#9c179e"
             ],
             [
              0.4444444444444444,
              "#bd3786"
             ],
             [
              0.5555555555555556,
              "#d8576b"
             ],
             [
              0.6666666666666666,
              "#ed7953"
             ],
             [
              0.7777777777777778,
              "#fb9f3a"
             ],
             [
              0.8888888888888888,
              "#fdca26"
             ],
             [
              1,
              "#f0f921"
             ]
            ],
            "type": "histogram2dcontour"
           }
          ],
          "mesh3d": [
           {
            "colorbar": {
             "outlinewidth": 0,
             "ticks": ""
            },
            "type": "mesh3d"
           }
          ],
          "parcoords": [
           {
            "line": {
             "colorbar": {
              "outlinewidth": 0,
              "ticks": ""
             }
            },
            "type": "parcoords"
           }
          ],
          "pie": [
           {
            "automargin": true,
            "type": "pie"
           }
          ],
          "scatter": [
           {
            "marker": {
             "colorbar": {
              "outlinewidth": 0,
              "ticks": ""
             }
            },
            "type": "scatter"
           }
          ],
          "scatter3d": [
           {
            "line": {
             "colorbar": {
              "outlinewidth": 0,
              "ticks": ""
             }
            },
            "marker": {
             "colorbar": {
              "outlinewidth": 0,
              "ticks": ""
             }
            },
            "type": "scatter3d"
           }
          ],
          "scattercarpet": [
           {
            "marker": {
             "colorbar": {
              "outlinewidth": 0,
              "ticks": ""
             }
            },
            "type": "scattercarpet"
           }
          ],
          "scattergeo": [
           {
            "marker": {
             "colorbar": {
              "outlinewidth": 0,
              "ticks": ""
             }
            },
            "type": "scattergeo"
           }
          ],
          "scattergl": [
           {
            "marker": {
             "colorbar": {
              "outlinewidth": 0,
              "ticks": ""
             }
            },
            "type": "scattergl"
           }
          ],
          "scattermapbox": [
           {
            "marker": {
             "colorbar": {
              "outlinewidth": 0,
              "ticks": ""
             }
            },
            "type": "scattermapbox"
           }
          ],
          "scatterpolar": [
           {
            "marker": {
             "colorbar": {
              "outlinewidth": 0,
              "ticks": ""
             }
            },
            "type": "scatterpolar"
           }
          ],
          "scatterpolargl": [
           {
            "marker": {
             "colorbar": {
              "outlinewidth": 0,
              "ticks": ""
             }
            },
            "type": "scatterpolargl"
           }
          ],
          "scatterternary": [
           {
            "marker": {
             "colorbar": {
              "outlinewidth": 0,
              "ticks": ""
             }
            },
            "type": "scatterternary"
           }
          ],
          "surface": [
           {
            "colorbar": {
             "outlinewidth": 0,
             "ticks": ""
            },
            "colorscale": [
             [
              0,
              "#0d0887"
             ],
             [
              0.1111111111111111,
              "#46039f"
             ],
             [
              0.2222222222222222,
              "#7201a8"
             ],
             [
              0.3333333333333333,
              "#9c179e"
             ],
             [
              0.4444444444444444,
              "#bd3786"
             ],
             [
              0.5555555555555556,
              "#d8576b"
             ],
             [
              0.6666666666666666,
              "#ed7953"
             ],
             [
              0.7777777777777778,
              "#fb9f3a"
             ],
             [
              0.8888888888888888,
              "#fdca26"
             ],
             [
              1,
              "#f0f921"
             ]
            ],
            "type": "surface"
           }
          ],
          "table": [
           {
            "cells": {
             "fill": {
              "color": "#EBF0F8"
             },
             "line": {
              "color": "white"
             }
            },
            "header": {
             "fill": {
              "color": "#C8D4E3"
             },
             "line": {
              "color": "white"
             }
            },
            "type": "table"
           }
          ]
         },
         "layout": {
          "annotationdefaults": {
           "arrowcolor": "#2a3f5f",
           "arrowhead": 0,
           "arrowwidth": 1
          },
          "autotypenumbers": "strict",
          "coloraxis": {
           "colorbar": {
            "outlinewidth": 0,
            "ticks": ""
           }
          },
          "colorscale": {
           "diverging": [
            [
             0,
             "#8e0152"
            ],
            [
             0.1,
             "#c51b7d"
            ],
            [
             0.2,
             "#de77ae"
            ],
            [
             0.3,
             "#f1b6da"
            ],
            [
             0.4,
             "#fde0ef"
            ],
            [
             0.5,
             "#f7f7f7"
            ],
            [
             0.6,
             "#e6f5d0"
            ],
            [
             0.7,
             "#b8e186"
            ],
            [
             0.8,
             "#7fbc41"
            ],
            [
             0.9,
             "#4d9221"
            ],
            [
             1,
             "#276419"
            ]
           ],
           "sequential": [
            [
             0,
             "#0d0887"
            ],
            [
             0.1111111111111111,
             "#46039f"
            ],
            [
             0.2222222222222222,
             "#7201a8"
            ],
            [
             0.3333333333333333,
             "#9c179e"
            ],
            [
             0.4444444444444444,
             "#bd3786"
            ],
            [
             0.5555555555555556,
             "#d8576b"
            ],
            [
             0.6666666666666666,
             "#ed7953"
            ],
            [
             0.7777777777777778,
             "#fb9f3a"
            ],
            [
             0.8888888888888888,
             "#fdca26"
            ],
            [
             1,
             "#f0f921"
            ]
           ],
           "sequentialminus": [
            [
             0,
             "#0d0887"
            ],
            [
             0.1111111111111111,
             "#46039f"
            ],
            [
             0.2222222222222222,
             "#7201a8"
            ],
            [
             0.3333333333333333,
             "#9c179e"
            ],
            [
             0.4444444444444444,
             "#bd3786"
            ],
            [
             0.5555555555555556,
             "#d8576b"
            ],
            [
             0.6666666666666666,
             "#ed7953"
            ],
            [
             0.7777777777777778,
             "#fb9f3a"
            ],
            [
             0.8888888888888888,
             "#fdca26"
            ],
            [
             1,
             "#f0f921"
            ]
           ]
          },
          "colorway": [
           "#636efa",
           "#EF553B",
           "#00cc96",
           "#ab63fa",
           "#FFA15A",
           "#19d3f3",
           "#FF6692",
           "#B6E880",
           "#FF97FF",
           "#FECB52"
          ],
          "font": {
           "color": "#2a3f5f"
          },
          "geo": {
           "bgcolor": "white",
           "lakecolor": "white",
           "landcolor": "#E5ECF6",
           "showlakes": true,
           "showland": true,
           "subunitcolor": "white"
          },
          "hoverlabel": {
           "align": "left"
          },
          "hovermode": "closest",
          "mapbox": {
           "style": "light"
          },
          "paper_bgcolor": "white",
          "plot_bgcolor": "#E5ECF6",
          "polar": {
           "angularaxis": {
            "gridcolor": "white",
            "linecolor": "white",
            "ticks": ""
           },
           "bgcolor": "#E5ECF6",
           "radialaxis": {
            "gridcolor": "white",
            "linecolor": "white",
            "ticks": ""
           }
          },
          "scene": {
           "xaxis": {
            "backgroundcolor": "#E5ECF6",
            "gridcolor": "white",
            "gridwidth": 2,
            "linecolor": "white",
            "showbackground": true,
            "ticks": "",
            "zerolinecolor": "white"
           },
           "yaxis": {
            "backgroundcolor": "#E5ECF6",
            "gridcolor": "white",
            "gridwidth": 2,
            "linecolor": "white",
            "showbackground": true,
            "ticks": "",
            "zerolinecolor": "white"
           },
           "zaxis": {
            "backgroundcolor": "#E5ECF6",
            "gridcolor": "white",
            "gridwidth": 2,
            "linecolor": "white",
            "showbackground": true,
            "ticks": "",
            "zerolinecolor": "white"
           }
          },
          "shapedefaults": {
           "line": {
            "color": "#2a3f5f"
           }
          },
          "ternary": {
           "aaxis": {
            "gridcolor": "white",
            "linecolor": "white",
            "ticks": ""
           },
           "baxis": {
            "gridcolor": "white",
            "linecolor": "white",
            "ticks": ""
           },
           "bgcolor": "#E5ECF6",
           "caxis": {
            "gridcolor": "white",
            "linecolor": "white",
            "ticks": ""
           }
          },
          "title": {
           "x": 0.05
          },
          "xaxis": {
           "automargin": true,
           "gridcolor": "white",
           "linecolor": "white",
           "ticks": "",
           "title": {
            "standoff": 15
           },
           "zerolinecolor": "white",
           "zerolinewidth": 2
          },
          "yaxis": {
           "automargin": true,
           "gridcolor": "white",
           "linecolor": "white",
           "ticks": "",
           "title": {
            "standoff": 15
           },
           "zerolinecolor": "white",
           "zerolinewidth": 2
          }
         }
        }
       }
      },
      "text/html": [
       "<div>                            <div id=\"e0721da9-4236-40c2-bb17-d66ebcd69f6a\" class=\"plotly-graph-div\" style=\"height:525px; width:100%;\"></div>            <script type=\"text/javascript\">                require([\"plotly\"], function(Plotly) {                    window.PLOTLYENV=window.PLOTLYENV || {};                                    if (document.getElementById(\"e0721da9-4236-40c2-bb17-d66ebcd69f6a\")) {                    Plotly.newPlot(                        \"e0721da9-4236-40c2-bb17-d66ebcd69f6a\",                        [{\"marker\":{\"color\":\"#636EFA\"},\"mode\":\"markers\",\"name\":\"data\",\"x\":[-2.6475819924330954,-2.0515469334036016,-1.8106646981606496,-1.312076282905776,-0.7895905078629929,-0.6609638446178359,0.8061481540360957,1.054879683024077],\"y\":[9.14045169318176,5.336237325257329,7.195181491514598,6.095357781703495,0.7219468779966638,2.177008172349038,4.367994079777328,5.852681713200849],\"type\":\"scatter\"},{\"marker\":{\"color\":\"#EF553B\",\"symbol\":\"cross\"},\"mode\":\"markers\",\"name\":\"Test Data\",\"x\":[-2.972389414381988,-2.897077528520988,-2.872904366279524,-2.828057394423908,-2.7738635554473103,-2.7677479364000117,-2.7095819391590026,-2.6822082485698817,-2.6747420350736024,-2.6297767413295485,-2.627246781601146,-2.5575374897404024,-2.5116394299680804,-2.460542865033478,-2.4206547023743514,-2.4020287703084917,-2.3898088257761056,-2.3025306967397907,-2.295378875126187,-2.2200273983189867,-2.219906797787817,-2.1473793815635425,-2.0908751639644967,-2.082977450732831,-2.0757277223723647,-2.0200856879042743,-2.006421592329138,-2.001631089208201,-1.9383044466086192,-1.7061000919999154,-1.6432548411305206,-1.5953274515630962,-1.5438542990097903,-1.5392767573239092,-1.4787887852023114,-1.476931154133147,-1.445088391421689,-1.4414446195529451,-1.3740833898662648,-1.3733483461836782,-1.3455098757367543,-1.2162333665320535,-1.2076713572786368,-1.1681907835315417,-1.1272994057631875,-1.0566135515525898,-0.8622949082072521,-0.8402749067894213,-0.7992375313019933,-0.7196500789148201,-0.6389253741902534,-0.5310220181780463,-0.5241154494436491,-0.42882780793194186,-0.3996598941109459,-0.3863358530900296,-0.3762178418388107,-0.2865195842087576,-0.26644860328360176,-0.19361401215251872,-0.03792715568978755,-0.0105001059445744,-0.006707579014816999,0.005575058716043913,0.0377242595071916,0.05926447361189746,0.1164906341377896,0.18778735677606573,0.3126114217699101,0.4211651325607844,0.5342867192380858,0.5403628889802272,0.5662239361149748,0.6450358402049368,0.6480308916903201,0.6599697090570253,0.8039252430844872,0.8548358997728052,0.8563517334297286,0.8612238464832869,0.8756641168055728,0.9258798069650682,1.0109849037701988,1.0419867405823051,1.0773071422741705,1.1436875457596472,1.1622132040021091,1.3155171293779675,1.3308807288746758,1.4360637128816327,1.4741367521382438,1.5466020103939109,1.6093711751155837,1.6974947078209457,1.7444276862666666,1.7535715320495804,1.8281601653727968,1.847923138822793,1.8495492608099715,1.9344346830025865],\"y\":[12.829875314582026,11.633152534921534,11.871463194859464,8.954619765942603,10.577304672177947,11.213896491907118,12.037977545405136,9.402141418324485,8.988813514760324,8.969789483515175,10.648840280907358,9.361422374966097,7.957674147884162,8.803377571003383,7.994322030723066,8.89780087480193,6.800291083309704,6.605039249461149,6.476240826740156,4.6607705641774215,6.7715031186309815,6.240983980217226,5.567903722609082,5.23013065900705,3.767390819645104,4.616546609824387,4.6273546078387895,4.047059133087277,4.4438965082690425,3.894215892021855,5.37748634498938,3.10897782769362,2.9883240639897584,2.5708572577079987,0.11352951371678355,2.3769723092927832,2.3586603871293037,5.228526478352722,1.7972103871428542,2.3873314783638664,1.8881197762904705,0.12356682552423948,2.8729848772432005,2.2952774856171203,2.2362474253933526,0.02837234579028847,2.4458683741491214,-0.9506472509696384,1.3833147128397472,3.2250390653065475,-0.6500430709690221,-0.17763254429964814,0.6207447479089078,-0.09403982309189383,-1.340659843579706,0.6081146463527756,-0.7441204111132425,1.1594586926150214,-0.4942165712642028,2.5476660331196013,-0.012881323905624796,0.5927464731137351,1.9628954860464496,-0.4658248997292838,1.3512466800500702,2.6941248080276994,-0.668858477514245,1.667663526520779,2.1325339986799383,3.1352778490242272,1.1551571821308677,1.0801619458334375,3.399996842629297,3.4785957585874736,3.4365412769655954,3.6067973032560503,3.084412413211689,4.449865067219577,4.5310670175140775,3.3486390188378685,6.52383293790662,5.134865952915625,3.636586562199695,6.04331054662388,4.306177637865435,6.847919020661688,7.416220165926798,6.107386112107581,8.360299841822515,8.492022512997824,9.280904024279256,11.15331115708153,9.104427769613553,9.253482584573137,9.507493962210058,9.67819695817006,11.248137459960454,11.934868501418928,11.87279241714139,13.345564350455037],\"type\":\"scatter\"}],                        {\"template\":{\"data\":{\"bar\":[{\"error_x\":{\"color\":\"#2a3f5f\"},\"error_y\":{\"color\":\"#2a3f5f\"},\"marker\":{\"line\":{\"color\":\"#E5ECF6\",\"width\":0.5},\"pattern\":{\"fillmode\":\"overlay\",\"size\":10,\"solidity\":0.2}},\"type\":\"bar\"}],\"barpolar\":[{\"marker\":{\"line\":{\"color\":\"#E5ECF6\",\"width\":0.5},\"pattern\":{\"fillmode\":\"overlay\",\"size\":10,\"solidity\":0.2}},\"type\":\"barpolar\"}],\"carpet\":[{\"aaxis\":{\"endlinecolor\":\"#2a3f5f\",\"gridcolor\":\"white\",\"linecolor\":\"white\",\"minorgridcolor\":\"white\",\"startlinecolor\":\"#2a3f5f\"},\"baxis\":{\"endlinecolor\":\"#2a3f5f\",\"gridcolor\":\"white\",\"linecolor\":\"white\",\"minorgridcolor\":\"white\",\"startlinecolor\":\"#2a3f5f\"},\"type\":\"carpet\"}],\"choropleth\":[{\"colorbar\":{\"outlinewidth\":0,\"ticks\":\"\"},\"type\":\"choropleth\"}],\"contour\":[{\"colorbar\":{\"outlinewidth\":0,\"ticks\":\"\"},\"colorscale\":[[0.0,\"#0d0887\"],[0.1111111111111111,\"#46039f\"],[0.2222222222222222,\"#7201a8\"],[0.3333333333333333,\"#9c179e\"],[0.4444444444444444,\"#bd3786\"],[0.5555555555555556,\"#d8576b\"],[0.6666666666666666,\"#ed7953\"],[0.7777777777777778,\"#fb9f3a\"],[0.8888888888888888,\"#fdca26\"],[1.0,\"#f0f921\"]],\"type\":\"contour\"}],\"contourcarpet\":[{\"colorbar\":{\"outlinewidth\":0,\"ticks\":\"\"},\"type\":\"contourcarpet\"}],\"heatmap\":[{\"colorbar\":{\"outlinewidth\":0,\"ticks\":\"\"},\"colorscale\":[[0.0,\"#0d0887\"],[0.1111111111111111,\"#46039f\"],[0.2222222222222222,\"#7201a8\"],[0.3333333333333333,\"#9c179e\"],[0.4444444444444444,\"#bd3786\"],[0.5555555555555556,\"#d8576b\"],[0.6666666666666666,\"#ed7953\"],[0.7777777777777778,\"#fb9f3a\"],[0.8888888888888888,\"#fdca26\"],[1.0,\"#f0f921\"]],\"type\":\"heatmap\"}],\"heatmapgl\":[{\"colorbar\":{\"outlinewidth\":0,\"ticks\":\"\"},\"colorscale\":[[0.0,\"#0d0887\"],[0.1111111111111111,\"#46039f\"],[0.2222222222222222,\"#7201a8\"],[0.3333333333333333,\"#9c179e\"],[0.4444444444444444,\"#bd3786\"],[0.5555555555555556,\"#d8576b\"],[0.6666666666666666,\"#ed7953\"],[0.7777777777777778,\"#fb9f3a\"],[0.8888888888888888,\"#fdca26\"],[1.0,\"#f0f921\"]],\"type\":\"heatmapgl\"}],\"histogram\":[{\"marker\":{\"pattern\":{\"fillmode\":\"overlay\",\"size\":10,\"solidity\":0.2}},\"type\":\"histogram\"}],\"histogram2d\":[{\"colorbar\":{\"outlinewidth\":0,\"ticks\":\"\"},\"colorscale\":[[0.0,\"#0d0887\"],[0.1111111111111111,\"#46039f\"],[0.2222222222222222,\"#7201a8\"],[0.3333333333333333,\"#9c179e\"],[0.4444444444444444,\"#bd3786\"],[0.5555555555555556,\"#d8576b\"],[0.6666666666666666,\"#ed7953\"],[0.7777777777777778,\"#fb9f3a\"],[0.8888888888888888,\"#fdca26\"],[1.0,\"#f0f921\"]],\"type\":\"histogram2d\"}],\"histogram2dcontour\":[{\"colorbar\":{\"outlinewidth\":0,\"ticks\":\"\"},\"colorscale\":[[0.0,\"#0d0887\"],[0.1111111111111111,\"#46039f\"],[0.2222222222222222,\"#7201a8\"],[0.3333333333333333,\"#9c179e\"],[0.4444444444444444,\"#bd3786\"],[0.5555555555555556,\"#d8576b\"],[0.6666666666666666,\"#ed7953\"],[0.7777777777777778,\"#fb9f3a\"],[0.8888888888888888,\"#fdca26\"],[1.0,\"#f0f921\"]],\"type\":\"histogram2dcontour\"}],\"mesh3d\":[{\"colorbar\":{\"outlinewidth\":0,\"ticks\":\"\"},\"type\":\"mesh3d\"}],\"parcoords\":[{\"line\":{\"colorbar\":{\"outlinewidth\":0,\"ticks\":\"\"}},\"type\":\"parcoords\"}],\"pie\":[{\"automargin\":true,\"type\":\"pie\"}],\"scatter\":[{\"marker\":{\"colorbar\":{\"outlinewidth\":0,\"ticks\":\"\"}},\"type\":\"scatter\"}],\"scatter3d\":[{\"line\":{\"colorbar\":{\"outlinewidth\":0,\"ticks\":\"\"}},\"marker\":{\"colorbar\":{\"outlinewidth\":0,\"ticks\":\"\"}},\"type\":\"scatter3d\"}],\"scattercarpet\":[{\"marker\":{\"colorbar\":{\"outlinewidth\":0,\"ticks\":\"\"}},\"type\":\"scattercarpet\"}],\"scattergeo\":[{\"marker\":{\"colorbar\":{\"outlinewidth\":0,\"ticks\":\"\"}},\"type\":\"scattergeo\"}],\"scattergl\":[{\"marker\":{\"colorbar\":{\"outlinewidth\":0,\"ticks\":\"\"}},\"type\":\"scattergl\"}],\"scattermapbox\":[{\"marker\":{\"colorbar\":{\"outlinewidth\":0,\"ticks\":\"\"}},\"type\":\"scattermapbox\"}],\"scatterpolar\":[{\"marker\":{\"colorbar\":{\"outlinewidth\":0,\"ticks\":\"\"}},\"type\":\"scatterpolar\"}],\"scatterpolargl\":[{\"marker\":{\"colorbar\":{\"outlinewidth\":0,\"ticks\":\"\"}},\"type\":\"scatterpolargl\"}],\"scatterternary\":[{\"marker\":{\"colorbar\":{\"outlinewidth\":0,\"ticks\":\"\"}},\"type\":\"scatterternary\"}],\"surface\":[{\"colorbar\":{\"outlinewidth\":0,\"ticks\":\"\"},\"colorscale\":[[0.0,\"#0d0887\"],[0.1111111111111111,\"#46039f\"],[0.2222222222222222,\"#7201a8\"],[0.3333333333333333,\"#9c179e\"],[0.4444444444444444,\"#bd3786\"],[0.5555555555555556,\"#d8576b\"],[0.6666666666666666,\"#ed7953\"],[0.7777777777777778,\"#fb9f3a\"],[0.8888888888888888,\"#fdca26\"],[1.0,\"#f0f921\"]],\"type\":\"surface\"}],\"table\":[{\"cells\":{\"fill\":{\"color\":\"#EBF0F8\"},\"line\":{\"color\":\"white\"}},\"header\":{\"fill\":{\"color\":\"#C8D4E3\"},\"line\":{\"color\":\"white\"}},\"type\":\"table\"}]},\"layout\":{\"annotationdefaults\":{\"arrowcolor\":\"#2a3f5f\",\"arrowhead\":0,\"arrowwidth\":1},\"autotypenumbers\":\"strict\",\"coloraxis\":{\"colorbar\":{\"outlinewidth\":0,\"ticks\":\"\"}},\"colorscale\":{\"diverging\":[[0,\"#8e0152\"],[0.1,\"#c51b7d\"],[0.2,\"#de77ae\"],[0.3,\"#f1b6da\"],[0.4,\"#fde0ef\"],[0.5,\"#f7f7f7\"],[0.6,\"#e6f5d0\"],[0.7,\"#b8e186\"],[0.8,\"#7fbc41\"],[0.9,\"#4d9221\"],[1,\"#276419\"]],\"sequential\":[[0.0,\"#0d0887\"],[0.1111111111111111,\"#46039f\"],[0.2222222222222222,\"#7201a8\"],[0.3333333333333333,\"#9c179e\"],[0.4444444444444444,\"#bd3786\"],[0.5555555555555556,\"#d8576b\"],[0.6666666666666666,\"#ed7953\"],[0.7777777777777778,\"#fb9f3a\"],[0.8888888888888888,\"#fdca26\"],[1.0,\"#f0f921\"]],\"sequentialminus\":[[0.0,\"#0d0887\"],[0.1111111111111111,\"#46039f\"],[0.2222222222222222,\"#7201a8\"],[0.3333333333333333,\"#9c179e\"],[0.4444444444444444,\"#bd3786\"],[0.5555555555555556,\"#d8576b\"],[0.6666666666666666,\"#ed7953\"],[0.7777777777777778,\"#fb9f3a\"],[0.8888888888888888,\"#fdca26\"],[1.0,\"#f0f921\"]]},\"colorway\":[\"#636efa\",\"#EF553B\",\"#00cc96\",\"#ab63fa\",\"#FFA15A\",\"#19d3f3\",\"#FF6692\",\"#B6E880\",\"#FF97FF\",\"#FECB52\"],\"font\":{\"color\":\"#2a3f5f\"},\"geo\":{\"bgcolor\":\"white\",\"lakecolor\":\"white\",\"landcolor\":\"#E5ECF6\",\"showlakes\":true,\"showland\":true,\"subunitcolor\":\"white\"},\"hoverlabel\":{\"align\":\"left\"},\"hovermode\":\"closest\",\"mapbox\":{\"style\":\"light\"},\"paper_bgcolor\":\"white\",\"plot_bgcolor\":\"#E5ECF6\",\"polar\":{\"angularaxis\":{\"gridcolor\":\"white\",\"linecolor\":\"white\",\"ticks\":\"\"},\"bgcolor\":\"#E5ECF6\",\"radialaxis\":{\"gridcolor\":\"white\",\"linecolor\":\"white\",\"ticks\":\"\"}},\"scene\":{\"xaxis\":{\"backgroundcolor\":\"#E5ECF6\",\"gridcolor\":\"white\",\"gridwidth\":2,\"linecolor\":\"white\",\"showbackground\":true,\"ticks\":\"\",\"zerolinecolor\":\"white\"},\"yaxis\":{\"backgroundcolor\":\"#E5ECF6\",\"gridcolor\":\"white\",\"gridwidth\":2,\"linecolor\":\"white\",\"showbackground\":true,\"ticks\":\"\",\"zerolinecolor\":\"white\"},\"zaxis\":{\"backgroundcolor\":\"#E5ECF6\",\"gridcolor\":\"white\",\"gridwidth\":2,\"linecolor\":\"white\",\"showbackground\":true,\"ticks\":\"\",\"zerolinecolor\":\"white\"}},\"shapedefaults\":{\"line\":{\"color\":\"#2a3f5f\"}},\"ternary\":{\"aaxis\":{\"gridcolor\":\"white\",\"linecolor\":\"white\",\"ticks\":\"\"},\"baxis\":{\"gridcolor\":\"white\",\"linecolor\":\"white\",\"ticks\":\"\"},\"bgcolor\":\"#E5ECF6\",\"caxis\":{\"gridcolor\":\"white\",\"linecolor\":\"white\",\"ticks\":\"\"}},\"title\":{\"x\":0.05},\"xaxis\":{\"automargin\":true,\"gridcolor\":\"white\",\"linecolor\":\"white\",\"ticks\":\"\",\"title\":{\"standoff\":15},\"zerolinecolor\":\"white\",\"zerolinewidth\":2},\"yaxis\":{\"automargin\":true,\"gridcolor\":\"white\",\"linecolor\":\"white\",\"ticks\":\"\",\"title\":{\"standoff\":15},\"zerolinecolor\":\"white\",\"zerolinewidth\":2}}}},                        {\"responsive\": true}                    ).then(function(){\n",
       "                            \n",
       "var gd = document.getElementById('e0721da9-4236-40c2-bb17-d66ebcd69f6a');\n",
       "var x = new MutationObserver(function (mutations, observer) {{\n",
       "        var display = window.getComputedStyle(gd).display;\n",
       "        if (!display || display === 'none') {{\n",
       "            console.log([gd, 'removed!']);\n",
       "            Plotly.purge(gd);\n",
       "            observer.disconnect();\n",
       "        }}\n",
       "}});\n",
       "\n",
       "// Listen for the removal of the full notebook cells\n",
       "var notebookContainer = gd.closest('#notebook-container');\n",
       "if (notebookContainer) {{\n",
       "    x.observe(notebookContainer, {childList: true});\n",
       "}}\n",
       "\n",
       "// Listen for the clearing of the current output cell\n",
       "var outputEl = gd.closest('.output');\n",
       "if (outputEl) {{\n",
       "    x.observe(outputEl, {childList: true});\n",
       "}}\n",
       "\n",
       "                        })                };                });            </script>        </div>"
      ]
     },
     "metadata": {},
     "output_type": "display_data"
    }
   ],
   "source": [
    "test_data_scatter = go.Scatter(name = \"Test Data\", x = test_data['X'], y = test_data['Y'], \n",
    "                       mode = 'markers', marker=dict(symbol=\"cross\", color=colors[1]))\n",
    "go.Figure([data_scatter, test_data_scatter])"
   ]
  },
  {
   "cell_type": "markdown",
   "metadata": {},
   "source": [
    "What happens if we plot this data on top of our previous picture?"
   ]
  },
  {
   "cell_type": "code",
   "execution_count": 21,
   "metadata": {},
   "outputs": [],
   "source": [
    "def better_evaluate_model(name, model, phi, models=dict()):\n",
    "    \n",
    "    # Save the model and rmse to the collection of models \n",
    "    models[name] = dict(model=model, phi=phi)\n",
    "    \n",
    "    # Generate diagnostic and model comparison plots\n",
    "    fig = make_subplots(rows=1, cols=2)\n",
    "    fig.add_trace(data_scatter, row=1, col=1)    \n",
    "    fig.add_trace(test_data_scatter, row=1, col=1)    \n",
    "    xgrid = np.expand_dims(np.linspace(-4, 3, 100),1)\n",
    "    for (i,m) in enumerate(models):\n",
    "        model = models[m][\"model\"]\n",
    "        phi = models[m][\"phi\"]\n",
    "        # run the prediction function and compute the RMSE\n",
    "        fig.add_trace(go.Scatter(x=xgrid.flatten(), \n",
    "            y=model.predict(phi(xgrid)).flatten(), \n",
    "                                 marker=dict(color=colors[i+2]),\n",
    "                                 name=m), row=1, col=1)\n",
    "        if \"train_rmse\" not in models[m]:\n",
    "            # Evaluate train and test \n",
    "            Yhat_train = model.predict(phi(data[[\"X\"]].to_numpy()) ).flatten()\n",
    "            Y_train = data['Y'].to_numpy()\n",
    "            models[m]['train_rmse'] = np.sqrt(mean_squared_error(Y_train, Yhat_train))\n",
    "        \n",
    "            Yhat_test = model.predict(phi(test_data[[\"X\"]].to_numpy()) ).flatten()\n",
    "            Y_test = test_data['Y'].to_numpy()\n",
    "            models[m]['test_rmse'] = np.sqrt(mean_squared_error(Y_test, Yhat_test))\n",
    "        \n",
    "    fig.update_xaxes(title = \"X\", row=1, col=1)\n",
    "    fig.update_yaxes(title = \"Y\", range=[0,10], row=1, col=1)\n",
    "    fig.add_trace(go.Bar(x=list(models.keys()), \n",
    "                         y=[models[k]['train_rmse'] for k in models], \n",
    "                         marker=dict(color=colors[0]), name=\"Training Error\"), row=1, col=2)    \n",
    "    fig.add_trace(go.Bar(x=list(models.keys()), \n",
    "                         y=[models[k]['test_rmse'] for k in models], \n",
    "                         marker=dict(color=colors[1]), name=\"Testing Error\"), row=1, col=2)    \n",
    "    fig.update_yaxes(title = \"RMSE\", row=1, col=2)\n",
    "    fig.show()"
   ]
  },
  {
   "cell_type": "markdown",
   "metadata": {},
   "source": [
    "The following plots the training and test error.  Try zooming in to see what happens to training error and testing error as we increase the number of features in our model. "
   ]
  },
  {
   "cell_type": "code",
   "execution_count": 22,
   "metadata": {},
   "outputs": [
    {
     "data": {
      "application/vnd.plotly.v1+json": {
       "config": {
        "plotlyServerURL": "https://plot.ly"
       },
       "data": [
        {
         "marker": {
          "color": "#636EFA"
         },
         "mode": "markers",
         "name": "data",
         "type": "scatter",
         "x": [
          -2.6475819924330954,
          -2.0515469334036016,
          -1.8106646981606496,
          -1.312076282905776,
          -0.7895905078629929,
          -0.6609638446178359,
          0.8061481540360957,
          1.054879683024077
         ],
         "xaxis": "x",
         "y": [
          9.14045169318176,
          5.336237325257329,
          7.195181491514598,
          6.095357781703495,
          0.7219468779966638,
          2.177008172349038,
          4.367994079777328,
          5.852681713200849
         ],
         "yaxis": "y"
        },
        {
         "marker": {
          "color": "#EF553B",
          "symbol": "cross"
         },
         "mode": "markers",
         "name": "Test Data",
         "type": "scatter",
         "x": [
          -2.972389414381988,
          -2.897077528520988,
          -2.872904366279524,
          -2.828057394423908,
          -2.7738635554473103,
          -2.7677479364000117,
          -2.7095819391590026,
          -2.6822082485698817,
          -2.6747420350736024,
          -2.6297767413295485,
          -2.627246781601146,
          -2.5575374897404024,
          -2.5116394299680804,
          -2.460542865033478,
          -2.4206547023743514,
          -2.4020287703084917,
          -2.3898088257761056,
          -2.3025306967397907,
          -2.295378875126187,
          -2.2200273983189867,
          -2.219906797787817,
          -2.1473793815635425,
          -2.0908751639644967,
          -2.082977450732831,
          -2.0757277223723647,
          -2.0200856879042743,
          -2.006421592329138,
          -2.001631089208201,
          -1.9383044466086192,
          -1.7061000919999154,
          -1.6432548411305206,
          -1.5953274515630962,
          -1.5438542990097903,
          -1.5392767573239092,
          -1.4787887852023114,
          -1.476931154133147,
          -1.445088391421689,
          -1.4414446195529451,
          -1.3740833898662648,
          -1.3733483461836782,
          -1.3455098757367543,
          -1.2162333665320535,
          -1.2076713572786368,
          -1.1681907835315417,
          -1.1272994057631875,
          -1.0566135515525898,
          -0.8622949082072521,
          -0.8402749067894213,
          -0.7992375313019933,
          -0.7196500789148201,
          -0.6389253741902534,
          -0.5310220181780463,
          -0.5241154494436491,
          -0.42882780793194186,
          -0.3996598941109459,
          -0.3863358530900296,
          -0.3762178418388107,
          -0.2865195842087576,
          -0.26644860328360176,
          -0.19361401215251872,
          -0.03792715568978755,
          -0.0105001059445744,
          -0.006707579014816999,
          0.005575058716043913,
          0.0377242595071916,
          0.05926447361189746,
          0.1164906341377896,
          0.18778735677606573,
          0.3126114217699101,
          0.4211651325607844,
          0.5342867192380858,
          0.5403628889802272,
          0.5662239361149748,
          0.6450358402049368,
          0.6480308916903201,
          0.6599697090570253,
          0.8039252430844872,
          0.8548358997728052,
          0.8563517334297286,
          0.8612238464832869,
          0.8756641168055728,
          0.9258798069650682,
          1.0109849037701988,
          1.0419867405823051,
          1.0773071422741705,
          1.1436875457596472,
          1.1622132040021091,
          1.3155171293779675,
          1.3308807288746758,
          1.4360637128816327,
          1.4741367521382438,
          1.5466020103939109,
          1.6093711751155837,
          1.6974947078209457,
          1.7444276862666666,
          1.7535715320495804,
          1.8281601653727968,
          1.847923138822793,
          1.8495492608099715,
          1.9344346830025865
         ],
         "xaxis": "x",
         "y": [
          12.829875314582026,
          11.633152534921534,
          11.871463194859464,
          8.954619765942603,
          10.577304672177947,
          11.213896491907118,
          12.037977545405136,
          9.402141418324485,
          8.988813514760324,
          8.969789483515175,
          10.648840280907358,
          9.361422374966097,
          7.957674147884162,
          8.803377571003383,
          7.994322030723066,
          8.89780087480193,
          6.800291083309704,
          6.605039249461149,
          6.476240826740156,
          4.6607705641774215,
          6.7715031186309815,
          6.240983980217226,
          5.567903722609082,
          5.23013065900705,
          3.767390819645104,
          4.616546609824387,
          4.6273546078387895,
          4.047059133087277,
          4.4438965082690425,
          3.894215892021855,
          5.37748634498938,
          3.10897782769362,
          2.9883240639897584,
          2.5708572577079987,
          0.11352951371678355,
          2.3769723092927832,
          2.3586603871293037,
          5.228526478352722,
          1.7972103871428542,
          2.3873314783638664,
          1.8881197762904705,
          0.12356682552423948,
          2.8729848772432005,
          2.2952774856171203,
          2.2362474253933526,
          0.02837234579028847,
          2.4458683741491214,
          -0.9506472509696384,
          1.3833147128397472,
          3.2250390653065475,
          -0.6500430709690221,
          -0.17763254429964814,
          0.6207447479089078,
          -0.09403982309189383,
          -1.340659843579706,
          0.6081146463527756,
          -0.7441204111132425,
          1.1594586926150214,
          -0.4942165712642028,
          2.5476660331196013,
          -0.012881323905624796,
          0.5927464731137351,
          1.9628954860464496,
          -0.4658248997292838,
          1.3512466800500702,
          2.6941248080276994,
          -0.668858477514245,
          1.667663526520779,
          2.1325339986799383,
          3.1352778490242272,
          1.1551571821308677,
          1.0801619458334375,
          3.399996842629297,
          3.4785957585874736,
          3.4365412769655954,
          3.6067973032560503,
          3.084412413211689,
          4.449865067219577,
          4.5310670175140775,
          3.3486390188378685,
          6.52383293790662,
          5.134865952915625,
          3.636586562199695,
          6.04331054662388,
          4.306177637865435,
          6.847919020661688,
          7.416220165926798,
          6.107386112107581,
          8.360299841822515,
          8.492022512997824,
          9.280904024279256,
          11.15331115708153,
          9.104427769613553,
          9.253482584573137,
          9.507493962210058,
          9.67819695817006,
          11.248137459960454,
          11.934868501418928,
          11.87279241714139,
          13.345564350455037
         ],
         "yaxis": "y"
        },
        {
         "marker": {
          "color": "#00CC96"
         },
         "name": "Linear in X",
         "type": "scatter",
         "x": [
          -4,
          -3.9292929292929295,
          -3.8585858585858586,
          -3.787878787878788,
          -3.717171717171717,
          -3.6464646464646466,
          -3.5757575757575757,
          -3.505050505050505,
          -3.4343434343434343,
          -3.3636363636363638,
          -3.292929292929293,
          -3.2222222222222223,
          -3.1515151515151514,
          -3.080808080808081,
          -3.0101010101010104,
          -2.9393939393939394,
          -2.8686868686868685,
          -2.797979797979798,
          -2.7272727272727275,
          -2.6565656565656566,
          -2.5858585858585856,
          -2.515151515151515,
          -2.4444444444444446,
          -2.3737373737373737,
          -2.303030303030303,
          -2.2323232323232327,
          -2.1616161616161618,
          -2.090909090909091,
          -2.0202020202020203,
          -1.9494949494949494,
          -1.878787878787879,
          -1.808080808080808,
          -1.7373737373737375,
          -1.666666666666667,
          -1.595959595959596,
          -1.5252525252525255,
          -1.4545454545454546,
          -1.383838383838384,
          -1.3131313131313131,
          -1.2424242424242427,
          -1.1717171717171717,
          -1.1010101010101012,
          -1.0303030303030303,
          -0.9595959595959598,
          -0.8888888888888888,
          -0.8181818181818183,
          -0.7474747474747474,
          -0.6767676767676769,
          -0.6060606060606064,
          -0.5353535353535355,
          -0.464646464646465,
          -0.39393939393939403,
          -0.32323232323232354,
          -0.2525252525252526,
          -0.1818181818181821,
          -0.11111111111111116,
          -0.040404040404040664,
          0.030303030303030276,
          0.10101010101010122,
          0.17171717171717127,
          0.2424242424242422,
          0.31313131313131315,
          0.3838383838383841,
          0.45454545454545414,
          0.5252525252525251,
          0.595959595959596,
          0.6666666666666661,
          0.737373737373737,
          0.808080808080808,
          0.8787878787878789,
          0.949494949494949,
          1.0202020202020199,
          1.0909090909090908,
          1.1616161616161618,
          1.2323232323232318,
          1.3030303030303028,
          1.3737373737373737,
          1.4444444444444446,
          1.5151515151515147,
          1.5858585858585856,
          1.6565656565656566,
          1.7272727272727266,
          1.7979797979797976,
          1.8686868686868685,
          1.9393939393939394,
          2.0101010101010095,
          2.0808080808080804,
          2.1515151515151514,
          2.2222222222222223,
          2.2929292929292924,
          2.3636363636363633,
          2.4343434343434343,
          2.505050505050505,
          2.5757575757575752,
          2.646464646464646,
          2.717171717171717,
          2.787878787878787,
          2.858585858585858,
          2.929292929292929,
          3
         ],
         "xaxis": "x",
         "y": [
          7.788875137272887,
          7.7272678029708395,
          7.66566046866879,
          7.604053134366742,
          7.5424458000646935,
          7.480838465762645,
          7.419231131460596,
          7.357623797158547,
          7.296016462856499,
          7.23440912855445,
          7.172801794252402,
          7.111194459950353,
          7.049587125648305,
          6.987979791346255,
          6.926372457044208,
          6.864765122742159,
          6.80315778844011,
          6.7415504541380615,
          6.679943119836013,
          6.618335785533964,
          6.5567284512319155,
          6.495121116929868,
          6.433513782627818,
          6.37190644832577,
          6.310299114023722,
          6.248691779721673,
          6.187084445419624,
          6.125477111117576,
          6.063869776815527,
          6.002262442513478,
          5.94065510821143,
          5.879047773909381,
          5.817440439607333,
          5.7558331053052845,
          5.694225771003236,
          5.632618436701187,
          5.571011102399138,
          5.50940376809709,
          5.447796433795041,
          5.386189099492992,
          5.324581765190944,
          5.262974430888895,
          5.201367096586846,
          5.139759762284799,
          5.078152427982749,
          5.016545093680701,
          4.954937759378652,
          4.893330425076604,
          4.831723090774555,
          4.7701157564725065,
          4.708508422170458,
          4.646901087868409,
          4.5852937535663605,
          4.523686419264312,
          4.462079084962264,
          4.4004717506602145,
          4.338864416358167,
          4.277257082056118,
          4.215649747754069,
          4.154042413452021,
          4.092435079149972,
          4.030827744847923,
          3.9692204105458746,
          3.9076130762438264,
          3.8460057419417777,
          3.7843984076397286,
          3.722791073337681,
          3.661183739035632,
          3.5995764047335834,
          3.5379690704315343,
          3.476361736129486,
          3.4147544018274374,
          3.3531470675253887,
          3.29153973322334,
          3.2299323989212922,
          3.168325064619243,
          3.106717730317194,
          3.0451103960151453,
          2.9835030617130975,
          2.921895727411049,
          2.860288393109,
          2.798681058806952,
          2.737073724504903,
          2.675466390202854,
          2.6138590559008055,
          2.5522517215987577,
          2.4906443872967086,
          2.42903705299466,
          2.3674297186926108,
          2.305822384390563,
          2.2442150500885143,
          2.182607715786465,
          2.1210003814844165,
          2.0593930471823687,
          1.9977857128803196,
          1.936178378578271,
          1.8745710442762231,
          1.812963709974174,
          1.7513563756721253,
          1.6897490413700766
         ],
         "yaxis": "y"
        },
        {
         "marker": {
          "color": "#AB63FA"
         },
         "name": "Quadratic",
         "type": "scatter",
         "x": [
          -4,
          -3.9292929292929295,
          -3.8585858585858586,
          -3.787878787878788,
          -3.717171717171717,
          -3.6464646464646466,
          -3.5757575757575757,
          -3.505050505050505,
          -3.4343434343434343,
          -3.3636363636363638,
          -3.292929292929293,
          -3.2222222222222223,
          -3.1515151515151514,
          -3.080808080808081,
          -3.0101010101010104,
          -2.9393939393939394,
          -2.8686868686868685,
          -2.797979797979798,
          -2.7272727272727275,
          -2.6565656565656566,
          -2.5858585858585856,
          -2.515151515151515,
          -2.4444444444444446,
          -2.3737373737373737,
          -2.303030303030303,
          -2.2323232323232327,
          -2.1616161616161618,
          -2.090909090909091,
          -2.0202020202020203,
          -1.9494949494949494,
          -1.878787878787879,
          -1.808080808080808,
          -1.7373737373737375,
          -1.666666666666667,
          -1.595959595959596,
          -1.5252525252525255,
          -1.4545454545454546,
          -1.383838383838384,
          -1.3131313131313131,
          -1.2424242424242427,
          -1.1717171717171717,
          -1.1010101010101012,
          -1.0303030303030303,
          -0.9595959595959598,
          -0.8888888888888888,
          -0.8181818181818183,
          -0.7474747474747474,
          -0.6767676767676769,
          -0.6060606060606064,
          -0.5353535353535355,
          -0.464646464646465,
          -0.39393939393939403,
          -0.32323232323232354,
          -0.2525252525252526,
          -0.1818181818181821,
          -0.11111111111111116,
          -0.040404040404040664,
          0.030303030303030276,
          0.10101010101010122,
          0.17171717171717127,
          0.2424242424242422,
          0.31313131313131315,
          0.3838383838383841,
          0.45454545454545414,
          0.5252525252525251,
          0.595959595959596,
          0.6666666666666661,
          0.737373737373737,
          0.808080808080808,
          0.8787878787878789,
          0.949494949494949,
          1.0202020202020199,
          1.0909090909090908,
          1.1616161616161618,
          1.2323232323232318,
          1.3030303030303028,
          1.3737373737373737,
          1.4444444444444446,
          1.5151515151515147,
          1.5858585858585856,
          1.6565656565656566,
          1.7272727272727266,
          1.7979797979797976,
          1.8686868686868685,
          1.9393939393939394,
          2.0101010101010095,
          2.0808080808080804,
          2.1515151515151514,
          2.2222222222222223,
          2.2929292929292924,
          2.3636363636363633,
          2.4343434343434343,
          2.505050505050505,
          2.5757575757575752,
          2.646464646464646,
          2.717171717171717,
          2.787878787878787,
          2.858585858585858,
          2.929292929292929,
          3
         ],
         "xaxis": "x",
         "y": [
          20.56852383190872,
          19.87561789999593,
          19.196348107905802,
          18.53071445563833,
          17.878716943193517,
          17.240355570571374,
          16.615630337771883,
          16.004541244795057,
          15.407088291640889,
          14.823271478309383,
          14.25309080480054,
          13.696546271114357,
          13.153637877250834,
          12.624365623209972,
          12.108729508991768,
          11.60672953459623,
          11.11836570002335,
          10.643638005273132,
          10.182546450345573,
          9.735091035240675,
          9.301271759958437,
          8.881088624498862,
          8.47454162886195,
          8.081630773047692,
          7.702356057056101,
          7.336717480887169,
          6.984715044540896,
          6.646348748017284,
          6.321618591316335,
          6.010524574438044,
          5.713066697382417,
          5.429244960149449,
          5.159059362739143,
          4.902509905151497,
          4.6595965873865115,
          4.430319409444187,
          4.214678371324522,
          4.012673473027521,
          3.8243047145531777,
          3.6495720959014966,
          3.4884756170724756,
          3.3410152780661164,
          3.207191078882417,
          3.0870030195213793,
          2.980451099983002,
          2.8875353202672853,
          2.8082556803742293,
          2.742612180303835,
          2.690604820056101,
          2.6522335996310273,
          2.627498519028615,
          2.616399578248863,
          2.618936777291772,
          2.635110116157342,
          2.664919594845572,
          2.708365213356464,
          2.765446971690016,
          2.8361648698462294,
          2.9205189078251035,
          3.0185090856266372,
          3.130135403250833,
          3.25539786069769,
          3.3942964579672075,
          3.546831195059384,
          3.713002071974223,
          3.892809088711723,
          4.086252245271881,
          4.2933315416547035,
          4.514046977860186,
          4.748398553888329,
          4.99638626973913,
          5.2580101254125955,
          5.533270120908721,
          5.822166256227508,
          6.124698531368952,
          6.440866946333061,
          6.77067150111983,
          7.11411219572926,
          7.471189030161347,
          7.841902004416099,
          8.226251118493511,
          8.624236372393579,
          9.035857766116315,
          9.46111529966171,
          9.900008973029767,
          10.352538786220476,
          10.818704739233855,
          11.298506832069894,
          11.791945064728594,
          12.299019437209946,
          12.819729949513967,
          13.35407660164065,
          13.902059393589994,
          14.46367832536199,
          15.038933396956654,
          15.627824608373977,
          16.23035195961396,
          16.846515450676605,
          17.476315081561914,
          18.11975085226988
         ],
         "yaxis": "y"
        },
        {
         "marker": {
          "color": "#FFA15A"
         },
         "name": "Cubic",
         "type": "scatter",
         "x": [
          -4,
          -3.9292929292929295,
          -3.8585858585858586,
          -3.787878787878788,
          -3.717171717171717,
          -3.6464646464646466,
          -3.5757575757575757,
          -3.505050505050505,
          -3.4343434343434343,
          -3.3636363636363638,
          -3.292929292929293,
          -3.2222222222222223,
          -3.1515151515151514,
          -3.080808080808081,
          -3.0101010101010104,
          -2.9393939393939394,
          -2.8686868686868685,
          -2.797979797979798,
          -2.7272727272727275,
          -2.6565656565656566,
          -2.5858585858585856,
          -2.515151515151515,
          -2.4444444444444446,
          -2.3737373737373737,
          -2.303030303030303,
          -2.2323232323232327,
          -2.1616161616161618,
          -2.090909090909091,
          -2.0202020202020203,
          -1.9494949494949494,
          -1.878787878787879,
          -1.808080808080808,
          -1.7373737373737375,
          -1.666666666666667,
          -1.595959595959596,
          -1.5252525252525255,
          -1.4545454545454546,
          -1.383838383838384,
          -1.3131313131313131,
          -1.2424242424242427,
          -1.1717171717171717,
          -1.1010101010101012,
          -1.0303030303030303,
          -0.9595959595959598,
          -0.8888888888888888,
          -0.8181818181818183,
          -0.7474747474747474,
          -0.6767676767676769,
          -0.6060606060606064,
          -0.5353535353535355,
          -0.464646464646465,
          -0.39393939393939403,
          -0.32323232323232354,
          -0.2525252525252526,
          -0.1818181818181821,
          -0.11111111111111116,
          -0.040404040404040664,
          0.030303030303030276,
          0.10101010101010122,
          0.17171717171717127,
          0.2424242424242422,
          0.31313131313131315,
          0.3838383838383841,
          0.45454545454545414,
          0.5252525252525251,
          0.595959595959596,
          0.6666666666666661,
          0.737373737373737,
          0.808080808080808,
          0.8787878787878789,
          0.949494949494949,
          1.0202020202020199,
          1.0909090909090908,
          1.1616161616161618,
          1.2323232323232318,
          1.3030303030303028,
          1.3737373737373737,
          1.4444444444444446,
          1.5151515151515147,
          1.5858585858585856,
          1.6565656565656566,
          1.7272727272727266,
          1.7979797979797976,
          1.8686868686868685,
          1.9393939393939394,
          2.0101010101010095,
          2.0808080808080804,
          2.1515151515151514,
          2.2222222222222223,
          2.2929292929292924,
          2.3636363636363633,
          2.4343434343434343,
          2.505050505050505,
          2.5757575757575752,
          2.646464646464646,
          2.717171717171717,
          2.787878787878787,
          2.858585858585858,
          2.929292929292929,
          3
         ],
         "xaxis": "x",
         "y": [
          3.82856261735002,
          4.490383877491343,
          5.098535601482151,
          5.654562796986088,
          6.160010471666848,
          6.6164236331880595,
          7.025347289213396,
          7.388326447406548,
          7.706906115431142,
          7.982631300950857,
          8.217047011629354,
          8.4116982551303,
          8.56813003911735,
          8.687887371254167,
          8.772515259204425,
          8.823558710631783,
          8.842562733199905,
          8.831072334572443,
          8.79063252241307,
          8.72278830438545,
          8.629084688153238,
          8.511066681380107,
          8.370279291729712,
          8.208267526865718,
          8.026576394451796,
          7.826750902151598,
          7.610336057628792,
          7.3788768685470405,
          7.133918342570009,
          6.877005487361355,
          6.609683310584747,
          6.333496819903845,
          6.049991022982317,
          5.760710927483818,
          5.467201541072015,
          5.171007871410573,
          4.873674926163151,
          4.576747712993418,
          4.281771239565031,
          3.990290513541656,
          3.703850542586956,
          3.4239963343645945,
          3.1522728965382325,
          2.8902252367715358,
          2.639398362728164,
          2.4013372820717844,
          2.177587002466056,
          1.9696925315746454,
          1.7791988770612142,
          1.6076510465894243,
          1.4565940478229402,
          1.3275728884254243,
          1.2221325760605404,
          1.1418181183919507,
          1.0881745230833193,
          1.0627467977983083,
          1.0670799502005812,
          1.102718987953801,
          1.1712089187216315,
          1.2740947501677335,
          1.4129214899557732,
          1.5892341457494121,
          1.8045777252123139,
          2.0604972360081377,
          2.358537685800553,
          2.7002440822532208,
          3.0871614330297974,
          3.520834745793957,
          4.002809028209358,
          4.534629287939663,
          5.117840532648528,
          5.75398776999963,
          6.4446160076566255,
          7.191270253283177,
          7.995495514542938,
          8.858836799099592,
          9.78283911461679,
          10.769047468758197,
          11.819006869187465,
          12.934262323568278,
          14.116358839564292,
          15.366841424839151,
          16.68725508705655,
          18.079144833880132,
          19.544055672973567,
          21.083532612000493,
          22.69912065862462,
          24.39236482050958,
          26.16481010531905,
          28.018001520716656,
          29.953484074366116,
          31.972802773931072,
          34.07750262707518,
          36.269128641462075,
          38.54922582475548,
          40.919339184619034,
          43.381013728716354,
          45.93579446471118,
          48.585226400267146,
          51.330854543047906
         ],
         "yaxis": "y"
        },
        {
         "marker": {
          "color": "#19D3F3"
         },
         "name": "Quartic",
         "type": "scatter",
         "x": [
          -4,
          -3.9292929292929295,
          -3.8585858585858586,
          -3.787878787878788,
          -3.717171717171717,
          -3.6464646464646466,
          -3.5757575757575757,
          -3.505050505050505,
          -3.4343434343434343,
          -3.3636363636363638,
          -3.292929292929293,
          -3.2222222222222223,
          -3.1515151515151514,
          -3.080808080808081,
          -3.0101010101010104,
          -2.9393939393939394,
          -2.8686868686868685,
          -2.797979797979798,
          -2.7272727272727275,
          -2.6565656565656566,
          -2.5858585858585856,
          -2.515151515151515,
          -2.4444444444444446,
          -2.3737373737373737,
          -2.303030303030303,
          -2.2323232323232327,
          -2.1616161616161618,
          -2.090909090909091,
          -2.0202020202020203,
          -1.9494949494949494,
          -1.878787878787879,
          -1.808080808080808,
          -1.7373737373737375,
          -1.666666666666667,
          -1.595959595959596,
          -1.5252525252525255,
          -1.4545454545454546,
          -1.383838383838384,
          -1.3131313131313131,
          -1.2424242424242427,
          -1.1717171717171717,
          -1.1010101010101012,
          -1.0303030303030303,
          -0.9595959595959598,
          -0.8888888888888888,
          -0.8181818181818183,
          -0.7474747474747474,
          -0.6767676767676769,
          -0.6060606060606064,
          -0.5353535353535355,
          -0.464646464646465,
          -0.39393939393939403,
          -0.32323232323232354,
          -0.2525252525252526,
          -0.1818181818181821,
          -0.11111111111111116,
          -0.040404040404040664,
          0.030303030303030276,
          0.10101010101010122,
          0.17171717171717127,
          0.2424242424242422,
          0.31313131313131315,
          0.3838383838383841,
          0.45454545454545414,
          0.5252525252525251,
          0.595959595959596,
          0.6666666666666661,
          0.737373737373737,
          0.808080808080808,
          0.8787878787878789,
          0.949494949494949,
          1.0202020202020199,
          1.0909090909090908,
          1.1616161616161618,
          1.2323232323232318,
          1.3030303030303028,
          1.3737373737373737,
          1.4444444444444446,
          1.5151515151515147,
          1.5858585858585856,
          1.6565656565656566,
          1.7272727272727266,
          1.7979797979797976,
          1.8686868686868685,
          1.9393939393939394,
          2.0101010101010095,
          2.0808080808080804,
          2.1515151515151514,
          2.2222222222222223,
          2.2929292929292924,
          2.3636363636363633,
          2.4343434343434343,
          2.505050505050505,
          2.5757575757575752,
          2.646464646464646,
          2.717171717171717,
          2.787878787878787,
          2.858585858585858,
          2.929292929292929,
          3
         ],
         "xaxis": "x",
         "y": [
          11.991533389932819,
          11.75681170355417,
          11.538977185074621,
          11.336031030104515,
          11.146059669626105,
          10.967234769993553,
          10.797813232932882,
          10.636137195542055,
          10.480634030290915,
          10.329816345021225,
          10.182281982946591,
          10.036714022652596,
          9.891880778096663,
          9.746635798608125,
          9.599917868888234,
          9.45075100901012,
          9.298244474418837,
          9.141592755931295,
          8.98007557973634,
          8.813057907394715,
          8.639989935839036,
          8.460407097373846,
          8.273930059675571,
          8.080264725792546,
          7.87920223414499,
          7.67061895852503,
          7.454476508096694,
          7.230821727395903,
          6.999786696330486,
          6.7615887301801605,
          6.516530379596548,
          6.264999430603168,
          6.007468904595439,
          5.744497058340675,
          5.476727383978095,
          5.204888609018814,
          4.929794696345845,
          4.652344844214101,
          4.373523486250391,
          4.094400291453428,
          3.8161301641938157,
          3.539953244214069,
          3.267194906628589,
          2.999265761923684,
          2.7376616559575555,
          2.4839636699603087,
          2.2398381205339444,
          2.0070365596523647,
          1.787395774661368,
          1.5828377882786513,
          1.395369858593814,
          1.2270844790683504,
          1.0801593785356567,
          0.9568575212010252,
          0.8595271066416497,
          0.7906015698066203,
          0.7525995810169281,
          0.7481250459654614,
          0.7798671057170085,
          0.8506001367082546,
          0.9631837507477873,
          1.12056279501609,
          1.3257673520655457,
          1.5819127398204331,
          1.8921995115769392,
          2.259913456003141,
          2.6884255971390103,
          3.181192194396436,
          3.7417547425591886,
          4.373739971782944,
          5.080859847595265,
          5.866911570895644,
          6.735777577955441,
          7.691425540417929,
          8.737908365298264,
          9.879364194983534,
          11.1200164072327,
          12.464173615176627,
          13.916229667318056,
          15.480663647531692,
          17.162039875064075,
          18.965007904533646,
          20.894302525930804,
          22.954743764617795,
          25.15123688132877,
          27.488772372169752,
          29.972425968618758,
          32.607358637525614,
          35.39881658111208,
          38.35213123697176,
          41.47271927807027,
          44.76608261274505,
          48.23780838470542,
          51.89356897303259,
          55.739121992179804,
          59.780310291972064,
          64.02306195760625,
          68.47339030965131,
          73.13739390404793,
          78.02125653210875
         ],
         "yaxis": "y"
        },
        {
         "marker": {
          "color": "#FF6692"
         },
         "name": "Quintic",
         "type": "scatter",
         "x": [
          -4,
          -3.9292929292929295,
          -3.8585858585858586,
          -3.787878787878788,
          -3.717171717171717,
          -3.6464646464646466,
          -3.5757575757575757,
          -3.505050505050505,
          -3.4343434343434343,
          -3.3636363636363638,
          -3.292929292929293,
          -3.2222222222222223,
          -3.1515151515151514,
          -3.080808080808081,
          -3.0101010101010104,
          -2.9393939393939394,
          -2.8686868686868685,
          -2.797979797979798,
          -2.7272727272727275,
          -2.6565656565656566,
          -2.5858585858585856,
          -2.515151515151515,
          -2.4444444444444446,
          -2.3737373737373737,
          -2.303030303030303,
          -2.2323232323232327,
          -2.1616161616161618,
          -2.090909090909091,
          -2.0202020202020203,
          -1.9494949494949494,
          -1.878787878787879,
          -1.808080808080808,
          -1.7373737373737375,
          -1.666666666666667,
          -1.595959595959596,
          -1.5252525252525255,
          -1.4545454545454546,
          -1.383838383838384,
          -1.3131313131313131,
          -1.2424242424242427,
          -1.1717171717171717,
          -1.1010101010101012,
          -1.0303030303030303,
          -0.9595959595959598,
          -0.8888888888888888,
          -0.8181818181818183,
          -0.7474747474747474,
          -0.6767676767676769,
          -0.6060606060606064,
          -0.5353535353535355,
          -0.464646464646465,
          -0.39393939393939403,
          -0.32323232323232354,
          -0.2525252525252526,
          -0.1818181818181821,
          -0.11111111111111116,
          -0.040404040404040664,
          0.030303030303030276,
          0.10101010101010122,
          0.17171717171717127,
          0.2424242424242422,
          0.31313131313131315,
          0.3838383838383841,
          0.45454545454545414,
          0.5252525252525251,
          0.595959595959596,
          0.6666666666666661,
          0.737373737373737,
          0.808080808080808,
          0.8787878787878789,
          0.949494949494949,
          1.0202020202020199,
          1.0909090909090908,
          1.1616161616161618,
          1.2323232323232318,
          1.3030303030303028,
          1.3737373737373737,
          1.4444444444444446,
          1.5151515151515147,
          1.5858585858585856,
          1.6565656565656566,
          1.7272727272727266,
          1.7979797979797976,
          1.8686868686868685,
          1.9393939393939394,
          2.0101010101010095,
          2.0808080808080804,
          2.1515151515151514,
          2.2222222222222223,
          2.2929292929292924,
          2.3636363636363633,
          2.4343434343434343,
          2.505050505050505,
          2.5757575757575752,
          2.646464646464646,
          2.717171717171717,
          2.787878787878787,
          2.858585858585858,
          2.929292929292929,
          3
         ],
         "xaxis": "x",
         "y": [
          251.6865764029161,
          220.35557016071505,
          192.1500312268288,
          166.84314188130713,
          144.21866170965177,
          124.0706893739458,
          106.20342438398073,
          90.43092886838598,
          76.5768893457548,
          64.47437849577419,
          53.96561693035158,
          44.90173496474403,
          37.142534388684844,
          30.556250237512636,
          25.019312563299245,
          20.416108205977018,
          16.6387425644674,
          13.586801367809292,
          11.167112446285918,
          9.29350750255397,
          7.886583882771012,
          6.8734663477236975,
          6.187568843955509,
          5.768356274895174,
          5.561106271984391,
          5.516670965805821,
          5.5912387572112205,
          5.746096088449454,
          5.947389214294352,
          6.165885973172825,
          6.376737558292907,
          6.559240288771639,
          6.696597380763178,
          6.7756807185867185,
          6.78679262585459,
          6.723427636600208,
          6.582034266406049,
          6.361776783531736,
          6.064296980041981,
          5.693475942934612,
          5.255195825268576,
          4.757101617291955,
          4.208362917569945,
          3.6194357041128917,
          3.0018241055042694,
          2.3678421720287153,
          1.7303756468000033,
          1.102643736889077,
          0.49796088445203024,
          -0.07050146214187136,
          -0.5899530771821799,
          -1.0482231864892824,
          -1.4339986962863698,
          -1.737062422071453,
          -1.9485313174893408,
          -2.0610947032036484,
          -2.069252495768781,
          -1.9695534365019334,
          -1.7608333203550863,
          -1.444453224787002,
          -1.024537738635204,
          -0.5082131909879941,
          0.09415411994356582,
          0.7687196979536477,
          1.4979226199696987,
          2.2602473071803946,
          3.0299852961636686,
          3.776997010014745,
          4.466473529474092,
          5.058698364055463,
          5.508809223173882,
          5.7665597872736765,
          5.776081478956456,
          5.475645234109122,
          4.797423273031892,
          3.6672508715662584,
          2.0043881322230686,
          -0.2787182446895411,
          -3.2766731899380677,
          -7.0913714942357675,
          -11.832236037114507,
          -17.616456015796707,
          -24.56922517406771,
          -32.82398003114729,
          -42.522638110561914,
          -53.81583616901656,
          -66.86316842526728,
          -81.83342478899228,
          -98.90482908966457,
          -118.26527730542357,
          -140.11257579194793,
          -164.65467951132632,
          -192.10993026093013,
          -222.70729490228507,
          -256.6866035899444,
          -294.2987880003592,
          -335.8061195607504,
          -381.4824476779837,
          -431.61343796743745,
          -486.49681048187716
         ],
         "yaxis": "y"
        },
        {
         "marker": {
          "color": "#B6E880"
         },
         "name": "Octic",
         "type": "scatter",
         "x": [
          -4,
          -3.9292929292929295,
          -3.8585858585858586,
          -3.787878787878788,
          -3.717171717171717,
          -3.6464646464646466,
          -3.5757575757575757,
          -3.505050505050505,
          -3.4343434343434343,
          -3.3636363636363638,
          -3.292929292929293,
          -3.2222222222222223,
          -3.1515151515151514,
          -3.080808080808081,
          -3.0101010101010104,
          -2.9393939393939394,
          -2.8686868686868685,
          -2.797979797979798,
          -2.7272727272727275,
          -2.6565656565656566,
          -2.5858585858585856,
          -2.515151515151515,
          -2.4444444444444446,
          -2.3737373737373737,
          -2.303030303030303,
          -2.2323232323232327,
          -2.1616161616161618,
          -2.090909090909091,
          -2.0202020202020203,
          -1.9494949494949494,
          -1.878787878787879,
          -1.808080808080808,
          -1.7373737373737375,
          -1.666666666666667,
          -1.595959595959596,
          -1.5252525252525255,
          -1.4545454545454546,
          -1.383838383838384,
          -1.3131313131313131,
          -1.2424242424242427,
          -1.1717171717171717,
          -1.1010101010101012,
          -1.0303030303030303,
          -0.9595959595959598,
          -0.8888888888888888,
          -0.8181818181818183,
          -0.7474747474747474,
          -0.6767676767676769,
          -0.6060606060606064,
          -0.5353535353535355,
          -0.464646464646465,
          -0.39393939393939403,
          -0.32323232323232354,
          -0.2525252525252526,
          -0.1818181818181821,
          -0.11111111111111116,
          -0.040404040404040664,
          0.030303030303030276,
          0.10101010101010122,
          0.17171717171717127,
          0.2424242424242422,
          0.31313131313131315,
          0.3838383838383841,
          0.45454545454545414,
          0.5252525252525251,
          0.595959595959596,
          0.6666666666666661,
          0.737373737373737,
          0.808080808080808,
          0.8787878787878789,
          0.949494949494949,
          1.0202020202020199,
          1.0909090909090908,
          1.1616161616161618,
          1.2323232323232318,
          1.3030303030303028,
          1.3737373737373737,
          1.4444444444444446,
          1.5151515151515147,
          1.5858585858585856,
          1.6565656565656566,
          1.7272727272727266,
          1.7979797979797976,
          1.8686868686868685,
          1.9393939393939394,
          2.0101010101010095,
          2.0808080808080804,
          2.1515151515151514,
          2.2222222222222223,
          2.2929292929292924,
          2.3636363636363633,
          2.4343434343434343,
          2.505050505050505,
          2.5757575757575752,
          2.646464646464646,
          2.717171717171717,
          2.787878787878787,
          2.858585858585858,
          2.929292929292929,
          3
         ],
         "xaxis": "x",
         "y": [
          -12158.148368684137,
          -9761.867435374004,
          -7776.099242724709,
          -6141.017378276911,
          -4803.997508230232,
          -3718.930430637372,
          -2845.58378548439,
          -2149.0101458777403,
          -1598.9992673243155,
          -1169.5723248544614,
          -838.5160205024746,
          -586.954496423035,
          -398.9570416871444,
          -261.179633564641,
          -162.53840686526894,
          -93.91319767430616,
          -47.87936058325396,
          -18.466111280429338,
          -0.9396991304525883,
          8.39023286374357,
          12.342690558705165,
          13.01731070585209,
          11.927766838003102,
          10.118030556195102,
          8.262867001718753,
          6.75389053378229,
          5.772453869041222,
          5.350591174803306,
          5.421182843415302,
          5.858456910980415,
          6.509889319240649,
          7.220512455094088,
          7.850588637911763,
          8.287552460447849,
          8.453073124824876,
          8.306035150726082,
          7.842183068591176,
          7.091122946275398,
          6.111320833297562,
          4.983685442456682,
          3.8042696242694447,
          2.676572425335145,
          1.7038707574029743,
          0.9819569395752339,
          0.5926056117448297,
          0.5980407530269432,
          1.036620774607897,
          1.919906892096101,
          3.2312272181231947,
          4.925796251605556,
          6.932396675739129,
          9.156577612463098,
          11.485270716790195,
          13.79267273006442,
          15.947190346868926,
          17.819190485970083,
          19.289246291345428,
          20.256516425006637,
          20.646842448990398,
          20.420096329553225,
          19.576257332268423,
          18.15964481238609,
          16.260680640479645,
          14.014502239064743,
          11.595694441539043,
          9.208355620454224,
          7.0706607677933455,
          5.393031445589889,
          4.348969760887513,
          4.03756075470104,
          4.436594830303072,
          5.345209081822276,
          6.314893619802085,
          6.567656226031495,
          4.900085905621687,
          -0.42799686003504434,
          -11.821668120124649,
          -32.49722444612856,
          -66.64817339777198,
          -119.63241371692186,
          -198.18218126747763,
          -310.6383895036487,
          -467.21104601334935,
          -680.2674794477542,
          -964.6501639124418,
          -1338.025980659838,
          -1821.2688096870763,
          -2438.877396607611,
          -3219.430492929428,
          -4196.0813206368575,
          -5407.093464737523,
          -6896.4203502,
          -8714.330512472508,
          -10918.080923536896,
          -13572.64068821691,
          -16751.467478223454,
          -20537.33912418476,
          -25023.24283867316,
          -30313.324596004037,
          -36523.90124734833
         ],
         "yaxis": "y"
        },
        {
         "marker": {
          "color": "#636EFA"
         },
         "name": "Training Error",
         "type": "bar",
         "x": [
          "Linear in X",
          "Quadratic",
          "Cubic",
          "Quartic",
          "Quintic",
          "Octic"
         ],
         "xaxis": "x2",
         "y": [
          2.272965710209297,
          1.3646273702703906,
          1.1528916542943797,
          1.1445074375807343,
          0.7148394938839464,
          6.102130856184464e-12
         ],
         "yaxis": "y2"
        },
        {
         "marker": {
          "color": "#EF553B"
         },
         "name": "Testing Error",
         "type": "bar",
         "x": [
          "Linear in X",
          "Quadratic",
          "Cubic",
          "Quartic",
          "Quintic",
          "Octic"
         ],
         "xaxis": "x2",
         "y": [
          3.9687111964528303,
          1.8446139817962521,
          2.42974676695312,
          3.3837855647687465,
          10.911976778735008,
          155.54317326693385
         ],
         "yaxis": "y2"
        }
       ],
       "layout": {
        "template": {
         "data": {
          "bar": [
           {
            "error_x": {
             "color": "#2a3f5f"
            },
            "error_y": {
             "color": "#2a3f5f"
            },
            "marker": {
             "line": {
              "color": "#E5ECF6",
              "width": 0.5
             },
             "pattern": {
              "fillmode": "overlay",
              "size": 10,
              "solidity": 0.2
             }
            },
            "type": "bar"
           }
          ],
          "barpolar": [
           {
            "marker": {
             "line": {
              "color": "#E5ECF6",
              "width": 0.5
             },
             "pattern": {
              "fillmode": "overlay",
              "size": 10,
              "solidity": 0.2
             }
            },
            "type": "barpolar"
           }
          ],
          "carpet": [
           {
            "aaxis": {
             "endlinecolor": "#2a3f5f",
             "gridcolor": "white",
             "linecolor": "white",
             "minorgridcolor": "white",
             "startlinecolor": "#2a3f5f"
            },
            "baxis": {
             "endlinecolor": "#2a3f5f",
             "gridcolor": "white",
             "linecolor": "white",
             "minorgridcolor": "white",
             "startlinecolor": "#2a3f5f"
            },
            "type": "carpet"
           }
          ],
          "choropleth": [
           {
            "colorbar": {
             "outlinewidth": 0,
             "ticks": ""
            },
            "type": "choropleth"
           }
          ],
          "contour": [
           {
            "colorbar": {
             "outlinewidth": 0,
             "ticks": ""
            },
            "colorscale": [
             [
              0,
              "#0d0887"
             ],
             [
              0.1111111111111111,
              "#46039f"
             ],
             [
              0.2222222222222222,
              "#7201a8"
             ],
             [
              0.3333333333333333,
              "#9c179e"
             ],
             [
              0.4444444444444444,
              "#bd3786"
             ],
             [
              0.5555555555555556,
              "#d8576b"
             ],
             [
              0.6666666666666666,
              "#ed7953"
             ],
             [
              0.7777777777777778,
              "#fb9f3a"
             ],
             [
              0.8888888888888888,
              "#fdca26"
             ],
             [
              1,
              "#f0f921"
             ]
            ],
            "type": "contour"
           }
          ],
          "contourcarpet": [
           {
            "colorbar": {
             "outlinewidth": 0,
             "ticks": ""
            },
            "type": "contourcarpet"
           }
          ],
          "heatmap": [
           {
            "colorbar": {
             "outlinewidth": 0,
             "ticks": ""
            },
            "colorscale": [
             [
              0,
              "#0d0887"
             ],
             [
              0.1111111111111111,
              "#46039f"
             ],
             [
              0.2222222222222222,
              "#7201a8"
             ],
             [
              0.3333333333333333,
              "#9c179e"
             ],
             [
              0.4444444444444444,
              "#bd3786"
             ],
             [
              0.5555555555555556,
              "#d8576b"
             ],
             [
              0.6666666666666666,
              "#ed7953"
             ],
             [
              0.7777777777777778,
              "#fb9f3a"
             ],
             [
              0.8888888888888888,
              "#fdca26"
             ],
             [
              1,
              "#f0f921"
             ]
            ],
            "type": "heatmap"
           }
          ],
          "heatmapgl": [
           {
            "colorbar": {
             "outlinewidth": 0,
             "ticks": ""
            },
            "colorscale": [
             [
              0,
              "#0d0887"
             ],
             [
              0.1111111111111111,
              "#46039f"
             ],
             [
              0.2222222222222222,
              "#7201a8"
             ],
             [
              0.3333333333333333,
              "#9c179e"
             ],
             [
              0.4444444444444444,
              "#bd3786"
             ],
             [
              0.5555555555555556,
              "#d8576b"
             ],
             [
              0.6666666666666666,
              "#ed7953"
             ],
             [
              0.7777777777777778,
              "#fb9f3a"
             ],
             [
              0.8888888888888888,
              "#fdca26"
             ],
             [
              1,
              "#f0f921"
             ]
            ],
            "type": "heatmapgl"
           }
          ],
          "histogram": [
           {
            "marker": {
             "pattern": {
              "fillmode": "overlay",
              "size": 10,
              "solidity": 0.2
             }
            },
            "type": "histogram"
           }
          ],
          "histogram2d": [
           {
            "colorbar": {
             "outlinewidth": 0,
             "ticks": ""
            },
            "colorscale": [
             [
              0,
              "#0d0887"
             ],
             [
              0.1111111111111111,
              "#46039f"
             ],
             [
              0.2222222222222222,
              "#7201a8"
             ],
             [
              0.3333333333333333,
              "#9c179e"
             ],
             [
              0.4444444444444444,
              "#bd3786"
             ],
             [
              0.5555555555555556,
              "#d8576b"
             ],
             [
              0.6666666666666666,
              "#ed7953"
             ],
             [
              0.7777777777777778,
              "#fb9f3a"
             ],
             [
              0.8888888888888888,
              "#fdca26"
             ],
             [
              1,
              "#f0f921"
             ]
            ],
            "type": "histogram2d"
           }
          ],
          "histogram2dcontour": [
           {
            "colorbar": {
             "outlinewidth": 0,
             "ticks": ""
            },
            "colorscale": [
             [
              0,
              "#0d0887"
             ],
             [
              0.1111111111111111,
              "#46039f"
             ],
             [
              0.2222222222222222,
              "#7201a8"
             ],
             [
              0.3333333333333333,
              "#9c179e"
             ],
             [
              0.4444444444444444,
              "#bd3786"
             ],
             [
              0.5555555555555556,
              "#d8576b"
             ],
             [
              0.6666666666666666,
              "#ed7953"
             ],
             [
              0.7777777777777778,
              "#fb9f3a"
             ],
             [
              0.8888888888888888,
              "#fdca26"
             ],
             [
              1,
              "#f0f921"
             ]
            ],
            "type": "histogram2dcontour"
           }
          ],
          "mesh3d": [
           {
            "colorbar": {
             "outlinewidth": 0,
             "ticks": ""
            },
            "type": "mesh3d"
           }
          ],
          "parcoords": [
           {
            "line": {
             "colorbar": {
              "outlinewidth": 0,
              "ticks": ""
             }
            },
            "type": "parcoords"
           }
          ],
          "pie": [
           {
            "automargin": true,
            "type": "pie"
           }
          ],
          "scatter": [
           {
            "marker": {
             "colorbar": {
              "outlinewidth": 0,
              "ticks": ""
             }
            },
            "type": "scatter"
           }
          ],
          "scatter3d": [
           {
            "line": {
             "colorbar": {
              "outlinewidth": 0,
              "ticks": ""
             }
            },
            "marker": {
             "colorbar": {
              "outlinewidth": 0,
              "ticks": ""
             }
            },
            "type": "scatter3d"
           }
          ],
          "scattercarpet": [
           {
            "marker": {
             "colorbar": {
              "outlinewidth": 0,
              "ticks": ""
             }
            },
            "type": "scattercarpet"
           }
          ],
          "scattergeo": [
           {
            "marker": {
             "colorbar": {
              "outlinewidth": 0,
              "ticks": ""
             }
            },
            "type": "scattergeo"
           }
          ],
          "scattergl": [
           {
            "marker": {
             "colorbar": {
              "outlinewidth": 0,
              "ticks": ""
             }
            },
            "type": "scattergl"
           }
          ],
          "scattermapbox": [
           {
            "marker": {
             "colorbar": {
              "outlinewidth": 0,
              "ticks": ""
             }
            },
            "type": "scattermapbox"
           }
          ],
          "scatterpolar": [
           {
            "marker": {
             "colorbar": {
              "outlinewidth": 0,
              "ticks": ""
             }
            },
            "type": "scatterpolar"
           }
          ],
          "scatterpolargl": [
           {
            "marker": {
             "colorbar": {
              "outlinewidth": 0,
              "ticks": ""
             }
            },
            "type": "scatterpolargl"
           }
          ],
          "scatterternary": [
           {
            "marker": {
             "colorbar": {
              "outlinewidth": 0,
              "ticks": ""
             }
            },
            "type": "scatterternary"
           }
          ],
          "surface": [
           {
            "colorbar": {
             "outlinewidth": 0,
             "ticks": ""
            },
            "colorscale": [
             [
              0,
              "#0d0887"
             ],
             [
              0.1111111111111111,
              "#46039f"
             ],
             [
              0.2222222222222222,
              "#7201a8"
             ],
             [
              0.3333333333333333,
              "#9c179e"
             ],
             [
              0.4444444444444444,
              "#bd3786"
             ],
             [
              0.5555555555555556,
              "#d8576b"
             ],
             [
              0.6666666666666666,
              "#ed7953"
             ],
             [
              0.7777777777777778,
              "#fb9f3a"
             ],
             [
              0.8888888888888888,
              "#fdca26"
             ],
             [
              1,
              "#f0f921"
             ]
            ],
            "type": "surface"
           }
          ],
          "table": [
           {
            "cells": {
             "fill": {
              "color": "#EBF0F8"
             },
             "line": {
              "color": "white"
             }
            },
            "header": {
             "fill": {
              "color": "#C8D4E3"
             },
             "line": {
              "color": "white"
             }
            },
            "type": "table"
           }
          ]
         },
         "layout": {
          "annotationdefaults": {
           "arrowcolor": "#2a3f5f",
           "arrowhead": 0,
           "arrowwidth": 1
          },
          "autotypenumbers": "strict",
          "coloraxis": {
           "colorbar": {
            "outlinewidth": 0,
            "ticks": ""
           }
          },
          "colorscale": {
           "diverging": [
            [
             0,
             "#8e0152"
            ],
            [
             0.1,
             "#c51b7d"
            ],
            [
             0.2,
             "#de77ae"
            ],
            [
             0.3,
             "#f1b6da"
            ],
            [
             0.4,
             "#fde0ef"
            ],
            [
             0.5,
             "#f7f7f7"
            ],
            [
             0.6,
             "#e6f5d0"
            ],
            [
             0.7,
             "#b8e186"
            ],
            [
             0.8,
             "#7fbc41"
            ],
            [
             0.9,
             "#4d9221"
            ],
            [
             1,
             "#276419"
            ]
           ],
           "sequential": [
            [
             0,
             "#0d0887"
            ],
            [
             0.1111111111111111,
             "#46039f"
            ],
            [
             0.2222222222222222,
             "#7201a8"
            ],
            [
             0.3333333333333333,
             "#9c179e"
            ],
            [
             0.4444444444444444,
             "#bd3786"
            ],
            [
             0.5555555555555556,
             "#d8576b"
            ],
            [
             0.6666666666666666,
             "#ed7953"
            ],
            [
             0.7777777777777778,
             "#fb9f3a"
            ],
            [
             0.8888888888888888,
             "#fdca26"
            ],
            [
             1,
             "#f0f921"
            ]
           ],
           "sequentialminus": [
            [
             0,
             "#0d0887"
            ],
            [
             0.1111111111111111,
             "#46039f"
            ],
            [
             0.2222222222222222,
             "#7201a8"
            ],
            [
             0.3333333333333333,
             "#9c179e"
            ],
            [
             0.4444444444444444,
             "#bd3786"
            ],
            [
             0.5555555555555556,
             "#d8576b"
            ],
            [
             0.6666666666666666,
             "#ed7953"
            ],
            [
             0.7777777777777778,
             "#fb9f3a"
            ],
            [
             0.8888888888888888,
             "#fdca26"
            ],
            [
             1,
             "#f0f921"
            ]
           ]
          },
          "colorway": [
           "#636efa",
           "#EF553B",
           "#00cc96",
           "#ab63fa",
           "#FFA15A",
           "#19d3f3",
           "#FF6692",
           "#B6E880",
           "#FF97FF",
           "#FECB52"
          ],
          "font": {
           "color": "#2a3f5f"
          },
          "geo": {
           "bgcolor": "white",
           "lakecolor": "white",
           "landcolor": "#E5ECF6",
           "showlakes": true,
           "showland": true,
           "subunitcolor": "white"
          },
          "hoverlabel": {
           "align": "left"
          },
          "hovermode": "closest",
          "mapbox": {
           "style": "light"
          },
          "paper_bgcolor": "white",
          "plot_bgcolor": "#E5ECF6",
          "polar": {
           "angularaxis": {
            "gridcolor": "white",
            "linecolor": "white",
            "ticks": ""
           },
           "bgcolor": "#E5ECF6",
           "radialaxis": {
            "gridcolor": "white",
            "linecolor": "white",
            "ticks": ""
           }
          },
          "scene": {
           "xaxis": {
            "backgroundcolor": "#E5ECF6",
            "gridcolor": "white",
            "gridwidth": 2,
            "linecolor": "white",
            "showbackground": true,
            "ticks": "",
            "zerolinecolor": "white"
           },
           "yaxis": {
            "backgroundcolor": "#E5ECF6",
            "gridcolor": "white",
            "gridwidth": 2,
            "linecolor": "white",
            "showbackground": true,
            "ticks": "",
            "zerolinecolor": "white"
           },
           "zaxis": {
            "backgroundcolor": "#E5ECF6",
            "gridcolor": "white",
            "gridwidth": 2,
            "linecolor": "white",
            "showbackground": true,
            "ticks": "",
            "zerolinecolor": "white"
           }
          },
          "shapedefaults": {
           "line": {
            "color": "#2a3f5f"
           }
          },
          "ternary": {
           "aaxis": {
            "gridcolor": "white",
            "linecolor": "white",
            "ticks": ""
           },
           "baxis": {
            "gridcolor": "white",
            "linecolor": "white",
            "ticks": ""
           },
           "bgcolor": "#E5ECF6",
           "caxis": {
            "gridcolor": "white",
            "linecolor": "white",
            "ticks": ""
           }
          },
          "title": {
           "x": 0.05
          },
          "xaxis": {
           "automargin": true,
           "gridcolor": "white",
           "linecolor": "white",
           "ticks": "",
           "title": {
            "standoff": 15
           },
           "zerolinecolor": "white",
           "zerolinewidth": 2
          },
          "yaxis": {
           "automargin": true,
           "gridcolor": "white",
           "linecolor": "white",
           "ticks": "",
           "title": {
            "standoff": 15
           },
           "zerolinecolor": "white",
           "zerolinewidth": 2
          }
         }
        },
        "xaxis": {
         "anchor": "y",
         "domain": [
          0,
          0.45
         ],
         "title": {
          "text": "X"
         }
        },
        "xaxis2": {
         "anchor": "y2",
         "domain": [
          0.55,
          1
         ]
        },
        "yaxis": {
         "anchor": "x",
         "domain": [
          0,
          1
         ],
         "range": [
          0,
          10
         ],
         "title": {
          "text": "Y"
         }
        },
        "yaxis2": {
         "anchor": "x2",
         "domain": [
          0,
          1
         ],
         "title": {
          "text": "RMSE"
         }
        }
       }
      },
      "text/html": [
       "<div>                            <div id=\"97f0516d-c477-4a50-abb9-c73864531cdf\" class=\"plotly-graph-div\" style=\"height:525px; width:100%;\"></div>            <script type=\"text/javascript\">                require([\"plotly\"], function(Plotly) {                    window.PLOTLYENV=window.PLOTLYENV || {};                                    if (document.getElementById(\"97f0516d-c477-4a50-abb9-c73864531cdf\")) {                    Plotly.newPlot(                        \"97f0516d-c477-4a50-abb9-c73864531cdf\",                        [{\"marker\":{\"color\":\"#636EFA\"},\"mode\":\"markers\",\"name\":\"data\",\"x\":[-2.6475819924330954,-2.0515469334036016,-1.8106646981606496,-1.312076282905776,-0.7895905078629929,-0.6609638446178359,0.8061481540360957,1.054879683024077],\"y\":[9.14045169318176,5.336237325257329,7.195181491514598,6.095357781703495,0.7219468779966638,2.177008172349038,4.367994079777328,5.852681713200849],\"type\":\"scatter\",\"xaxis\":\"x\",\"yaxis\":\"y\"},{\"marker\":{\"color\":\"#EF553B\",\"symbol\":\"cross\"},\"mode\":\"markers\",\"name\":\"Test Data\",\"x\":[-2.972389414381988,-2.897077528520988,-2.872904366279524,-2.828057394423908,-2.7738635554473103,-2.7677479364000117,-2.7095819391590026,-2.6822082485698817,-2.6747420350736024,-2.6297767413295485,-2.627246781601146,-2.5575374897404024,-2.5116394299680804,-2.460542865033478,-2.4206547023743514,-2.4020287703084917,-2.3898088257761056,-2.3025306967397907,-2.295378875126187,-2.2200273983189867,-2.219906797787817,-2.1473793815635425,-2.0908751639644967,-2.082977450732831,-2.0757277223723647,-2.0200856879042743,-2.006421592329138,-2.001631089208201,-1.9383044466086192,-1.7061000919999154,-1.6432548411305206,-1.5953274515630962,-1.5438542990097903,-1.5392767573239092,-1.4787887852023114,-1.476931154133147,-1.445088391421689,-1.4414446195529451,-1.3740833898662648,-1.3733483461836782,-1.3455098757367543,-1.2162333665320535,-1.2076713572786368,-1.1681907835315417,-1.1272994057631875,-1.0566135515525898,-0.8622949082072521,-0.8402749067894213,-0.7992375313019933,-0.7196500789148201,-0.6389253741902534,-0.5310220181780463,-0.5241154494436491,-0.42882780793194186,-0.3996598941109459,-0.3863358530900296,-0.3762178418388107,-0.2865195842087576,-0.26644860328360176,-0.19361401215251872,-0.03792715568978755,-0.0105001059445744,-0.006707579014816999,0.005575058716043913,0.0377242595071916,0.05926447361189746,0.1164906341377896,0.18778735677606573,0.3126114217699101,0.4211651325607844,0.5342867192380858,0.5403628889802272,0.5662239361149748,0.6450358402049368,0.6480308916903201,0.6599697090570253,0.8039252430844872,0.8548358997728052,0.8563517334297286,0.8612238464832869,0.8756641168055728,0.9258798069650682,1.0109849037701988,1.0419867405823051,1.0773071422741705,1.1436875457596472,1.1622132040021091,1.3155171293779675,1.3308807288746758,1.4360637128816327,1.4741367521382438,1.5466020103939109,1.6093711751155837,1.6974947078209457,1.7444276862666666,1.7535715320495804,1.8281601653727968,1.847923138822793,1.8495492608099715,1.9344346830025865],\"y\":[12.829875314582026,11.633152534921534,11.871463194859464,8.954619765942603,10.577304672177947,11.213896491907118,12.037977545405136,9.402141418324485,8.988813514760324,8.969789483515175,10.648840280907358,9.361422374966097,7.957674147884162,8.803377571003383,7.994322030723066,8.89780087480193,6.800291083309704,6.605039249461149,6.476240826740156,4.6607705641774215,6.7715031186309815,6.240983980217226,5.567903722609082,5.23013065900705,3.767390819645104,4.616546609824387,4.6273546078387895,4.047059133087277,4.4438965082690425,3.894215892021855,5.37748634498938,3.10897782769362,2.9883240639897584,2.5708572577079987,0.11352951371678355,2.3769723092927832,2.3586603871293037,5.228526478352722,1.7972103871428542,2.3873314783638664,1.8881197762904705,0.12356682552423948,2.8729848772432005,2.2952774856171203,2.2362474253933526,0.02837234579028847,2.4458683741491214,-0.9506472509696384,1.3833147128397472,3.2250390653065475,-0.6500430709690221,-0.17763254429964814,0.6207447479089078,-0.09403982309189383,-1.340659843579706,0.6081146463527756,-0.7441204111132425,1.1594586926150214,-0.4942165712642028,2.5476660331196013,-0.012881323905624796,0.5927464731137351,1.9628954860464496,-0.4658248997292838,1.3512466800500702,2.6941248080276994,-0.668858477514245,1.667663526520779,2.1325339986799383,3.1352778490242272,1.1551571821308677,1.0801619458334375,3.399996842629297,3.4785957585874736,3.4365412769655954,3.6067973032560503,3.084412413211689,4.449865067219577,4.5310670175140775,3.3486390188378685,6.52383293790662,5.134865952915625,3.636586562199695,6.04331054662388,4.306177637865435,6.847919020661688,7.416220165926798,6.107386112107581,8.360299841822515,8.492022512997824,9.280904024279256,11.15331115708153,9.104427769613553,9.253482584573137,9.507493962210058,9.67819695817006,11.248137459960454,11.934868501418928,11.87279241714139,13.345564350455037],\"type\":\"scatter\",\"xaxis\":\"x\",\"yaxis\":\"y\"},{\"marker\":{\"color\":\"#00CC96\"},\"name\":\"Linear in X\",\"x\":[-4.0,-3.9292929292929295,-3.8585858585858586,-3.787878787878788,-3.717171717171717,-3.6464646464646466,-3.5757575757575757,-3.505050505050505,-3.4343434343434343,-3.3636363636363638,-3.292929292929293,-3.2222222222222223,-3.1515151515151514,-3.080808080808081,-3.0101010101010104,-2.9393939393939394,-2.8686868686868685,-2.797979797979798,-2.7272727272727275,-2.6565656565656566,-2.5858585858585856,-2.515151515151515,-2.4444444444444446,-2.3737373737373737,-2.303030303030303,-2.2323232323232327,-2.1616161616161618,-2.090909090909091,-2.0202020202020203,-1.9494949494949494,-1.878787878787879,-1.808080808080808,-1.7373737373737375,-1.666666666666667,-1.595959595959596,-1.5252525252525255,-1.4545454545454546,-1.383838383838384,-1.3131313131313131,-1.2424242424242427,-1.1717171717171717,-1.1010101010101012,-1.0303030303030303,-0.9595959595959598,-0.8888888888888888,-0.8181818181818183,-0.7474747474747474,-0.6767676767676769,-0.6060606060606064,-0.5353535353535355,-0.464646464646465,-0.39393939393939403,-0.32323232323232354,-0.2525252525252526,-0.1818181818181821,-0.11111111111111116,-0.040404040404040664,0.030303030303030276,0.10101010101010122,0.17171717171717127,0.2424242424242422,0.31313131313131315,0.3838383838383841,0.45454545454545414,0.5252525252525251,0.595959595959596,0.6666666666666661,0.737373737373737,0.808080808080808,0.8787878787878789,0.949494949494949,1.0202020202020199,1.0909090909090908,1.1616161616161618,1.2323232323232318,1.3030303030303028,1.3737373737373737,1.4444444444444446,1.5151515151515147,1.5858585858585856,1.6565656565656566,1.7272727272727266,1.7979797979797976,1.8686868686868685,1.9393939393939394,2.0101010101010095,2.0808080808080804,2.1515151515151514,2.2222222222222223,2.2929292929292924,2.3636363636363633,2.4343434343434343,2.505050505050505,2.5757575757575752,2.646464646464646,2.717171717171717,2.787878787878787,2.858585858585858,2.929292929292929,3.0],\"y\":[7.788875137272887,7.7272678029708395,7.66566046866879,7.604053134366742,7.5424458000646935,7.480838465762645,7.419231131460596,7.357623797158547,7.296016462856499,7.23440912855445,7.172801794252402,7.111194459950353,7.049587125648305,6.987979791346255,6.926372457044208,6.864765122742159,6.80315778844011,6.7415504541380615,6.679943119836013,6.618335785533964,6.5567284512319155,6.495121116929868,6.433513782627818,6.37190644832577,6.310299114023722,6.248691779721673,6.187084445419624,6.125477111117576,6.063869776815527,6.002262442513478,5.94065510821143,5.879047773909381,5.817440439607333,5.7558331053052845,5.694225771003236,5.632618436701187,5.571011102399138,5.50940376809709,5.447796433795041,5.386189099492992,5.324581765190944,5.262974430888895,5.201367096586846,5.139759762284799,5.078152427982749,5.016545093680701,4.954937759378652,4.893330425076604,4.831723090774555,4.7701157564725065,4.708508422170458,4.646901087868409,4.5852937535663605,4.523686419264312,4.462079084962264,4.4004717506602145,4.338864416358167,4.277257082056118,4.215649747754069,4.154042413452021,4.092435079149972,4.030827744847923,3.9692204105458746,3.9076130762438264,3.8460057419417777,3.7843984076397286,3.722791073337681,3.661183739035632,3.5995764047335834,3.5379690704315343,3.476361736129486,3.4147544018274374,3.3531470675253887,3.29153973322334,3.2299323989212922,3.168325064619243,3.106717730317194,3.0451103960151453,2.9835030617130975,2.921895727411049,2.860288393109,2.798681058806952,2.737073724504903,2.675466390202854,2.6138590559008055,2.5522517215987577,2.4906443872967086,2.42903705299466,2.3674297186926108,2.305822384390563,2.2442150500885143,2.182607715786465,2.1210003814844165,2.0593930471823687,1.9977857128803196,1.936178378578271,1.8745710442762231,1.812963709974174,1.7513563756721253,1.6897490413700766],\"type\":\"scatter\",\"xaxis\":\"x\",\"yaxis\":\"y\"},{\"marker\":{\"color\":\"#AB63FA\"},\"name\":\"Quadratic\",\"x\":[-4.0,-3.9292929292929295,-3.8585858585858586,-3.787878787878788,-3.717171717171717,-3.6464646464646466,-3.5757575757575757,-3.505050505050505,-3.4343434343434343,-3.3636363636363638,-3.292929292929293,-3.2222222222222223,-3.1515151515151514,-3.080808080808081,-3.0101010101010104,-2.9393939393939394,-2.8686868686868685,-2.797979797979798,-2.7272727272727275,-2.6565656565656566,-2.5858585858585856,-2.515151515151515,-2.4444444444444446,-2.3737373737373737,-2.303030303030303,-2.2323232323232327,-2.1616161616161618,-2.090909090909091,-2.0202020202020203,-1.9494949494949494,-1.878787878787879,-1.808080808080808,-1.7373737373737375,-1.666666666666667,-1.595959595959596,-1.5252525252525255,-1.4545454545454546,-1.383838383838384,-1.3131313131313131,-1.2424242424242427,-1.1717171717171717,-1.1010101010101012,-1.0303030303030303,-0.9595959595959598,-0.8888888888888888,-0.8181818181818183,-0.7474747474747474,-0.6767676767676769,-0.6060606060606064,-0.5353535353535355,-0.464646464646465,-0.39393939393939403,-0.32323232323232354,-0.2525252525252526,-0.1818181818181821,-0.11111111111111116,-0.040404040404040664,0.030303030303030276,0.10101010101010122,0.17171717171717127,0.2424242424242422,0.31313131313131315,0.3838383838383841,0.45454545454545414,0.5252525252525251,0.595959595959596,0.6666666666666661,0.737373737373737,0.808080808080808,0.8787878787878789,0.949494949494949,1.0202020202020199,1.0909090909090908,1.1616161616161618,1.2323232323232318,1.3030303030303028,1.3737373737373737,1.4444444444444446,1.5151515151515147,1.5858585858585856,1.6565656565656566,1.7272727272727266,1.7979797979797976,1.8686868686868685,1.9393939393939394,2.0101010101010095,2.0808080808080804,2.1515151515151514,2.2222222222222223,2.2929292929292924,2.3636363636363633,2.4343434343434343,2.505050505050505,2.5757575757575752,2.646464646464646,2.717171717171717,2.787878787878787,2.858585858585858,2.929292929292929,3.0],\"y\":[20.56852383190872,19.87561789999593,19.196348107905802,18.53071445563833,17.878716943193517,17.240355570571374,16.615630337771883,16.004541244795057,15.407088291640889,14.823271478309383,14.25309080480054,13.696546271114357,13.153637877250834,12.624365623209972,12.108729508991768,11.60672953459623,11.11836570002335,10.643638005273132,10.182546450345573,9.735091035240675,9.301271759958437,8.881088624498862,8.47454162886195,8.081630773047692,7.702356057056101,7.336717480887169,6.984715044540896,6.646348748017284,6.321618591316335,6.010524574438044,5.713066697382417,5.429244960149449,5.159059362739143,4.902509905151497,4.6595965873865115,4.430319409444187,4.214678371324522,4.012673473027521,3.8243047145531777,3.6495720959014966,3.4884756170724756,3.3410152780661164,3.207191078882417,3.0870030195213793,2.980451099983002,2.8875353202672853,2.8082556803742293,2.742612180303835,2.690604820056101,2.6522335996310273,2.627498519028615,2.616399578248863,2.618936777291772,2.635110116157342,2.664919594845572,2.708365213356464,2.765446971690016,2.8361648698462294,2.9205189078251035,3.0185090856266372,3.130135403250833,3.25539786069769,3.3942964579672075,3.546831195059384,3.713002071974223,3.892809088711723,4.086252245271881,4.2933315416547035,4.514046977860186,4.748398553888329,4.99638626973913,5.2580101254125955,5.533270120908721,5.822166256227508,6.124698531368952,6.440866946333061,6.77067150111983,7.11411219572926,7.471189030161347,7.841902004416099,8.226251118493511,8.624236372393579,9.035857766116315,9.46111529966171,9.900008973029767,10.352538786220476,10.818704739233855,11.298506832069894,11.791945064728594,12.299019437209946,12.819729949513967,13.35407660164065,13.902059393589994,14.46367832536199,15.038933396956654,15.627824608373977,16.23035195961396,16.846515450676605,17.476315081561914,18.11975085226988],\"type\":\"scatter\",\"xaxis\":\"x\",\"yaxis\":\"y\"},{\"marker\":{\"color\":\"#FFA15A\"},\"name\":\"Cubic\",\"x\":[-4.0,-3.9292929292929295,-3.8585858585858586,-3.787878787878788,-3.717171717171717,-3.6464646464646466,-3.5757575757575757,-3.505050505050505,-3.4343434343434343,-3.3636363636363638,-3.292929292929293,-3.2222222222222223,-3.1515151515151514,-3.080808080808081,-3.0101010101010104,-2.9393939393939394,-2.8686868686868685,-2.797979797979798,-2.7272727272727275,-2.6565656565656566,-2.5858585858585856,-2.515151515151515,-2.4444444444444446,-2.3737373737373737,-2.303030303030303,-2.2323232323232327,-2.1616161616161618,-2.090909090909091,-2.0202020202020203,-1.9494949494949494,-1.878787878787879,-1.808080808080808,-1.7373737373737375,-1.666666666666667,-1.595959595959596,-1.5252525252525255,-1.4545454545454546,-1.383838383838384,-1.3131313131313131,-1.2424242424242427,-1.1717171717171717,-1.1010101010101012,-1.0303030303030303,-0.9595959595959598,-0.8888888888888888,-0.8181818181818183,-0.7474747474747474,-0.6767676767676769,-0.6060606060606064,-0.5353535353535355,-0.464646464646465,-0.39393939393939403,-0.32323232323232354,-0.2525252525252526,-0.1818181818181821,-0.11111111111111116,-0.040404040404040664,0.030303030303030276,0.10101010101010122,0.17171717171717127,0.2424242424242422,0.31313131313131315,0.3838383838383841,0.45454545454545414,0.5252525252525251,0.595959595959596,0.6666666666666661,0.737373737373737,0.808080808080808,0.8787878787878789,0.949494949494949,1.0202020202020199,1.0909090909090908,1.1616161616161618,1.2323232323232318,1.3030303030303028,1.3737373737373737,1.4444444444444446,1.5151515151515147,1.5858585858585856,1.6565656565656566,1.7272727272727266,1.7979797979797976,1.8686868686868685,1.9393939393939394,2.0101010101010095,2.0808080808080804,2.1515151515151514,2.2222222222222223,2.2929292929292924,2.3636363636363633,2.4343434343434343,2.505050505050505,2.5757575757575752,2.646464646464646,2.717171717171717,2.787878787878787,2.858585858585858,2.929292929292929,3.0],\"y\":[3.82856261735002,4.490383877491343,5.098535601482151,5.654562796986088,6.160010471666848,6.6164236331880595,7.025347289213396,7.388326447406548,7.706906115431142,7.982631300950857,8.217047011629354,8.4116982551303,8.56813003911735,8.687887371254167,8.772515259204425,8.823558710631783,8.842562733199905,8.831072334572443,8.79063252241307,8.72278830438545,8.629084688153238,8.511066681380107,8.370279291729712,8.208267526865718,8.026576394451796,7.826750902151598,7.610336057628792,7.3788768685470405,7.133918342570009,6.877005487361355,6.609683310584747,6.333496819903845,6.049991022982317,5.760710927483818,5.467201541072015,5.171007871410573,4.873674926163151,4.576747712993418,4.281771239565031,3.990290513541656,3.703850542586956,3.4239963343645945,3.1522728965382325,2.8902252367715358,2.639398362728164,2.4013372820717844,2.177587002466056,1.9696925315746454,1.7791988770612142,1.6076510465894243,1.4565940478229402,1.3275728884254243,1.2221325760605404,1.1418181183919507,1.0881745230833193,1.0627467977983083,1.0670799502005812,1.102718987953801,1.1712089187216315,1.2740947501677335,1.4129214899557732,1.5892341457494121,1.8045777252123139,2.0604972360081377,2.358537685800553,2.7002440822532208,3.0871614330297974,3.520834745793957,4.002809028209358,4.534629287939663,5.117840532648528,5.75398776999963,6.4446160076566255,7.191270253283177,7.995495514542938,8.858836799099592,9.78283911461679,10.769047468758197,11.819006869187465,12.934262323568278,14.116358839564292,15.366841424839151,16.68725508705655,18.079144833880132,19.544055672973567,21.083532612000493,22.69912065862462,24.39236482050958,26.16481010531905,28.018001520716656,29.953484074366116,31.972802773931072,34.07750262707518,36.269128641462075,38.54922582475548,40.919339184619034,43.381013728716354,45.93579446471118,48.585226400267146,51.330854543047906],\"type\":\"scatter\",\"xaxis\":\"x\",\"yaxis\":\"y\"},{\"marker\":{\"color\":\"#19D3F3\"},\"name\":\"Quartic\",\"x\":[-4.0,-3.9292929292929295,-3.8585858585858586,-3.787878787878788,-3.717171717171717,-3.6464646464646466,-3.5757575757575757,-3.505050505050505,-3.4343434343434343,-3.3636363636363638,-3.292929292929293,-3.2222222222222223,-3.1515151515151514,-3.080808080808081,-3.0101010101010104,-2.9393939393939394,-2.8686868686868685,-2.797979797979798,-2.7272727272727275,-2.6565656565656566,-2.5858585858585856,-2.515151515151515,-2.4444444444444446,-2.3737373737373737,-2.303030303030303,-2.2323232323232327,-2.1616161616161618,-2.090909090909091,-2.0202020202020203,-1.9494949494949494,-1.878787878787879,-1.808080808080808,-1.7373737373737375,-1.666666666666667,-1.595959595959596,-1.5252525252525255,-1.4545454545454546,-1.383838383838384,-1.3131313131313131,-1.2424242424242427,-1.1717171717171717,-1.1010101010101012,-1.0303030303030303,-0.9595959595959598,-0.8888888888888888,-0.8181818181818183,-0.7474747474747474,-0.6767676767676769,-0.6060606060606064,-0.5353535353535355,-0.464646464646465,-0.39393939393939403,-0.32323232323232354,-0.2525252525252526,-0.1818181818181821,-0.11111111111111116,-0.040404040404040664,0.030303030303030276,0.10101010101010122,0.17171717171717127,0.2424242424242422,0.31313131313131315,0.3838383838383841,0.45454545454545414,0.5252525252525251,0.595959595959596,0.6666666666666661,0.737373737373737,0.808080808080808,0.8787878787878789,0.949494949494949,1.0202020202020199,1.0909090909090908,1.1616161616161618,1.2323232323232318,1.3030303030303028,1.3737373737373737,1.4444444444444446,1.5151515151515147,1.5858585858585856,1.6565656565656566,1.7272727272727266,1.7979797979797976,1.8686868686868685,1.9393939393939394,2.0101010101010095,2.0808080808080804,2.1515151515151514,2.2222222222222223,2.2929292929292924,2.3636363636363633,2.4343434343434343,2.505050505050505,2.5757575757575752,2.646464646464646,2.717171717171717,2.787878787878787,2.858585858585858,2.929292929292929,3.0],\"y\":[11.991533389932819,11.75681170355417,11.538977185074621,11.336031030104515,11.146059669626105,10.967234769993553,10.797813232932882,10.636137195542055,10.480634030290915,10.329816345021225,10.182281982946591,10.036714022652596,9.891880778096663,9.746635798608125,9.599917868888234,9.45075100901012,9.298244474418837,9.141592755931295,8.98007557973634,8.813057907394715,8.639989935839036,8.460407097373846,8.273930059675571,8.080264725792546,7.87920223414499,7.67061895852503,7.454476508096694,7.230821727395903,6.999786696330486,6.7615887301801605,6.516530379596548,6.264999430603168,6.007468904595439,5.744497058340675,5.476727383978095,5.204888609018814,4.929794696345845,4.652344844214101,4.373523486250391,4.094400291453428,3.8161301641938157,3.539953244214069,3.267194906628589,2.999265761923684,2.7376616559575555,2.4839636699603087,2.2398381205339444,2.0070365596523647,1.787395774661368,1.5828377882786513,1.395369858593814,1.2270844790683504,1.0801593785356567,0.9568575212010252,0.8595271066416497,0.7906015698066203,0.7525995810169281,0.7481250459654614,0.7798671057170085,0.8506001367082546,0.9631837507477873,1.12056279501609,1.3257673520655457,1.5819127398204331,1.8921995115769392,2.259913456003141,2.6884255971390103,3.181192194396436,3.7417547425591886,4.373739971782944,5.080859847595265,5.866911570895644,6.735777577955441,7.691425540417929,8.737908365298264,9.879364194983534,11.1200164072327,12.464173615176627,13.916229667318056,15.480663647531692,17.162039875064075,18.965007904533646,20.894302525930804,22.954743764617795,25.15123688132877,27.488772372169752,29.972425968618758,32.607358637525614,35.39881658111208,38.35213123697176,41.47271927807027,44.76608261274505,48.23780838470542,51.89356897303259,55.739121992179804,59.780310291972064,64.02306195760625,68.47339030965131,73.13739390404793,78.02125653210875],\"type\":\"scatter\",\"xaxis\":\"x\",\"yaxis\":\"y\"},{\"marker\":{\"color\":\"#FF6692\"},\"name\":\"Quintic\",\"x\":[-4.0,-3.9292929292929295,-3.8585858585858586,-3.787878787878788,-3.717171717171717,-3.6464646464646466,-3.5757575757575757,-3.505050505050505,-3.4343434343434343,-3.3636363636363638,-3.292929292929293,-3.2222222222222223,-3.1515151515151514,-3.080808080808081,-3.0101010101010104,-2.9393939393939394,-2.8686868686868685,-2.797979797979798,-2.7272727272727275,-2.6565656565656566,-2.5858585858585856,-2.515151515151515,-2.4444444444444446,-2.3737373737373737,-2.303030303030303,-2.2323232323232327,-2.1616161616161618,-2.090909090909091,-2.0202020202020203,-1.9494949494949494,-1.878787878787879,-1.808080808080808,-1.7373737373737375,-1.666666666666667,-1.595959595959596,-1.5252525252525255,-1.4545454545454546,-1.383838383838384,-1.3131313131313131,-1.2424242424242427,-1.1717171717171717,-1.1010101010101012,-1.0303030303030303,-0.9595959595959598,-0.8888888888888888,-0.8181818181818183,-0.7474747474747474,-0.6767676767676769,-0.6060606060606064,-0.5353535353535355,-0.464646464646465,-0.39393939393939403,-0.32323232323232354,-0.2525252525252526,-0.1818181818181821,-0.11111111111111116,-0.040404040404040664,0.030303030303030276,0.10101010101010122,0.17171717171717127,0.2424242424242422,0.31313131313131315,0.3838383838383841,0.45454545454545414,0.5252525252525251,0.595959595959596,0.6666666666666661,0.737373737373737,0.808080808080808,0.8787878787878789,0.949494949494949,1.0202020202020199,1.0909090909090908,1.1616161616161618,1.2323232323232318,1.3030303030303028,1.3737373737373737,1.4444444444444446,1.5151515151515147,1.5858585858585856,1.6565656565656566,1.7272727272727266,1.7979797979797976,1.8686868686868685,1.9393939393939394,2.0101010101010095,2.0808080808080804,2.1515151515151514,2.2222222222222223,2.2929292929292924,2.3636363636363633,2.4343434343434343,2.505050505050505,2.5757575757575752,2.646464646464646,2.717171717171717,2.787878787878787,2.858585858585858,2.929292929292929,3.0],\"y\":[251.6865764029161,220.35557016071505,192.1500312268288,166.84314188130713,144.21866170965177,124.0706893739458,106.20342438398073,90.43092886838598,76.5768893457548,64.47437849577419,53.96561693035158,44.90173496474403,37.142534388684844,30.556250237512636,25.019312563299245,20.416108205977018,16.6387425644674,13.586801367809292,11.167112446285918,9.29350750255397,7.886583882771012,6.8734663477236975,6.187568843955509,5.768356274895174,5.561106271984391,5.516670965805821,5.5912387572112205,5.746096088449454,5.947389214294352,6.165885973172825,6.376737558292907,6.559240288771639,6.696597380763178,6.7756807185867185,6.78679262585459,6.723427636600208,6.582034266406049,6.361776783531736,6.064296980041981,5.693475942934612,5.255195825268576,4.757101617291955,4.208362917569945,3.6194357041128917,3.0018241055042694,2.3678421720287153,1.7303756468000033,1.102643736889077,0.49796088445203024,-0.07050146214187136,-0.5899530771821799,-1.0482231864892824,-1.4339986962863698,-1.737062422071453,-1.9485313174893408,-2.0610947032036484,-2.069252495768781,-1.9695534365019334,-1.7608333203550863,-1.444453224787002,-1.024537738635204,-0.5082131909879941,0.09415411994356582,0.7687196979536477,1.4979226199696987,2.2602473071803946,3.0299852961636686,3.776997010014745,4.466473529474092,5.058698364055463,5.508809223173882,5.7665597872736765,5.776081478956456,5.475645234109122,4.797423273031892,3.6672508715662584,2.0043881322230686,-0.2787182446895411,-3.2766731899380677,-7.0913714942357675,-11.832236037114507,-17.616456015796707,-24.56922517406771,-32.82398003114729,-42.522638110561914,-53.81583616901656,-66.86316842526728,-81.83342478899228,-98.90482908966457,-118.26527730542357,-140.11257579194793,-164.65467951132632,-192.10993026093013,-222.70729490228507,-256.6866035899444,-294.2987880003592,-335.8061195607504,-381.4824476779837,-431.61343796743745,-486.49681048187716],\"type\":\"scatter\",\"xaxis\":\"x\",\"yaxis\":\"y\"},{\"marker\":{\"color\":\"#B6E880\"},\"name\":\"Octic\",\"x\":[-4.0,-3.9292929292929295,-3.8585858585858586,-3.787878787878788,-3.717171717171717,-3.6464646464646466,-3.5757575757575757,-3.505050505050505,-3.4343434343434343,-3.3636363636363638,-3.292929292929293,-3.2222222222222223,-3.1515151515151514,-3.080808080808081,-3.0101010101010104,-2.9393939393939394,-2.8686868686868685,-2.797979797979798,-2.7272727272727275,-2.6565656565656566,-2.5858585858585856,-2.515151515151515,-2.4444444444444446,-2.3737373737373737,-2.303030303030303,-2.2323232323232327,-2.1616161616161618,-2.090909090909091,-2.0202020202020203,-1.9494949494949494,-1.878787878787879,-1.808080808080808,-1.7373737373737375,-1.666666666666667,-1.595959595959596,-1.5252525252525255,-1.4545454545454546,-1.383838383838384,-1.3131313131313131,-1.2424242424242427,-1.1717171717171717,-1.1010101010101012,-1.0303030303030303,-0.9595959595959598,-0.8888888888888888,-0.8181818181818183,-0.7474747474747474,-0.6767676767676769,-0.6060606060606064,-0.5353535353535355,-0.464646464646465,-0.39393939393939403,-0.32323232323232354,-0.2525252525252526,-0.1818181818181821,-0.11111111111111116,-0.040404040404040664,0.030303030303030276,0.10101010101010122,0.17171717171717127,0.2424242424242422,0.31313131313131315,0.3838383838383841,0.45454545454545414,0.5252525252525251,0.595959595959596,0.6666666666666661,0.737373737373737,0.808080808080808,0.8787878787878789,0.949494949494949,1.0202020202020199,1.0909090909090908,1.1616161616161618,1.2323232323232318,1.3030303030303028,1.3737373737373737,1.4444444444444446,1.5151515151515147,1.5858585858585856,1.6565656565656566,1.7272727272727266,1.7979797979797976,1.8686868686868685,1.9393939393939394,2.0101010101010095,2.0808080808080804,2.1515151515151514,2.2222222222222223,2.2929292929292924,2.3636363636363633,2.4343434343434343,2.505050505050505,2.5757575757575752,2.646464646464646,2.717171717171717,2.787878787878787,2.858585858585858,2.929292929292929,3.0],\"y\":[-12158.148368684137,-9761.867435374004,-7776.099242724709,-6141.017378276911,-4803.997508230232,-3718.930430637372,-2845.58378548439,-2149.0101458777403,-1598.9992673243155,-1169.5723248544614,-838.5160205024746,-586.954496423035,-398.9570416871444,-261.179633564641,-162.53840686526894,-93.91319767430616,-47.87936058325396,-18.466111280429338,-0.9396991304525883,8.39023286374357,12.342690558705165,13.01731070585209,11.927766838003102,10.118030556195102,8.262867001718753,6.75389053378229,5.772453869041222,5.350591174803306,5.421182843415302,5.858456910980415,6.509889319240649,7.220512455094088,7.850588637911763,8.287552460447849,8.453073124824876,8.306035150726082,7.842183068591176,7.091122946275398,6.111320833297562,4.983685442456682,3.8042696242694447,2.676572425335145,1.7038707574029743,0.9819569395752339,0.5926056117448297,0.5980407530269432,1.036620774607897,1.919906892096101,3.2312272181231947,4.925796251605556,6.932396675739129,9.156577612463098,11.485270716790195,13.79267273006442,15.947190346868926,17.819190485970083,19.289246291345428,20.256516425006637,20.646842448990398,20.420096329553225,19.576257332268423,18.15964481238609,16.260680640479645,14.014502239064743,11.595694441539043,9.208355620454224,7.0706607677933455,5.393031445589889,4.348969760887513,4.03756075470104,4.436594830303072,5.345209081822276,6.314893619802085,6.567656226031495,4.900085905621687,-0.42799686003504434,-11.821668120124649,-32.49722444612856,-66.64817339777198,-119.63241371692186,-198.18218126747763,-310.6383895036487,-467.21104601334935,-680.2674794477542,-964.6501639124418,-1338.025980659838,-1821.2688096870763,-2438.877396607611,-3219.430492929428,-4196.0813206368575,-5407.093464737523,-6896.4203502,-8714.330512472508,-10918.080923536896,-13572.64068821691,-16751.467478223454,-20537.33912418476,-25023.24283867316,-30313.324596004037,-36523.90124734833],\"type\":\"scatter\",\"xaxis\":\"x\",\"yaxis\":\"y\"},{\"marker\":{\"color\":\"#636EFA\"},\"name\":\"Training Error\",\"x\":[\"Linear in X\",\"Quadratic\",\"Cubic\",\"Quartic\",\"Quintic\",\"Octic\"],\"y\":[2.272965710209297,1.3646273702703906,1.1528916542943797,1.1445074375807343,0.7148394938839464,6.102130856184464e-12],\"type\":\"bar\",\"xaxis\":\"x2\",\"yaxis\":\"y2\"},{\"marker\":{\"color\":\"#EF553B\"},\"name\":\"Testing Error\",\"x\":[\"Linear in X\",\"Quadratic\",\"Cubic\",\"Quartic\",\"Quintic\",\"Octic\"],\"y\":[3.9687111964528303,1.8446139817962521,2.42974676695312,3.3837855647687465,10.911976778735008,155.54317326693385],\"type\":\"bar\",\"xaxis\":\"x2\",\"yaxis\":\"y2\"}],                        {\"template\":{\"data\":{\"bar\":[{\"error_x\":{\"color\":\"#2a3f5f\"},\"error_y\":{\"color\":\"#2a3f5f\"},\"marker\":{\"line\":{\"color\":\"#E5ECF6\",\"width\":0.5},\"pattern\":{\"fillmode\":\"overlay\",\"size\":10,\"solidity\":0.2}},\"type\":\"bar\"}],\"barpolar\":[{\"marker\":{\"line\":{\"color\":\"#E5ECF6\",\"width\":0.5},\"pattern\":{\"fillmode\":\"overlay\",\"size\":10,\"solidity\":0.2}},\"type\":\"barpolar\"}],\"carpet\":[{\"aaxis\":{\"endlinecolor\":\"#2a3f5f\",\"gridcolor\":\"white\",\"linecolor\":\"white\",\"minorgridcolor\":\"white\",\"startlinecolor\":\"#2a3f5f\"},\"baxis\":{\"endlinecolor\":\"#2a3f5f\",\"gridcolor\":\"white\",\"linecolor\":\"white\",\"minorgridcolor\":\"white\",\"startlinecolor\":\"#2a3f5f\"},\"type\":\"carpet\"}],\"choropleth\":[{\"colorbar\":{\"outlinewidth\":0,\"ticks\":\"\"},\"type\":\"choropleth\"}],\"contour\":[{\"colorbar\":{\"outlinewidth\":0,\"ticks\":\"\"},\"colorscale\":[[0.0,\"#0d0887\"],[0.1111111111111111,\"#46039f\"],[0.2222222222222222,\"#7201a8\"],[0.3333333333333333,\"#9c179e\"],[0.4444444444444444,\"#bd3786\"],[0.5555555555555556,\"#d8576b\"],[0.6666666666666666,\"#ed7953\"],[0.7777777777777778,\"#fb9f3a\"],[0.8888888888888888,\"#fdca26\"],[1.0,\"#f0f921\"]],\"type\":\"contour\"}],\"contourcarpet\":[{\"colorbar\":{\"outlinewidth\":0,\"ticks\":\"\"},\"type\":\"contourcarpet\"}],\"heatmap\":[{\"colorbar\":{\"outlinewidth\":0,\"ticks\":\"\"},\"colorscale\":[[0.0,\"#0d0887\"],[0.1111111111111111,\"#46039f\"],[0.2222222222222222,\"#7201a8\"],[0.3333333333333333,\"#9c179e\"],[0.4444444444444444,\"#bd3786\"],[0.5555555555555556,\"#d8576b\"],[0.6666666666666666,\"#ed7953\"],[0.7777777777777778,\"#fb9f3a\"],[0.8888888888888888,\"#fdca26\"],[1.0,\"#f0f921\"]],\"type\":\"heatmap\"}],\"heatmapgl\":[{\"colorbar\":{\"outlinewidth\":0,\"ticks\":\"\"},\"colorscale\":[[0.0,\"#0d0887\"],[0.1111111111111111,\"#46039f\"],[0.2222222222222222,\"#7201a8\"],[0.3333333333333333,\"#9c179e\"],[0.4444444444444444,\"#bd3786\"],[0.5555555555555556,\"#d8576b\"],[0.6666666666666666,\"#ed7953\"],[0.7777777777777778,\"#fb9f3a\"],[0.8888888888888888,\"#fdca26\"],[1.0,\"#f0f921\"]],\"type\":\"heatmapgl\"}],\"histogram\":[{\"marker\":{\"pattern\":{\"fillmode\":\"overlay\",\"size\":10,\"solidity\":0.2}},\"type\":\"histogram\"}],\"histogram2d\":[{\"colorbar\":{\"outlinewidth\":0,\"ticks\":\"\"},\"colorscale\":[[0.0,\"#0d0887\"],[0.1111111111111111,\"#46039f\"],[0.2222222222222222,\"#7201a8\"],[0.3333333333333333,\"#9c179e\"],[0.4444444444444444,\"#bd3786\"],[0.5555555555555556,\"#d8576b\"],[0.6666666666666666,\"#ed7953\"],[0.7777777777777778,\"#fb9f3a\"],[0.8888888888888888,\"#fdca26\"],[1.0,\"#f0f921\"]],\"type\":\"histogram2d\"}],\"histogram2dcontour\":[{\"colorbar\":{\"outlinewidth\":0,\"ticks\":\"\"},\"colorscale\":[[0.0,\"#0d0887\"],[0.1111111111111111,\"#46039f\"],[0.2222222222222222,\"#7201a8\"],[0.3333333333333333,\"#9c179e\"],[0.4444444444444444,\"#bd3786\"],[0.5555555555555556,\"#d8576b\"],[0.6666666666666666,\"#ed7953\"],[0.7777777777777778,\"#fb9f3a\"],[0.8888888888888888,\"#fdca26\"],[1.0,\"#f0f921\"]],\"type\":\"histogram2dcontour\"}],\"mesh3d\":[{\"colorbar\":{\"outlinewidth\":0,\"ticks\":\"\"},\"type\":\"mesh3d\"}],\"parcoords\":[{\"line\":{\"colorbar\":{\"outlinewidth\":0,\"ticks\":\"\"}},\"type\":\"parcoords\"}],\"pie\":[{\"automargin\":true,\"type\":\"pie\"}],\"scatter\":[{\"marker\":{\"colorbar\":{\"outlinewidth\":0,\"ticks\":\"\"}},\"type\":\"scatter\"}],\"scatter3d\":[{\"line\":{\"colorbar\":{\"outlinewidth\":0,\"ticks\":\"\"}},\"marker\":{\"colorbar\":{\"outlinewidth\":0,\"ticks\":\"\"}},\"type\":\"scatter3d\"}],\"scattercarpet\":[{\"marker\":{\"colorbar\":{\"outlinewidth\":0,\"ticks\":\"\"}},\"type\":\"scattercarpet\"}],\"scattergeo\":[{\"marker\":{\"colorbar\":{\"outlinewidth\":0,\"ticks\":\"\"}},\"type\":\"scattergeo\"}],\"scattergl\":[{\"marker\":{\"colorbar\":{\"outlinewidth\":0,\"ticks\":\"\"}},\"type\":\"scattergl\"}],\"scattermapbox\":[{\"marker\":{\"colorbar\":{\"outlinewidth\":0,\"ticks\":\"\"}},\"type\":\"scattermapbox\"}],\"scatterpolar\":[{\"marker\":{\"colorbar\":{\"outlinewidth\":0,\"ticks\":\"\"}},\"type\":\"scatterpolar\"}],\"scatterpolargl\":[{\"marker\":{\"colorbar\":{\"outlinewidth\":0,\"ticks\":\"\"}},\"type\":\"scatterpolargl\"}],\"scatterternary\":[{\"marker\":{\"colorbar\":{\"outlinewidth\":0,\"ticks\":\"\"}},\"type\":\"scatterternary\"}],\"surface\":[{\"colorbar\":{\"outlinewidth\":0,\"ticks\":\"\"},\"colorscale\":[[0.0,\"#0d0887\"],[0.1111111111111111,\"#46039f\"],[0.2222222222222222,\"#7201a8\"],[0.3333333333333333,\"#9c179e\"],[0.4444444444444444,\"#bd3786\"],[0.5555555555555556,\"#d8576b\"],[0.6666666666666666,\"#ed7953\"],[0.7777777777777778,\"#fb9f3a\"],[0.8888888888888888,\"#fdca26\"],[1.0,\"#f0f921\"]],\"type\":\"surface\"}],\"table\":[{\"cells\":{\"fill\":{\"color\":\"#EBF0F8\"},\"line\":{\"color\":\"white\"}},\"header\":{\"fill\":{\"color\":\"#C8D4E3\"},\"line\":{\"color\":\"white\"}},\"type\":\"table\"}]},\"layout\":{\"annotationdefaults\":{\"arrowcolor\":\"#2a3f5f\",\"arrowhead\":0,\"arrowwidth\":1},\"autotypenumbers\":\"strict\",\"coloraxis\":{\"colorbar\":{\"outlinewidth\":0,\"ticks\":\"\"}},\"colorscale\":{\"diverging\":[[0,\"#8e0152\"],[0.1,\"#c51b7d\"],[0.2,\"#de77ae\"],[0.3,\"#f1b6da\"],[0.4,\"#fde0ef\"],[0.5,\"#f7f7f7\"],[0.6,\"#e6f5d0\"],[0.7,\"#b8e186\"],[0.8,\"#7fbc41\"],[0.9,\"#4d9221\"],[1,\"#276419\"]],\"sequential\":[[0.0,\"#0d0887\"],[0.1111111111111111,\"#46039f\"],[0.2222222222222222,\"#7201a8\"],[0.3333333333333333,\"#9c179e\"],[0.4444444444444444,\"#bd3786\"],[0.5555555555555556,\"#d8576b\"],[0.6666666666666666,\"#ed7953\"],[0.7777777777777778,\"#fb9f3a\"],[0.8888888888888888,\"#fdca26\"],[1.0,\"#f0f921\"]],\"sequentialminus\":[[0.0,\"#0d0887\"],[0.1111111111111111,\"#46039f\"],[0.2222222222222222,\"#7201a8\"],[0.3333333333333333,\"#9c179e\"],[0.4444444444444444,\"#bd3786\"],[0.5555555555555556,\"#d8576b\"],[0.6666666666666666,\"#ed7953\"],[0.7777777777777778,\"#fb9f3a\"],[0.8888888888888888,\"#fdca26\"],[1.0,\"#f0f921\"]]},\"colorway\":[\"#636efa\",\"#EF553B\",\"#00cc96\",\"#ab63fa\",\"#FFA15A\",\"#19d3f3\",\"#FF6692\",\"#B6E880\",\"#FF97FF\",\"#FECB52\"],\"font\":{\"color\":\"#2a3f5f\"},\"geo\":{\"bgcolor\":\"white\",\"lakecolor\":\"white\",\"landcolor\":\"#E5ECF6\",\"showlakes\":true,\"showland\":true,\"subunitcolor\":\"white\"},\"hoverlabel\":{\"align\":\"left\"},\"hovermode\":\"closest\",\"mapbox\":{\"style\":\"light\"},\"paper_bgcolor\":\"white\",\"plot_bgcolor\":\"#E5ECF6\",\"polar\":{\"angularaxis\":{\"gridcolor\":\"white\",\"linecolor\":\"white\",\"ticks\":\"\"},\"bgcolor\":\"#E5ECF6\",\"radialaxis\":{\"gridcolor\":\"white\",\"linecolor\":\"white\",\"ticks\":\"\"}},\"scene\":{\"xaxis\":{\"backgroundcolor\":\"#E5ECF6\",\"gridcolor\":\"white\",\"gridwidth\":2,\"linecolor\":\"white\",\"showbackground\":true,\"ticks\":\"\",\"zerolinecolor\":\"white\"},\"yaxis\":{\"backgroundcolor\":\"#E5ECF6\",\"gridcolor\":\"white\",\"gridwidth\":2,\"linecolor\":\"white\",\"showbackground\":true,\"ticks\":\"\",\"zerolinecolor\":\"white\"},\"zaxis\":{\"backgroundcolor\":\"#E5ECF6\",\"gridcolor\":\"white\",\"gridwidth\":2,\"linecolor\":\"white\",\"showbackground\":true,\"ticks\":\"\",\"zerolinecolor\":\"white\"}},\"shapedefaults\":{\"line\":{\"color\":\"#2a3f5f\"}},\"ternary\":{\"aaxis\":{\"gridcolor\":\"white\",\"linecolor\":\"white\",\"ticks\":\"\"},\"baxis\":{\"gridcolor\":\"white\",\"linecolor\":\"white\",\"ticks\":\"\"},\"bgcolor\":\"#E5ECF6\",\"caxis\":{\"gridcolor\":\"white\",\"linecolor\":\"white\",\"ticks\":\"\"}},\"title\":{\"x\":0.05},\"xaxis\":{\"automargin\":true,\"gridcolor\":\"white\",\"linecolor\":\"white\",\"ticks\":\"\",\"title\":{\"standoff\":15},\"zerolinecolor\":\"white\",\"zerolinewidth\":2},\"yaxis\":{\"automargin\":true,\"gridcolor\":\"white\",\"linecolor\":\"white\",\"ticks\":\"\",\"title\":{\"standoff\":15},\"zerolinecolor\":\"white\",\"zerolinewidth\":2}}},\"xaxis\":{\"anchor\":\"y\",\"domain\":[0.0,0.45],\"title\":{\"text\":\"X\"}},\"yaxis\":{\"anchor\":\"x\",\"domain\":[0.0,1.0],\"title\":{\"text\":\"Y\"},\"range\":[0,10]},\"xaxis2\":{\"anchor\":\"y2\",\"domain\":[0.55,1.0]},\"yaxis2\":{\"anchor\":\"x2\",\"domain\":[0.0,1.0],\"title\":{\"text\":\"RMSE\"}}},                        {\"responsive\": true}                    ).then(function(){\n",
       "                            \n",
       "var gd = document.getElementById('97f0516d-c477-4a50-abb9-c73864531cdf');\n",
       "var x = new MutationObserver(function (mutations, observer) {{\n",
       "        var display = window.getComputedStyle(gd).display;\n",
       "        if (!display || display === 'none') {{\n",
       "            console.log([gd, 'removed!']);\n",
       "            Plotly.purge(gd);\n",
       "            observer.disconnect();\n",
       "        }}\n",
       "}});\n",
       "\n",
       "// Listen for the removal of the full notebook cells\n",
       "var notebookContainer = gd.closest('#notebook-container');\n",
       "if (notebookContainer) {{\n",
       "    x.observe(notebookContainer, {childList: true});\n",
       "}}\n",
       "\n",
       "// Listen for the clearing of the current output cell\n",
       "var outputEl = gd.closest('.output');\n",
       "if (outputEl) {{\n",
       "    x.observe(outputEl, {childList: true});\n",
       "}}\n",
       "\n",
       "                        })                };                });            </script>        </div>"
      ]
     },
     "metadata": {},
     "output_type": "display_data"
    }
   ],
   "source": [
    "model = LinearRegression()\n",
    "model.fit(phi_polynomials(data[[\"X\"]].to_numpy(), p=8), data[[\"Y\"]])\n",
    "better_evaluate_model(\"Octic\", model, lambda x: phi_polynomials(x, p=8), models)"
   ]
  },
  {
   "cell_type": "markdown",
   "metadata": {},
   "source": [
    "In the rest of this lecture we will dig into the ideas drive this behavior."
   ]
  },
  {
   "cell_type": "markdown",
   "metadata": {},
   "source": [
    "### What's happening: _Over-fitting_\n",
    "\n",
    "As we increase the expressiveness of our model we begin to **over-fit** to the variability in our training data.  That is we are learning patterns that do not **generalize** beyond our training dataset\n",
    "\n",
    "**Over-fitting** is a key challenge in machine learning and statistical inference.  At it's core is a fundamental trade-off between **bias** and **variance**: _the desire to explain the training data and yet be robust to variation in the training data_.\n",
    "\n",
    "\n",
    "<img src=\"images/under_over_fitting.png\" width=\"500px\">\n",
    "\n",
    "---\n",
    "\n",
    "<br/><br/><br/><br/><br/><br/>"
   ]
  },
  {
   "cell_type": "code",
   "execution_count": null,
   "metadata": {},
   "outputs": [],
   "source": []
  }
 ],
 "metadata": {
  "kernelspec": {
   "display_name": "Python 3",
   "language": "python",
   "name": "python3"
  },
  "language_info": {
   "codemirror_mode": {
    "name": "ipython",
    "version": 3
   },
   "file_extension": ".py",
   "mimetype": "text/x-python",
   "name": "python",
   "nbconvert_exporter": "python",
   "pygments_lexer": "ipython3",
   "version": "3.8.5"
  }
 },
 "nbformat": 4,
 "nbformat_minor": 4
}
